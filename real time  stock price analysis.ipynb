{
  "cells": [
    {
      "cell_type": "markdown",
      "metadata": {
        "id": "Wf5KrEb6vrkR"
      },
      "source": [
        "<div class=\"markdown-google-sans\">\n",
        "  <h1>Welcome to Colab!</h1>\n",
        "</div>\n",
        "\n",
        "<div class=\"markdown-google-sans\">\n",
        "  <h2>Explore the Gemini API</h2>\n",
        "  <p>The Gemini API gives you access to Gemini models created by Google DeepMind. Gemini models are built from the ground up to be multimodal, so you can reason seamlessly across text, images, code, and audio.\n",
        "  </p>\n",
        "\n",
        "  <strong>How to get started?</strong>\n",
        "    <ol>\n",
        "      <li>Go to <a href=\"https://aistudio.google.com/\">Google AI Studio</a> and log in with your Google account.</li>\n",
        "      <li><a href=\"https://aistudio.google.com/app/apikey\">Create an API key</a>.</li>\n",
        "      <li>Use a quickstart for <a href=\"https://colab.research.google.com/github/google-gemini/cookbook/blob/main/quickstarts/Get_started.ipynb\">Python</a>, or call the REST API using <a href=\"https://colab.research.google.com/github/google-gemini/cookbook/blob/main/quickstarts/rest/Prompting_REST.ipynb\">curl</a>.</li>\n",
        "      </ol>\n",
        "\n",
        "  <strong>Discover Gemini's advanced capabilities</strong>\n",
        "    <ul>\n",
        "      <li>Discover the <a href=\"https://colab.research.google.com/github/google-gemini/cookbook/blob/main/quickstarts/Get_started_LiveAPI.ipynb\">multimodal Live API</a> (demo <a href=\"https://aistudio.google.com/live\">here</a>).</li>\n",
        "      <li>Learn how to <a href=\"https://colab.research.google.com/github/google-gemini/cookbook/blob/main/quickstarts/Spatial_understanding.ipynb\">analyze images and detect items in your pictures</a> using Gemini (bonus, there's a <a href=\"https://colab.research.google.com/github/google-gemini/cookbook/blob/main/examples/Spatial_understanding_3d.ipynb\">3D version</a> as well!).</li>\n",
        "      <li>Unlock the power of <a href=\"https://colab.research.google.com/github/google-gemini/cookbook/blob/main/quickstarts/Get_started_thinking.ipynb\">Gemini thinking model</a>, capable of solving complex task with its inner thoughts.</li>\n",
        "    </ul>\n",
        "      \n",
        "  <strong>Explore complex use cases</strong>\n",
        "    <ul>\n",
        "      <li>Use <a href=\"https://colab.research.google.com/github/google-gemini/cookbook/blob/main/examples/Search_grounding_for_research_report.ipynb\">Gemini grounding capabilities</a> to create a report on a company based on what the model can find on internet.</li>\n",
        "      <li>Extract <a href=\"https://colab.research.google.com/github/google-gemini/cookbook/blob/main/examples/Pdf_structured_outputs_on_invoices_and_forms.ipynb\">invoices and form data from PDF</a> in a structured way.</li>\n",
        "      <li>Create <a href=\"https://colab.research.google.com/github/google-gemini/cookbook/blob/main/examples/Book_illustration.ipynb\">illustration based on a whole book</a> using Gemini large context window and Imagen.</li>\n",
        "    </ul>\n",
        "  <p>To learn more, check out the <a href=\"https://github.com/google-gemini/cookbook\">Gemini cookbook</a> or visit the <a href=\"https://ai.google.dev/docs/\">Gemini API documentation</a>.\n",
        "  </p>\n",
        "</div>\n"
      ]
    },
    {
      "cell_type": "markdown",
      "source": [
        "# New Section"
      ],
      "metadata": {
        "id": "i5GkC2YFCkUl"
      }
    },
    {
      "cell_type": "code",
      "source": [],
      "metadata": {
        "id": "npqBb0F-uxNO"
      },
      "execution_count": null,
      "outputs": []
    },
    {
      "cell_type": "code",
      "source": [],
      "metadata": {
        "id": "GrJQ4M6Puyzu"
      },
      "execution_count": null,
      "outputs": []
    },
    {
      "cell_type": "markdown",
      "metadata": {
        "id": "-Rh3-Vt9Nev9"
      },
      "source": [
        "<div class=\"markdown-google-sans\">\n",
        "\n",
        "## More Resources\n",
        "\n",
        "### Working with Notebooks in Colab\n",
        "\n",
        "</div>\n",
        "\n",
        "- [Overview of Colab](/notebooks/basic_features_overview.ipynb)\n",
        "- [Guide to Markdown](/notebooks/markdown_guide.ipynb)\n",
        "- [Importing libraries and installing dependencies](/notebooks/snippets/importing_libraries.ipynb)\n",
        "- [Saving and loading notebooks in GitHub](https://colab.research.google.com/github/googlecolab/colabtools/blob/main/notebooks/colab-github-demo.ipynb)\n",
        "- [Interactive forms](/notebooks/forms.ipynb)\n",
        "- [Interactive widgets](/notebooks/widgets.ipynb)\n",
        "\n",
        "<div class=\"markdown-google-sans\">\n",
        "\n",
        "<a name=\"working-with-data\"></a>\n",
        "### Working with Data\n",
        "</div>\n",
        "\n",
        "- [Loading data: Drive, Sheets, and Google Cloud Storage](/notebooks/io.ipynb)\n",
        "- [Charts: visualizing data](/notebooks/charts.ipynb)\n",
        "- [Getting started with BigQuery](/notebooks/bigquery.ipynb)\n",
        "\n",
        "<div class=\"markdown-google-sans\">\n",
        "\n",
        "### Machine Learning Crash Course\n",
        "\n",
        "<div>\n",
        "\n",
        "These are a few of the notebooks from Google's online Machine Learning course. See the [full course website](https://developers.google.com/machine-learning/crash-course/) for more.\n",
        "- [Intro to Pandas DataFrame](https://colab.research.google.com/github/google/eng-edu/blob/main/ml/cc/exercises/pandas_dataframe_ultraquick_tutorial.ipynb)\n",
        "- [Intro to RAPIDS cuDF to accelerate pandas](https://nvda.ws/rapids-cudf)\n",
        "- [Linear regression with tf.keras using synthetic data](https://colab.research.google.com/github/google/eng-edu/blob/main/ml/cc/exercises/linear_regression_with_synthetic_data.ipynb)\n",
        "\n",
        "<div class=\"markdown-google-sans\">\n",
        "\n",
        "<a name=\"using-accelerated-hardware\"></a>\n",
        "### Using Accelerated Hardware\n",
        "</div>\n",
        "\n",
        "- [TensorFlow with GPUs](/notebooks/gpu.ipynb)\n",
        "- [TensorFlow with TPUs](/notebooks/tpu.ipynb)"
      ]
    },
    {
      "cell_type": "markdown",
      "metadata": {
        "id": "P-H6Lw1vyNNd"
      },
      "source": [
        "<div class=\"markdown-google-sans\">\n",
        "\n",
        "<a name=\"machine-learning-examples\"></a>\n",
        "\n",
        "### Featured examples\n",
        "\n",
        "</div>\n",
        "\n",
        "- [Retraining an Image Classifier](https://tensorflow.org/hub/tutorials/tf2_image_retraining): Build a Keras model on top of a pre-trained image classifier to distinguish flowers.\n",
        "- [Text Classification](https://tensorflow.org/hub/tutorials/tf2_text_classification): Classify IMDB movie reviews as either *positive* or *negative*.\n",
        "- [Style Transfer](https://tensorflow.org/hub/tutorials/tf2_arbitrary_image_stylization): Use deep learning to transfer style between images.\n",
        "- [Multilingual Universal Sentence Encoder Q&A](https://tensorflow.org/hub/tutorials/retrieval_with_tf_hub_universal_encoder_qa): Use a machine learning model to answer questions from the SQuAD dataset.\n",
        "- [Video Interpolation](https://tensorflow.org/hub/tutorials/tweening_conv3d): Predict what happened in a video between the first and the last frame.\n"
      ]
    },
    {
      "cell_type": "code",
      "source": [
        "!pip install yfinance ipyvuetify cufflinks  mercury"
      ],
      "metadata": {
        "colab": {
          "base_uri": "https://localhost:8080/",
          "height": 0
        },
        "id": "mCFvsL3lu3ss",
        "outputId": "9c62882d-a837-45e5-f477-43a183e86870"
      },
      "execution_count": 1,
      "outputs": [
        {
          "output_type": "stream",
          "name": "stdout",
          "text": [
            "Requirement already satisfied: yfinance in /usr/local/lib/python3.11/dist-packages (0.2.54)\n",
            "Requirement already satisfied: ipyvuetify in /usr/local/lib/python3.11/dist-packages (1.11.1)\n",
            "Requirement already satisfied: cufflinks in /usr/local/lib/python3.11/dist-packages (0.17.3)\n",
            "Requirement already satisfied: mercury in /usr/local/lib/python3.11/dist-packages (2.4.3)\n",
            "Requirement already satisfied: pandas>=1.3.0 in /usr/local/lib/python3.11/dist-packages (from yfinance) (2.2.2)\n",
            "Requirement already satisfied: numpy>=1.16.5 in /usr/local/lib/python3.11/dist-packages (from yfinance) (1.26.4)\n",
            "Requirement already satisfied: requests>=2.31 in /usr/local/lib/python3.11/dist-packages (from yfinance) (2.32.3)\n",
            "Requirement already satisfied: multitasking>=0.0.7 in /usr/local/lib/python3.11/dist-packages (from yfinance) (0.0.11)\n",
            "Requirement already satisfied: platformdirs>=2.0.0 in /usr/local/lib/python3.11/dist-packages (from yfinance) (4.3.6)\n",
            "Requirement already satisfied: pytz>=2022.5 in /usr/local/lib/python3.11/dist-packages (from yfinance) (2025.1)\n",
            "Requirement already satisfied: frozendict>=2.3.4 in /usr/local/lib/python3.11/dist-packages (from yfinance) (2.4.6)\n",
            "Requirement already satisfied: peewee>=3.16.2 in /usr/local/lib/python3.11/dist-packages (from yfinance) (3.17.9)\n",
            "Requirement already satisfied: beautifulsoup4>=4.11.1 in /usr/local/lib/python3.11/dist-packages (from yfinance) (4.13.3)\n",
            "Requirement already satisfied: ipyvue<2,>=1.7 in /usr/local/lib/python3.11/dist-packages (from ipyvuetify) (1.11.2)\n",
            "Requirement already satisfied: plotly>=4.1.1 in /usr/local/lib/python3.11/dist-packages (from cufflinks) (5.24.1)\n",
            "Requirement already satisfied: six>=1.9.0 in /usr/local/lib/python3.11/dist-packages (from cufflinks) (1.17.0)\n",
            "Requirement already satisfied: colorlover>=0.2.1 in /usr/local/lib/python3.11/dist-packages (from cufflinks) (0.3.0)\n",
            "Requirement already satisfied: setuptools>=34.4.1 in /usr/local/lib/python3.11/dist-packages (from cufflinks) (75.1.0)\n",
            "Requirement already satisfied: ipython>=5.3.0 in /usr/local/lib/python3.11/dist-packages (from cufflinks) (7.34.0)\n",
            "Requirement already satisfied: ipywidgets>=7.0.0 in /usr/local/lib/python3.11/dist-packages (from cufflinks) (8.0.3)\n",
            "Requirement already satisfied: django==4.2.7 in /usr/local/lib/python3.11/dist-packages (from mercury) (4.2.7)\n",
            "Requirement already satisfied: djangorestframework==3.14.0 in /usr/local/lib/python3.11/dist-packages (from mercury) (3.14.0)\n",
            "Requirement already satisfied: django-filter==21.1 in /usr/local/lib/python3.11/dist-packages (from mercury) (21.1)\n",
            "Requirement already satisfied: markdown==3.3.6 in /usr/local/lib/python3.11/dist-packages (from mercury) (3.3.6)\n",
            "Requirement already satisfied: celery>=5.1.2 in /usr/local/lib/python3.11/dist-packages (from mercury) (5.4.0)\n",
            "Requirement already satisfied: sqlalchemy==1.4.27 in /usr/local/lib/python3.11/dist-packages (from mercury) (1.4.27)\n",
            "Requirement already satisfied: gevent in /usr/local/lib/python3.11/dist-packages (from mercury) (24.11.1)\n",
            "Requirement already satisfied: nbconvert>=7.8.0 in /usr/local/lib/python3.11/dist-packages (from mercury) (7.16.6)\n",
            "Requirement already satisfied: ipython_genutils in /usr/local/lib/python3.11/dist-packages (from mercury) (0.2.0)\n",
            "Requirement already satisfied: django-cors-headers==3.10.1 in /usr/local/lib/python3.11/dist-packages (from mercury) (3.10.1)\n",
            "Requirement already satisfied: ipykernel>=6.6.0 in /usr/local/lib/python3.11/dist-packages (from mercury) (6.17.1)\n",
            "Requirement already satisfied: psutil>=5.8.0 in /usr/local/lib/python3.11/dist-packages (from mercury) (5.9.5)\n",
            "Requirement already satisfied: whitenoise>=5.3.0 in /usr/local/lib/python3.11/dist-packages (from mercury) (6.9.0)\n",
            "Requirement already satisfied: python-dotenv>=0.19.2 in /usr/local/lib/python3.11/dist-packages (from mercury) (1.0.1)\n",
            "Requirement already satisfied: django-drf-filepond==0.4.1 in /usr/local/lib/python3.11/dist-packages (from mercury) (0.4.1)\n",
            "Requirement already satisfied: croniter>=1.3.5 in /usr/local/lib/python3.11/dist-packages (from mercury) (6.0.0)\n",
            "Requirement already satisfied: pyppeteer==1.0.2 in /usr/local/lib/python3.11/dist-packages (from mercury) (1.0.2)\n",
            "Requirement already satisfied: channels>=4.0.0 in /usr/local/lib/python3.11/dist-packages (from channels[daphne]>=4.0.0->mercury) (4.2.0)\n",
            "Requirement already satisfied: websocket-client>=1.4.2 in /usr/local/lib/python3.11/dist-packages (from mercury) (1.8.0)\n",
            "Requirement already satisfied: execnb in /usr/local/lib/python3.11/dist-packages (from mercury) (0.1.11)\n",
            "Requirement already satisfied: dj-rest-auth==3.0.0 in /usr/local/lib/python3.11/dist-packages (from dj-rest-auth[with_social]==3.0.0->mercury) (3.0.0)\n",
            "Requirement already satisfied: boto3==1.26.83 in /usr/local/lib/python3.11/dist-packages (from mercury) (1.26.83)\n",
            "Requirement already satisfied: cryptography in /usr/local/lib/python3.11/dist-packages (from mercury) (43.0.3)\n",
            "Requirement already satisfied: pyopenssl>=23.1.1 in /usr/local/lib/python3.11/dist-packages (from mercury) (24.2.1)\n",
            "Requirement already satisfied: bleach>=6.0.0 in /usr/local/lib/python3.11/dist-packages (from mercury) (6.2.0)\n",
            "Requirement already satisfied: itables>=2.0.0 in /usr/local/lib/python3.11/dist-packages (from mercury) (2.2.5)\n",
            "Requirement already satisfied: botocore<1.30.0,>=1.29.83 in /usr/local/lib/python3.11/dist-packages (from boto3==1.26.83->mercury) (1.29.165)\n",
            "Requirement already satisfied: jmespath<2.0.0,>=0.7.1 in /usr/local/lib/python3.11/dist-packages (from boto3==1.26.83->mercury) (1.0.1)\n",
            "Requirement already satisfied: s3transfer<0.7.0,>=0.6.0 in /usr/local/lib/python3.11/dist-packages (from boto3==1.26.83->mercury) (0.6.2)\n",
            "Requirement already satisfied: django-allauth<0.53.0,>=0.40.0 in /usr/local/lib/python3.11/dist-packages (from dj-rest-auth[with_social]==3.0.0->mercury) (0.52.0)\n",
            "Requirement already satisfied: asgiref<4,>=3.6.0 in /usr/local/lib/python3.11/dist-packages (from django==4.2.7->mercury) (3.8.1)\n",
            "Requirement already satisfied: sqlparse>=0.3.1 in /usr/local/lib/python3.11/dist-packages (from django==4.2.7->mercury) (0.5.3)\n",
            "Requirement already satisfied: shortuuid>=0.5.0 in /usr/local/lib/python3.11/dist-packages (from django-drf-filepond==0.4.1->mercury) (1.0.13)\n",
            "Requirement already satisfied: django-storages>=1.9.1 in /usr/local/lib/python3.11/dist-packages (from django-drf-filepond==0.4.1->mercury) (1.14.5)\n",
            "Requirement already satisfied: traitlets>=4.3.1 in /usr/local/lib/python3.11/dist-packages (from ipywidgets>=7.0.0->cufflinks) (5.7.1)\n",
            "Requirement already satisfied: widgetsnbextension~=4.0 in /usr/local/lib/python3.11/dist-packages (from ipywidgets>=7.0.0->cufflinks) (4.0.13)\n",
            "Requirement already satisfied: jupyterlab-widgets~=3.0 in /usr/local/lib/python3.11/dist-packages (from ipywidgets>=7.0.0->cufflinks) (3.0.13)\n",
            "Requirement already satisfied: appdirs<2.0.0,>=1.4.3 in /usr/local/lib/python3.11/dist-packages (from pyppeteer==1.0.2->mercury) (1.4.4)\n",
            "Requirement already satisfied: certifi>=2021 in /usr/local/lib/python3.11/dist-packages (from pyppeteer==1.0.2->mercury) (2025.1.31)\n",
            "Requirement already satisfied: importlib-metadata>=1.4 in /usr/local/lib/python3.11/dist-packages (from pyppeteer==1.0.2->mercury) (8.6.1)\n",
            "Requirement already satisfied: pyee<9.0.0,>=8.1.0 in /usr/local/lib/python3.11/dist-packages (from pyppeteer==1.0.2->mercury) (8.2.2)\n",
            "Requirement already satisfied: tqdm<5.0.0,>=4.42.1 in /usr/local/lib/python3.11/dist-packages (from pyppeteer==1.0.2->mercury) (4.67.1)\n",
            "Requirement already satisfied: urllib3<2.0.0,>=1.25.8 in /usr/local/lib/python3.11/dist-packages (from pyppeteer==1.0.2->mercury) (1.26.20)\n",
            "Requirement already satisfied: websockets<11.0,>=10.0 in /usr/local/lib/python3.11/dist-packages (from pyppeteer==1.0.2->mercury) (10.4)\n",
            "Requirement already satisfied: greenlet!=0.4.17 in /usr/local/lib/python3.11/dist-packages (from sqlalchemy==1.4.27->mercury) (3.1.1)\n",
            "Requirement already satisfied: soupsieve>1.2 in /usr/local/lib/python3.11/dist-packages (from beautifulsoup4>=4.11.1->yfinance) (2.6)\n",
            "Requirement already satisfied: typing-extensions>=4.0.0 in /usr/local/lib/python3.11/dist-packages (from beautifulsoup4>=4.11.1->yfinance) (4.12.2)\n",
            "Requirement already satisfied: webencodings in /usr/local/lib/python3.11/dist-packages (from bleach>=6.0.0->mercury) (0.5.1)\n",
            "Requirement already satisfied: billiard<5.0,>=4.2.0 in /usr/local/lib/python3.11/dist-packages (from celery>=5.1.2->mercury) (4.2.1)\n",
            "Requirement already satisfied: kombu<6.0,>=5.3.4 in /usr/local/lib/python3.11/dist-packages (from celery>=5.1.2->mercury) (5.4.2)\n",
            "Requirement already satisfied: vine<6.0,>=5.1.0 in /usr/local/lib/python3.11/dist-packages (from celery>=5.1.2->mercury) (5.1.0)\n",
            "Requirement already satisfied: click<9.0,>=8.1.2 in /usr/local/lib/python3.11/dist-packages (from celery>=5.1.2->mercury) (8.1.8)\n",
            "Requirement already satisfied: click-didyoumean>=0.3.0 in /usr/local/lib/python3.11/dist-packages (from celery>=5.1.2->mercury) (0.3.1)\n",
            "Requirement already satisfied: click-repl>=0.2.0 in /usr/local/lib/python3.11/dist-packages (from celery>=5.1.2->mercury) (0.3.0)\n",
            "Requirement already satisfied: click-plugins>=1.1.1 in /usr/local/lib/python3.11/dist-packages (from celery>=5.1.2->mercury) (1.1.1)\n",
            "Requirement already satisfied: tzdata>=2022.7 in /usr/local/lib/python3.11/dist-packages (from celery>=5.1.2->mercury) (2025.1)\n",
            "Requirement already satisfied: python-dateutil>=2.8.2 in /usr/local/lib/python3.11/dist-packages (from celery>=5.1.2->mercury) (2.8.2)\n",
            "Requirement already satisfied: daphne>=4.0.0 in /usr/local/lib/python3.11/dist-packages (from channels[daphne]>=4.0.0->mercury) (4.1.2)\n",
            "Requirement already satisfied: debugpy>=1.0 in /usr/local/lib/python3.11/dist-packages (from ipykernel>=6.6.0->mercury) (1.8.0)\n",
            "Requirement already satisfied: jupyter-client>=6.1.12 in /usr/local/lib/python3.11/dist-packages (from ipykernel>=6.6.0->mercury) (6.1.12)\n",
            "Requirement already satisfied: matplotlib-inline>=0.1 in /usr/local/lib/python3.11/dist-packages (from ipykernel>=6.6.0->mercury) (0.1.7)\n",
            "Requirement already satisfied: nest-asyncio in /usr/local/lib/python3.11/dist-packages (from ipykernel>=6.6.0->mercury) (1.6.0)\n",
            "Requirement already satisfied: packaging in /usr/local/lib/python3.11/dist-packages (from ipykernel>=6.6.0->mercury) (24.2)\n",
            "Requirement already satisfied: pyzmq>=17 in /usr/local/lib/python3.11/dist-packages (from ipykernel>=6.6.0->mercury) (24.0.1)\n",
            "Requirement already satisfied: tornado>=6.1 in /usr/local/lib/python3.11/dist-packages (from ipykernel>=6.6.0->mercury) (6.4.2)\n",
            "Requirement already satisfied: jedi>=0.16 in /usr/local/lib/python3.11/dist-packages (from ipython>=5.3.0->cufflinks) (0.19.2)\n",
            "Requirement already satisfied: decorator in /usr/local/lib/python3.11/dist-packages (from ipython>=5.3.0->cufflinks) (4.4.2)\n",
            "Requirement already satisfied: pickleshare in /usr/local/lib/python3.11/dist-packages (from ipython>=5.3.0->cufflinks) (0.7.5)\n",
            "Requirement already satisfied: prompt-toolkit!=3.0.0,!=3.0.1,<3.1.0,>=2.0.0 in /usr/local/lib/python3.11/dist-packages (from ipython>=5.3.0->cufflinks) (3.0.50)\n",
            "Requirement already satisfied: pygments in /usr/local/lib/python3.11/dist-packages (from ipython>=5.3.0->cufflinks) (2.18.0)\n",
            "Requirement already satisfied: backcall in /usr/local/lib/python3.11/dist-packages (from ipython>=5.3.0->cufflinks) (0.2.0)\n",
            "Requirement already satisfied: pexpect>4.3 in /usr/local/lib/python3.11/dist-packages (from ipython>=5.3.0->cufflinks) (4.9.0)\n",
            "Requirement already satisfied: defusedxml in /usr/local/lib/python3.11/dist-packages (from nbconvert>=7.8.0->mercury) (0.7.1)\n",
            "Requirement already satisfied: jinja2>=3.0 in /usr/local/lib/python3.11/dist-packages (from nbconvert>=7.8.0->mercury) (3.1.5)\n",
            "Requirement already satisfied: jupyter-core>=4.7 in /usr/local/lib/python3.11/dist-packages (from nbconvert>=7.8.0->mercury) (5.7.2)\n",
            "Requirement already satisfied: jupyterlab-pygments in /usr/local/lib/python3.11/dist-packages (from nbconvert>=7.8.0->mercury) (0.3.0)\n",
            "Requirement already satisfied: markupsafe>=2.0 in /usr/local/lib/python3.11/dist-packages (from nbconvert>=7.8.0->mercury) (3.0.2)\n",
            "Requirement already satisfied: mistune<4,>=2.0.3 in /usr/local/lib/python3.11/dist-packages (from nbconvert>=7.8.0->mercury) (3.1.2)\n",
            "Requirement already satisfied: nbclient>=0.5.0 in /usr/local/lib/python3.11/dist-packages (from nbconvert>=7.8.0->mercury) (0.10.2)\n",
            "Requirement already satisfied: nbformat>=5.7 in /usr/local/lib/python3.11/dist-packages (from nbconvert>=7.8.0->mercury) (5.10.4)\n",
            "Requirement already satisfied: pandocfilters>=1.4.1 in /usr/local/lib/python3.11/dist-packages (from nbconvert>=7.8.0->mercury) (1.5.1)\n",
            "Requirement already satisfied: tenacity>=6.2.0 in /usr/local/lib/python3.11/dist-packages (from plotly>=4.1.1->cufflinks) (9.0.0)\n",
            "Requirement already satisfied: cffi>=1.12 in /usr/local/lib/python3.11/dist-packages (from cryptography->mercury) (1.17.1)\n",
            "Requirement already satisfied: charset-normalizer<4,>=2 in /usr/local/lib/python3.11/dist-packages (from requests>=2.31->yfinance) (3.4.1)\n",
            "Requirement already satisfied: idna<4,>=2.5 in /usr/local/lib/python3.11/dist-packages (from requests>=2.31->yfinance) (3.10)\n",
            "Requirement already satisfied: fastcore>=1.5.5 in /usr/local/lib/python3.11/dist-packages (from execnb->mercury) (1.7.29)\n",
            "Requirement already satisfied: zope.event in /usr/local/lib/python3.11/dist-packages (from gevent->mercury) (5.0)\n",
            "Requirement already satisfied: zope.interface in /usr/local/lib/python3.11/dist-packages (from gevent->mercury) (7.2)\n",
            "Requirement already satisfied: tinycss2<1.5,>=1.1.0 in /usr/local/lib/python3.11/dist-packages (from bleach[css]!=5.0.0->nbconvert>=7.8.0->mercury) (1.4.0)\n",
            "Requirement already satisfied: pycparser in /usr/local/lib/python3.11/dist-packages (from cffi>=1.12->cryptography->mercury) (2.22)\n",
            "Requirement already satisfied: autobahn>=22.4.2 in /usr/local/lib/python3.11/dist-packages (from daphne>=4.0.0->channels[daphne]>=4.0.0->mercury) (24.4.2)\n",
            "Requirement already satisfied: twisted>=22.4 in /usr/local/lib/python3.11/dist-packages (from twisted[tls]>=22.4->daphne>=4.0.0->channels[daphne]>=4.0.0->mercury) (24.11.0)\n",
            "Requirement already satisfied: python3-openid>=3.0.8 in /usr/local/lib/python3.11/dist-packages (from django-allauth<0.53.0,>=0.40.0->dj-rest-auth[with_social]==3.0.0->mercury) (3.2.0)\n",
            "Requirement already satisfied: requests-oauthlib>=0.3.0 in /usr/local/lib/python3.11/dist-packages (from django-allauth<0.53.0,>=0.40.0->dj-rest-auth[with_social]==3.0.0->mercury) (2.0.0)\n",
            "Requirement already satisfied: pyjwt>=1.7 in /usr/local/lib/python3.11/dist-packages (from pyjwt[crypto]>=1.7->django-allauth<0.53.0,>=0.40.0->dj-rest-auth[with_social]==3.0.0->mercury) (2.10.1)\n",
            "Requirement already satisfied: zipp>=3.20 in /usr/local/lib/python3.11/dist-packages (from importlib-metadata>=1.4->pyppeteer==1.0.2->mercury) (3.21.0)\n",
            "Requirement already satisfied: parso<0.9.0,>=0.8.4 in /usr/local/lib/python3.11/dist-packages (from jedi>=0.16->ipython>=5.3.0->cufflinks) (0.8.4)\n",
            "Requirement already satisfied: amqp<6.0.0,>=5.1.1 in /usr/local/lib/python3.11/dist-packages (from kombu<6.0,>=5.3.4->celery>=5.1.2->mercury) (5.3.1)\n",
            "Requirement already satisfied: fastjsonschema>=2.15 in /usr/local/lib/python3.11/dist-packages (from nbformat>=5.7->nbconvert>=7.8.0->mercury) (2.21.1)\n",
            "Requirement already satisfied: jsonschema>=2.6 in /usr/local/lib/python3.11/dist-packages (from nbformat>=5.7->nbconvert>=7.8.0->mercury) (4.23.0)\n",
            "Requirement already satisfied: ptyprocess>=0.5 in /usr/local/lib/python3.11/dist-packages (from pexpect>4.3->ipython>=5.3.0->cufflinks) (0.7.0)\n",
            "Requirement already satisfied: wcwidth in /usr/local/lib/python3.11/dist-packages (from prompt-toolkit!=3.0.0,!=3.0.1,<3.1.0,>=2.0.0->ipython>=5.3.0->cufflinks) (0.2.13)\n",
            "Requirement already satisfied: txaio>=21.2.1 in /usr/local/lib/python3.11/dist-packages (from autobahn>=22.4.2->daphne>=4.0.0->channels[daphne]>=4.0.0->mercury) (23.1.1)\n",
            "Requirement already satisfied: hyperlink>=21.0.0 in /usr/local/lib/python3.11/dist-packages (from autobahn>=22.4.2->daphne>=4.0.0->channels[daphne]>=4.0.0->mercury) (21.0.0)\n",
            "Requirement already satisfied: attrs>=22.2.0 in /usr/local/lib/python3.11/dist-packages (from jsonschema>=2.6->nbformat>=5.7->nbconvert>=7.8.0->mercury) (25.1.0)\n",
            "Requirement already satisfied: jsonschema-specifications>=2023.03.6 in /usr/local/lib/python3.11/dist-packages (from jsonschema>=2.6->nbformat>=5.7->nbconvert>=7.8.0->mercury) (2024.10.1)\n",
            "Requirement already satisfied: referencing>=0.28.4 in /usr/local/lib/python3.11/dist-packages (from jsonschema>=2.6->nbformat>=5.7->nbconvert>=7.8.0->mercury) (0.36.2)\n",
            "Requirement already satisfied: rpds-py>=0.7.1 in /usr/local/lib/python3.11/dist-packages (from jsonschema>=2.6->nbformat>=5.7->nbconvert>=7.8.0->mercury) (0.23.1)\n",
            "Requirement already satisfied: oauthlib>=3.0.0 in /usr/local/lib/python3.11/dist-packages (from requests-oauthlib>=0.3.0->django-allauth<0.53.0,>=0.40.0->dj-rest-auth[with_social]==3.0.0->mercury) (3.2.2)\n",
            "Requirement already satisfied: automat>=24.8.0 in /usr/local/lib/python3.11/dist-packages (from twisted>=22.4->twisted[tls]>=22.4->daphne>=4.0.0->channels[daphne]>=4.0.0->mercury) (24.8.1)\n",
            "Requirement already satisfied: constantly>=15.1 in /usr/local/lib/python3.11/dist-packages (from twisted>=22.4->twisted[tls]>=22.4->daphne>=4.0.0->channels[daphne]>=4.0.0->mercury) (23.10.4)\n",
            "Requirement already satisfied: incremental>=24.7.0 in /usr/local/lib/python3.11/dist-packages (from twisted>=22.4->twisted[tls]>=22.4->daphne>=4.0.0->channels[daphne]>=4.0.0->mercury) (24.7.2)\n",
            "Requirement already satisfied: service-identity>=18.1.0 in /usr/local/lib/python3.11/dist-packages (from twisted[tls]>=22.4->daphne>=4.0.0->channels[daphne]>=4.0.0->mercury) (24.2.0)\n",
            "Requirement already satisfied: pyasn1 in /usr/local/lib/python3.11/dist-packages (from service-identity>=18.1.0->twisted[tls]>=22.4->daphne>=4.0.0->channels[daphne]>=4.0.0->mercury) (0.6.1)\n",
            "Requirement already satisfied: pyasn1-modules in /usr/local/lib/python3.11/dist-packages (from service-identity>=18.1.0->twisted[tls]>=22.4->daphne>=4.0.0->channels[daphne]>=4.0.0->mercury) (0.4.1)\n"
          ]
        }
      ]
    },
    {
      "cell_type": "code",
      "source": [
        "import pandas as pd\n",
        "import cufflinks as cf\n",
        "cf.go_offline() # Configure Plotly to work in offline mode\n",
        "import numpy as np\n",
        "import yfinance as yf\n",
        "from datetime import date\n",
        "import warnings\n",
        "warnings.simplefilter(action='ignore', category=FutureWarning)\n",
        "import mercury as mr\n",
        "from dateutil.relativedelta import relativedelta"
      ],
      "metadata": {
        "colab": {
          "base_uri": "https://localhost:8080/",
          "height": 17
        },
        "id": "uxS3p7_Su4Gc",
        "outputId": "416aa5e2-bc2e-4d4e-ea20-15fa28e18bf0"
      },
      "execution_count": 2,
      "outputs": [
        {
          "output_type": "display_data",
          "data": {
            "text/html": [
              "        <script type=\"text/javascript\">\n",
              "        window.PlotlyConfig = {MathJaxConfig: 'local'};\n",
              "        if (window.MathJax && window.MathJax.Hub && window.MathJax.Hub.Config) {window.MathJax.Hub.Config({SVG: {font: \"STIX-Web\"}});}\n",
              "        if (typeof require !== 'undefined') {\n",
              "        require.undef(\"plotly\");\n",
              "        requirejs.config({\n",
              "            paths: {\n",
              "                'plotly': ['https://cdn.plot.ly/plotly-2.35.2.min']\n",
              "            }\n",
              "        });\n",
              "        require(['plotly'], function(Plotly) {\n",
              "            window._Plotly = Plotly;\n",
              "        });\n",
              "        }\n",
              "        </script>\n",
              "        "
            ]
          },
          "metadata": {}
        }
      ]
    },
    {
      "cell_type": "code",
      "source": [
        "app = mr.App(title=\"📈 Stock Price Dashboard\", description=\"Dashboard with financial data\", show_code=False)"
      ],
      "metadata": {
        "colab": {
          "base_uri": "https://localhost:8080/",
          "height": 75
        },
        "id": "n2RtiX2iu4KI",
        "outputId": "71dc00fb-982f-4869-f53a-240c34fcc87e"
      },
      "execution_count": 3,
      "outputs": [
        {
          "output_type": "display_data",
          "data": {
            "text/plain": [
              "mercury.App"
            ],
            "text/html": [
              "<h3>Mercury Application</h3><small>This output won't appear in the web app.</small>"
            ],
            "application/mercury+json": "{\n    \"widget\": \"App\",\n    \"title\": \"\\ud83d\\udcc8 Stock Price Dashboard\",\n    \"description\": \"Dashboard with financial data\",\n    \"show_code\": false,\n    \"show_prompt\": false,\n    \"output\": \"app\",\n    \"schedule\": \"\",\n    \"notify\": \"{}\",\n    \"continuous_update\": true,\n    \"static_notebook\": false,\n    \"show_sidebar\": true,\n    \"full_screen\": true,\n    \"allow_download\": true,\n    \"allow_share\": true,\n    \"stop_on_error\": false,\n    \"model_id\": \"mercury-app\",\n    \"code_uid\": \"App.0.50.110.1-rande3cbbf29\"\n}"
          },
          "metadata": {}
        }
      ]
    },
    {
      "cell_type": "code",
      "source": [
        "ticker = mr.Select(label=\"Please select ticker\", value='Balmlawrie',\n",
        "                   choices=['Balmlawire', 'castrolind', 'GPIL', 'UNION BANK', 'GUJTLRM'])"
      ],
      "metadata": {
        "colab": {
          "base_uri": "https://localhost:8080/",
          "height": 136,
          "referenced_widgets": [
            "bb6cae1fac354cadbdf4b57fd4e4fb3b",
            "e27b7103796848829f953d004621691b",
            "7984487ecbaf4adca4f6544c8c22e0af"
          ]
        },
        "id": "Qpkq5BEnu4NQ",
        "outputId": "275c65d1-a00f-4504-9f47-6fe8fe16cc53"
      },
      "execution_count": 4,
      "outputs": [
        {
          "output_type": "stream",
          "name": "stderr",
          "text": [
            "/usr/local/lib/python3.11/dist-packages/mercury/widgets/select.py:101: UserWarning:\n",
            "\n",
            "\n",
            "Your value is not included in choices. Automatically set value to first element from choices.\n",
            "\n"
          ]
        },
        {
          "output_type": "display_data",
          "data": {
            "application/vnd.jupyter.widget-view+json": {
              "version_major": 2,
              "version_minor": 0,
              "model_id": "bb6cae1fac354cadbdf4b57fd4e4fb3b"
            },
            "application/mercury+json": "{\n    \"widget\": \"Select\",\n    \"value\": \"Balmlawire\",\n    \"choices\": [\n        \"Balmlawire\",\n        \"castrolind\",\n        \"GPIL\",\n        \"UNION BANK\",\n        \"GUJTLRM\"\n    ],\n    \"label\": \"Please select ticker\",\n    \"model_id\": \"bb6cae1fac354cadbdf4b57fd4e4fb3b\",\n    \"code_uid\": \"Select.0.50.104.1-randdb53c8b2\",\n    \"url_key\": \"\",\n    \"disabled\": false,\n    \"hidden\": false\n}",
            "text/plain": [
              "mercury.Select"
            ]
          },
          "metadata": {}
        }
      ]
    },
    {
      "cell_type": "code",
      "source": [],
      "metadata": {
        "id": "CDMsnWc9Eoik"
      },
      "execution_count": null,
      "outputs": []
    },
    {
      "cell_type": "code",
      "source": [
        "mr.Md(f\"# Selected ticker: {ticker.value}\")"
      ],
      "metadata": {
        "colab": {
          "base_uri": "https://localhost:8080/",
          "height": 74
        },
        "id": "JJpxBC3tu4QY",
        "outputId": "1728becb-6d7e-4a9f-e205-cbeb215514c7"
      },
      "execution_count": 5,
      "outputs": [
        {
          "output_type": "display_data",
          "data": {
            "text/plain": [
              "<IPython.core.display.Markdown object>"
            ],
            "text/markdown": "# Selected ticker: Balmlawire"
          },
          "metadata": {}
        }
      ]
    },
    {
      "cell_type": "code",
      "source": [
        "period = mr.Numeric(label=\"Past Month(s)\", value=3, min=1, max=12)"
      ],
      "metadata": {
        "colab": {
          "base_uri": "https://localhost:8080/",
          "height": 49,
          "referenced_widgets": [
            "d4642e11f90848a083c062e47f2191ce",
            "8b8c95ce3df04964bb938a6788bd4170",
            "2361284e12e4490da0e3c6056c8b3e73"
          ]
        },
        "id": "NqQS-Krgzbvi",
        "outputId": "2a329394-0712-43ba-86f4-69094d1ec346"
      },
      "execution_count": 6,
      "outputs": [
        {
          "output_type": "display_data",
          "data": {
            "application/vnd.jupyter.widget-view+json": {
              "version_major": 2,
              "version_minor": 0,
              "model_id": "d4642e11f90848a083c062e47f2191ce"
            },
            "application/mercury+json": "{\n    \"widget\": \"Numeric\",\n    \"value\": 3.0,\n    \"min\": 1.0,\n    \"max\": 12.0,\n    \"step\": 1.0,\n    \"label\": \"Past Month(s)\",\n    \"model_id\": \"d4642e11f90848a083c062e47f2191ce\",\n    \"code_uid\": \"Numeric.0.50.101.1-randc9b7b43a\",\n    \"url_key\": \"\",\n    \"disabled\": false,\n    \"hidden\": false\n}",
            "text/plain": [
              "mercury.Numeric"
            ]
          },
          "metadata": {}
        }
      ]
    },
    {
      "cell_type": "code",
      "source": [
        "# Download Balmlawrie stock data for analysis\n",
        "stock_data = yf.download(ticker.value, start=date.today() - relativedelta(months=+period.value), end=date.today())\n",
        "stock_data"
      ],
      "metadata": {
        "colab": {
          "base_uri": "https://localhost:8080/",
          "height": 479
        },
        "id": "rPt9v3b1zb49",
        "outputId": "7d95f1b1-0d71-4436-b74b-aad6fd3babb6"
      },
      "execution_count": 7,
      "outputs": [
        {
          "output_type": "stream",
          "name": "stdout",
          "text": [
            "YF.download() has changed argument auto_adjust default to True\n"
          ]
        },
        {
          "output_type": "stream",
          "name": "stderr",
          "text": [
            "\r[*********************100%***********************]  1 of 1 completed\n",
            "ERROR:yfinance:\n",
            "1 Failed download:\n",
            "ERROR:yfinance:['BALMLAWIRE']: YFTzMissingError('possibly delisted; no timezone found')\n"
          ]
        },
        {
          "output_type": "execute_result",
          "data": {
            "text/plain": [
              "Empty DataFrame\n",
              "Columns: [(Adj Close, BALMLAWIRE), (Close, BALMLAWIRE), (High, BALMLAWIRE), (Low, BALMLAWIRE), (Open, BALMLAWIRE), (Volume, BALMLAWIRE)]\n",
              "Index: []"
            ],
            "text/html": [
              "\n",
              "  <div id=\"df-a0167cb7-3800-4166-91aa-30641bfd6109\" class=\"colab-df-container\">\n",
              "    <div>\n",
              "<style scoped>\n",
              "    .dataframe tbody tr th:only-of-type {\n",
              "        vertical-align: middle;\n",
              "    }\n",
              "\n",
              "    .dataframe tbody tr th {\n",
              "        vertical-align: top;\n",
              "    }\n",
              "\n",
              "    .dataframe thead tr th {\n",
              "        text-align: left;\n",
              "    }\n",
              "\n",
              "    .dataframe thead tr:last-of-type th {\n",
              "        text-align: right;\n",
              "    }\n",
              "</style>\n",
              "<table border=\"1\" class=\"dataframe\">\n",
              "  <thead>\n",
              "    <tr>\n",
              "      <th>Price</th>\n",
              "      <th>Adj Close</th>\n",
              "      <th>Close</th>\n",
              "      <th>High</th>\n",
              "      <th>Low</th>\n",
              "      <th>Open</th>\n",
              "      <th>Volume</th>\n",
              "    </tr>\n",
              "    <tr>\n",
              "      <th>Ticker</th>\n",
              "      <th>BALMLAWIRE</th>\n",
              "      <th>BALMLAWIRE</th>\n",
              "      <th>BALMLAWIRE</th>\n",
              "      <th>BALMLAWIRE</th>\n",
              "      <th>BALMLAWIRE</th>\n",
              "      <th>BALMLAWIRE</th>\n",
              "    </tr>\n",
              "    <tr>\n",
              "      <th>Date</th>\n",
              "      <th></th>\n",
              "      <th></th>\n",
              "      <th></th>\n",
              "      <th></th>\n",
              "      <th></th>\n",
              "      <th></th>\n",
              "    </tr>\n",
              "  </thead>\n",
              "  <tbody>\n",
              "  </tbody>\n",
              "</table>\n",
              "</div>\n",
              "    <div class=\"colab-df-buttons\">\n",
              "\n",
              "  <div class=\"colab-df-container\">\n",
              "    <button class=\"colab-df-convert\" onclick=\"convertToInteractive('df-a0167cb7-3800-4166-91aa-30641bfd6109')\"\n",
              "            title=\"Convert this dataframe to an interactive table.\"\n",
              "            style=\"display:none;\">\n",
              "\n",
              "  <svg xmlns=\"http://www.w3.org/2000/svg\" height=\"24px\" viewBox=\"0 -960 960 960\">\n",
              "    <path d=\"M120-120v-720h720v720H120Zm60-500h600v-160H180v160Zm220 220h160v-160H400v160Zm0 220h160v-160H400v160ZM180-400h160v-160H180v160Zm440 0h160v-160H620v160ZM180-180h160v-160H180v160Zm440 0h160v-160H620v160Z\"/>\n",
              "  </svg>\n",
              "    </button>\n",
              "\n",
              "  <style>\n",
              "    .colab-df-container {\n",
              "      display:flex;\n",
              "      gap: 12px;\n",
              "    }\n",
              "\n",
              "    .colab-df-convert {\n",
              "      background-color: #E8F0FE;\n",
              "      border: none;\n",
              "      border-radius: 50%;\n",
              "      cursor: pointer;\n",
              "      display: none;\n",
              "      fill: #1967D2;\n",
              "      height: 32px;\n",
              "      padding: 0 0 0 0;\n",
              "      width: 32px;\n",
              "    }\n",
              "\n",
              "    .colab-df-convert:hover {\n",
              "      background-color: #E2EBFA;\n",
              "      box-shadow: 0px 1px 2px rgba(60, 64, 67, 0.3), 0px 1px 3px 1px rgba(60, 64, 67, 0.15);\n",
              "      fill: #174EA6;\n",
              "    }\n",
              "\n",
              "    .colab-df-buttons div {\n",
              "      margin-bottom: 4px;\n",
              "    }\n",
              "\n",
              "    [theme=dark] .colab-df-convert {\n",
              "      background-color: #3B4455;\n",
              "      fill: #D2E3FC;\n",
              "    }\n",
              "\n",
              "    [theme=dark] .colab-df-convert:hover {\n",
              "      background-color: #434B5C;\n",
              "      box-shadow: 0px 1px 3px 1px rgba(0, 0, 0, 0.15);\n",
              "      filter: drop-shadow(0px 1px 2px rgba(0, 0, 0, 0.3));\n",
              "      fill: #FFFFFF;\n",
              "    }\n",
              "  </style>\n",
              "\n",
              "    <script>\n",
              "      const buttonEl =\n",
              "        document.querySelector('#df-a0167cb7-3800-4166-91aa-30641bfd6109 button.colab-df-convert');\n",
              "      buttonEl.style.display =\n",
              "        google.colab.kernel.accessAllowed ? 'block' : 'none';\n",
              "\n",
              "      async function convertToInteractive(key) {\n",
              "        const element = document.querySelector('#df-a0167cb7-3800-4166-91aa-30641bfd6109');\n",
              "        const dataTable =\n",
              "          await google.colab.kernel.invokeFunction('convertToInteractive',\n",
              "                                                    [key], {});\n",
              "        if (!dataTable) return;\n",
              "\n",
              "        const docLinkHtml = 'Like what you see? Visit the ' +\n",
              "          '<a target=\"_blank\" href=https://colab.research.google.com/notebooks/data_table.ipynb>data table notebook</a>'\n",
              "          + ' to learn more about interactive tables.';\n",
              "        element.innerHTML = '';\n",
              "        dataTable['output_type'] = 'display_data';\n",
              "        await google.colab.output.renderOutput(dataTable, element);\n",
              "        const docLink = document.createElement('div');\n",
              "        docLink.innerHTML = docLinkHtml;\n",
              "        element.appendChild(docLink);\n",
              "      }\n",
              "    </script>\n",
              "  </div>\n",
              "\n",
              "\n",
              "  <div id=\"id_9a973f64-8996-4427-b6ad-0909bbfcbe30\">\n",
              "    <style>\n",
              "      .colab-df-generate {\n",
              "        background-color: #E8F0FE;\n",
              "        border: none;\n",
              "        border-radius: 50%;\n",
              "        cursor: pointer;\n",
              "        display: none;\n",
              "        fill: #1967D2;\n",
              "        height: 32px;\n",
              "        padding: 0 0 0 0;\n",
              "        width: 32px;\n",
              "      }\n",
              "\n",
              "      .colab-df-generate:hover {\n",
              "        background-color: #E2EBFA;\n",
              "        box-shadow: 0px 1px 2px rgba(60, 64, 67, 0.3), 0px 1px 3px 1px rgba(60, 64, 67, 0.15);\n",
              "        fill: #174EA6;\n",
              "      }\n",
              "\n",
              "      [theme=dark] .colab-df-generate {\n",
              "        background-color: #3B4455;\n",
              "        fill: #D2E3FC;\n",
              "      }\n",
              "\n",
              "      [theme=dark] .colab-df-generate:hover {\n",
              "        background-color: #434B5C;\n",
              "        box-shadow: 0px 1px 3px 1px rgba(0, 0, 0, 0.15);\n",
              "        filter: drop-shadow(0px 1px 2px rgba(0, 0, 0, 0.3));\n",
              "        fill: #FFFFFF;\n",
              "      }\n",
              "    </style>\n",
              "    <button class=\"colab-df-generate\" onclick=\"generateWithVariable('stock_data')\"\n",
              "            title=\"Generate code using this dataframe.\"\n",
              "            style=\"display:none;\">\n",
              "\n",
              "  <svg xmlns=\"http://www.w3.org/2000/svg\" height=\"24px\"viewBox=\"0 0 24 24\"\n",
              "       width=\"24px\">\n",
              "    <path d=\"M7,19H8.4L18.45,9,17,7.55,7,17.6ZM5,21V16.75L18.45,3.32a2,2,0,0,1,2.83,0l1.4,1.43a1.91,1.91,0,0,1,.58,1.4,1.91,1.91,0,0,1-.58,1.4L9.25,21ZM18.45,9,17,7.55Zm-12,3A5.31,5.31,0,0,0,4.9,8.1,5.31,5.31,0,0,0,1,6.5,5.31,5.31,0,0,0,4.9,4.9,5.31,5.31,0,0,0,6.5,1,5.31,5.31,0,0,0,8.1,4.9,5.31,5.31,0,0,0,12,6.5,5.46,5.46,0,0,0,6.5,12Z\"/>\n",
              "  </svg>\n",
              "    </button>\n",
              "    <script>\n",
              "      (() => {\n",
              "      const buttonEl =\n",
              "        document.querySelector('#id_9a973f64-8996-4427-b6ad-0909bbfcbe30 button.colab-df-generate');\n",
              "      buttonEl.style.display =\n",
              "        google.colab.kernel.accessAllowed ? 'block' : 'none';\n",
              "\n",
              "      buttonEl.onclick = () => {\n",
              "        google.colab.notebook.generateWithVariable('stock_data');\n",
              "      }\n",
              "      })();\n",
              "    </script>\n",
              "  </div>\n",
              "\n",
              "    </div>\n",
              "  </div>\n"
            ],
            "application/vnd.google.colaboratory.intrinsic+json": {
              "type": "dataframe",
              "variable_name": "stock_data",
              "summary": "{\n  \"name\": \"stock_data\",\n  \"rows\": 0,\n  \"fields\": [\n    {\n      \"column\": [\n        \"Date\",\n        \"\"\n      ],\n      \"properties\": {\n        \"dtype\": \"date\",\n        \"min\": \"NaT\",\n        \"max\": \"NaT\",\n        \"num_unique_values\": 0,\n        \"samples\": [],\n        \"semantic_type\": \"\",\n        \"description\": \"\"\n      }\n    },\n    {\n      \"column\": [\n        \"Adj Close\",\n        \"BALMLAWIRE\"\n      ],\n      \"properties\": {\n        \"dtype\": \"number\",\n        \"std\": null,\n        \"min\": null,\n        \"max\": null,\n        \"num_unique_values\": 0,\n        \"samples\": [],\n        \"semantic_type\": \"\",\n        \"description\": \"\"\n      }\n    },\n    {\n      \"column\": [\n        \"Close\",\n        \"BALMLAWIRE\"\n      ],\n      \"properties\": {\n        \"dtype\": \"number\",\n        \"std\": null,\n        \"min\": null,\n        \"max\": null,\n        \"num_unique_values\": 0,\n        \"samples\": [],\n        \"semantic_type\": \"\",\n        \"description\": \"\"\n      }\n    },\n    {\n      \"column\": [\n        \"High\",\n        \"BALMLAWIRE\"\n      ],\n      \"properties\": {\n        \"dtype\": \"number\",\n        \"std\": null,\n        \"min\": null,\n        \"max\": null,\n        \"num_unique_values\": 0,\n        \"samples\": [],\n        \"semantic_type\": \"\",\n        \"description\": \"\"\n      }\n    },\n    {\n      \"column\": [\n        \"Low\",\n        \"BALMLAWIRE\"\n      ],\n      \"properties\": {\n        \"dtype\": \"number\",\n        \"std\": null,\n        \"min\": null,\n        \"max\": null,\n        \"num_unique_values\": 0,\n        \"samples\": [],\n        \"semantic_type\": \"\",\n        \"description\": \"\"\n      }\n    },\n    {\n      \"column\": [\n        \"Open\",\n        \"BALMLAWIRE\"\n      ],\n      \"properties\": {\n        \"dtype\": \"number\",\n        \"std\": null,\n        \"min\": null,\n        \"max\": null,\n        \"num_unique_values\": 0,\n        \"samples\": [],\n        \"semantic_type\": \"\",\n        \"description\": \"\"\n      }\n    },\n    {\n      \"column\": [\n        \"Volume\",\n        \"BALMLAWIRE\"\n      ],\n      \"properties\": {\n        \"dtype\": \"number\",\n        \"std\": null,\n        \"min\": null,\n        \"max\": null,\n        \"num_unique_values\": 0,\n        \"samples\": [],\n        \"semantic_type\": \"\",\n        \"description\": \"\"\n      }\n    }\n  ]\n}"
            }
          },
          "metadata": {},
          "execution_count": 7
        }
      ]
    },
    {
      "cell_type": "code",
      "source": [],
      "metadata": {
        "id": "3r2PRx_3ac9O"
      },
      "execution_count": 8,
      "outputs": []
    },
    {
      "cell_type": "code",
      "source": [
        "# Create and display an interactive line plot of Balmlawrie Adjusted Close Prices\n",
        "stock_data['Adj Close'].iplot(title='Adjusted Close', colors=['green'])"
      ],
      "metadata": {
        "id": "aqaCWr3Hzzmi",
        "colab": {
          "base_uri": "https://localhost:8080/",
          "height": 542
        },
        "outputId": "cd3697f5-1c34-4e17-dab7-c07711f19ded"
      },
      "execution_count": 8,
      "outputs": [
        {
          "output_type": "display_data",
          "data": {
            "application/vnd.plotly.v1+json": {
              "data": [
                {
                  "line": {
                    "color": "rgba(0, 128, 0, 1.0)",
                    "dash": "solid",
                    "shape": "linear",
                    "width": 1.3
                  },
                  "mode": "lines",
                  "name": "BALMLAWIRE",
                  "text": "",
                  "x": [],
                  "y": [],
                  "type": "scatter"
                }
              ],
              "layout": {
                "legend": {
                  "bgcolor": "#F5F6F9",
                  "font": {
                    "color": "#4D5663"
                  }
                },
                "paper_bgcolor": "#F5F6F9",
                "plot_bgcolor": "#F5F6F9",
                "template": {
                  "data": {
                    "barpolar": [
                      {
                        "marker": {
                          "line": {
                            "color": "#E5ECF6",
                            "width": 0.5
                          },
                          "pattern": {
                            "fillmode": "overlay",
                            "size": 10,
                            "solidity": 0.2
                          }
                        },
                        "type": "barpolar"
                      }
                    ],
                    "bar": [
                      {
                        "error_x": {
                          "color": "#2a3f5f"
                        },
                        "error_y": {
                          "color": "#2a3f5f"
                        },
                        "marker": {
                          "line": {
                            "color": "#E5ECF6",
                            "width": 0.5
                          },
                          "pattern": {
                            "fillmode": "overlay",
                            "size": 10,
                            "solidity": 0.2
                          }
                        },
                        "type": "bar"
                      }
                    ],
                    "carpet": [
                      {
                        "aaxis": {
                          "endlinecolor": "#2a3f5f",
                          "gridcolor": "white",
                          "linecolor": "white",
                          "minorgridcolor": "white",
                          "startlinecolor": "#2a3f5f"
                        },
                        "baxis": {
                          "endlinecolor": "#2a3f5f",
                          "gridcolor": "white",
                          "linecolor": "white",
                          "minorgridcolor": "white",
                          "startlinecolor": "#2a3f5f"
                        },
                        "type": "carpet"
                      }
                    ],
                    "choropleth": [
                      {
                        "colorbar": {
                          "outlinewidth": 0,
                          "ticks": ""
                        },
                        "type": "choropleth"
                      }
                    ],
                    "contourcarpet": [
                      {
                        "colorbar": {
                          "outlinewidth": 0,
                          "ticks": ""
                        },
                        "type": "contourcarpet"
                      }
                    ],
                    "contour": [
                      {
                        "colorbar": {
                          "outlinewidth": 0,
                          "ticks": ""
                        },
                        "colorscale": [
                          [
                            0,
                            "#0d0887"
                          ],
                          [
                            0.1111111111111111,
                            "#46039f"
                          ],
                          [
                            0.2222222222222222,
                            "#7201a8"
                          ],
                          [
                            0.3333333333333333,
                            "#9c179e"
                          ],
                          [
                            0.4444444444444444,
                            "#bd3786"
                          ],
                          [
                            0.5555555555555556,
                            "#d8576b"
                          ],
                          [
                            0.6666666666666666,
                            "#ed7953"
                          ],
                          [
                            0.7777777777777778,
                            "#fb9f3a"
                          ],
                          [
                            0.8888888888888888,
                            "#fdca26"
                          ],
                          [
                            1,
                            "#f0f921"
                          ]
                        ],
                        "type": "contour"
                      }
                    ],
                    "heatmapgl": [
                      {
                        "colorbar": {
                          "outlinewidth": 0,
                          "ticks": ""
                        },
                        "colorscale": [
                          [
                            0,
                            "#0d0887"
                          ],
                          [
                            0.1111111111111111,
                            "#46039f"
                          ],
                          [
                            0.2222222222222222,
                            "#7201a8"
                          ],
                          [
                            0.3333333333333333,
                            "#9c179e"
                          ],
                          [
                            0.4444444444444444,
                            "#bd3786"
                          ],
                          [
                            0.5555555555555556,
                            "#d8576b"
                          ],
                          [
                            0.6666666666666666,
                            "#ed7953"
                          ],
                          [
                            0.7777777777777778,
                            "#fb9f3a"
                          ],
                          [
                            0.8888888888888888,
                            "#fdca26"
                          ],
                          [
                            1,
                            "#f0f921"
                          ]
                        ],
                        "type": "heatmapgl"
                      }
                    ],
                    "heatmap": [
                      {
                        "colorbar": {
                          "outlinewidth": 0,
                          "ticks": ""
                        },
                        "colorscale": [
                          [
                            0,
                            "#0d0887"
                          ],
                          [
                            0.1111111111111111,
                            "#46039f"
                          ],
                          [
                            0.2222222222222222,
                            "#7201a8"
                          ],
                          [
                            0.3333333333333333,
                            "#9c179e"
                          ],
                          [
                            0.4444444444444444,
                            "#bd3786"
                          ],
                          [
                            0.5555555555555556,
                            "#d8576b"
                          ],
                          [
                            0.6666666666666666,
                            "#ed7953"
                          ],
                          [
                            0.7777777777777778,
                            "#fb9f3a"
                          ],
                          [
                            0.8888888888888888,
                            "#fdca26"
                          ],
                          [
                            1,
                            "#f0f921"
                          ]
                        ],
                        "type": "heatmap"
                      }
                    ],
                    "histogram2dcontour": [
                      {
                        "colorbar": {
                          "outlinewidth": 0,
                          "ticks": ""
                        },
                        "colorscale": [
                          [
                            0,
                            "#0d0887"
                          ],
                          [
                            0.1111111111111111,
                            "#46039f"
                          ],
                          [
                            0.2222222222222222,
                            "#7201a8"
                          ],
                          [
                            0.3333333333333333,
                            "#9c179e"
                          ],
                          [
                            0.4444444444444444,
                            "#bd3786"
                          ],
                          [
                            0.5555555555555556,
                            "#d8576b"
                          ],
                          [
                            0.6666666666666666,
                            "#ed7953"
                          ],
                          [
                            0.7777777777777778,
                            "#fb9f3a"
                          ],
                          [
                            0.8888888888888888,
                            "#fdca26"
                          ],
                          [
                            1,
                            "#f0f921"
                          ]
                        ],
                        "type": "histogram2dcontour"
                      }
                    ],
                    "histogram2d": [
                      {
                        "colorbar": {
                          "outlinewidth": 0,
                          "ticks": ""
                        },
                        "colorscale": [
                          [
                            0,
                            "#0d0887"
                          ],
                          [
                            0.1111111111111111,
                            "#46039f"
                          ],
                          [
                            0.2222222222222222,
                            "#7201a8"
                          ],
                          [
                            0.3333333333333333,
                            "#9c179e"
                          ],
                          [
                            0.4444444444444444,
                            "#bd3786"
                          ],
                          [
                            0.5555555555555556,
                            "#d8576b"
                          ],
                          [
                            0.6666666666666666,
                            "#ed7953"
                          ],
                          [
                            0.7777777777777778,
                            "#fb9f3a"
                          ],
                          [
                            0.8888888888888888,
                            "#fdca26"
                          ],
                          [
                            1,
                            "#f0f921"
                          ]
                        ],
                        "type": "histogram2d"
                      }
                    ],
                    "histogram": [
                      {
                        "marker": {
                          "pattern": {
                            "fillmode": "overlay",
                            "size": 10,
                            "solidity": 0.2
                          }
                        },
                        "type": "histogram"
                      }
                    ],
                    "mesh3d": [
                      {
                        "colorbar": {
                          "outlinewidth": 0,
                          "ticks": ""
                        },
                        "type": "mesh3d"
                      }
                    ],
                    "parcoords": [
                      {
                        "line": {
                          "colorbar": {
                            "outlinewidth": 0,
                            "ticks": ""
                          }
                        },
                        "type": "parcoords"
                      }
                    ],
                    "pie": [
                      {
                        "automargin": true,
                        "type": "pie"
                      }
                    ],
                    "scatter3d": [
                      {
                        "line": {
                          "colorbar": {
                            "outlinewidth": 0,
                            "ticks": ""
                          }
                        },
                        "marker": {
                          "colorbar": {
                            "outlinewidth": 0,
                            "ticks": ""
                          }
                        },
                        "type": "scatter3d"
                      }
                    ],
                    "scattercarpet": [
                      {
                        "marker": {
                          "colorbar": {
                            "outlinewidth": 0,
                            "ticks": ""
                          }
                        },
                        "type": "scattercarpet"
                      }
                    ],
                    "scattergeo": [
                      {
                        "marker": {
                          "colorbar": {
                            "outlinewidth": 0,
                            "ticks": ""
                          }
                        },
                        "type": "scattergeo"
                      }
                    ],
                    "scattergl": [
                      {
                        "marker": {
                          "colorbar": {
                            "outlinewidth": 0,
                            "ticks": ""
                          }
                        },
                        "type": "scattergl"
                      }
                    ],
                    "scattermapbox": [
                      {
                        "marker": {
                          "colorbar": {
                            "outlinewidth": 0,
                            "ticks": ""
                          }
                        },
                        "type": "scattermapbox"
                      }
                    ],
                    "scatterpolargl": [
                      {
                        "marker": {
                          "colorbar": {
                            "outlinewidth": 0,
                            "ticks": ""
                          }
                        },
                        "type": "scatterpolargl"
                      }
                    ],
                    "scatterpolar": [
                      {
                        "marker": {
                          "colorbar": {
                            "outlinewidth": 0,
                            "ticks": ""
                          }
                        },
                        "type": "scatterpolar"
                      }
                    ],
                    "scatter": [
                      {
                        "fillpattern": {
                          "fillmode": "overlay",
                          "size": 10,
                          "solidity": 0.2
                        },
                        "type": "scatter"
                      }
                    ],
                    "scatterternary": [
                      {
                        "marker": {
                          "colorbar": {
                            "outlinewidth": 0,
                            "ticks": ""
                          }
                        },
                        "type": "scatterternary"
                      }
                    ],
                    "surface": [
                      {
                        "colorbar": {
                          "outlinewidth": 0,
                          "ticks": ""
                        },
                        "colorscale": [
                          [
                            0,
                            "#0d0887"
                          ],
                          [
                            0.1111111111111111,
                            "#46039f"
                          ],
                          [
                            0.2222222222222222,
                            "#7201a8"
                          ],
                          [
                            0.3333333333333333,
                            "#9c179e"
                          ],
                          [
                            0.4444444444444444,
                            "#bd3786"
                          ],
                          [
                            0.5555555555555556,
                            "#d8576b"
                          ],
                          [
                            0.6666666666666666,
                            "#ed7953"
                          ],
                          [
                            0.7777777777777778,
                            "#fb9f3a"
                          ],
                          [
                            0.8888888888888888,
                            "#fdca26"
                          ],
                          [
                            1,
                            "#f0f921"
                          ]
                        ],
                        "type": "surface"
                      }
                    ],
                    "table": [
                      {
                        "cells": {
                          "fill": {
                            "color": "#EBF0F8"
                          },
                          "line": {
                            "color": "white"
                          }
                        },
                        "header": {
                          "fill": {
                            "color": "#C8D4E3"
                          },
                          "line": {
                            "color": "white"
                          }
                        },
                        "type": "table"
                      }
                    ]
                  },
                  "layout": {
                    "annotationdefaults": {
                      "arrowcolor": "#2a3f5f",
                      "arrowhead": 0,
                      "arrowwidth": 1
                    },
                    "autotypenumbers": "strict",
                    "coloraxis": {
                      "colorbar": {
                        "outlinewidth": 0,
                        "ticks": ""
                      }
                    },
                    "colorscale": {
                      "diverging": [
                        [
                          0,
                          "#8e0152"
                        ],
                        [
                          0.1,
                          "#c51b7d"
                        ],
                        [
                          0.2,
                          "#de77ae"
                        ],
                        [
                          0.3,
                          "#f1b6da"
                        ],
                        [
                          0.4,
                          "#fde0ef"
                        ],
                        [
                          0.5,
                          "#f7f7f7"
                        ],
                        [
                          0.6,
                          "#e6f5d0"
                        ],
                        [
                          0.7,
                          "#b8e186"
                        ],
                        [
                          0.8,
                          "#7fbc41"
                        ],
                        [
                          0.9,
                          "#4d9221"
                        ],
                        [
                          1,
                          "#276419"
                        ]
                      ],
                      "sequential": [
                        [
                          0,
                          "#0d0887"
                        ],
                        [
                          0.1111111111111111,
                          "#46039f"
                        ],
                        [
                          0.2222222222222222,
                          "#7201a8"
                        ],
                        [
                          0.3333333333333333,
                          "#9c179e"
                        ],
                        [
                          0.4444444444444444,
                          "#bd3786"
                        ],
                        [
                          0.5555555555555556,
                          "#d8576b"
                        ],
                        [
                          0.6666666666666666,
                          "#ed7953"
                        ],
                        [
                          0.7777777777777778,
                          "#fb9f3a"
                        ],
                        [
                          0.8888888888888888,
                          "#fdca26"
                        ],
                        [
                          1,
                          "#f0f921"
                        ]
                      ],
                      "sequentialminus": [
                        [
                          0,
                          "#0d0887"
                        ],
                        [
                          0.1111111111111111,
                          "#46039f"
                        ],
                        [
                          0.2222222222222222,
                          "#7201a8"
                        ],
                        [
                          0.3333333333333333,
                          "#9c179e"
                        ],
                        [
                          0.4444444444444444,
                          "#bd3786"
                        ],
                        [
                          0.5555555555555556,
                          "#d8576b"
                        ],
                        [
                          0.6666666666666666,
                          "#ed7953"
                        ],
                        [
                          0.7777777777777778,
                          "#fb9f3a"
                        ],
                        [
                          0.8888888888888888,
                          "#fdca26"
                        ],
                        [
                          1,
                          "#f0f921"
                        ]
                      ]
                    },
                    "colorway": [
                      "#636efa",
                      "#EF553B",
                      "#00cc96",
                      "#ab63fa",
                      "#FFA15A",
                      "#19d3f3",
                      "#FF6692",
                      "#B6E880",
                      "#FF97FF",
                      "#FECB52"
                    ],
                    "font": {
                      "color": "#2a3f5f"
                    },
                    "geo": {
                      "bgcolor": "white",
                      "lakecolor": "white",
                      "landcolor": "#E5ECF6",
                      "showlakes": true,
                      "showland": true,
                      "subunitcolor": "white"
                    },
                    "hoverlabel": {
                      "align": "left"
                    },
                    "hovermode": "closest",
                    "mapbox": {
                      "style": "light"
                    },
                    "paper_bgcolor": "white",
                    "plot_bgcolor": "#E5ECF6",
                    "polar": {
                      "angularaxis": {
                        "gridcolor": "white",
                        "linecolor": "white",
                        "ticks": ""
                      },
                      "bgcolor": "#E5ECF6",
                      "radialaxis": {
                        "gridcolor": "white",
                        "linecolor": "white",
                        "ticks": ""
                      }
                    },
                    "scene": {
                      "xaxis": {
                        "backgroundcolor": "#E5ECF6",
                        "gridcolor": "white",
                        "gridwidth": 2,
                        "linecolor": "white",
                        "showbackground": true,
                        "ticks": "",
                        "zerolinecolor": "white"
                      },
                      "yaxis": {
                        "backgroundcolor": "#E5ECF6",
                        "gridcolor": "white",
                        "gridwidth": 2,
                        "linecolor": "white",
                        "showbackground": true,
                        "ticks": "",
                        "zerolinecolor": "white"
                      },
                      "zaxis": {
                        "backgroundcolor": "#E5ECF6",
                        "gridcolor": "white",
                        "gridwidth": 2,
                        "linecolor": "white",
                        "showbackground": true,
                        "ticks": "",
                        "zerolinecolor": "white"
                      }
                    },
                    "shapedefaults": {
                      "line": {
                        "color": "#2a3f5f"
                      }
                    },
                    "ternary": {
                      "aaxis": {
                        "gridcolor": "white",
                        "linecolor": "white",
                        "ticks": ""
                      },
                      "baxis": {
                        "gridcolor": "white",
                        "linecolor": "white",
                        "ticks": ""
                      },
                      "bgcolor": "#E5ECF6",
                      "caxis": {
                        "gridcolor": "white",
                        "linecolor": "white",
                        "ticks": ""
                      }
                    },
                    "title": {
                      "x": 0.05
                    },
                    "xaxis": {
                      "automargin": true,
                      "gridcolor": "white",
                      "linecolor": "white",
                      "ticks": "",
                      "title": {
                        "standoff": 15
                      },
                      "zerolinecolor": "white",
                      "zerolinewidth": 2
                    },
                    "yaxis": {
                      "automargin": true,
                      "gridcolor": "white",
                      "linecolor": "white",
                      "ticks": "",
                      "title": {
                        "standoff": 15
                      },
                      "zerolinecolor": "white",
                      "zerolinewidth": 2
                    }
                  }
                },
                "title": {
                  "font": {
                    "color": "#4D5663"
                  },
                  "text": "Adjusted Close"
                },
                "xaxis": {
                  "gridcolor": "#E1E5ED",
                  "showgrid": true,
                  "tickfont": {
                    "color": "#4D5663"
                  },
                  "title": {
                    "font": {
                      "color": "#4D5663"
                    },
                    "text": ""
                  },
                  "zerolinecolor": "#E1E5ED"
                },
                "yaxis": {
                  "gridcolor": "#E1E5ED",
                  "showgrid": true,
                  "tickfont": {
                    "color": "#4D5663"
                  },
                  "title": {
                    "font": {
                      "color": "#4D5663"
                    },
                    "text": ""
                  },
                  "zerolinecolor": "#E1E5ED"
                }
              },
              "config": {
                "showLink": true,
                "linkText": "Export to plot.ly",
                "plotlyServerURL": "https://plot.ly"
              }
            },
            "text/html": [
              "<div>                            <div id=\"feeae48e-3076-48d7-bbcb-513fcf2b5145\" class=\"plotly-graph-div\" style=\"height:525px; width:100%;\"></div>            <script type=\"text/javascript\">                require([\"plotly\"], function(Plotly) {                    window.PLOTLYENV=window.PLOTLYENV || {};\n",
              "                    window.PLOTLYENV.BASE_URL='https://plot.ly';                                    if (document.getElementById(\"feeae48e-3076-48d7-bbcb-513fcf2b5145\")) {                    Plotly.newPlot(                        \"feeae48e-3076-48d7-bbcb-513fcf2b5145\",                        [{\"line\":{\"color\":\"rgba(0, 128, 0, 1.0)\",\"dash\":\"solid\",\"shape\":\"linear\",\"width\":1.3},\"mode\":\"lines\",\"name\":\"BALMLAWIRE\",\"text\":\"\",\"x\":[],\"y\":[],\"type\":\"scatter\"}],                        {\"legend\":{\"bgcolor\":\"#F5F6F9\",\"font\":{\"color\":\"#4D5663\"}},\"paper_bgcolor\":\"#F5F6F9\",\"plot_bgcolor\":\"#F5F6F9\",\"template\":{\"data\":{\"barpolar\":[{\"marker\":{\"line\":{\"color\":\"#E5ECF6\",\"width\":0.5},\"pattern\":{\"fillmode\":\"overlay\",\"size\":10,\"solidity\":0.2}},\"type\":\"barpolar\"}],\"bar\":[{\"error_x\":{\"color\":\"#2a3f5f\"},\"error_y\":{\"color\":\"#2a3f5f\"},\"marker\":{\"line\":{\"color\":\"#E5ECF6\",\"width\":0.5},\"pattern\":{\"fillmode\":\"overlay\",\"size\":10,\"solidity\":0.2}},\"type\":\"bar\"}],\"carpet\":[{\"aaxis\":{\"endlinecolor\":\"#2a3f5f\",\"gridcolor\":\"white\",\"linecolor\":\"white\",\"minorgridcolor\":\"white\",\"startlinecolor\":\"#2a3f5f\"},\"baxis\":{\"endlinecolor\":\"#2a3f5f\",\"gridcolor\":\"white\",\"linecolor\":\"white\",\"minorgridcolor\":\"white\",\"startlinecolor\":\"#2a3f5f\"},\"type\":\"carpet\"}],\"choropleth\":[{\"colorbar\":{\"outlinewidth\":0,\"ticks\":\"\"},\"type\":\"choropleth\"}],\"contourcarpet\":[{\"colorbar\":{\"outlinewidth\":0,\"ticks\":\"\"},\"type\":\"contourcarpet\"}],\"contour\":[{\"colorbar\":{\"outlinewidth\":0,\"ticks\":\"\"},\"colorscale\":[[0.0,\"#0d0887\"],[0.1111111111111111,\"#46039f\"],[0.2222222222222222,\"#7201a8\"],[0.3333333333333333,\"#9c179e\"],[0.4444444444444444,\"#bd3786\"],[0.5555555555555556,\"#d8576b\"],[0.6666666666666666,\"#ed7953\"],[0.7777777777777778,\"#fb9f3a\"],[0.8888888888888888,\"#fdca26\"],[1.0,\"#f0f921\"]],\"type\":\"contour\"}],\"heatmapgl\":[{\"colorbar\":{\"outlinewidth\":0,\"ticks\":\"\"},\"colorscale\":[[0.0,\"#0d0887\"],[0.1111111111111111,\"#46039f\"],[0.2222222222222222,\"#7201a8\"],[0.3333333333333333,\"#9c179e\"],[0.4444444444444444,\"#bd3786\"],[0.5555555555555556,\"#d8576b\"],[0.6666666666666666,\"#ed7953\"],[0.7777777777777778,\"#fb9f3a\"],[0.8888888888888888,\"#fdca26\"],[1.0,\"#f0f921\"]],\"type\":\"heatmapgl\"}],\"heatmap\":[{\"colorbar\":{\"outlinewidth\":0,\"ticks\":\"\"},\"colorscale\":[[0.0,\"#0d0887\"],[0.1111111111111111,\"#46039f\"],[0.2222222222222222,\"#7201a8\"],[0.3333333333333333,\"#9c179e\"],[0.4444444444444444,\"#bd3786\"],[0.5555555555555556,\"#d8576b\"],[0.6666666666666666,\"#ed7953\"],[0.7777777777777778,\"#fb9f3a\"],[0.8888888888888888,\"#fdca26\"],[1.0,\"#f0f921\"]],\"type\":\"heatmap\"}],\"histogram2dcontour\":[{\"colorbar\":{\"outlinewidth\":0,\"ticks\":\"\"},\"colorscale\":[[0.0,\"#0d0887\"],[0.1111111111111111,\"#46039f\"],[0.2222222222222222,\"#7201a8\"],[0.3333333333333333,\"#9c179e\"],[0.4444444444444444,\"#bd3786\"],[0.5555555555555556,\"#d8576b\"],[0.6666666666666666,\"#ed7953\"],[0.7777777777777778,\"#fb9f3a\"],[0.8888888888888888,\"#fdca26\"],[1.0,\"#f0f921\"]],\"type\":\"histogram2dcontour\"}],\"histogram2d\":[{\"colorbar\":{\"outlinewidth\":0,\"ticks\":\"\"},\"colorscale\":[[0.0,\"#0d0887\"],[0.1111111111111111,\"#46039f\"],[0.2222222222222222,\"#7201a8\"],[0.3333333333333333,\"#9c179e\"],[0.4444444444444444,\"#bd3786\"],[0.5555555555555556,\"#d8576b\"],[0.6666666666666666,\"#ed7953\"],[0.7777777777777778,\"#fb9f3a\"],[0.8888888888888888,\"#fdca26\"],[1.0,\"#f0f921\"]],\"type\":\"histogram2d\"}],\"histogram\":[{\"marker\":{\"pattern\":{\"fillmode\":\"overlay\",\"size\":10,\"solidity\":0.2}},\"type\":\"histogram\"}],\"mesh3d\":[{\"colorbar\":{\"outlinewidth\":0,\"ticks\":\"\"},\"type\":\"mesh3d\"}],\"parcoords\":[{\"line\":{\"colorbar\":{\"outlinewidth\":0,\"ticks\":\"\"}},\"type\":\"parcoords\"}],\"pie\":[{\"automargin\":true,\"type\":\"pie\"}],\"scatter3d\":[{\"line\":{\"colorbar\":{\"outlinewidth\":0,\"ticks\":\"\"}},\"marker\":{\"colorbar\":{\"outlinewidth\":0,\"ticks\":\"\"}},\"type\":\"scatter3d\"}],\"scattercarpet\":[{\"marker\":{\"colorbar\":{\"outlinewidth\":0,\"ticks\":\"\"}},\"type\":\"scattercarpet\"}],\"scattergeo\":[{\"marker\":{\"colorbar\":{\"outlinewidth\":0,\"ticks\":\"\"}},\"type\":\"scattergeo\"}],\"scattergl\":[{\"marker\":{\"colorbar\":{\"outlinewidth\":0,\"ticks\":\"\"}},\"type\":\"scattergl\"}],\"scattermapbox\":[{\"marker\":{\"colorbar\":{\"outlinewidth\":0,\"ticks\":\"\"}},\"type\":\"scattermapbox\"}],\"scatterpolargl\":[{\"marker\":{\"colorbar\":{\"outlinewidth\":0,\"ticks\":\"\"}},\"type\":\"scatterpolargl\"}],\"scatterpolar\":[{\"marker\":{\"colorbar\":{\"outlinewidth\":0,\"ticks\":\"\"}},\"type\":\"scatterpolar\"}],\"scatter\":[{\"fillpattern\":{\"fillmode\":\"overlay\",\"size\":10,\"solidity\":0.2},\"type\":\"scatter\"}],\"scatterternary\":[{\"marker\":{\"colorbar\":{\"outlinewidth\":0,\"ticks\":\"\"}},\"type\":\"scatterternary\"}],\"surface\":[{\"colorbar\":{\"outlinewidth\":0,\"ticks\":\"\"},\"colorscale\":[[0.0,\"#0d0887\"],[0.1111111111111111,\"#46039f\"],[0.2222222222222222,\"#7201a8\"],[0.3333333333333333,\"#9c179e\"],[0.4444444444444444,\"#bd3786\"],[0.5555555555555556,\"#d8576b\"],[0.6666666666666666,\"#ed7953\"],[0.7777777777777778,\"#fb9f3a\"],[0.8888888888888888,\"#fdca26\"],[1.0,\"#f0f921\"]],\"type\":\"surface\"}],\"table\":[{\"cells\":{\"fill\":{\"color\":\"#EBF0F8\"},\"line\":{\"color\":\"white\"}},\"header\":{\"fill\":{\"color\":\"#C8D4E3\"},\"line\":{\"color\":\"white\"}},\"type\":\"table\"}]},\"layout\":{\"annotationdefaults\":{\"arrowcolor\":\"#2a3f5f\",\"arrowhead\":0,\"arrowwidth\":1},\"autotypenumbers\":\"strict\",\"coloraxis\":{\"colorbar\":{\"outlinewidth\":0,\"ticks\":\"\"}},\"colorscale\":{\"diverging\":[[0,\"#8e0152\"],[0.1,\"#c51b7d\"],[0.2,\"#de77ae\"],[0.3,\"#f1b6da\"],[0.4,\"#fde0ef\"],[0.5,\"#f7f7f7\"],[0.6,\"#e6f5d0\"],[0.7,\"#b8e186\"],[0.8,\"#7fbc41\"],[0.9,\"#4d9221\"],[1,\"#276419\"]],\"sequential\":[[0.0,\"#0d0887\"],[0.1111111111111111,\"#46039f\"],[0.2222222222222222,\"#7201a8\"],[0.3333333333333333,\"#9c179e\"],[0.4444444444444444,\"#bd3786\"],[0.5555555555555556,\"#d8576b\"],[0.6666666666666666,\"#ed7953\"],[0.7777777777777778,\"#fb9f3a\"],[0.8888888888888888,\"#fdca26\"],[1.0,\"#f0f921\"]],\"sequentialminus\":[[0.0,\"#0d0887\"],[0.1111111111111111,\"#46039f\"],[0.2222222222222222,\"#7201a8\"],[0.3333333333333333,\"#9c179e\"],[0.4444444444444444,\"#bd3786\"],[0.5555555555555556,\"#d8576b\"],[0.6666666666666666,\"#ed7953\"],[0.7777777777777778,\"#fb9f3a\"],[0.8888888888888888,\"#fdca26\"],[1.0,\"#f0f921\"]]},\"colorway\":[\"#636efa\",\"#EF553B\",\"#00cc96\",\"#ab63fa\",\"#FFA15A\",\"#19d3f3\",\"#FF6692\",\"#B6E880\",\"#FF97FF\",\"#FECB52\"],\"font\":{\"color\":\"#2a3f5f\"},\"geo\":{\"bgcolor\":\"white\",\"lakecolor\":\"white\",\"landcolor\":\"#E5ECF6\",\"showlakes\":true,\"showland\":true,\"subunitcolor\":\"white\"},\"hoverlabel\":{\"align\":\"left\"},\"hovermode\":\"closest\",\"mapbox\":{\"style\":\"light\"},\"paper_bgcolor\":\"white\",\"plot_bgcolor\":\"#E5ECF6\",\"polar\":{\"angularaxis\":{\"gridcolor\":\"white\",\"linecolor\":\"white\",\"ticks\":\"\"},\"bgcolor\":\"#E5ECF6\",\"radialaxis\":{\"gridcolor\":\"white\",\"linecolor\":\"white\",\"ticks\":\"\"}},\"scene\":{\"xaxis\":{\"backgroundcolor\":\"#E5ECF6\",\"gridcolor\":\"white\",\"gridwidth\":2,\"linecolor\":\"white\",\"showbackground\":true,\"ticks\":\"\",\"zerolinecolor\":\"white\"},\"yaxis\":{\"backgroundcolor\":\"#E5ECF6\",\"gridcolor\":\"white\",\"gridwidth\":2,\"linecolor\":\"white\",\"showbackground\":true,\"ticks\":\"\",\"zerolinecolor\":\"white\"},\"zaxis\":{\"backgroundcolor\":\"#E5ECF6\",\"gridcolor\":\"white\",\"gridwidth\":2,\"linecolor\":\"white\",\"showbackground\":true,\"ticks\":\"\",\"zerolinecolor\":\"white\"}},\"shapedefaults\":{\"line\":{\"color\":\"#2a3f5f\"}},\"ternary\":{\"aaxis\":{\"gridcolor\":\"white\",\"linecolor\":\"white\",\"ticks\":\"\"},\"baxis\":{\"gridcolor\":\"white\",\"linecolor\":\"white\",\"ticks\":\"\"},\"bgcolor\":\"#E5ECF6\",\"caxis\":{\"gridcolor\":\"white\",\"linecolor\":\"white\",\"ticks\":\"\"}},\"title\":{\"x\":0.05},\"xaxis\":{\"automargin\":true,\"gridcolor\":\"white\",\"linecolor\":\"white\",\"ticks\":\"\",\"title\":{\"standoff\":15},\"zerolinecolor\":\"white\",\"zerolinewidth\":2},\"yaxis\":{\"automargin\":true,\"gridcolor\":\"white\",\"linecolor\":\"white\",\"ticks\":\"\",\"title\":{\"standoff\":15},\"zerolinecolor\":\"white\",\"zerolinewidth\":2}}},\"title\":{\"font\":{\"color\":\"#4D5663\"},\"text\":\"Adjusted Close\"},\"xaxis\":{\"gridcolor\":\"#E1E5ED\",\"showgrid\":true,\"tickfont\":{\"color\":\"#4D5663\"},\"title\":{\"font\":{\"color\":\"#4D5663\"},\"text\":\"\"},\"zerolinecolor\":\"#E1E5ED\"},\"yaxis\":{\"gridcolor\":\"#E1E5ED\",\"showgrid\":true,\"tickfont\":{\"color\":\"#4D5663\"},\"title\":{\"font\":{\"color\":\"#4D5663\"},\"text\":\"\"},\"zerolinecolor\":\"#E1E5ED\"}},                        {\"showLink\": true, \"linkText\": \"Export to plot.ly\", \"plotlyServerURL\": \"https://plot.ly\", \"responsive\": true}                    ).then(function(){\n",
              "                            \n",
              "var gd = document.getElementById('feeae48e-3076-48d7-bbcb-513fcf2b5145');\n",
              "var x = new MutationObserver(function (mutations, observer) {{\n",
              "        var display = window.getComputedStyle(gd).display;\n",
              "        if (!display || display === 'none') {{\n",
              "            console.log([gd, 'removed!']);\n",
              "            Plotly.purge(gd);\n",
              "            observer.disconnect();\n",
              "        }}\n",
              "}});\n",
              "\n",
              "// Listen for the removal of the full notebook cells\n",
              "var notebookContainer = gd.closest('#notebook-container');\n",
              "if (notebookContainer) {{\n",
              "    x.observe(notebookContainer, {childList: true});\n",
              "}}\n",
              "\n",
              "// Listen for the clearing of the current output cell\n",
              "var outputEl = gd.closest('.output');\n",
              "if (outputEl) {{\n",
              "    x.observe(outputEl, {childList: true});\n",
              "}}\n",
              "\n",
              "                        })                };                });            </script>        </div>"
            ]
          },
          "metadata": {}
        }
      ]
    },
    {
      "cell_type": "code",
      "source": [
        "# Download Balmlawrie stock data for analysis\n",
        "stock_data = yf.download(ticker.value, start=date.today() - relativedelta(months=+period.value), end=date.today())\n",
        "# Check if the DataFrame is empty\n",
        "if stock_data.empty:\n",
        "    print(\"Error: Stock data is empty. Check the ticker symbol and period.\")\n",
        "else:\n",
        "    # Ensure 'Adj Close' column is numeric\n",
        "    stock_data['Adj Close'] = pd.to_numeric(stock_data['Adj Close'], errors='coerce')\n",
        "    # Replace NaN values with 0 if any\n",
        "    stock_data['Adj Close'].fillna(0, inplace=True)\n",
        "    stock_data"
      ],
      "metadata": {
        "colab": {
          "base_uri": "https://localhost:8080/",
          "height": 0
        },
        "id": "7MjTifbS0GLa",
        "outputId": "01acda56-3154-41b9-eeb8-c8341a73ac63"
      },
      "execution_count": 9,
      "outputs": [
        {
          "output_type": "stream",
          "name": "stderr",
          "text": [
            "\r[*********************100%***********************]  1 of 1 completed\n",
            "ERROR:yfinance:\n",
            "1 Failed download:\n",
            "ERROR:yfinance:['BALMLAWIRE']: YFTzMissingError('possibly delisted; no timezone found')\n"
          ]
        },
        {
          "output_type": "stream",
          "name": "stdout",
          "text": [
            "Error: Stock data is empty. Check the ticker symbol and period.\n"
          ]
        }
      ]
    },
    {
      "cell_type": "code",
      "source": [
        "import cufflinks as cf\n",
        "import pandas as pd\n",
        "import yfinance as yf\n",
        "\n",
        "# Load stock data (for example, using Yahoo Finance)\n",
        "ticker = 'AAPL'  # Example ticker\n",
        "stock_data = yf.download(ticker, period='1y', interval='1d')\n",
        "\n",
        "# Ensure ticker.value is a string, not a tuple\n",
        "current_ticker = ticker if isinstance(ticker, str) else ticker[0]\n",
        "current_ticker = str(current_ticker)\n",
        "\n",
        "# Convert the MultiIndex column names to single-level strings\n",
        "stock_data.columns = ['_'.join(col).strip() for col in stock_data.columns.values]\n",
        "\n",
        "\n",
        "# Create Quantitative Figure (QuantFig)\n",
        "qf = cf.QuantFig(stock_data, title='Quantitative Figure', legend='top', name=current_ticker)\n",
        "\n",
        "# Add Simple Moving Averages (SMA)\n",
        "qf.add_sma([10, 20], width=2, color=['green', 'lightgreen'], legendgroup=True)\n",
        "\n",
        "# Add Bollinger Bands\n",
        "qf.add_bollinger_bands()\n",
        "\n",
        "# Add Volume\n",
        "qf.add_volume()\n",
        "\n",
        "# Render the plot\n",
        "qf.iplot()"
      ],
      "metadata": {
        "colab": {
          "base_uri": "https://localhost:8080/",
          "height": 559
        },
        "id": "11SiNKPK1h6u",
        "outputId": "0c82a2ca-6ebe-4fed-dba3-86de695d4367"
      },
      "execution_count": 10,
      "outputs": [
        {
          "output_type": "stream",
          "name": "stderr",
          "text": [
            "\r[*********************100%***********************]  1 of 1 completed\n"
          ]
        },
        {
          "output_type": "display_data",
          "data": {
            "application/vnd.plotly.v1+json": {
              "data": [
                {
                  "legendgroup": " SMA([10, 20])",
                  "line": {
                    "color": "rgba(0, 128, 0, 1.0)",
                    "dash": "solid",
                    "shape": "linear",
                    "width": 2
                  },
                  "mode": "lines",
                  "name": " SMA([10, 20])",
                  "showlegend": true,
                  "text": "",
                  "x": [
                    "2024-03-07",
                    "2024-03-08",
                    "2024-03-11",
                    "2024-03-12",
                    "2024-03-13",
                    "2024-03-14",
                    "2024-03-15",
                    "2024-03-18",
                    "2024-03-19",
                    "2024-03-20",
                    "2024-03-21",
                    "2024-03-22",
                    "2024-03-25",
                    "2024-03-26",
                    "2024-03-27",
                    "2024-03-28",
                    "2024-04-01",
                    "2024-04-02",
                    "2024-04-03",
                    "2024-04-04",
                    "2024-04-05",
                    "2024-04-08",
                    "2024-04-09",
                    "2024-04-10",
                    "2024-04-11",
                    "2024-04-12",
                    "2024-04-15",
                    "2024-04-16",
                    "2024-04-17",
                    "2024-04-18",
                    "2024-04-19",
                    "2024-04-22",
                    "2024-04-23",
                    "2024-04-24",
                    "2024-04-25",
                    "2024-04-26",
                    "2024-04-29",
                    "2024-04-30",
                    "2024-05-01",
                    "2024-05-02",
                    "2024-05-03",
                    "2024-05-06",
                    "2024-05-07",
                    "2024-05-08",
                    "2024-05-09",
                    "2024-05-10",
                    "2024-05-13",
                    "2024-05-14",
                    "2024-05-15",
                    "2024-05-16",
                    "2024-05-17",
                    "2024-05-20",
                    "2024-05-21",
                    "2024-05-22",
                    "2024-05-23",
                    "2024-05-24",
                    "2024-05-28",
                    "2024-05-29",
                    "2024-05-30",
                    "2024-05-31",
                    "2024-06-03",
                    "2024-06-04",
                    "2024-06-05",
                    "2024-06-06",
                    "2024-06-07",
                    "2024-06-10",
                    "2024-06-11",
                    "2024-06-12",
                    "2024-06-13",
                    "2024-06-14",
                    "2024-06-17",
                    "2024-06-18",
                    "2024-06-20",
                    "2024-06-21",
                    "2024-06-24",
                    "2024-06-25",
                    "2024-06-26",
                    "2024-06-27",
                    "2024-06-28",
                    "2024-07-01",
                    "2024-07-02",
                    "2024-07-03",
                    "2024-07-05",
                    "2024-07-08",
                    "2024-07-09",
                    "2024-07-10",
                    "2024-07-11",
                    "2024-07-12",
                    "2024-07-15",
                    "2024-07-16",
                    "2024-07-17",
                    "2024-07-18",
                    "2024-07-19",
                    "2024-07-22",
                    "2024-07-23",
                    "2024-07-24",
                    "2024-07-25",
                    "2024-07-26",
                    "2024-07-29",
                    "2024-07-30",
                    "2024-07-31",
                    "2024-08-01",
                    "2024-08-02",
                    "2024-08-05",
                    "2024-08-06",
                    "2024-08-07",
                    "2024-08-08",
                    "2024-08-09",
                    "2024-08-12",
                    "2024-08-13",
                    "2024-08-14",
                    "2024-08-15",
                    "2024-08-16",
                    "2024-08-19",
                    "2024-08-20",
                    "2024-08-21",
                    "2024-08-22",
                    "2024-08-23",
                    "2024-08-26",
                    "2024-08-27",
                    "2024-08-28",
                    "2024-08-29",
                    "2024-08-30",
                    "2024-09-03",
                    "2024-09-04",
                    "2024-09-05",
                    "2024-09-06",
                    "2024-09-09",
                    "2024-09-10",
                    "2024-09-11",
                    "2024-09-12",
                    "2024-09-13",
                    "2024-09-16",
                    "2024-09-17",
                    "2024-09-18",
                    "2024-09-19",
                    "2024-09-20",
                    "2024-09-23",
                    "2024-09-24",
                    "2024-09-25",
                    "2024-09-26",
                    "2024-09-27",
                    "2024-09-30",
                    "2024-10-01",
                    "2024-10-02",
                    "2024-10-03",
                    "2024-10-04",
                    "2024-10-07",
                    "2024-10-08",
                    "2024-10-09",
                    "2024-10-10",
                    "2024-10-11",
                    "2024-10-14",
                    "2024-10-15",
                    "2024-10-16",
                    "2024-10-17",
                    "2024-10-18",
                    "2024-10-21",
                    "2024-10-22",
                    "2024-10-23",
                    "2024-10-24",
                    "2024-10-25",
                    "2024-10-28",
                    "2024-10-29",
                    "2024-10-30",
                    "2024-10-31",
                    "2024-11-01",
                    "2024-11-04",
                    "2024-11-05",
                    "2024-11-06",
                    "2024-11-07",
                    "2024-11-08",
                    "2024-11-11",
                    "2024-11-12",
                    "2024-11-13",
                    "2024-11-14",
                    "2024-11-15",
                    "2024-11-18",
                    "2024-11-19",
                    "2024-11-20",
                    "2024-11-21",
                    "2024-11-22",
                    "2024-11-25",
                    "2024-11-26",
                    "2024-11-27",
                    "2024-11-29",
                    "2024-12-02",
                    "2024-12-03",
                    "2024-12-04",
                    "2024-12-05",
                    "2024-12-06",
                    "2024-12-09",
                    "2024-12-10",
                    "2024-12-11",
                    "2024-12-12",
                    "2024-12-13",
                    "2024-12-16",
                    "2024-12-17",
                    "2024-12-18",
                    "2024-12-19",
                    "2024-12-20",
                    "2024-12-23",
                    "2024-12-24",
                    "2024-12-26",
                    "2024-12-27",
                    "2024-12-30",
                    "2024-12-31",
                    "2025-01-02",
                    "2025-01-03",
                    "2025-01-06",
                    "2025-01-07",
                    "2025-01-08",
                    "2025-01-10",
                    "2025-01-13",
                    "2025-01-14",
                    "2025-01-15",
                    "2025-01-16",
                    "2025-01-17",
                    "2025-01-21",
                    "2025-01-22",
                    "2025-01-23",
                    "2025-01-24",
                    "2025-01-27",
                    "2025-01-28",
                    "2025-01-29",
                    "2025-01-30",
                    "2025-01-31",
                    "2025-02-03",
                    "2025-02-04",
                    "2025-02-05",
                    "2025-02-06",
                    "2025-02-07",
                    "2025-02-10",
                    "2025-02-11",
                    "2025-02-12",
                    "2025-02-13",
                    "2025-02-14",
                    "2025-02-18",
                    "2025-02-19",
                    "2025-02-20",
                    "2025-02-21",
                    "2025-02-24",
                    "2025-02-25",
                    "2025-02-26",
                    "2025-02-27",
                    "2025-02-28",
                    "2025-03-03",
                    "2025-03-04",
                    "2025-03-05",
                    "2025-03-06",
                    "2025-03-07"
                  ],
                  "y": [
                    "",
                    "",
                    "",
                    "",
                    "",
                    "",
                    "",
                    "",
                    "",
                    172.27952270507814,
                    172.51540832519532,
                    172.6696807861328,
                    172.48057403564454,
                    172.1302291870117,
                    172.34720458984376,
                    172.19591827392577,
                    171.93813781738282,
                    171.45242919921876,
                    170.81244964599608,
                    169.83208160400392,
                    169.65392150878907,
                    169.27272033691406,
                    169.1552734375,
                    168.9631790161133,
                    169.13536376953124,
                    169.63998413085938,
                    169.90473327636718,
                    169.95848236083984,
                    169.79425964355468,
                    169.61709289550782,
                    169.16124725341797,
                    168.90147399902344,
                    168.6257766723633,
                    168.7491943359375,
                    168.2366165161133,
                    167.51502075195313,
                    167.59563903808595,
                    167.69019012451173,
                    167.8195770263672,
                    168.41576385498047,
                    170.24512634277343,
                    171.82466888427734,
                    173.3673828125,
                    174.7329360961914,
                    176.19403839111328,
                    177.58729095458983,
                    178.88443298339843,
                    180.61169891357423,
                    182.66971740722656,
                    184.36844482421876,
                    185.04002532958984,
                    185.9944305419922,
                    187.01072387695314,
                    187.8486587524414,
                    188.10380096435546,
                    188.7944778442383,
                    189.16423492431642,
                    189.44927978515625,
                    189.60575256347656,
                    189.8459457397461,
                    190.26055297851562,
                    190.59044342041017,
                    190.9412628173828,
                    191.29806365966797,
                    192.29570922851562,
                    192.60865631103516,
                    194.31890869140625,
                    196.5892791748047,
                    198.87659149169923,
                    200.89381103515626,
                    203.15022735595704,
                    205.1375473022461,
                    206.51392059326173,
                    207.81056518554686,
                    208.93179779052736,
                    210.52145690917968,
                    211.1294143676758,
                    211.23206939697266,
                    210.87128143310548,
                    211.2958541870117,
                    211.65464935302734,
                    212.3782196044922,
                    214.03863983154298,
                    216.06482849121093,
                    218.11194610595703,
                    220.49493713378905,
                    221.9221405029297,
                    223.56063079833984,
                    225.9306655883789,
                    227.7316131591797,
                    228.58972778320313,
                    228.85184478759766,
                    228.64952545166017,
                    228.2648178100586,
                    227.8990493774414,
                    226.4598846435547,
                    225.45526123046875,
                    224.20147552490235,
                    222.59088897705078,
                    220.99425659179687,
                    220.31653442382813,
                    219.73648376464843,
                    219.29297485351563,
                    217.82889556884766,
                    216.05684967041014,
                    215.18777160644532,
                    214.77117004394532,
                    214.59974822998046,
                    214.5540802001953,
                    214.82577819824218,
                    214.8154769897461,
                    215.47527160644532,
                    216.11827545166017,
                    217.80076599121094,
                    219.7484390258789,
                    221.4270034790039,
                    222.5711471557617,
                    223.6537628173828,
                    224.61664276123048,
                    225.2911575317383,
                    225.7671096801758,
                    226.2729965209961,
                    226.56734771728514,
                    226.25603485107422,
                    225.69127807617187,
                    225.2901611328125,
                    224.91997680664062,
                    224.32828063964843,
                    223.62283325195312,
                    223.0870132446289,
                    222.71583099365233,
                    221.98843078613282,
                    220.72321624755858,
                    220.12652740478515,
                    220.11056213378907,
                    220.7581359863281,
                    221.49451446533203,
                    222.0492919921875,
                    222.77369842529296,
                    223.14388275146484,
                    223.61783905029296,
                    224.1456771850586,
                    225.8100128173828,
                    226.74994506835938,
                    227.35760650634765,
                    227.0383087158203,
                    226.89861755371095,
                    226.42166900634766,
                    226.26202087402345,
                    226.5783248901367,
                    226.72998962402343,
                    226.70604400634767,
                    226.53641815185546,
                    227.29874114990236,
                    227.79764404296876,
                    228.44422149658203,
                    229.26242065429688,
                    230.73817138671876,
                    231.74495544433594,
                    231.86668701171874,
                    232.01935272216798,
                    232.40450439453124,
                    232.61404266357422,
                    232.59608154296876,
                    232.42845153808594,
                    231.80582275390626,
                    230.59947814941407,
                    229.15565490722656,
                    227.9173797607422,
                    227.11514587402343,
                    226.80682373046875,
                    226.3877166748047,
                    225.49734649658203,
                    224.5800354003906,
                    224.10784149169922,
                    224.36338806152344,
                    224.59662780761718,
                    225.22134094238282,
                    225.72834014892578,
                    226.38009948730468,
                    226.5089584350586,
                    226.7996383666992,
                    227.66268920898438,
                    228.74449920654297,
                    229.72442169189452,
                    230.6344207763672,
                    232.0918182373047,
                    233.55321044921874,
                    235.02459259033202,
                    236.42705078125,
                    237.85747680664062,
                    239.5436233520508,
                    241.03198699951173,
                    242.1737319946289,
                    243.47530212402344,
                    244.55411529541016,
                    245.69785766601564,
                    246.77966766357423,
                    247.28311462402343,
                    247.957373046875,
                    249.1210952758789,
                    249.97216033935547,
                    251.0140167236328,
                    252.26563873291016,
                    253.02779998779297,
                    253.43435363769532,
                    253.37242279052734,
                    252.41048278808594,
                    251.94199829101564,
                    251.463525390625,
                    250.23687438964845,
                    248.98125305175782,
                    246.84859619140624,
                    244.3893020629883,
                    242.16075134277344,
                    240.7293243408203,
                    238.51575775146483,
                    237.13027954101562,
                    235.06055450439453,
                    232.9458786010742,
                    231.0929153442383,
                    229.1031036376953,
                    228.40487060546874,
                    228.79044647216796,
                    229.3977798461914,
                    229.36981048583985,
                    230.14296112060546,
                    229.94617767333983,
                    230.9610626220703,
                    231.82411499023436,
                    232.77906494140626,
                    233.26353302001954,
                    233.06777801513672,
                    232.52994537353516,
                    232.30723266601564,
                    232.72732696533203,
                    233.61324615478514,
                    235.28428802490234,
                    236.51685485839843,
                    237.87838592529297,
                    239.13699951171876,
                    241.10899963378907,
                    243.0479995727539,
                    243.8220001220703,
                    243.86500091552733,
                    243.89600067138673,
                    243.23899993896484,
                    242.38499908447267,
                    241.4720001220703,
                    240.4220001220703,
                    239.78399963378905
                  ],
                  "yaxis": "y2",
                  "type": "scatter"
                },
                {
                  "legendgroup": " SMA([10, 20])",
                  "line": {
                    "color": "rgba(144, 238, 144, 1.0)",
                    "dash": "solid",
                    "shape": "linear",
                    "width": 2
                  },
                  "mode": "lines",
                  "name": " SMA(20)",
                  "showlegend": false,
                  "text": "",
                  "x": [
                    "2024-03-07",
                    "2024-03-08",
                    "2024-03-11",
                    "2024-03-12",
                    "2024-03-13",
                    "2024-03-14",
                    "2024-03-15",
                    "2024-03-18",
                    "2024-03-19",
                    "2024-03-20",
                    "2024-03-21",
                    "2024-03-22",
                    "2024-03-25",
                    "2024-03-26",
                    "2024-03-27",
                    "2024-03-28",
                    "2024-04-01",
                    "2024-04-02",
                    "2024-04-03",
                    "2024-04-04",
                    "2024-04-05",
                    "2024-04-08",
                    "2024-04-09",
                    "2024-04-10",
                    "2024-04-11",
                    "2024-04-12",
                    "2024-04-15",
                    "2024-04-16",
                    "2024-04-17",
                    "2024-04-18",
                    "2024-04-19",
                    "2024-04-22",
                    "2024-04-23",
                    "2024-04-24",
                    "2024-04-25",
                    "2024-04-26",
                    "2024-04-29",
                    "2024-04-30",
                    "2024-05-01",
                    "2024-05-02",
                    "2024-05-03",
                    "2024-05-06",
                    "2024-05-07",
                    "2024-05-08",
                    "2024-05-09",
                    "2024-05-10",
                    "2024-05-13",
                    "2024-05-14",
                    "2024-05-15",
                    "2024-05-16",
                    "2024-05-17",
                    "2024-05-20",
                    "2024-05-21",
                    "2024-05-22",
                    "2024-05-23",
                    "2024-05-24",
                    "2024-05-28",
                    "2024-05-29",
                    "2024-05-30",
                    "2024-05-31",
                    "2024-06-03",
                    "2024-06-04",
                    "2024-06-05",
                    "2024-06-06",
                    "2024-06-07",
                    "2024-06-10",
                    "2024-06-11",
                    "2024-06-12",
                    "2024-06-13",
                    "2024-06-14",
                    "2024-06-17",
                    "2024-06-18",
                    "2024-06-20",
                    "2024-06-21",
                    "2024-06-24",
                    "2024-06-25",
                    "2024-06-26",
                    "2024-06-27",
                    "2024-06-28",
                    "2024-07-01",
                    "2024-07-02",
                    "2024-07-03",
                    "2024-07-05",
                    "2024-07-08",
                    "2024-07-09",
                    "2024-07-10",
                    "2024-07-11",
                    "2024-07-12",
                    "2024-07-15",
                    "2024-07-16",
                    "2024-07-17",
                    "2024-07-18",
                    "2024-07-19",
                    "2024-07-22",
                    "2024-07-23",
                    "2024-07-24",
                    "2024-07-25",
                    "2024-07-26",
                    "2024-07-29",
                    "2024-07-30",
                    "2024-07-31",
                    "2024-08-01",
                    "2024-08-02",
                    "2024-08-05",
                    "2024-08-06",
                    "2024-08-07",
                    "2024-08-08",
                    "2024-08-09",
                    "2024-08-12",
                    "2024-08-13",
                    "2024-08-14",
                    "2024-08-15",
                    "2024-08-16",
                    "2024-08-19",
                    "2024-08-20",
                    "2024-08-21",
                    "2024-08-22",
                    "2024-08-23",
                    "2024-08-26",
                    "2024-08-27",
                    "2024-08-28",
                    "2024-08-29",
                    "2024-08-30",
                    "2024-09-03",
                    "2024-09-04",
                    "2024-09-05",
                    "2024-09-06",
                    "2024-09-09",
                    "2024-09-10",
                    "2024-09-11",
                    "2024-09-12",
                    "2024-09-13",
                    "2024-09-16",
                    "2024-09-17",
                    "2024-09-18",
                    "2024-09-19",
                    "2024-09-20",
                    "2024-09-23",
                    "2024-09-24",
                    "2024-09-25",
                    "2024-09-26",
                    "2024-09-27",
                    "2024-09-30",
                    "2024-10-01",
                    "2024-10-02",
                    "2024-10-03",
                    "2024-10-04",
                    "2024-10-07",
                    "2024-10-08",
                    "2024-10-09",
                    "2024-10-10",
                    "2024-10-11",
                    "2024-10-14",
                    "2024-10-15",
                    "2024-10-16",
                    "2024-10-17",
                    "2024-10-18",
                    "2024-10-21",
                    "2024-10-22",
                    "2024-10-23",
                    "2024-10-24",
                    "2024-10-25",
                    "2024-10-28",
                    "2024-10-29",
                    "2024-10-30",
                    "2024-10-31",
                    "2024-11-01",
                    "2024-11-04",
                    "2024-11-05",
                    "2024-11-06",
                    "2024-11-07",
                    "2024-11-08",
                    "2024-11-11",
                    "2024-11-12",
                    "2024-11-13",
                    "2024-11-14",
                    "2024-11-15",
                    "2024-11-18",
                    "2024-11-19",
                    "2024-11-20",
                    "2024-11-21",
                    "2024-11-22",
                    "2024-11-25",
                    "2024-11-26",
                    "2024-11-27",
                    "2024-11-29",
                    "2024-12-02",
                    "2024-12-03",
                    "2024-12-04",
                    "2024-12-05",
                    "2024-12-06",
                    "2024-12-09",
                    "2024-12-10",
                    "2024-12-11",
                    "2024-12-12",
                    "2024-12-13",
                    "2024-12-16",
                    "2024-12-17",
                    "2024-12-18",
                    "2024-12-19",
                    "2024-12-20",
                    "2024-12-23",
                    "2024-12-24",
                    "2024-12-26",
                    "2024-12-27",
                    "2024-12-30",
                    "2024-12-31",
                    "2025-01-02",
                    "2025-01-03",
                    "2025-01-06",
                    "2025-01-07",
                    "2025-01-08",
                    "2025-01-10",
                    "2025-01-13",
                    "2025-01-14",
                    "2025-01-15",
                    "2025-01-16",
                    "2025-01-17",
                    "2025-01-21",
                    "2025-01-22",
                    "2025-01-23",
                    "2025-01-24",
                    "2025-01-27",
                    "2025-01-28",
                    "2025-01-29",
                    "2025-01-30",
                    "2025-01-31",
                    "2025-02-03",
                    "2025-02-04",
                    "2025-02-05",
                    "2025-02-06",
                    "2025-02-07",
                    "2025-02-10",
                    "2025-02-11",
                    "2025-02-12",
                    "2025-02-13",
                    "2025-02-14",
                    "2025-02-18",
                    "2025-02-19",
                    "2025-02-20",
                    "2025-02-21",
                    "2025-02-24",
                    "2025-02-25",
                    "2025-02-26",
                    "2025-02-27",
                    "2025-02-28",
                    "2025-03-03",
                    "2025-03-04",
                    "2025-03-05",
                    "2025-03-06",
                    "2025-03-07"
                  ],
                  "y": [
                    "",
                    "",
                    "",
                    "",
                    "",
                    "",
                    "",
                    "",
                    "",
                    "",
                    "",
                    "",
                    "",
                    "",
                    "",
                    "",
                    "",
                    "",
                    "",
                    171.05580215454103,
                    171.08466491699218,
                    170.97120056152343,
                    170.81792373657225,
                    170.5467041015625,
                    170.7412841796875,
                    170.91795120239257,
                    170.921435546875,
                    170.7054557800293,
                    170.3033546447754,
                    169.72458724975587,
                    169.4075843811035,
                    169.08709716796875,
                    168.89052505493163,
                    168.8561866760254,
                    168.68599014282228,
                    168.57750244140624,
                    168.75018615722655,
                    168.82433624267577,
                    168.80691833496093,
                    169.01642837524415,
                    169.70318679809571,
                    170.3630714416504,
                    170.99657974243163,
                    171.74106521606444,
                    172.21532745361327,
                    172.5511558532715,
                    173.2400360107422,
                    174.15094451904298,
                    175.24464721679686,
                    176.3921043395996,
                    177.64257583618163,
                    178.90954971313477,
                    180.18905334472657,
                    181.2907974243164,
                    182.14891967773437,
                    183.19088439941407,
                    184.02433395385742,
                    185.03048934936524,
                    186.13773498535156,
                    187.10719528198243,
                    187.65028915405273,
                    188.29243698120118,
                    188.97599334716796,
                    189.5733612060547,
                    190.19975509643555,
                    190.70156707763672,
                    191.74157180786133,
                    193.01927947998047,
                    194.24117202758788,
                    195.36987838745117,
                    196.70539016723632,
                    197.86399536132814,
                    198.72759170532225,
                    199.55431442260743,
                    200.61375350952147,
                    201.56505661010743,
                    202.72416152954102,
                    203.91067428588866,
                    204.87393646240236,
                    206.09483261108397,
                    207.40243835449218,
                    208.75788345336915,
                    210.27628021240236,
                    211.9376968383789,
                    213.5218719482422,
                    215.50819702148436,
                    216.52577743530273,
                    217.39635009765624,
                    218.40097351074218,
                    219.51373367309571,
                    220.12218856811523,
                    220.61503219604492,
                    221.34408264160157,
                    222.16482315063476,
                    223.00549774169923,
                    223.47741088867187,
                    223.6887008666992,
                    223.88105316162108,
                    224.26077728271486,
                    224.3629348754883,
                    224.45313110351563,
                    224.29416427612304,
                    223.97125015258788,
                    223.04685668945314,
                    221.9779495239258,
                    220.823828125,
                    220.11321563720702,
                    219.4006118774414,
                    218.57248458862304,
                    217.91001739501954,
                    217.5660057067871,
                    217.6058776855469,
                    217.70562515258788,
                    217.8148307800293,
                    217.90264434814452,
                    218.3073875427246,
                    218.67115859985353,
                    219.12675552368165,
                    219.5853614807129,
                    220.05846786499023,
                    220.29129333496093,
                    220.8741340637207,
                    221.34281158447266,
                    222.02840042114258,
                    222.7198585510254,
                    223.35858230590821,
                    223.74556198120118,
                    223.99102172851562,
                    224.1197380065918,
                    224.1890853881836,
                    224.24147033691406,
                    224.13071365356444,
                    223.64528198242186,
                    223.1912811279297,
                    222.90092010498046,
                    223.0241485595703,
                    223.20724563598634,
                    223.18878631591798,
                    223.19826583862306,
                    223.11544799804688,
                    223.16683502197264,
                    223.0670539855957,
                    223.2666145324707,
                    223.43823623657227,
                    223.73408432006835,
                    223.89822235107422,
                    224.1965660095215,
                    224.23548049926757,
                    224.5178596496582,
                    224.8611038208008,
                    225.1739143371582,
                    225.4258605957031,
                    226.17321548461913,
                    227.02434310913085,
                    227.5776252746582,
                    227.74126510620118,
                    228.0805191040039,
                    228.5799201965332,
                    229.00348815917968,
                    229.22250595092774,
                    229.3746711730957,
                    229.55527420043944,
                    229.57523040771486,
                    229.94741134643556,
                    230.11304779052733,
                    230.12502212524413,
                    229.93094940185546,
                    229.94691314697266,
                    229.83116760253907,
                    229.49091644287108,
                    229.41308822631837,
                    229.39611053466797,
                    229.05569458007812,
                    228.5880584716797,
                    228.26814651489258,
                    228.08460540771483,
                    227.59805297851562,
                    227.1884979248047,
                    226.82285995483397,
                    226.74762268066405,
                    226.65789108276368,
                    226.59367752075195,
                    226.58001785278321,
                    226.6622673034668,
                    226.91613159179687,
                    227.4989044189453,
                    228.34422302246094,
                    229.38727569580078,
                    230.3764663696289,
                    231.40357513427733,
                    232.1832176208496,
                    233.171630859375,
                    234.34733810424805,
                    235.45911560058593,
                    236.599861907959,
                    237.59426803588866,
                    238.89483795166015,
                    240.16643905639648,
                    241.15385360717772,
                    242.1922119140625,
                    243.48928604125976,
                    244.7578918457031,
                    246.02300186157225,
                    247.21968536376954,
                    248.2515510559082,
                    248.99423446655274,
                    249.53514022827147,
                    249.59507522583007,
                    249.61255645751953,
                    249.71044921875,
                    249.67898483276366,
                    249.47670669555663,
                    248.93130645751953,
                    248.3274703979492,
                    247.5942756652832,
                    247.08183898925782,
                    245.9440902709961,
                    244.77038116455077,
                    243.50127639770508,
                    242.2047019958496,
                    240.66489486694337,
                    239.04217834472655,
                    237.6267333984375,
                    236.58987426757812,
                    235.7792655944824,
                    235.04956741333007,
                    234.32935943603516,
                    233.53822860717773,
                    233.01080856323242,
                    232.3849967956543,
                    231.93599014282228,
                    231.1833183288574,
                    230.73632431030273,
                    230.66019592285156,
                    230.8525062561035,
                    231.04856872558594,
                    231.87810363769532,
                    232.6152328491211,
                    233.73895874023438,
                    234.85125045776368,
                    235.9580322265625,
                    237.1862663269043,
                    238.05788879394532,
                    238.17597274780275,
                    238.08611679077148,
                    238.31166381835936,
                    238.426123046875,
                    238.8346435546875,
                    238.9944274902344,
                    239.15019302368165,
                    239.46049957275392
                  ],
                  "yaxis": "y2",
                  "type": "scatter"
                },
                {
                  "legendgroup": "BOLL(Close_AAPL,20)",
                  "line": {
                    "color": "rgba(55, 128, 191, 1.0)",
                    "dash": "solid",
                    "shape": "linear",
                    "width": 1.3
                  },
                  "mode": "lines",
                  "name": "BOLL(Close_AAPL,20)",
                  "showlegend": true,
                  "text": "",
                  "x": [
                    "2024-03-07",
                    "2024-03-08",
                    "2024-03-11",
                    "2024-03-12",
                    "2024-03-13",
                    "2024-03-14",
                    "2024-03-15",
                    "2024-03-18",
                    "2024-03-19",
                    "2024-03-20",
                    "2024-03-21",
                    "2024-03-22",
                    "2024-03-25",
                    "2024-03-26",
                    "2024-03-27",
                    "2024-03-28",
                    "2024-04-01",
                    "2024-04-02",
                    "2024-04-03",
                    "2024-04-04",
                    "2024-04-05",
                    "2024-04-08",
                    "2024-04-09",
                    "2024-04-10",
                    "2024-04-11",
                    "2024-04-12",
                    "2024-04-15",
                    "2024-04-16",
                    "2024-04-17",
                    "2024-04-18",
                    "2024-04-19",
                    "2024-04-22",
                    "2024-04-23",
                    "2024-04-24",
                    "2024-04-25",
                    "2024-04-26",
                    "2024-04-29",
                    "2024-04-30",
                    "2024-05-01",
                    "2024-05-02",
                    "2024-05-03",
                    "2024-05-06",
                    "2024-05-07",
                    "2024-05-08",
                    "2024-05-09",
                    "2024-05-10",
                    "2024-05-13",
                    "2024-05-14",
                    "2024-05-15",
                    "2024-05-16",
                    "2024-05-17",
                    "2024-05-20",
                    "2024-05-21",
                    "2024-05-22",
                    "2024-05-23",
                    "2024-05-24",
                    "2024-05-28",
                    "2024-05-29",
                    "2024-05-30",
                    "2024-05-31",
                    "2024-06-03",
                    "2024-06-04",
                    "2024-06-05",
                    "2024-06-06",
                    "2024-06-07",
                    "2024-06-10",
                    "2024-06-11",
                    "2024-06-12",
                    "2024-06-13",
                    "2024-06-14",
                    "2024-06-17",
                    "2024-06-18",
                    "2024-06-20",
                    "2024-06-21",
                    "2024-06-24",
                    "2024-06-25",
                    "2024-06-26",
                    "2024-06-27",
                    "2024-06-28",
                    "2024-07-01",
                    "2024-07-02",
                    "2024-07-03",
                    "2024-07-05",
                    "2024-07-08",
                    "2024-07-09",
                    "2024-07-10",
                    "2024-07-11",
                    "2024-07-12",
                    "2024-07-15",
                    "2024-07-16",
                    "2024-07-17",
                    "2024-07-18",
                    "2024-07-19",
                    "2024-07-22",
                    "2024-07-23",
                    "2024-07-24",
                    "2024-07-25",
                    "2024-07-26",
                    "2024-07-29",
                    "2024-07-30",
                    "2024-07-31",
                    "2024-08-01",
                    "2024-08-02",
                    "2024-08-05",
                    "2024-08-06",
                    "2024-08-07",
                    "2024-08-08",
                    "2024-08-09",
                    "2024-08-12",
                    "2024-08-13",
                    "2024-08-14",
                    "2024-08-15",
                    "2024-08-16",
                    "2024-08-19",
                    "2024-08-20",
                    "2024-08-21",
                    "2024-08-22",
                    "2024-08-23",
                    "2024-08-26",
                    "2024-08-27",
                    "2024-08-28",
                    "2024-08-29",
                    "2024-08-30",
                    "2024-09-03",
                    "2024-09-04",
                    "2024-09-05",
                    "2024-09-06",
                    "2024-09-09",
                    "2024-09-10",
                    "2024-09-11",
                    "2024-09-12",
                    "2024-09-13",
                    "2024-09-16",
                    "2024-09-17",
                    "2024-09-18",
                    "2024-09-19",
                    "2024-09-20",
                    "2024-09-23",
                    "2024-09-24",
                    "2024-09-25",
                    "2024-09-26",
                    "2024-09-27",
                    "2024-09-30",
                    "2024-10-01",
                    "2024-10-02",
                    "2024-10-03",
                    "2024-10-04",
                    "2024-10-07",
                    "2024-10-08",
                    "2024-10-09",
                    "2024-10-10",
                    "2024-10-11",
                    "2024-10-14",
                    "2024-10-15",
                    "2024-10-16",
                    "2024-10-17",
                    "2024-10-18",
                    "2024-10-21",
                    "2024-10-22",
                    "2024-10-23",
                    "2024-10-24",
                    "2024-10-25",
                    "2024-10-28",
                    "2024-10-29",
                    "2024-10-30",
                    "2024-10-31",
                    "2024-11-01",
                    "2024-11-04",
                    "2024-11-05",
                    "2024-11-06",
                    "2024-11-07",
                    "2024-11-08",
                    "2024-11-11",
                    "2024-11-12",
                    "2024-11-13",
                    "2024-11-14",
                    "2024-11-15",
                    "2024-11-18",
                    "2024-11-19",
                    "2024-11-20",
                    "2024-11-21",
                    "2024-11-22",
                    "2024-11-25",
                    "2024-11-26",
                    "2024-11-27",
                    "2024-11-29",
                    "2024-12-02",
                    "2024-12-03",
                    "2024-12-04",
                    "2024-12-05",
                    "2024-12-06",
                    "2024-12-09",
                    "2024-12-10",
                    "2024-12-11",
                    "2024-12-12",
                    "2024-12-13",
                    "2024-12-16",
                    "2024-12-17",
                    "2024-12-18",
                    "2024-12-19",
                    "2024-12-20",
                    "2024-12-23",
                    "2024-12-24",
                    "2024-12-26",
                    "2024-12-27",
                    "2024-12-30",
                    "2024-12-31",
                    "2025-01-02",
                    "2025-01-03",
                    "2025-01-06",
                    "2025-01-07",
                    "2025-01-08",
                    "2025-01-10",
                    "2025-01-13",
                    "2025-01-14",
                    "2025-01-15",
                    "2025-01-16",
                    "2025-01-17",
                    "2025-01-21",
                    "2025-01-22",
                    "2025-01-23",
                    "2025-01-24",
                    "2025-01-27",
                    "2025-01-28",
                    "2025-01-29",
                    "2025-01-30",
                    "2025-01-31",
                    "2025-02-03",
                    "2025-02-04",
                    "2025-02-05",
                    "2025-02-06",
                    "2025-02-07",
                    "2025-02-10",
                    "2025-02-11",
                    "2025-02-12",
                    "2025-02-13",
                    "2025-02-14",
                    "2025-02-18",
                    "2025-02-19",
                    "2025-02-20",
                    "2025-02-21",
                    "2025-02-24",
                    "2025-02-25",
                    "2025-02-26",
                    "2025-02-27",
                    "2025-02-28",
                    "2025-03-03",
                    "2025-03-04",
                    "2025-03-05",
                    "2025-03-06",
                    "2025-03-07"
                  ],
                  "y": [
                    "",
                    "",
                    "",
                    "",
                    "",
                    "",
                    "",
                    "",
                    "",
                    "",
                    "",
                    "",
                    "",
                    "",
                    "",
                    "",
                    "",
                    "",
                    "",
                    171.05580215454103,
                    171.08466491699218,
                    170.97120056152343,
                    170.81792373657225,
                    170.5467041015625,
                    170.7412841796875,
                    170.91795120239257,
                    170.921435546875,
                    170.7054557800293,
                    170.3033546447754,
                    169.72458724975587,
                    169.4075843811035,
                    169.08709716796875,
                    168.89052505493163,
                    168.8561866760254,
                    168.68599014282228,
                    168.57750244140624,
                    168.75018615722655,
                    168.82433624267577,
                    168.80691833496093,
                    169.01642837524415,
                    169.70318679809571,
                    170.3630714416504,
                    170.99657974243163,
                    171.74106521606444,
                    172.21532745361327,
                    172.5511558532715,
                    173.2400360107422,
                    174.15094451904298,
                    175.24464721679686,
                    176.3921043395996,
                    177.64257583618163,
                    178.90954971313477,
                    180.18905334472657,
                    181.2907974243164,
                    182.14891967773437,
                    183.19088439941407,
                    184.02433395385742,
                    185.03048934936524,
                    186.13773498535156,
                    187.10719528198243,
                    187.65028915405273,
                    188.29243698120118,
                    188.97599334716796,
                    189.5733612060547,
                    190.19975509643555,
                    190.70156707763672,
                    191.74157180786133,
                    193.01927947998047,
                    194.24117202758788,
                    195.36987838745117,
                    196.70539016723632,
                    197.86399536132814,
                    198.72759170532225,
                    199.55431442260743,
                    200.61375350952147,
                    201.56505661010743,
                    202.72416152954102,
                    203.91067428588866,
                    204.87393646240236,
                    206.09483261108397,
                    207.40243835449218,
                    208.75788345336915,
                    210.27628021240236,
                    211.9376968383789,
                    213.5218719482422,
                    215.50819702148436,
                    216.52577743530273,
                    217.39635009765624,
                    218.40097351074218,
                    219.51373367309571,
                    220.12218856811523,
                    220.61503219604492,
                    221.34408264160157,
                    222.16482315063476,
                    223.00549774169923,
                    223.47741088867187,
                    223.6887008666992,
                    223.88105316162108,
                    224.26077728271486,
                    224.3629348754883,
                    224.45313110351563,
                    224.29416427612304,
                    223.97125015258788,
                    223.04685668945314,
                    221.9779495239258,
                    220.823828125,
                    220.11321563720702,
                    219.4006118774414,
                    218.57248458862304,
                    217.91001739501954,
                    217.5660057067871,
                    217.6058776855469,
                    217.70562515258788,
                    217.8148307800293,
                    217.90264434814452,
                    218.3073875427246,
                    218.67115859985353,
                    219.12675552368165,
                    219.5853614807129,
                    220.05846786499023,
                    220.29129333496093,
                    220.8741340637207,
                    221.34281158447266,
                    222.02840042114258,
                    222.7198585510254,
                    223.35858230590821,
                    223.74556198120118,
                    223.99102172851562,
                    224.1197380065918,
                    224.1890853881836,
                    224.24147033691406,
                    224.13071365356444,
                    223.64528198242186,
                    223.1912811279297,
                    222.90092010498046,
                    223.0241485595703,
                    223.20724563598634,
                    223.18878631591798,
                    223.19826583862306,
                    223.11544799804688,
                    223.16683502197264,
                    223.0670539855957,
                    223.2666145324707,
                    223.43823623657227,
                    223.73408432006835,
                    223.89822235107422,
                    224.1965660095215,
                    224.23548049926757,
                    224.5178596496582,
                    224.8611038208008,
                    225.1739143371582,
                    225.4258605957031,
                    226.17321548461913,
                    227.02434310913085,
                    227.5776252746582,
                    227.74126510620118,
                    228.0805191040039,
                    228.5799201965332,
                    229.00348815917968,
                    229.22250595092774,
                    229.3746711730957,
                    229.55527420043944,
                    229.57523040771486,
                    229.94741134643556,
                    230.11304779052733,
                    230.12502212524413,
                    229.93094940185546,
                    229.94691314697266,
                    229.83116760253907,
                    229.49091644287108,
                    229.41308822631837,
                    229.39611053466797,
                    229.05569458007812,
                    228.5880584716797,
                    228.26814651489258,
                    228.08460540771483,
                    227.59805297851562,
                    227.1884979248047,
                    226.82285995483397,
                    226.74762268066405,
                    226.65789108276368,
                    226.59367752075195,
                    226.58001785278321,
                    226.6622673034668,
                    226.91613159179687,
                    227.4989044189453,
                    228.34422302246094,
                    229.38727569580078,
                    230.3764663696289,
                    231.40357513427733,
                    232.1832176208496,
                    233.171630859375,
                    234.34733810424805,
                    235.45911560058593,
                    236.599861907959,
                    237.59426803588866,
                    238.89483795166015,
                    240.16643905639648,
                    241.15385360717772,
                    242.1922119140625,
                    243.48928604125976,
                    244.7578918457031,
                    246.02300186157225,
                    247.21968536376954,
                    248.2515510559082,
                    248.99423446655274,
                    249.53514022827147,
                    249.59507522583007,
                    249.61255645751953,
                    249.71044921875,
                    249.67898483276366,
                    249.47670669555663,
                    248.93130645751953,
                    248.3274703979492,
                    247.5942756652832,
                    247.08183898925782,
                    245.9440902709961,
                    244.77038116455077,
                    243.50127639770508,
                    242.2047019958496,
                    240.66489486694337,
                    239.04217834472655,
                    237.6267333984375,
                    236.58987426757812,
                    235.7792655944824,
                    235.04956741333007,
                    234.32935943603516,
                    233.53822860717773,
                    233.01080856323242,
                    232.3849967956543,
                    231.93599014282228,
                    231.1833183288574,
                    230.73632431030273,
                    230.66019592285156,
                    230.8525062561035,
                    231.04856872558594,
                    231.87810363769532,
                    232.6152328491211,
                    233.73895874023438,
                    234.85125045776368,
                    235.9580322265625,
                    237.1862663269043,
                    238.05788879394532,
                    238.17597274780275,
                    238.08611679077148,
                    238.31166381835936,
                    238.426123046875,
                    238.8346435546875,
                    238.9944274902344,
                    239.15019302368165,
                    239.46049957275392
                  ],
                  "yaxis": "y2",
                  "type": "scatter"
                },
                {
                  "legendgroup": "BOLL(Close_AAPL,20)",
                  "line": {
                    "color": "rgba(55, 128, 191, 0.8999999999999999)",
                    "dash": "solid",
                    "shape": "linear",
                    "width": 1.3
                  },
                  "mode": "lines",
                  "name": "UPPER(Close_AAPL,20)",
                  "showlegend": false,
                  "text": "",
                  "x": [
                    "2024-03-07",
                    "2024-03-08",
                    "2024-03-11",
                    "2024-03-12",
                    "2024-03-13",
                    "2024-03-14",
                    "2024-03-15",
                    "2024-03-18",
                    "2024-03-19",
                    "2024-03-20",
                    "2024-03-21",
                    "2024-03-22",
                    "2024-03-25",
                    "2024-03-26",
                    "2024-03-27",
                    "2024-03-28",
                    "2024-04-01",
                    "2024-04-02",
                    "2024-04-03",
                    "2024-04-04",
                    "2024-04-05",
                    "2024-04-08",
                    "2024-04-09",
                    "2024-04-10",
                    "2024-04-11",
                    "2024-04-12",
                    "2024-04-15",
                    "2024-04-16",
                    "2024-04-17",
                    "2024-04-18",
                    "2024-04-19",
                    "2024-04-22",
                    "2024-04-23",
                    "2024-04-24",
                    "2024-04-25",
                    "2024-04-26",
                    "2024-04-29",
                    "2024-04-30",
                    "2024-05-01",
                    "2024-05-02",
                    "2024-05-03",
                    "2024-05-06",
                    "2024-05-07",
                    "2024-05-08",
                    "2024-05-09",
                    "2024-05-10",
                    "2024-05-13",
                    "2024-05-14",
                    "2024-05-15",
                    "2024-05-16",
                    "2024-05-17",
                    "2024-05-20",
                    "2024-05-21",
                    "2024-05-22",
                    "2024-05-23",
                    "2024-05-24",
                    "2024-05-28",
                    "2024-05-29",
                    "2024-05-30",
                    "2024-05-31",
                    "2024-06-03",
                    "2024-06-04",
                    "2024-06-05",
                    "2024-06-06",
                    "2024-06-07",
                    "2024-06-10",
                    "2024-06-11",
                    "2024-06-12",
                    "2024-06-13",
                    "2024-06-14",
                    "2024-06-17",
                    "2024-06-18",
                    "2024-06-20",
                    "2024-06-21",
                    "2024-06-24",
                    "2024-06-25",
                    "2024-06-26",
                    "2024-06-27",
                    "2024-06-28",
                    "2024-07-01",
                    "2024-07-02",
                    "2024-07-03",
                    "2024-07-05",
                    "2024-07-08",
                    "2024-07-09",
                    "2024-07-10",
                    "2024-07-11",
                    "2024-07-12",
                    "2024-07-15",
                    "2024-07-16",
                    "2024-07-17",
                    "2024-07-18",
                    "2024-07-19",
                    "2024-07-22",
                    "2024-07-23",
                    "2024-07-24",
                    "2024-07-25",
                    "2024-07-26",
                    "2024-07-29",
                    "2024-07-30",
                    "2024-07-31",
                    "2024-08-01",
                    "2024-08-02",
                    "2024-08-05",
                    "2024-08-06",
                    "2024-08-07",
                    "2024-08-08",
                    "2024-08-09",
                    "2024-08-12",
                    "2024-08-13",
                    "2024-08-14",
                    "2024-08-15",
                    "2024-08-16",
                    "2024-08-19",
                    "2024-08-20",
                    "2024-08-21",
                    "2024-08-22",
                    "2024-08-23",
                    "2024-08-26",
                    "2024-08-27",
                    "2024-08-28",
                    "2024-08-29",
                    "2024-08-30",
                    "2024-09-03",
                    "2024-09-04",
                    "2024-09-05",
                    "2024-09-06",
                    "2024-09-09",
                    "2024-09-10",
                    "2024-09-11",
                    "2024-09-12",
                    "2024-09-13",
                    "2024-09-16",
                    "2024-09-17",
                    "2024-09-18",
                    "2024-09-19",
                    "2024-09-20",
                    "2024-09-23",
                    "2024-09-24",
                    "2024-09-25",
                    "2024-09-26",
                    "2024-09-27",
                    "2024-09-30",
                    "2024-10-01",
                    "2024-10-02",
                    "2024-10-03",
                    "2024-10-04",
                    "2024-10-07",
                    "2024-10-08",
                    "2024-10-09",
                    "2024-10-10",
                    "2024-10-11",
                    "2024-10-14",
                    "2024-10-15",
                    "2024-10-16",
                    "2024-10-17",
                    "2024-10-18",
                    "2024-10-21",
                    "2024-10-22",
                    "2024-10-23",
                    "2024-10-24",
                    "2024-10-25",
                    "2024-10-28",
                    "2024-10-29",
                    "2024-10-30",
                    "2024-10-31",
                    "2024-11-01",
                    "2024-11-04",
                    "2024-11-05",
                    "2024-11-06",
                    "2024-11-07",
                    "2024-11-08",
                    "2024-11-11",
                    "2024-11-12",
                    "2024-11-13",
                    "2024-11-14",
                    "2024-11-15",
                    "2024-11-18",
                    "2024-11-19",
                    "2024-11-20",
                    "2024-11-21",
                    "2024-11-22",
                    "2024-11-25",
                    "2024-11-26",
                    "2024-11-27",
                    "2024-11-29",
                    "2024-12-02",
                    "2024-12-03",
                    "2024-12-04",
                    "2024-12-05",
                    "2024-12-06",
                    "2024-12-09",
                    "2024-12-10",
                    "2024-12-11",
                    "2024-12-12",
                    "2024-12-13",
                    "2024-12-16",
                    "2024-12-17",
                    "2024-12-18",
                    "2024-12-19",
                    "2024-12-20",
                    "2024-12-23",
                    "2024-12-24",
                    "2024-12-26",
                    "2024-12-27",
                    "2024-12-30",
                    "2024-12-31",
                    "2025-01-02",
                    "2025-01-03",
                    "2025-01-06",
                    "2025-01-07",
                    "2025-01-08",
                    "2025-01-10",
                    "2025-01-13",
                    "2025-01-14",
                    "2025-01-15",
                    "2025-01-16",
                    "2025-01-17",
                    "2025-01-21",
                    "2025-01-22",
                    "2025-01-23",
                    "2025-01-24",
                    "2025-01-27",
                    "2025-01-28",
                    "2025-01-29",
                    "2025-01-30",
                    "2025-01-31",
                    "2025-02-03",
                    "2025-02-04",
                    "2025-02-05",
                    "2025-02-06",
                    "2025-02-07",
                    "2025-02-10",
                    "2025-02-11",
                    "2025-02-12",
                    "2025-02-13",
                    "2025-02-14",
                    "2025-02-18",
                    "2025-02-19",
                    "2025-02-20",
                    "2025-02-21",
                    "2025-02-24",
                    "2025-02-25",
                    "2025-02-26",
                    "2025-02-27",
                    "2025-02-28",
                    "2025-03-03",
                    "2025-03-04",
                    "2025-03-05",
                    "2025-03-06",
                    "2025-03-07"
                  ],
                  "y": [
                    "",
                    "",
                    "",
                    "",
                    "",
                    "",
                    "",
                    "",
                    "",
                    "",
                    "",
                    "",
                    "",
                    "",
                    "",
                    "",
                    "",
                    "",
                    "",
                    175.99719379721745,
                    175.96229556164118,
                    176.06303228735803,
                    175.97138595050944,
                    175.91264521230323,
                    176.35022384696623,
                    176.92693226703264,
                    176.93267184365354,
                    176.72722166757214,
                    176.117107289011,
                    174.61461425889408,
                    174.85819548826626,
                    174.77559839038665,
                    174.70956302226762,
                    174.68278076792083,
                    174.2582912921739,
                    174.07075460406236,
                    174.53910556595952,
                    174.6132951937624,
                    174.5976140901036,
                    174.98861800702983,
                    178.19130588162,
                    180.13655243243602,
                    181.936241449536,
                    183.5269697413256,
                    185.13009881962873,
                    186.17928537272326,
                    188.0652768794172,
                    189.97663348452068,
                    192.04418795711342,
                    193.7325676339103,
                    194.89535233595896,
                    195.99275531060664,
                    197.06965699171369,
                    197.7549249093285,
                    197.69955651844577,
                    197.64612376540566,
                    197.83687932463874,
                    197.2354541447753,
                    195.77868143748393,
                    194.48876313046512,
                    195.20648893703125,
                    195.5961422907871,
                    196.17815912855536,
                    196.2613293468947,
                    196.91919262562823,
                    196.40171898131783,
                    200.39211846409285,
                    205.35980377694125,
                    209.44784983926905,
                    212.26024441661426,
                    215.65176433999963,
                    217.98452127487002,
                    219.21451325530663,
                    219.9367837865312,
                    220.2753460558893,
                    220.76640425743133,
                    221.61804953617843,
                    222.32254800894927,
                    222.3569149011716,
                    223.07985996341185,
                    224.2923815507449,
                    225.3661275389921,
                    227.22018497166778,
                    228.6050958091971,
                    229.92401215943045,
                    230.75901512666113,
                    231.94838652080782,
                    233.76466262607386,
                    236.17424800185452,
                    238.29907183132352,
                    239.20665296973544,
                    239.49529053747952,
                    239.44212065073674,
                    238.92406523698443,
                    238.27600503102622,
                    237.36415904650934,
                    236.99076168986127,
                    236.656470182587,
                    235.6663003646528,
                    235.4910489971404,
                    235.44479007777113,
                    235.59540174834058,
                    235.48464771730235,
                    236.34719037968182,
                    236.96104904509832,
                    236.04583825431723,
                    235.48523368373588,
                    234.19884011327431,
                    231.79085618498624,
                    229.02679883861683,
                    227.73910610732477,
                    227.88146803921762,
                    228.25948296211615,
                    228.64994850052497,
                    228.9832594096545,
                    229.95052506927334,
                    230.56289519434253,
                    231.47541370534367,
                    232.35513526929125,
                    233.284377731676,
                    233.77336621744263,
                    234.86961488588733,
                    235.71420827298343,
                    235.08181500575276,
                    233.60244251859143,
                    232.18484704451106,
                    231.14884842914736,
                    230.5192139189584,
                    230.1547732312196,
                    230.0931881086907,
                    230.05300781049644,
                    230.0272628583651,
                    230.5593481418926,
                    230.78129546707146,
                    230.4808020279283,
                    230.8844626900603,
                    231.3330101871298,
                    231.2861961396405,
                    231.3133146336948,
                    231.0767446282785,
                    231.2190731363629,
                    230.84483455974697,
                    231.79920329071462,
                    232.02524074218394,
                    232.2828990352283,
                    232.4241177564701,
                    232.61438361221235,
                    232.58681664176194,
                    232.59030053311017,
                    233.09555496828582,
                    233.47073170270738,
                    233.62375705502012,
                    233.35590884236714,
                    233.25964626662005,
                    233.19879363748458,
                    233.6427970191283,
                    234.7073112001742,
                    235.99624734871065,
                    236.9569799524577,
                    237.05331458073852,
                    237.1433317592949,
                    237.2877119289234,
                    237.34152662071102,
                    237.64758851823296,
                    237.6213684894029,
                    237.6008736033654,
                    238.00247600885086,
                    237.946703166569,
                    238.1752009646446,
                    238.4999765839651,
                    238.48353110418196,
                    238.4864241861458,
                    238.431341227208,
                    237.99761972387523,
                    237.7285647976899,
                    237.41105440381466,
                    236.5256200697116,
                    235.20588852305565,
                    233.88463178861124,
                    233.68650345686672,
                    233.4613089899467,
                    233.251115815014,
                    233.18399000570184,
                    233.64144589267116,
                    234.6707211610929,
                    236.43933360033765,
                    238.39140067889699,
                    240.70375552720427,
                    242.73758583839125,
                    244.31634728969965,
                    245.83339594249463,
                    247.96805481679334,
                    249.79242220684782,
                    250.96417954976087,
                    252.18240355240675,
                    253.3946392643615,
                    254.52587460432284,
                    256.12122256339546,
                    256.3733412412721,
                    256.6633718236938,
                    257.34307244478083,
                    257.8912244476315,
                    259.10549478167866,
                    260.3587975691213,
                    260.4492581262271,
                    260.08363943965435,
                    259.651778425755,
                    259.54616555329085,
                    259.51406971585976,
                    259.3628274532007,
                    259.43289131337644,
                    259.66801859408366,
                    260.62524500622425,
                    261.7329952290292,
                    262.6496493796943,
                    262.7832968430716,
                    263.6870299283621,
                    263.56631441839863,
                    264.71445175823766,
                    264.98230276593625,
                    264.17707680264374,
                    262.86930238615884,
                    260.0552444705311,
                    256.7078806314294,
                    253.93192340742655,
                    251.56971177135733,
                    249.25781756174442,
                    248.073910741206,
                    246.83485102435347,
                    245.06058081100105,
                    243.79581127961742,
                    242.11220977580487,
                    241.4635708359488,
                    241.30696938601736,
                    241.8133538096728,
                    242.64039039936478,
                    244.8468989893973,
                    246.6974283519919,
                    247.97342166765242,
                    249.22062117723183,
                    250.02506028416065,
                    250.59277990880327,
                    251.655131301172,
                    251.8120013578381,
                    251.72027194344403,
                    252.04199465356857,
                    252.1042844898912,
                    251.63106803138973,
                    251.53743442096328,
                    251.41294184671685,
                    251.3732106355727
                  ],
                  "yaxis": "y2",
                  "type": "scatter"
                },
                {
                  "fill": "tonexty",
                  "fillcolor": "rgba(55, 128, 191, 0.1)",
                  "legendgroup": "BOLL(Close_AAPL,20)",
                  "line": {
                    "color": "rgba(55, 128, 191, 0.7999999999999998)",
                    "dash": "solid",
                    "shape": "linear",
                    "width": 1.3
                  },
                  "mode": "lines",
                  "name": "LOWER(Close_AAPL,20)",
                  "showlegend": false,
                  "text": "",
                  "x": [
                    "2024-03-07",
                    "2024-03-08",
                    "2024-03-11",
                    "2024-03-12",
                    "2024-03-13",
                    "2024-03-14",
                    "2024-03-15",
                    "2024-03-18",
                    "2024-03-19",
                    "2024-03-20",
                    "2024-03-21",
                    "2024-03-22",
                    "2024-03-25",
                    "2024-03-26",
                    "2024-03-27",
                    "2024-03-28",
                    "2024-04-01",
                    "2024-04-02",
                    "2024-04-03",
                    "2024-04-04",
                    "2024-04-05",
                    "2024-04-08",
                    "2024-04-09",
                    "2024-04-10",
                    "2024-04-11",
                    "2024-04-12",
                    "2024-04-15",
                    "2024-04-16",
                    "2024-04-17",
                    "2024-04-18",
                    "2024-04-19",
                    "2024-04-22",
                    "2024-04-23",
                    "2024-04-24",
                    "2024-04-25",
                    "2024-04-26",
                    "2024-04-29",
                    "2024-04-30",
                    "2024-05-01",
                    "2024-05-02",
                    "2024-05-03",
                    "2024-05-06",
                    "2024-05-07",
                    "2024-05-08",
                    "2024-05-09",
                    "2024-05-10",
                    "2024-05-13",
                    "2024-05-14",
                    "2024-05-15",
                    "2024-05-16",
                    "2024-05-17",
                    "2024-05-20",
                    "2024-05-21",
                    "2024-05-22",
                    "2024-05-23",
                    "2024-05-24",
                    "2024-05-28",
                    "2024-05-29",
                    "2024-05-30",
                    "2024-05-31",
                    "2024-06-03",
                    "2024-06-04",
                    "2024-06-05",
                    "2024-06-06",
                    "2024-06-07",
                    "2024-06-10",
                    "2024-06-11",
                    "2024-06-12",
                    "2024-06-13",
                    "2024-06-14",
                    "2024-06-17",
                    "2024-06-18",
                    "2024-06-20",
                    "2024-06-21",
                    "2024-06-24",
                    "2024-06-25",
                    "2024-06-26",
                    "2024-06-27",
                    "2024-06-28",
                    "2024-07-01",
                    "2024-07-02",
                    "2024-07-03",
                    "2024-07-05",
                    "2024-07-08",
                    "2024-07-09",
                    "2024-07-10",
                    "2024-07-11",
                    "2024-07-12",
                    "2024-07-15",
                    "2024-07-16",
                    "2024-07-17",
                    "2024-07-18",
                    "2024-07-19",
                    "2024-07-22",
                    "2024-07-23",
                    "2024-07-24",
                    "2024-07-25",
                    "2024-07-26",
                    "2024-07-29",
                    "2024-07-30",
                    "2024-07-31",
                    "2024-08-01",
                    "2024-08-02",
                    "2024-08-05",
                    "2024-08-06",
                    "2024-08-07",
                    "2024-08-08",
                    "2024-08-09",
                    "2024-08-12",
                    "2024-08-13",
                    "2024-08-14",
                    "2024-08-15",
                    "2024-08-16",
                    "2024-08-19",
                    "2024-08-20",
                    "2024-08-21",
                    "2024-08-22",
                    "2024-08-23",
                    "2024-08-26",
                    "2024-08-27",
                    "2024-08-28",
                    "2024-08-29",
                    "2024-08-30",
                    "2024-09-03",
                    "2024-09-04",
                    "2024-09-05",
                    "2024-09-06",
                    "2024-09-09",
                    "2024-09-10",
                    "2024-09-11",
                    "2024-09-12",
                    "2024-09-13",
                    "2024-09-16",
                    "2024-09-17",
                    "2024-09-18",
                    "2024-09-19",
                    "2024-09-20",
                    "2024-09-23",
                    "2024-09-24",
                    "2024-09-25",
                    "2024-09-26",
                    "2024-09-27",
                    "2024-09-30",
                    "2024-10-01",
                    "2024-10-02",
                    "2024-10-03",
                    "2024-10-04",
                    "2024-10-07",
                    "2024-10-08",
                    "2024-10-09",
                    "2024-10-10",
                    "2024-10-11",
                    "2024-10-14",
                    "2024-10-15",
                    "2024-10-16",
                    "2024-10-17",
                    "2024-10-18",
                    "2024-10-21",
                    "2024-10-22",
                    "2024-10-23",
                    "2024-10-24",
                    "2024-10-25",
                    "2024-10-28",
                    "2024-10-29",
                    "2024-10-30",
                    "2024-10-31",
                    "2024-11-01",
                    "2024-11-04",
                    "2024-11-05",
                    "2024-11-06",
                    "2024-11-07",
                    "2024-11-08",
                    "2024-11-11",
                    "2024-11-12",
                    "2024-11-13",
                    "2024-11-14",
                    "2024-11-15",
                    "2024-11-18",
                    "2024-11-19",
                    "2024-11-20",
                    "2024-11-21",
                    "2024-11-22",
                    "2024-11-25",
                    "2024-11-26",
                    "2024-11-27",
                    "2024-11-29",
                    "2024-12-02",
                    "2024-12-03",
                    "2024-12-04",
                    "2024-12-05",
                    "2024-12-06",
                    "2024-12-09",
                    "2024-12-10",
                    "2024-12-11",
                    "2024-12-12",
                    "2024-12-13",
                    "2024-12-16",
                    "2024-12-17",
                    "2024-12-18",
                    "2024-12-19",
                    "2024-12-20",
                    "2024-12-23",
                    "2024-12-24",
                    "2024-12-26",
                    "2024-12-27",
                    "2024-12-30",
                    "2024-12-31",
                    "2025-01-02",
                    "2025-01-03",
                    "2025-01-06",
                    "2025-01-07",
                    "2025-01-08",
                    "2025-01-10",
                    "2025-01-13",
                    "2025-01-14",
                    "2025-01-15",
                    "2025-01-16",
                    "2025-01-17",
                    "2025-01-21",
                    "2025-01-22",
                    "2025-01-23",
                    "2025-01-24",
                    "2025-01-27",
                    "2025-01-28",
                    "2025-01-29",
                    "2025-01-30",
                    "2025-01-31",
                    "2025-02-03",
                    "2025-02-04",
                    "2025-02-05",
                    "2025-02-06",
                    "2025-02-07",
                    "2025-02-10",
                    "2025-02-11",
                    "2025-02-12",
                    "2025-02-13",
                    "2025-02-14",
                    "2025-02-18",
                    "2025-02-19",
                    "2025-02-20",
                    "2025-02-21",
                    "2025-02-24",
                    "2025-02-25",
                    "2025-02-26",
                    "2025-02-27",
                    "2025-02-28",
                    "2025-03-03",
                    "2025-03-04",
                    "2025-03-05",
                    "2025-03-06",
                    "2025-03-07"
                  ],
                  "y": [
                    "",
                    "",
                    "",
                    "",
                    "",
                    "",
                    "",
                    "",
                    "",
                    "",
                    "",
                    "",
                    "",
                    "",
                    "",
                    "",
                    "",
                    "",
                    "",
                    166.1144105118646,
                    166.20703427234318,
                    165.87936883568884,
                    165.66446152263507,
                    165.1807629908218,
                    165.1323445124088,
                    164.9089701377525,
                    164.91019925009644,
                    164.68368989248646,
                    164.4896020005398,
                    164.83456024061766,
                    163.95697327394075,
                    163.39859594555085,
                    163.07148708759564,
                    163.02959258412997,
                    163.11368899347065,
                    163.08425027875012,
                    162.96126674849359,
                    163.03537729158913,
                    163.01622257981825,
                    163.04423874345846,
                    161.21506771457143,
                    160.58959045086476,
                    160.05691803532727,
                    159.9551606908033,
                    159.3005560875978,
                    158.92302633381973,
                    158.41479514206716,
                    158.32525555356528,
                    158.4451064764803,
                    159.0516410452889,
                    160.3897993364043,
                    161.8263441156629,
                    163.30844969773946,
                    164.82666993930428,
                    166.59828283702296,
                    168.7356450334225,
                    170.2117885830761,
                    172.82552455395518,
                    176.4967885332192,
                    179.72562743349974,
                    180.0940893710742,
                    180.98873167161526,
                    181.77382756578055,
                    182.88539306521469,
                    183.48031756724288,
                    185.00141517395562,
                    183.09102515162982,
                    180.6787551830197,
                    179.0344942159067,
                    178.47951235828808,
                    177.759015994473,
                    177.74346944778625,
                    178.24067015533788,
                    179.17184505868366,
                    180.95216096315366,
                    182.36370896278353,
                    183.8302735229036,
                    185.49880056282805,
                    187.39095802363312,
                    189.1098052587561,
                    190.51249515823946,
                    192.1496393677462,
                    193.33237545313693,
                    195.2702978675607,
                    197.11973173705394,
                    200.2573789163076,
                    201.10316834979764,
                    201.02803756923862,
                    200.62769901962983,
                    200.7283955148679,
                    201.03772416649502,
                    201.73477385461032,
                    203.2460446324664,
                    205.4055810642851,
                    207.73499045237224,
                    209.5906627308344,
                    210.38664004353714,
                    211.10563614065518,
                    212.8552542007769,
                    213.23482075383617,
                    213.46147212926013,
                    212.9929268039055,
                    212.45785258787342,
                    209.74652299922445,
                    206.99485000275325,
                    205.60181799568278,
                    204.74119759067815,
                    204.6023836416085,
                    205.35411299225984,
                    206.79323595142225,
                    207.39290530624945,
                    207.33028733187615,
                    207.15176734305962,
                    206.97971305953362,
                    206.82202928663455,
                    206.66425001617586,
                    206.77942200536452,
                    206.77809734201963,
                    206.81558769213453,
                    206.83255799830448,
                    206.80922045247922,
                    206.87865324155408,
                    206.97141489596189,
                    208.9749858365324,
                    211.83727458345936,
                    214.53231756730537,
                    216.342275533255,
                    217.46282953807284,
                    218.084702781964,
                    218.2849826676765,
                    218.4299328633317,
                    218.23416444876378,
                    216.73121582295113,
                    215.60126678878794,
                    215.32103818203262,
                    215.1638344290803,
                    215.0814810848429,
                    215.09137649219545,
                    215.08321704355131,
                    215.15415136781525,
                    215.11459690758238,
                    215.2892734114444,
                    214.73402577422678,
                    214.8512317309606,
                    215.1852696049084,
                    215.37232694567834,
                    215.77874840683063,
                    215.8841443567732,
                    216.44541876620622,
                    216.62665267331576,
                    216.87709697160903,
                    217.2279641363861,
                    218.99052212687113,
                    220.78903995164166,
                    221.95645691183182,
                    221.83973319327407,
                    221.45372700783363,
                    221.16359304435576,
                    221.04999636590168,
                    221.39169732111696,
                    221.60601058689647,
                    221.8228364719555,
                    221.8089341947187,
                    222.24723417463815,
                    222.60472709165177,
                    222.64917064712287,
                    221.85942279486005,
                    221.94712312737633,
                    221.48713424043353,
                    220.48185630177707,
                    220.34264534845477,
                    220.30579688319014,
                    219.68004793294824,
                    219.17849721948414,
                    218.80772823209526,
                    218.758156411615,
                    218.67048588731964,
                    219.17110732655374,
                    219.7610881210567,
                    219.80874190446139,
                    219.85447317558067,
                    219.9362392264899,
                    219.97604569986459,
                    219.68308871426242,
                    219.16154202250084,
                    218.55847523755295,
                    218.2970453660249,
                    218.0707958643973,
                    218.01534690086655,
                    218.49080297885502,
                    218.53303929920457,
                    218.37520690195666,
                    218.9022540016483,
                    219.954051651411,
                    221.01732026351124,
                    221.79389680741582,
                    223.26380129899746,
                    224.2116555493975,
                    225.93436597308332,
                    227.7210520044312,
                    229.63549963773866,
                    231.62455924377477,
                    232.94050894146582,
                    234.08057315841782,
                    236.0538439855893,
                    237.90482949345116,
                    239.41850203078795,
                    239.6439848983693,
                    239.71104319917933,
                    240.0580709842993,
                    239.9250783521509,
                    239.28539479702957,
                    237.2373679088148,
                    234.9219455668692,
                    232.5389019508721,
                    231.38038113544405,
                    228.2011506136301,
                    225.9744479107029,
                    222.2881010371725,
                    219.42710122576295,
                    217.15271293124303,
                    215.21505430329427,
                    215.1982223263439,
                    216.47186790372683,
                    217.62660778153827,
                    218.5294230553028,
                    219.4009013103259,
                    219.00254647314947,
                    219.18676610211136,
                    219.70941278030756,
                    220.07616900602713,
                    220.25442688190995,
                    220.00907778465668,
                    220.01342245968576,
                    219.89165870253422,
                    219.4567470518071,
                    218.90930828599335,
                    218.5330373462503,
                    219.50449581281634,
                    220.48187973829553,
                    221.89100416896434,
                    223.77975274500534,
                    224.46064628671866,
                    224.53994413776738,
                    224.45196163809894,
                    224.58133298315016,
                    224.7479616038588,
                    226.03821907798525,
                    226.4514205595055,
                    226.88744420064646,
                    227.54778850993515
                  ],
                  "yaxis": "y2",
                  "type": "scatter"
                },
                {
                  "marker": {
                    "color": [
                      "#808080",
                      "#17BECF",
                      "#17BECF",
                      "#17BECF",
                      "#808080",
                      "#17BECF",
                      "#808080",
                      "#17BECF",
                      "#17BECF",
                      "#17BECF",
                      "#808080",
                      "#17BECF",
                      "#808080",
                      "#808080",
                      "#17BECF",
                      "#808080",
                      "#808080",
                      "#808080",
                      "#17BECF",
                      "#808080",
                      "#17BECF",
                      "#808080",
                      "#17BECF",
                      "#808080",
                      "#17BECF",
                      "#17BECF",
                      "#808080",
                      "#808080",
                      "#808080",
                      "#808080",
                      "#808080",
                      "#17BECF",
                      "#17BECF",
                      "#17BECF",
                      "#17BECF",
                      "#808080",
                      "#17BECF",
                      "#808080",
                      "#808080",
                      "#17BECF",
                      "#17BECF",
                      "#808080",
                      "#17BECF",
                      "#17BECF",
                      "#17BECF",
                      "#808080",
                      "#17BECF",
                      "#17BECF",
                      "#17BECF",
                      "#17BECF",
                      "#17BECF",
                      "#17BECF",
                      "#17BECF",
                      "#808080",
                      "#808080",
                      "#17BECF",
                      "#17BECF",
                      "#17BECF",
                      "#17BECF",
                      "#17BECF",
                      "#17BECF",
                      "#17BECF",
                      "#17BECF",
                      "#808080",
                      "#17BECF",
                      "#808080",
                      "#17BECF",
                      "#17BECF",
                      "#17BECF",
                      "#808080",
                      "#17BECF",
                      "#808080",
                      "#808080",
                      "#808080",
                      "#17BECF",
                      "#17BECF",
                      "#17BECF",
                      "#17BECF",
                      "#808080",
                      "#17BECF",
                      "#17BECF",
                      "#17BECF",
                      "#17BECF",
                      "#17BECF",
                      "#17BECF",
                      "#17BECF",
                      "#808080",
                      "#17BECF",
                      "#17BECF",
                      "#17BECF",
                      "#808080",
                      "#808080",
                      "#17BECF",
                      "#808080",
                      "#17BECF",
                      "#808080",
                      "#808080",
                      "#17BECF",
                      "#17BECF",
                      "#17BECF",
                      "#17BECF",
                      "#808080",
                      "#17BECF",
                      "#808080",
                      "#808080",
                      "#17BECF",
                      "#17BECF",
                      "#17BECF",
                      "#17BECF",
                      "#17BECF",
                      "#17BECF",
                      "#17BECF",
                      "#17BECF",
                      "#808080",
                      "#17BECF",
                      "#808080",
                      "#808080",
                      "#17BECF",
                      "#17BECF",
                      "#17BECF",
                      "#808080",
                      "#17BECF",
                      "#808080",
                      "#808080",
                      "#808080",
                      "#17BECF",
                      "#808080",
                      "#17BECF",
                      "#808080",
                      "#17BECF",
                      "#17BECF",
                      "#808080",
                      "#808080",
                      "#17BECF",
                      "#17BECF",
                      "#17BECF",
                      "#808080",
                      "#808080",
                      "#17BECF",
                      "#808080",
                      "#17BECF",
                      "#17BECF",
                      "#17BECF",
                      "#808080",
                      "#17BECF",
                      "#808080",
                      "#17BECF",
                      "#808080",
                      "#17BECF",
                      "#17BECF",
                      "#808080",
                      "#808080",
                      "#17BECF",
                      "#17BECF",
                      "#808080",
                      "#17BECF",
                      "#17BECF",
                      "#17BECF",
                      "#808080",
                      "#808080",
                      "#808080",
                      "#17BECF",
                      "#17BECF",
                      "#17BECF",
                      "#808080",
                      "#808080",
                      "#808080",
                      "#808080",
                      "#17BECF",
                      "#808080",
                      "#17BECF",
                      "#808080",
                      "#808080",
                      "#808080",
                      "#17BECF",
                      "#17BECF",
                      "#808080",
                      "#17BECF",
                      "#17BECF",
                      "#17BECF",
                      "#808080",
                      "#17BECF",
                      "#17BECF",
                      "#17BECF",
                      "#808080",
                      "#17BECF",
                      "#17BECF",
                      "#17BECF",
                      "#17BECF",
                      "#17BECF",
                      "#808080",
                      "#17BECF",
                      "#17BECF",
                      "#808080",
                      "#17BECF",
                      "#17BECF",
                      "#17BECF",
                      "#17BECF",
                      "#808080",
                      "#17BECF",
                      "#17BECF",
                      "#17BECF",
                      "#17BECF",
                      "#17BECF",
                      "#808080",
                      "#808080",
                      "#808080",
                      "#808080",
                      "#808080",
                      "#17BECF",
                      "#808080",
                      "#17BECF",
                      "#808080",
                      "#808080",
                      "#808080",
                      "#17BECF",
                      "#808080",
                      "#17BECF",
                      "#808080",
                      "#17BECF",
                      "#808080",
                      "#808080",
                      "#17BECF",
                      "#17BECF",
                      "#17BECF",
                      "#808080",
                      "#808080",
                      "#808080",
                      "#17BECF",
                      "#808080",
                      "#17BECF",
                      "#808080",
                      "#17BECF",
                      "#17BECF",
                      "#17BECF",
                      "#17BECF",
                      "#17BECF",
                      "#808080",
                      "#17BECF",
                      "#17BECF",
                      "#808080",
                      "#17BECF",
                      "#808080",
                      "#808080",
                      "#808080",
                      "#17BECF",
                      "#808080",
                      "#808080",
                      "#808080",
                      "#808080",
                      "#17BECF"
                    ],
                    "line": {
                      "color": [
                        "#808080",
                        "#17BECF",
                        "#17BECF",
                        "#17BECF",
                        "#808080",
                        "#17BECF",
                        "#808080",
                        "#17BECF",
                        "#17BECF",
                        "#17BECF",
                        "#808080",
                        "#17BECF",
                        "#808080",
                        "#808080",
                        "#17BECF",
                        "#808080",
                        "#808080",
                        "#808080",
                        "#17BECF",
                        "#808080",
                        "#17BECF",
                        "#808080",
                        "#17BECF",
                        "#808080",
                        "#17BECF",
                        "#17BECF",
                        "#808080",
                        "#808080",
                        "#808080",
                        "#808080",
                        "#808080",
                        "#17BECF",
                        "#17BECF",
                        "#17BECF",
                        "#17BECF",
                        "#808080",
                        "#17BECF",
                        "#808080",
                        "#808080",
                        "#17BECF",
                        "#17BECF",
                        "#808080",
                        "#17BECF",
                        "#17BECF",
                        "#17BECF",
                        "#808080",
                        "#17BECF",
                        "#17BECF",
                        "#17BECF",
                        "#17BECF",
                        "#17BECF",
                        "#17BECF",
                        "#17BECF",
                        "#808080",
                        "#808080",
                        "#17BECF",
                        "#17BECF",
                        "#17BECF",
                        "#17BECF",
                        "#17BECF",
                        "#17BECF",
                        "#17BECF",
                        "#17BECF",
                        "#808080",
                        "#17BECF",
                        "#808080",
                        "#17BECF",
                        "#17BECF",
                        "#17BECF",
                        "#808080",
                        "#17BECF",
                        "#808080",
                        "#808080",
                        "#808080",
                        "#17BECF",
                        "#17BECF",
                        "#17BECF",
                        "#17BECF",
                        "#808080",
                        "#17BECF",
                        "#17BECF",
                        "#17BECF",
                        "#17BECF",
                        "#17BECF",
                        "#17BECF",
                        "#17BECF",
                        "#808080",
                        "#17BECF",
                        "#17BECF",
                        "#17BECF",
                        "#808080",
                        "#808080",
                        "#17BECF",
                        "#808080",
                        "#17BECF",
                        "#808080",
                        "#808080",
                        "#17BECF",
                        "#17BECF",
                        "#17BECF",
                        "#17BECF",
                        "#808080",
                        "#17BECF",
                        "#808080",
                        "#808080",
                        "#17BECF",
                        "#17BECF",
                        "#17BECF",
                        "#17BECF",
                        "#17BECF",
                        "#17BECF",
                        "#17BECF",
                        "#17BECF",
                        "#808080",
                        "#17BECF",
                        "#808080",
                        "#808080",
                        "#17BECF",
                        "#17BECF",
                        "#17BECF",
                        "#808080",
                        "#17BECF",
                        "#808080",
                        "#808080",
                        "#808080",
                        "#17BECF",
                        "#808080",
                        "#17BECF",
                        "#808080",
                        "#17BECF",
                        "#17BECF",
                        "#808080",
                        "#808080",
                        "#17BECF",
                        "#17BECF",
                        "#17BECF",
                        "#808080",
                        "#808080",
                        "#17BECF",
                        "#808080",
                        "#17BECF",
                        "#17BECF",
                        "#17BECF",
                        "#808080",
                        "#17BECF",
                        "#808080",
                        "#17BECF",
                        "#808080",
                        "#17BECF",
                        "#17BECF",
                        "#808080",
                        "#808080",
                        "#17BECF",
                        "#17BECF",
                        "#808080",
                        "#17BECF",
                        "#17BECF",
                        "#17BECF",
                        "#808080",
                        "#808080",
                        "#808080",
                        "#17BECF",
                        "#17BECF",
                        "#17BECF",
                        "#808080",
                        "#808080",
                        "#808080",
                        "#808080",
                        "#17BECF",
                        "#808080",
                        "#17BECF",
                        "#808080",
                        "#808080",
                        "#808080",
                        "#17BECF",
                        "#17BECF",
                        "#808080",
                        "#17BECF",
                        "#17BECF",
                        "#17BECF",
                        "#808080",
                        "#17BECF",
                        "#17BECF",
                        "#17BECF",
                        "#808080",
                        "#17BECF",
                        "#17BECF",
                        "#17BECF",
                        "#17BECF",
                        "#17BECF",
                        "#808080",
                        "#17BECF",
                        "#17BECF",
                        "#808080",
                        "#17BECF",
                        "#17BECF",
                        "#17BECF",
                        "#17BECF",
                        "#808080",
                        "#17BECF",
                        "#17BECF",
                        "#17BECF",
                        "#17BECF",
                        "#17BECF",
                        "#808080",
                        "#808080",
                        "#808080",
                        "#808080",
                        "#808080",
                        "#17BECF",
                        "#808080",
                        "#17BECF",
                        "#808080",
                        "#808080",
                        "#808080",
                        "#17BECF",
                        "#808080",
                        "#17BECF",
                        "#808080",
                        "#17BECF",
                        "#808080",
                        "#808080",
                        "#17BECF",
                        "#17BECF",
                        "#17BECF",
                        "#808080",
                        "#808080",
                        "#808080",
                        "#17BECF",
                        "#808080",
                        "#17BECF",
                        "#808080",
                        "#17BECF",
                        "#17BECF",
                        "#17BECF",
                        "#17BECF",
                        "#17BECF",
                        "#808080",
                        "#17BECF",
                        "#17BECF",
                        "#808080",
                        "#17BECF",
                        "#808080",
                        "#808080",
                        "#808080",
                        "#17BECF",
                        "#808080",
                        "#808080",
                        "#808080",
                        "#808080",
                        "#17BECF"
                      ],
                      "width": 1
                    }
                  },
                  "name": "Volume_AAPL",
                  "opacity": 0.8,
                  "orientation": "v",
                  "text": "",
                  "x": [
                    "2024-03-07",
                    "2024-03-08",
                    "2024-03-11",
                    "2024-03-12",
                    "2024-03-13",
                    "2024-03-14",
                    "2024-03-15",
                    "2024-03-18",
                    "2024-03-19",
                    "2024-03-20",
                    "2024-03-21",
                    "2024-03-22",
                    "2024-03-25",
                    "2024-03-26",
                    "2024-03-27",
                    "2024-03-28",
                    "2024-04-01",
                    "2024-04-02",
                    "2024-04-03",
                    "2024-04-04",
                    "2024-04-05",
                    "2024-04-08",
                    "2024-04-09",
                    "2024-04-10",
                    "2024-04-11",
                    "2024-04-12",
                    "2024-04-15",
                    "2024-04-16",
                    "2024-04-17",
                    "2024-04-18",
                    "2024-04-19",
                    "2024-04-22",
                    "2024-04-23",
                    "2024-04-24",
                    "2024-04-25",
                    "2024-04-26",
                    "2024-04-29",
                    "2024-04-30",
                    "2024-05-01",
                    "2024-05-02",
                    "2024-05-03",
                    "2024-05-06",
                    "2024-05-07",
                    "2024-05-08",
                    "2024-05-09",
                    "2024-05-10",
                    "2024-05-13",
                    "2024-05-14",
                    "2024-05-15",
                    "2024-05-16",
                    "2024-05-17",
                    "2024-05-20",
                    "2024-05-21",
                    "2024-05-22",
                    "2024-05-23",
                    "2024-05-24",
                    "2024-05-28",
                    "2024-05-29",
                    "2024-05-30",
                    "2024-05-31",
                    "2024-06-03",
                    "2024-06-04",
                    "2024-06-05",
                    "2024-06-06",
                    "2024-06-07",
                    "2024-06-10",
                    "2024-06-11",
                    "2024-06-12",
                    "2024-06-13",
                    "2024-06-14",
                    "2024-06-17",
                    "2024-06-18",
                    "2024-06-20",
                    "2024-06-21",
                    "2024-06-24",
                    "2024-06-25",
                    "2024-06-26",
                    "2024-06-27",
                    "2024-06-28",
                    "2024-07-01",
                    "2024-07-02",
                    "2024-07-03",
                    "2024-07-05",
                    "2024-07-08",
                    "2024-07-09",
                    "2024-07-10",
                    "2024-07-11",
                    "2024-07-12",
                    "2024-07-15",
                    "2024-07-16",
                    "2024-07-17",
                    "2024-07-18",
                    "2024-07-19",
                    "2024-07-22",
                    "2024-07-23",
                    "2024-07-24",
                    "2024-07-25",
                    "2024-07-26",
                    "2024-07-29",
                    "2024-07-30",
                    "2024-07-31",
                    "2024-08-01",
                    "2024-08-02",
                    "2024-08-05",
                    "2024-08-06",
                    "2024-08-07",
                    "2024-08-08",
                    "2024-08-09",
                    "2024-08-12",
                    "2024-08-13",
                    "2024-08-14",
                    "2024-08-15",
                    "2024-08-16",
                    "2024-08-19",
                    "2024-08-20",
                    "2024-08-21",
                    "2024-08-22",
                    "2024-08-23",
                    "2024-08-26",
                    "2024-08-27",
                    "2024-08-28",
                    "2024-08-29",
                    "2024-08-30",
                    "2024-09-03",
                    "2024-09-04",
                    "2024-09-05",
                    "2024-09-06",
                    "2024-09-09",
                    "2024-09-10",
                    "2024-09-11",
                    "2024-09-12",
                    "2024-09-13",
                    "2024-09-16",
                    "2024-09-17",
                    "2024-09-18",
                    "2024-09-19",
                    "2024-09-20",
                    "2024-09-23",
                    "2024-09-24",
                    "2024-09-25",
                    "2024-09-26",
                    "2024-09-27",
                    "2024-09-30",
                    "2024-10-01",
                    "2024-10-02",
                    "2024-10-03",
                    "2024-10-04",
                    "2024-10-07",
                    "2024-10-08",
                    "2024-10-09",
                    "2024-10-10",
                    "2024-10-11",
                    "2024-10-14",
                    "2024-10-15",
                    "2024-10-16",
                    "2024-10-17",
                    "2024-10-18",
                    "2024-10-21",
                    "2024-10-22",
                    "2024-10-23",
                    "2024-10-24",
                    "2024-10-25",
                    "2024-10-28",
                    "2024-10-29",
                    "2024-10-30",
                    "2024-10-31",
                    "2024-11-01",
                    "2024-11-04",
                    "2024-11-05",
                    "2024-11-06",
                    "2024-11-07",
                    "2024-11-08",
                    "2024-11-11",
                    "2024-11-12",
                    "2024-11-13",
                    "2024-11-14",
                    "2024-11-15",
                    "2024-11-18",
                    "2024-11-19",
                    "2024-11-20",
                    "2024-11-21",
                    "2024-11-22",
                    "2024-11-25",
                    "2024-11-26",
                    "2024-11-27",
                    "2024-11-29",
                    "2024-12-02",
                    "2024-12-03",
                    "2024-12-04",
                    "2024-12-05",
                    "2024-12-06",
                    "2024-12-09",
                    "2024-12-10",
                    "2024-12-11",
                    "2024-12-12",
                    "2024-12-13",
                    "2024-12-16",
                    "2024-12-17",
                    "2024-12-18",
                    "2024-12-19",
                    "2024-12-20",
                    "2024-12-23",
                    "2024-12-24",
                    "2024-12-26",
                    "2024-12-27",
                    "2024-12-30",
                    "2024-12-31",
                    "2025-01-02",
                    "2025-01-03",
                    "2025-01-06",
                    "2025-01-07",
                    "2025-01-08",
                    "2025-01-10",
                    "2025-01-13",
                    "2025-01-14",
                    "2025-01-15",
                    "2025-01-16",
                    "2025-01-17",
                    "2025-01-21",
                    "2025-01-22",
                    "2025-01-23",
                    "2025-01-24",
                    "2025-01-27",
                    "2025-01-28",
                    "2025-01-29",
                    "2025-01-30",
                    "2025-01-31",
                    "2025-02-03",
                    "2025-02-04",
                    "2025-02-05",
                    "2025-02-06",
                    "2025-02-07",
                    "2025-02-10",
                    "2025-02-11",
                    "2025-02-12",
                    "2025-02-13",
                    "2025-02-14",
                    "2025-02-18",
                    "2025-02-19",
                    "2025-02-20",
                    "2025-02-21",
                    "2025-02-24",
                    "2025-02-25",
                    "2025-02-26",
                    "2025-02-27",
                    "2025-02-28",
                    "2025-03-03",
                    "2025-03-04",
                    "2025-03-05",
                    "2025-03-06",
                    "2025-03-07"
                  ],
                  "y": [
                    71765100,
                    76114600,
                    60139500,
                    59825400,
                    52488700,
                    72913500,
                    121664700,
                    75604200,
                    55215200,
                    53423100,
                    106181300,
                    71106600,
                    54288300,
                    57388400,
                    60273300,
                    65672700,
                    46240500,
                    49329500,
                    47691700,
                    53704400,
                    42055200,
                    37425500,
                    42451200,
                    49709300,
                    91070300,
                    101593300,
                    73531800,
                    73711200,
                    50901200,
                    43122900,
                    67772100,
                    48116400,
                    49537800,
                    48251800,
                    50558300,
                    44838400,
                    68169400,
                    65934800,
                    50383100,
                    94214900,
                    163224100,
                    78569700,
                    77305800,
                    45057100,
                    48983000,
                    50759500,
                    72044800,
                    52393600,
                    70400000,
                    52845200,
                    41282900,
                    44361300,
                    42309400,
                    34648500,
                    51005900,
                    36294600,
                    52280100,
                    53068000,
                    49947900,
                    75158300,
                    50080500,
                    47471400,
                    54156800,
                    41181800,
                    53103900,
                    97262100,
                    172373300,
                    198134300,
                    97862700,
                    70122700,
                    93728300,
                    79943300,
                    86172500,
                    246421400,
                    80727000,
                    56713900,
                    66213200,
                    49772700,
                    82542700,
                    60402900,
                    58046200,
                    37369800,
                    60412400,
                    59085900,
                    48076100,
                    62627700,
                    64710600,
                    53046500,
                    62631300,
                    43234300,
                    57345900,
                    66034600,
                    49151500,
                    48201800,
                    39960300,
                    61777600,
                    51391200,
                    41601300,
                    36311800,
                    41643800,
                    50036300,
                    62501000,
                    105568600,
                    119548600,
                    69660500,
                    63516400,
                    47161100,
                    42201600,
                    38028100,
                    44155300,
                    41960600,
                    46414000,
                    44340200,
                    40687800,
                    30299000,
                    34765500,
                    43695300,
                    38677300,
                    30602200,
                    35934600,
                    38052200,
                    51906300,
                    52990800,
                    50190600,
                    43840200,
                    36615400,
                    48423000,
                    67180000,
                    51591000,
                    44587100,
                    37498200,
                    36766600,
                    59357400,
                    45519300,
                    59894900,
                    66781300,
                    318679900,
                    54146000,
                    43556100,
                    42308700,
                    36636700,
                    34026000,
                    54541900,
                    63285000,
                    32880600,
                    34044200,
                    37245100,
                    39505400,
                    31855700,
                    33591100,
                    28183500,
                    31759200,
                    39882100,
                    64751400,
                    34082200,
                    32993800,
                    46431500,
                    36254500,
                    38846600,
                    52287000,
                    31109500,
                    38802300,
                    36087100,
                    35417200,
                    47070900,
                    64370100,
                    65276700,
                    44944500,
                    28111300,
                    54561100,
                    42137700,
                    38328800,
                    42005600,
                    40398300,
                    48566200,
                    44923900,
                    47923700,
                    44686000,
                    36211800,
                    35169600,
                    42108300,
                    38168300,
                    90152800,
                    45986200,
                    33498400,
                    28481400,
                    48137100,
                    38861000,
                    44383900,
                    40033900,
                    36870600,
                    44649200,
                    36914800,
                    45205800,
                    32777500,
                    33155300,
                    51694800,
                    51356400,
                    56774100,
                    60882300,
                    147495300,
                    40858800,
                    23234700,
                    27237100,
                    42355300,
                    35557500,
                    39480700,
                    55740700,
                    40244100,
                    45045600,
                    40856000,
                    37628900,
                    61710900,
                    49630700,
                    39435300,
                    39832000,
                    71759100,
                    68488300,
                    98070400,
                    64126500,
                    60234800,
                    54697900,
                    94863400,
                    75707600,
                    45486100,
                    55658300,
                    101075100,
                    73063300,
                    45067300,
                    39620300,
                    29925300,
                    39707200,
                    33115600,
                    53718400,
                    45243300,
                    53614100,
                    40896200,
                    48822500,
                    32204200,
                    32316900,
                    53197400,
                    51326400,
                    48013300,
                    44433600,
                    41153600,
                    56833400,
                    47184000,
                    53798100,
                    47227600,
                    45100000,
                    14179805
                  ],
                  "yaxis": "y3",
                  "type": "bar"
                },
                {
                  "close": [
                    168.2057647705078,
                    169.92762756347656,
                    171.93814086914062,
                    172.41587829589844,
                    170.3257598876953,
                    172.18695068359375,
                    171.80873107910156,
                    172.90357971191406,
                    175.2524871826172,
                    177.83030700683594,
                    170.5646209716797,
                    171.47035217285156,
                    170.0470733642578,
                    168.9124298095703,
                    172.49551391601562,
                    170.67408752441406,
                    169.23092651367188,
                    168.04649353027344,
                    168.85269165039062,
                    168.02662658691406,
                    168.78302001953125,
                    167.65834045410156,
                    168.8726043701172,
                    166.99148559570312,
                    174.2173614501953,
                    175.7202911376953,
                    171.87841796875,
                    168.583984375,
                    167.21046447753906,
                    166.2549591064453,
                    164.2245635986328,
                    165.06060791015625,
                    166.11563110351562,
                    168.2256622314453,
                    169.09158325195312,
                    168.50433349609375,
                    172.68460083007812,
                    169.5294952392578,
                    168.50433349609375,
                    172.21682739257812,
                    182.5181884765625,
                    180.8560333251953,
                    181.5427703857422,
                    181.88119506835938,
                    183.70260620117188,
                    182.43685913085938,
                    185.65602111816406,
                    186.80215454101562,
                    189.0845184326172,
                    189.2041015625,
                    189.23399353027344,
                    190.40008544921875,
                    191.70570373535156,
                    190.2605438232422,
                    186.2540283203125,
                    189.3436279296875,
                    189.3535919189453,
                    189.65260314941406,
                    190.6492462158203,
                    191.6060333251953,
                    193.38006591796875,
                    193.69898986816406,
                    195.21389770507812,
                    193.82855224609375,
                    196.23048400878906,
                    192.4730987548828,
                    206.45611572265625,
                    212.35630798339844,
                    213.52236938476562,
                    211.77822875976562,
                    215.94422912597656,
                    213.5721893310547,
                    208.97763061523438,
                    206.7949981689453,
                    207.44281005859375,
                    208.36968994140625,
                    212.5356903076172,
                    213.3828582763672,
                    209.91448974609375,
                    216.02395629882812,
                    219.5321807861328,
                    220.80789184570312,
                    225.5818328857422,
                    227.056884765625,
                    227.9139862060547,
                    232.19960021972656,
                    226.80772399902344,
                    229.76776123046875,
                    233.61483764648438,
                    234.03343200683594,
                    228.1133270263672,
                    223.42906188964844,
                    223.5586395263672,
                    223.20980834960938,
                    224.2563018798828,
                    217.80795288085938,
                    216.76148986816406,
                    217.2299041748047,
                    217.50897216796875,
                    218.06710815429688,
                    221.3361053466797,
                    217.62855529785156,
                    219.12355041503906,
                    208.5690155029297,
                    206.5358428955078,
                    209.11717224121094,
                    212.59547424316406,
                    215.51568603515625,
                    217.0522918701172,
                    220.78408813476562,
                    221.23309326171875,
                    224.22650146484375,
                    225.5535888671875,
                    225.3939208984375,
                    226.0125732421875,
                    225.90281677246094,
                    224.0369110107422,
                    226.3418426513672,
                    226.68109130859375,
                    227.52923583984375,
                    225.99261474609375,
                    229.28536987304688,
                    228.49710083007812,
                    222.28079223632812,
                    220.36500549316406,
                    221.8916473388672,
                    220.33506774902344,
                    220.4248809814453,
                    219.62661743164062,
                    222.17103576660156,
                    222.28079223632812,
                    222.01136779785156,
                    215.84495544433594,
                    216.31390380859375,
                    220.20535278320312,
                    228.3673858642578,
                    227.6988525390625,
                    225.97265625,
                    226.8706817626953,
                    225.8728790283203,
                    227.02035522460938,
                    227.2897491455078,
                    232.48831176757812,
                    225.71322631835938,
                    226.28196716308594,
                    225.17440795898438,
                    226.30194091796875,
                    221.2031707763672,
                    225.27420043945312,
                    229.03591918945312,
                    228.53700256347656,
                    227.05029296875,
                    230.79205322265625,
                    233.33645629882812,
                    231.27099609375,
                    231.6401824951172,
                    234.4839324951172,
                    235.96067810058594,
                    235.342041015625,
                    230.25323486328125,
                    230.06365966796875,
                    230.9018096923828,
                    232.88743591308594,
                    233.15684509277344,
                    229.59469604492188,
                    225.4138946533203,
                    222.4204864501953,
                    221.52244567871094,
                    222.95928955078125,
                    222.23089599609375,
                    226.98043823242188,
                    226.7107391357422,
                    223.98373413085938,
                    223.98373413085938,
                    224.8727569580078,
                    227.9693603515625,
                    224.7528839111328,
                    227.7695770263672,
                    228.02928161621094,
                    228.7484893798828,
                    228.26902770996094,
                    229.61753845214844,
                    232.61424255371094,
                    234.8018341064453,
                    234.67198181152344,
                    237.06935119628906,
                    239.3268585205078,
                    242.3834991455078,
                    242.74310302734375,
                    242.7730712890625,
                    242.5732879638672,
                    246.47900390625,
                    247.4978790283203,
                    246.2192840576172,
                    247.68768310546875,
                    247.85748291015625,
                    250.7642822265625,
                    253.20159912109375,
                    247.77757263183594,
                    249.51565551757812,
                    254.21051025390625,
                    254.98965454101562,
                    257.91644287109375,
                    258.7355041503906,
                    255.30929565429688,
                    251.9230194091797,
                    250.1449737548828,
                    243.5821990966797,
                    243.0927276611328,
                    244.73092651367188,
                    241.94400024414062,
                    242.43344116210938,
                    236.58987426757812,
                    234.14256286621094,
                    233.02378845214844,
                    237.60874938964844,
                    228.00930786132812,
                    229.7274169921875,
                    222.39547729492188,
                    223.58416748046875,
                    223.41436767578125,
                    222.5353240966797,
                    229.6075439453125,
                    237.99832153320312,
                    239.0971221923828,
                    237.3290557861328,
                    235.74081420898438,
                    227.75958251953125,
                    232.54432678222656,
                    232.21469116210938,
                    232.9638671875,
                    227.3800048828125,
                    227.64999389648438,
                    232.6199951171875,
                    236.8699951171875,
                    241.52999877929688,
                    244.60000610351562,
                    244.47000122070312,
                    244.8699951171875,
                    245.8300018310547,
                    245.5500030517578,
                    247.10000610351562,
                    247.0399932861328,
                    240.36000061035156,
                    237.3000030517578,
                    241.83999633789062,
                    238.02999877929688,
                    235.92999267578125,
                    235.74000549316406,
                    235.3300018310547,
                    239.1699981689453
                  ],
                  "decreasing": {
                    "line": {
                      "color": "#808080"
                    }
                  },
                  "high": [
                    169.92763018116116,
                    172.8836708711805,
                    173.56048535052068,
                    173.21212162678884,
                    172.37607625258147,
                    173.49079163745046,
                    171.80873107910156,
                    176.87483361469177,
                    175.77999515234478,
                    177.83030700683594,
                    176.65586961417029,
                    172.23673773536032,
                    171.13194711675717,
                    170.61438491064948,
                    172.78415954350993,
                    171.42056273337485,
                    170.4451942217802,
                    168.54414366405445,
                    169.8778497555363,
                    171.1120488206033,
                    169.58921080070664,
                    168.40481571452685,
                    169.2806811483862,
                    168.29532657810816,
                    174.63540094951088,
                    177.52178245719062,
                    175.7999037342719,
                    172.94338974194338,
                    169.84800441976404,
                    167.8474456964944,
                    165.6179780634261,
                    166.47393259764522,
                    166.26493527613894,
                    168.50434510258808,
                    169.80820075027214,
                    170.53473930129167,
                    175.20270935632288,
                    174.16759809934044,
                    171.89831095590108,
                    172.6049939419865,
                    186.12117099096088,
                    183.3343214775735,
                    184.0310211595987,
                    182.20964601288568,
                    183.792179594264,
                    184.47001925959685,
                    186.47328168344126,
                    187.66925062518712,
                    190.01139602124525,
                    190.45989075478766,
                    190.17084727488813,
                    191.27714266640717,
                    192.08442053272114,
                    192.17412585880137,
                    190.3602230291439,
                    189.94162421863646,
                    192.35350378297326,
                    191.60604467860838,
                    191.53626445370173,
                    191.92496874276912,
                    194.33685694398167,
                    194.66574186569684,
                    196.24044634116564,
                    195.84179017422778,
                    196.28031956711487,
                    196.63910486677477,
                    206.46609195915696,
                    219.46241499269527,
                    216.02395620562416,
                    214.44924427717243,
                    218.21659070332575,
                    217.89766325641614,
                    213.5223688231627,
                    211.18025387128242,
                    211.9875333707341,
                    210.67194975002218,
                    214.1402980033581,
                    215.01736433595826,
                    215.34624626528088,
                    216.78140506529675,
                    219.64181293490427,
                    220.80789184570312,
                    225.69146503075916,
                    227.08678305881674,
                    228.631575647805,
                    232.29927134034506,
                    231.61157070495582,
                    231.86073301422448,
                    236.43535998230433,
                    235.47857190808813,
                    230.68468664215072,
                    229.66810263837593,
                    226.04030439428965,
                    227.01700459563804,
                    226.17984506717187,
                    224.04699357799979,
                    220.11023564894725,
                    218.75477790382115,
                    218.5654190781,
                    219.5919820328496,
                    223.07028238181744,
                    223.72805013234773,
                    224.84432899946665,
                    212.7848420736874,
                    209.28660752946874,
                    212.92436846093156,
                    213.4824924067945,
                    216.05387055494424,
                    219.02793942662467,
                    221.4027217224782,
                    222.54021400164925,
                    224.8551228159093,
                    226.33187474025672,
                    225.49370737790127,
                    226.6711275207631,
                    227.47934890039068,
                    227.8385414771675,
                    227.7188169640382,
                    226.7808777924977,
                    228.34744239539063,
                    229.35520907583674,
                    232.4085012026452,
                    229.89402024722435,
                    228.4971066385697,
                    221.29295584608857,
                    224.98483044961614,
                    224.74535922490057,
                    220.7840910234286,
                    220.9936039050013,
                    222.6000841658612,
                    223.0590781064196,
                    223.54797910505988,
                    216.74297289953918,
                    216.42366284814068,
                    222.22092099435915,
                    229.31531179988679,
                    232.57811312113958,
                    228.94610768522742,
                    228.8463445678705,
                    226.79085685048213,
                    227.99819881641105,
                    229.01596089620384,
                    232.48831176757812,
                    229.14565893600417,
                    226.8706678098605,
                    226.3119038145279,
                    227.49930262356304,
                    225.19438676879486,
                    225.4837307412941,
                    229.24546472466872,
                    228.99599906464633,
                    228.9062089337624,
                    231.22110160659443,
                    236.9684620133565,
                    231.61024577942743,
                    233.3364614020046,
                    235.66133386929857,
                    236.32987592195377,
                    235.70125104779564,
                    234.62362105235994,
                    230.31311065070702,
                    232.7078323586645,
                    234.21451699403664,
                    233.815399347975,
                    232.95729049985403,
                    229.325284321648,
                    224.8551305713263,
                    222.3007315284092,
                    223.45819152571042,
                    225.5735453041769,
                    227.37956894750107,
                    228.4088689967903,
                    225.45212091614073,
                    225.34224111445195,
                    226.4010754152989,
                    228.61864039722624,
                    226.67077335813082,
                    229.4876892234719,
                    229.90722171238716,
                    229.67746064503265,
                    229.90722593821596,
                    230.46661102927646,
                    232.99383009111634,
                    235.31128373473052,
                    235.43115689965902,
                    237.5488197625333,
                    240.52553753151284,
                    242.49337894569658,
                    243.84190102311462,
                    244.2714238935446,
                    244.3613305629988,
                    246.96847124510987,
                    247.93739821602466,
                    250.52454792031958,
                    248.46682524629017,
                    249.01619729452798,
                    251.10392039685559,
                    253.5512208135588,
                    254.0007260278641,
                    251.72323503929724,
                    254.71994465608725,
                    255.36922684225433,
                    257.92641115938613,
                    259.81433504408284,
                    258.41589596104086,
                    253.22159473829512,
                    253.00183336212825,
                    248.826433311358,
                    243.91181916074598,
                    247.05836939894766,
                    245.28032844029428,
                    243.44234164075266,
                    239.8962364632009,
                    234.41227060505477,
                    235.8606656353981,
                    238.6975638581554,
                    237.74859991927732,
                    232.03487756376998,
                    224.17352112887505,
                    223.87384226456615,
                    226.78066167492807,
                    225.38220009721186,
                    231.89502211760887,
                    239.9262098046868,
                    239.5965730646729,
                    240.52553823889048,
                    246.91852728753366,
                    231.5753945205246,
                    232.87396618357337,
                    232.4144684638066,
                    233.54323203112875,
                    233.74300400322835,
                    230.58999633789062,
                    235.22999572753906,
                    236.9600067138672,
                    242.33999633789062,
                    245.5500030517578,
                    245.17999267578125,
                    246.00999450683594,
                    246.77999877929688,
                    248.69000244140625,
                    248.86000061035156,
                    250,
                    244.97999572753906,
                    242.4600067138672,
                    242.08999633789062,
                    244.02999877929688,
                    240.07000732421875,
                    236.5500030517578,
                    237.86000061035156,
                    240.16000366210938
                  ],
                  "increasing": {
                    "line": {
                      "color": "#17BECF"
                    }
                  },
                  "low": [
                    167.6981670423948,
                    168.14604658720506,
                    171.2414336396481,
                    170.20631026653984,
                    169.95748841772314,
                    171.24141844268888,
                    169.4896795825833,
                    172.70452267737835,
                    172.2168180823409,
                    174.2671300256647,
                    170.03711298613993,
                    169.26078406375387,
                    168.65364374159117,
                    168.78303590364706,
                    169.31055559917013,
                    169.70864503919194,
                    168.68350825393796,
                    167.43935975957754,
                    167.78772821512752,
                    168.02662658691406,
                    168.15597599547186,
                    167.4493358859462,
                    167.55881583801002,
                    166.3246362072623,
                    167.36970557110288,
                    173.39129181372058,
                    171.68930847441092,
                    167.47920033817573,
                    167.21046447753906,
                    165.7672716683895,
                    163.3088890664717,
                    163.9956444231876,
                    164.1449405589347,
                    165.42887079721268,
                    167.3597550998357,
                    168.38488714020465,
                    172.28648678772151,
                    169.2010443307548,
                    168.31522402075603,
                    170.08688513916925,
                    181.80157098826203,
                    179.5720873686165,
                    180.46785941606433,
                    180.59724908638574,
                    181.2541604804327,
                    181.51994258592455,
                    184.00157793065927,
                    185.66597383097238,
                    186.7423838683229,
                    189.02471179656044,
                    188.54630236847427,
                    188.37688635675946,
                    190.28048580582154,
                    189.63266445026173,
                    186.00486572472462,
                    187.41012383078694,
                    188.46657377923762,
                    188.87521703261189,
                    189.99146851693155,
                    189.27387511297837,
                    191.8751293663799,
                    192.38340418619828,
                    194.2172473626493,
                    193.5195930765027,
                    193.48969558531903,
                    191.50634675889475,
                    192.9814138224934,
                    206.20696163392407,
                    210.89121315624297,
                    210.59221246372425,
                    212.0074632920053,
                    212.28651711595563,
                    208.1504242370716,
                    206.4162661482939,
                    205.89799892378585,
                    207.91122410230182,
                    209.9344322470105,
                    211.63872006367095,
                    209.5955695452833,
                    211.2101334408119,
                    214.3795002092306,
                    218.29632866276663,
                    220.90754038733803,
                    222.50218547217585,
                    225.6117264169712,
                    228.48209857735924,
                    225.01375035477759,
                    227.91399100155513,
                    232.3092281117703,
                    231.55176727169922,
                    225.88082486496336,
                    221.52547133243425,
                    222.53209087352224,
                    222.34271224556252,
                    221.9341046141529,
                    216.40268749627205,
                    213.9010930254534,
                    215.2864239407029,
                    215.0273073866339,
                    215.39607720378967,
                    219.89096542123676,
                    216.29304757526307,
                    216.98075820790513,
                    195.34346157584417,
                    200.39648844230862,
                    205.69865382063958,
                    208.13048513245963,
                    211.259984607228,
                    215.12653755613,
                    218.52904142421028,
                    219.21752501736546,
                    222.27079905335071,
                    223.15885022096822,
                    222.55017371179113,
                    224.95490346311303,
                    224.55579052395228,
                    223.4082896744648,
                    223.83736023691762,
                    223.39832305195915,
                    224.39613201364162,
                    225.18438078371824,
                    228.37737982242845,
                    226.98043458769098,
                    220.68429981162342,
                    217.0023958735564,
                    221.03353533260162,
                    219.2873705935476,
                    216.23410730849415,
                    216.25403537150672,
                    217.41150656335964,
                    219.33727360197898,
                    221.42266715079168,
                    213.4502168549942,
                    214.02893954474482,
                    217.06226125375574,
                    224.1367068474718,
                    227.12012443578536,
                    225.31410200503296,
                    225.2342838755063,
                    223.52804884217394,
                    224.9149883158055,
                    226.80083496693393,
                    229.1456625683617,
                    223.24864947388588,
                    222.53022998119604,
                    222.82957789090332,
                    223.63780617480538,
                    220.84396072803747,
                    222.75973024040246,
                    224.33627096325682,
                    226.67111410985407,
                    226.84074743911052,
                    228.09798564307096,
                    231.85969551276995,
                    229.33525401328018,
                    230.0137723986246,
                    233.4961010856326,
                    233.9351372634737,
                    232.08920560922664,
                    227.25982300232985,
                    227.90839952304313,
                    229.0658541264054,
                    232.03931169048735,
                    231.8098189074392,
                    229.04590082483264,
                    224.8750719925984,
                    219.78628458026085,
                    219.2275088130919,
                    220.65436486265338,
                    220.7042571772517,
                    224.0768403097807,
                    226.16134014604208,
                    221.25673663335022,
                    223.11469448970428,
                    222.5153482196322,
                    224.7528954725484,
                    224.023689933323,
                    224.92270099550518,
                    226.41106572007726,
                    225.64190448211673,
                    225.46211628612434,
                    227.80952873867182,
                    229.48769048234254,
                    233.07373841155265,
                    233.55321672420507,
                    233.71304074851764,
                    236.89953466637493,
                    238.6376176509325,
                    240.9850414761411,
                    241.86408229295347,
                    241.8141281502541,
                    241.48449521514058,
                    245.0705399660552,
                    245.98952569372008,
                    245.41017310687806,
                    245.96955931284188,
                    247.3780059899919,
                    249.50566587259755,
                    247.46791553993853,
                    246.81862390484895,
                    245.42017186050566,
                    253.17164603591402,
                    255.0096198916901,
                    257.34704665632455,
                    252.78207543596488,
                    250.47461491371794,
                    249.15605553782555,
                    241.55442975303322,
                    241.624340886356,
                    242.93290033169586,
                    241.08494412707995,
                    239.78635773622742,
                    232.74409661721964,
                    229.46771001708314,
                    232.21468051006943,
                    234.17252500331003,
                    227.7795647267042,
                    228.22906438809179,
                    219.13906319002535,
                    219.54859611049605,
                    222.05586069453574,
                    221.16683361690275,
                    223.73399710835045,
                    230.55650666713984,
                    233.75299176206667,
                    236.94948349745044,
                    233.18362815459494,
                    225.45212191586603,
                    226.40107197135944,
                    228.0193068583431,
                    230.17692277145878,
                    227.0104008794231,
                    227.1999969482422,
                    228.1300048828125,
                    230.67999267578125,
                    235.57000732421875,
                    240.99000549316406,
                    241.83999633789062,
                    243.16000366210938,
                    244.2899932861328,
                    245.22000122070312,
                    244.4199981689453,
                    244.91000366210938,
                    239.1300048828125,
                    237.05999755859375,
                    230.1999969482422,
                    236.11000061035156,
                    234.67999267578125,
                    229.22999572753906,
                    233.16000366210938,
                    234.75999450683594
                  ],
                  "name": "AAPL",
                  "open": [
                    168.35505375316498,
                    168.20576217934803,
                    172.12725037151972,
                    172.33625244410158,
                    171.9580519129805,
                    172.0973773021251,
                    170.36554869703198,
                    174.7448914522954,
                    173.52065910891577,
                    174.89417408943874,
                    176.2179350177799,
                    170.95279171103329,
                    169.76839047714014,
                    169.20106023000122,
                    169.60914876354798,
                    170.94282285202152,
                    170.38547862745995,
                    168.28537106183597,
                    167.99673277562965,
                    169.4897042530356,
                    168.7929675547899,
                    168.23561647794648,
                    167.90716183961618,
                    168.0066961691415,
                    167.54885233902874,
                    173.44104468475973,
                    174.53586805138283,
                    170.94284143183614,
                    168.81289870293196,
                    167.24031189258443,
                    165.42888374733738,
                    164.74211969252124,
                    164.57292762929356,
                    165.75730653407012,
                    168.73327450279362,
                    169.08160945714914,
                    172.55520693212748,
                    172.51539602156524,
                    168.78301634804097,
                    171.69926693100732,
                    185.77280978325868,
                    181.4930249418685,
                    182.58783874817743,
                    181.9906787165348,
                    181.70204263297254,
                    184.280653249985,
                    184.81883849593646,
                    186.88188838827716,
                    187.28058361009533,
                    189.83199615864385,
                    188.87519880271202,
                    188.69582178398366,
                    190.44991454290118,
                    191.625965130265,
                    190.34028576334703,
                    188.1875250894915,
                    190.86848939299406,
                    188.97488815842905,
                    190.12102272627732,
                    190.79874896001851,
                    192.25384615761888,
                    193.98801176077237,
                    194.74547082752238,
                    195.03450583879902,
                    193.99798178181695,
                    196.2404356269631,
                    193.00133588013964,
                    206.67538853844061,
                    214.02069454325613,
                    213.13367378271622,
                    212.65527993528355,
                    216.86113841241473,
                    213.21339445126264,
                    209.68527826262047,
                    207.02421872275744,
                    208.44940858434205,
                    210.79155216910215,
                    213.97087836680484,
                    215.04724812174294,
                    211.37956216985054,
                    215.42597092933886,
                    219.26308073535034,
                    220.90754038733803,
                    226.32931907748747,
                    227.1664984715379,
                    228.5319341376685,
                    230.61492037011672,
                    228.1531925563972,
                    235.68787221439834,
                    234.2128217621178,
                    228.68140979310064,
                    229.50863493701104,
                    224.06694094221692,
                    226.24957960487185,
                    223.61844622977043,
                    223.24967028544495,
                    218.19665359620475,
                    217.96741565742542,
                    216.23326096996,
                    218.45580119769897,
                    220.6982497488722,
                    223.618417993468,
                    218.41592196270943,
                    198.42310739676375,
                    204.61231506511243,
                    206.20693999643444,
                    212.39614722358988,
                    211.38955402452135,
                    215.59550663031672,
                    218.52904142421028,
                    220.08562480803565,
                    224.10676986474735,
                    223.42826155403992,
                    225.22429606357244,
                    225.27420804373648,
                    226.0225636042008,
                    227.28974628083643,
                    225.16444130741013,
                    226.2620154817008,
                    225.50369501854036,
                    227.4194670399241,
                    229.59470189609323,
                    229.6844899472923,
                    228.04809790202157,
                    221.17322424578342,
                    221.14329437614535,
                    223.45818364879955,
                    220.3350822772696,
                    218.43922835246784,
                    220.97367404683663,
                    222.01138090428717,
                    223.08899783711732,
                    216.0644583037111,
                    215.27619443719672,
                    217.07224903728172,
                    224.49591687958383,
                    229.46496974860833,
                    226.8407407931877,
                    228.14786961487798,
                    224.43603888049125,
                    226.80083714120576,
                    227.9582911728241,
                    229.5348054854851,
                    229.0159547825387,
                    225.3939223013361,
                    224.64557310138042,
                    227.39951613756347,
                    224.0069975750027,
                    223.80742742544692,
                    224.73538646570117,
                    227.279775108536,
                    228.79644988971887,
                    228.19775690140833,
                    233.0969778733182,
                    231.09139869260778,
                    232.9173703418766,
                    235.66133386929857,
                    233.9351372634737,
                    233.376366009758,
                    233.56595129753524,
                    229.4749437774939,
                    229.23547896644118,
                    232.80762499530724,
                    232.58810476348472,
                    232.09917848988178,
                    228.83635490362704,
                    220.48474431371312,
                    220.5046966292777,
                    221.31291912362707,
                    222.12113695305962,
                    224.13670611072257,
                    226.92049995960826,
                    224.7528927426808,
                    224.30339000560164,
                    223.76397540644066,
                    224.77287777547028,
                    226.15134020310103,
                    225.00261496304853,
                    226.73070634208972,
                    227.80951934283004,
                    228.6286329426038,
                    227.80952873867182,
                    231.2058026888721,
                    233.07373841155265,
                    234.21249554010248,
                    234.55211454995276,
                    237.00941446483552,
                    239.54662188503684,
                    242.60325739533934,
                    243.72204013219255,
                    242.6432183998472,
                    241.56440918324205,
                    246.61884065291167,
                    247.68767076725757,
                    246.61885092340057,
                    247.54782582286595,
                    247.71764416028498,
                    249.80533943156328,
                    251.88305927654196,
                    247.22817727073837,
                    247.76758181309805,
                    254.49020366493687,
                    255.2094124344067,
                    257.90642916266114,
                    257.54682582842287,
                    251.95298524244893,
                    252.16275955239965,
                    248.65660659999048,
                    243.0927276611328,
                    244.04168187374515,
                    242.71314361950866,
                    241.65429905026372,
                    239.7463920626497,
                    233.27352322575203,
                    234.49217517741417,
                    234.38230107288462,
                    237.089336348529,
                    231.86506609768284,
                    223.75398423747347,
                    219.54859611049605,
                    224.493183388126,
                    224.53312753788666,
                    223.77396171163917,
                    230.59647127201654,
                    233.86287156365174,
                    238.40787147181928,
                    246.91852728753366,
                    229.73741895869952,
                    227.00041910872287,
                    228.27901582634638,
                    231.0359788855247,
                    232.3445476829273,
                    229.57000732421875,
                    228.1999969482422,
                    231.1999969482422,
                    236.91000366210938,
                    241.25,
                    244.14999389648438,
                    244.66000366210938,
                    244.94000244140625,
                    245.9499969482422,
                    244.92999267578125,
                    248,
                    244.3300018310547,
                    239.41000366210938,
                    236.9499969482422,
                    241.7899932861328,
                    237.7100067138672,
                    235.4199981689453,
                    234.44000244140625,
                    235.10499572753906
                  ],
                  "showlegend": true,
                  "x": [
                    "2024-03-07",
                    "2024-03-08",
                    "2024-03-11",
                    "2024-03-12",
                    "2024-03-13",
                    "2024-03-14",
                    "2024-03-15",
                    "2024-03-18",
                    "2024-03-19",
                    "2024-03-20",
                    "2024-03-21",
                    "2024-03-22",
                    "2024-03-25",
                    "2024-03-26",
                    "2024-03-27",
                    "2024-03-28",
                    "2024-04-01",
                    "2024-04-02",
                    "2024-04-03",
                    "2024-04-04",
                    "2024-04-05",
                    "2024-04-08",
                    "2024-04-09",
                    "2024-04-10",
                    "2024-04-11",
                    "2024-04-12",
                    "2024-04-15",
                    "2024-04-16",
                    "2024-04-17",
                    "2024-04-18",
                    "2024-04-19",
                    "2024-04-22",
                    "2024-04-23",
                    "2024-04-24",
                    "2024-04-25",
                    "2024-04-26",
                    "2024-04-29",
                    "2024-04-30",
                    "2024-05-01",
                    "2024-05-02",
                    "2024-05-03",
                    "2024-05-06",
                    "2024-05-07",
                    "2024-05-08",
                    "2024-05-09",
                    "2024-05-10",
                    "2024-05-13",
                    "2024-05-14",
                    "2024-05-15",
                    "2024-05-16",
                    "2024-05-17",
                    "2024-05-20",
                    "2024-05-21",
                    "2024-05-22",
                    "2024-05-23",
                    "2024-05-24",
                    "2024-05-28",
                    "2024-05-29",
                    "2024-05-30",
                    "2024-05-31",
                    "2024-06-03",
                    "2024-06-04",
                    "2024-06-05",
                    "2024-06-06",
                    "2024-06-07",
                    "2024-06-10",
                    "2024-06-11",
                    "2024-06-12",
                    "2024-06-13",
                    "2024-06-14",
                    "2024-06-17",
                    "2024-06-18",
                    "2024-06-20",
                    "2024-06-21",
                    "2024-06-24",
                    "2024-06-25",
                    "2024-06-26",
                    "2024-06-27",
                    "2024-06-28",
                    "2024-07-01",
                    "2024-07-02",
                    "2024-07-03",
                    "2024-07-05",
                    "2024-07-08",
                    "2024-07-09",
                    "2024-07-10",
                    "2024-07-11",
                    "2024-07-12",
                    "2024-07-15",
                    "2024-07-16",
                    "2024-07-17",
                    "2024-07-18",
                    "2024-07-19",
                    "2024-07-22",
                    "2024-07-23",
                    "2024-07-24",
                    "2024-07-25",
                    "2024-07-26",
                    "2024-07-29",
                    "2024-07-30",
                    "2024-07-31",
                    "2024-08-01",
                    "2024-08-02",
                    "2024-08-05",
                    "2024-08-06",
                    "2024-08-07",
                    "2024-08-08",
                    "2024-08-09",
                    "2024-08-12",
                    "2024-08-13",
                    "2024-08-14",
                    "2024-08-15",
                    "2024-08-16",
                    "2024-08-19",
                    "2024-08-20",
                    "2024-08-21",
                    "2024-08-22",
                    "2024-08-23",
                    "2024-08-26",
                    "2024-08-27",
                    "2024-08-28",
                    "2024-08-29",
                    "2024-08-30",
                    "2024-09-03",
                    "2024-09-04",
                    "2024-09-05",
                    "2024-09-06",
                    "2024-09-09",
                    "2024-09-10",
                    "2024-09-11",
                    "2024-09-12",
                    "2024-09-13",
                    "2024-09-16",
                    "2024-09-17",
                    "2024-09-18",
                    "2024-09-19",
                    "2024-09-20",
                    "2024-09-23",
                    "2024-09-24",
                    "2024-09-25",
                    "2024-09-26",
                    "2024-09-27",
                    "2024-09-30",
                    "2024-10-01",
                    "2024-10-02",
                    "2024-10-03",
                    "2024-10-04",
                    "2024-10-07",
                    "2024-10-08",
                    "2024-10-09",
                    "2024-10-10",
                    "2024-10-11",
                    "2024-10-14",
                    "2024-10-15",
                    "2024-10-16",
                    "2024-10-17",
                    "2024-10-18",
                    "2024-10-21",
                    "2024-10-22",
                    "2024-10-23",
                    "2024-10-24",
                    "2024-10-25",
                    "2024-10-28",
                    "2024-10-29",
                    "2024-10-30",
                    "2024-10-31",
                    "2024-11-01",
                    "2024-11-04",
                    "2024-11-05",
                    "2024-11-06",
                    "2024-11-07",
                    "2024-11-08",
                    "2024-11-11",
                    "2024-11-12",
                    "2024-11-13",
                    "2024-11-14",
                    "2024-11-15",
                    "2024-11-18",
                    "2024-11-19",
                    "2024-11-20",
                    "2024-11-21",
                    "2024-11-22",
                    "2024-11-25",
                    "2024-11-26",
                    "2024-11-27",
                    "2024-11-29",
                    "2024-12-02",
                    "2024-12-03",
                    "2024-12-04",
                    "2024-12-05",
                    "2024-12-06",
                    "2024-12-09",
                    "2024-12-10",
                    "2024-12-11",
                    "2024-12-12",
                    "2024-12-13",
                    "2024-12-16",
                    "2024-12-17",
                    "2024-12-18",
                    "2024-12-19",
                    "2024-12-20",
                    "2024-12-23",
                    "2024-12-24",
                    "2024-12-26",
                    "2024-12-27",
                    "2024-12-30",
                    "2024-12-31",
                    "2025-01-02",
                    "2025-01-03",
                    "2025-01-06",
                    "2025-01-07",
                    "2025-01-08",
                    "2025-01-10",
                    "2025-01-13",
                    "2025-01-14",
                    "2025-01-15",
                    "2025-01-16",
                    "2025-01-17",
                    "2025-01-21",
                    "2025-01-22",
                    "2025-01-23",
                    "2025-01-24",
                    "2025-01-27",
                    "2025-01-28",
                    "2025-01-29",
                    "2025-01-30",
                    "2025-01-31",
                    "2025-02-03",
                    "2025-02-04",
                    "2025-02-05",
                    "2025-02-06",
                    "2025-02-07",
                    "2025-02-10",
                    "2025-02-11",
                    "2025-02-12",
                    "2025-02-13",
                    "2025-02-14",
                    "2025-02-18",
                    "2025-02-19",
                    "2025-02-20",
                    "2025-02-21",
                    "2025-02-24",
                    "2025-02-25",
                    "2025-02-26",
                    "2025-02-27",
                    "2025-02-28",
                    "2025-03-03",
                    "2025-03-04",
                    "2025-03-05",
                    "2025-03-06",
                    "2025-03-07"
                  ],
                  "yaxis": "y2",
                  "type": "candlestick"
                }
              ],
              "layout": {
                "legend": {
                  "bgcolor": "#F5F6F9",
                  "font": {
                    "color": "#4D5663"
                  },
                  "orientation": "h",
                  "x": 0.3,
                  "y": 0.95,
                  "yanchor": "bottom"
                },
                "margin": {
                  "b": 30,
                  "l": 30,
                  "r": 30,
                  "t": 30
                },
                "paper_bgcolor": "#F5F6F9",
                "plot_bgcolor": "#F5F6F9",
                "showlegend": true,
                "template": {
                  "data": {
                    "barpolar": [
                      {
                        "marker": {
                          "line": {
                            "color": "#E5ECF6",
                            "width": 0.5
                          },
                          "pattern": {
                            "fillmode": "overlay",
                            "size": 10,
                            "solidity": 0.2
                          }
                        },
                        "type": "barpolar"
                      }
                    ],
                    "bar": [
                      {
                        "error_x": {
                          "color": "#2a3f5f"
                        },
                        "error_y": {
                          "color": "#2a3f5f"
                        },
                        "marker": {
                          "line": {
                            "color": "#E5ECF6",
                            "width": 0.5
                          },
                          "pattern": {
                            "fillmode": "overlay",
                            "size": 10,
                            "solidity": 0.2
                          }
                        },
                        "type": "bar"
                      }
                    ],
                    "carpet": [
                      {
                        "aaxis": {
                          "endlinecolor": "#2a3f5f",
                          "gridcolor": "white",
                          "linecolor": "white",
                          "minorgridcolor": "white",
                          "startlinecolor": "#2a3f5f"
                        },
                        "baxis": {
                          "endlinecolor": "#2a3f5f",
                          "gridcolor": "white",
                          "linecolor": "white",
                          "minorgridcolor": "white",
                          "startlinecolor": "#2a3f5f"
                        },
                        "type": "carpet"
                      }
                    ],
                    "choropleth": [
                      {
                        "colorbar": {
                          "outlinewidth": 0,
                          "ticks": ""
                        },
                        "type": "choropleth"
                      }
                    ],
                    "contourcarpet": [
                      {
                        "colorbar": {
                          "outlinewidth": 0,
                          "ticks": ""
                        },
                        "type": "contourcarpet"
                      }
                    ],
                    "contour": [
                      {
                        "colorbar": {
                          "outlinewidth": 0,
                          "ticks": ""
                        },
                        "colorscale": [
                          [
                            0,
                            "#0d0887"
                          ],
                          [
                            0.1111111111111111,
                            "#46039f"
                          ],
                          [
                            0.2222222222222222,
                            "#7201a8"
                          ],
                          [
                            0.3333333333333333,
                            "#9c179e"
                          ],
                          [
                            0.4444444444444444,
                            "#bd3786"
                          ],
                          [
                            0.5555555555555556,
                            "#d8576b"
                          ],
                          [
                            0.6666666666666666,
                            "#ed7953"
                          ],
                          [
                            0.7777777777777778,
                            "#fb9f3a"
                          ],
                          [
                            0.8888888888888888,
                            "#fdca26"
                          ],
                          [
                            1,
                            "#f0f921"
                          ]
                        ],
                        "type": "contour"
                      }
                    ],
                    "heatmapgl": [
                      {
                        "colorbar": {
                          "outlinewidth": 0,
                          "ticks": ""
                        },
                        "colorscale": [
                          [
                            0,
                            "#0d0887"
                          ],
                          [
                            0.1111111111111111,
                            "#46039f"
                          ],
                          [
                            0.2222222222222222,
                            "#7201a8"
                          ],
                          [
                            0.3333333333333333,
                            "#9c179e"
                          ],
                          [
                            0.4444444444444444,
                            "#bd3786"
                          ],
                          [
                            0.5555555555555556,
                            "#d8576b"
                          ],
                          [
                            0.6666666666666666,
                            "#ed7953"
                          ],
                          [
                            0.7777777777777778,
                            "#fb9f3a"
                          ],
                          [
                            0.8888888888888888,
                            "#fdca26"
                          ],
                          [
                            1,
                            "#f0f921"
                          ]
                        ],
                        "type": "heatmapgl"
                      }
                    ],
                    "heatmap": [
                      {
                        "colorbar": {
                          "outlinewidth": 0,
                          "ticks": ""
                        },
                        "colorscale": [
                          [
                            0,
                            "#0d0887"
                          ],
                          [
                            0.1111111111111111,
                            "#46039f"
                          ],
                          [
                            0.2222222222222222,
                            "#7201a8"
                          ],
                          [
                            0.3333333333333333,
                            "#9c179e"
                          ],
                          [
                            0.4444444444444444,
                            "#bd3786"
                          ],
                          [
                            0.5555555555555556,
                            "#d8576b"
                          ],
                          [
                            0.6666666666666666,
                            "#ed7953"
                          ],
                          [
                            0.7777777777777778,
                            "#fb9f3a"
                          ],
                          [
                            0.8888888888888888,
                            "#fdca26"
                          ],
                          [
                            1,
                            "#f0f921"
                          ]
                        ],
                        "type": "heatmap"
                      }
                    ],
                    "histogram2dcontour": [
                      {
                        "colorbar": {
                          "outlinewidth": 0,
                          "ticks": ""
                        },
                        "colorscale": [
                          [
                            0,
                            "#0d0887"
                          ],
                          [
                            0.1111111111111111,
                            "#46039f"
                          ],
                          [
                            0.2222222222222222,
                            "#7201a8"
                          ],
                          [
                            0.3333333333333333,
                            "#9c179e"
                          ],
                          [
                            0.4444444444444444,
                            "#bd3786"
                          ],
                          [
                            0.5555555555555556,
                            "#d8576b"
                          ],
                          [
                            0.6666666666666666,
                            "#ed7953"
                          ],
                          [
                            0.7777777777777778,
                            "#fb9f3a"
                          ],
                          [
                            0.8888888888888888,
                            "#fdca26"
                          ],
                          [
                            1,
                            "#f0f921"
                          ]
                        ],
                        "type": "histogram2dcontour"
                      }
                    ],
                    "histogram2d": [
                      {
                        "colorbar": {
                          "outlinewidth": 0,
                          "ticks": ""
                        },
                        "colorscale": [
                          [
                            0,
                            "#0d0887"
                          ],
                          [
                            0.1111111111111111,
                            "#46039f"
                          ],
                          [
                            0.2222222222222222,
                            "#7201a8"
                          ],
                          [
                            0.3333333333333333,
                            "#9c179e"
                          ],
                          [
                            0.4444444444444444,
                            "#bd3786"
                          ],
                          [
                            0.5555555555555556,
                            "#d8576b"
                          ],
                          [
                            0.6666666666666666,
                            "#ed7953"
                          ],
                          [
                            0.7777777777777778,
                            "#fb9f3a"
                          ],
                          [
                            0.8888888888888888,
                            "#fdca26"
                          ],
                          [
                            1,
                            "#f0f921"
                          ]
                        ],
                        "type": "histogram2d"
                      }
                    ],
                    "histogram": [
                      {
                        "marker": {
                          "pattern": {
                            "fillmode": "overlay",
                            "size": 10,
                            "solidity": 0.2
                          }
                        },
                        "type": "histogram"
                      }
                    ],
                    "mesh3d": [
                      {
                        "colorbar": {
                          "outlinewidth": 0,
                          "ticks": ""
                        },
                        "type": "mesh3d"
                      }
                    ],
                    "parcoords": [
                      {
                        "line": {
                          "colorbar": {
                            "outlinewidth": 0,
                            "ticks": ""
                          }
                        },
                        "type": "parcoords"
                      }
                    ],
                    "pie": [
                      {
                        "automargin": true,
                        "type": "pie"
                      }
                    ],
                    "scatter3d": [
                      {
                        "line": {
                          "colorbar": {
                            "outlinewidth": 0,
                            "ticks": ""
                          }
                        },
                        "marker": {
                          "colorbar": {
                            "outlinewidth": 0,
                            "ticks": ""
                          }
                        },
                        "type": "scatter3d"
                      }
                    ],
                    "scattercarpet": [
                      {
                        "marker": {
                          "colorbar": {
                            "outlinewidth": 0,
                            "ticks": ""
                          }
                        },
                        "type": "scattercarpet"
                      }
                    ],
                    "scattergeo": [
                      {
                        "marker": {
                          "colorbar": {
                            "outlinewidth": 0,
                            "ticks": ""
                          }
                        },
                        "type": "scattergeo"
                      }
                    ],
                    "scattergl": [
                      {
                        "marker": {
                          "colorbar": {
                            "outlinewidth": 0,
                            "ticks": ""
                          }
                        },
                        "type": "scattergl"
                      }
                    ],
                    "scattermapbox": [
                      {
                        "marker": {
                          "colorbar": {
                            "outlinewidth": 0,
                            "ticks": ""
                          }
                        },
                        "type": "scattermapbox"
                      }
                    ],
                    "scatterpolargl": [
                      {
                        "marker": {
                          "colorbar": {
                            "outlinewidth": 0,
                            "ticks": ""
                          }
                        },
                        "type": "scatterpolargl"
                      }
                    ],
                    "scatterpolar": [
                      {
                        "marker": {
                          "colorbar": {
                            "outlinewidth": 0,
                            "ticks": ""
                          }
                        },
                        "type": "scatterpolar"
                      }
                    ],
                    "scatter": [
                      {
                        "fillpattern": {
                          "fillmode": "overlay",
                          "size": 10,
                          "solidity": 0.2
                        },
                        "type": "scatter"
                      }
                    ],
                    "scatterternary": [
                      {
                        "marker": {
                          "colorbar": {
                            "outlinewidth": 0,
                            "ticks": ""
                          }
                        },
                        "type": "scatterternary"
                      }
                    ],
                    "surface": [
                      {
                        "colorbar": {
                          "outlinewidth": 0,
                          "ticks": ""
                        },
                        "colorscale": [
                          [
                            0,
                            "#0d0887"
                          ],
                          [
                            0.1111111111111111,
                            "#46039f"
                          ],
                          [
                            0.2222222222222222,
                            "#7201a8"
                          ],
                          [
                            0.3333333333333333,
                            "#9c179e"
                          ],
                          [
                            0.4444444444444444,
                            "#bd3786"
                          ],
                          [
                            0.5555555555555556,
                            "#d8576b"
                          ],
                          [
                            0.6666666666666666,
                            "#ed7953"
                          ],
                          [
                            0.7777777777777778,
                            "#fb9f3a"
                          ],
                          [
                            0.8888888888888888,
                            "#fdca26"
                          ],
                          [
                            1,
                            "#f0f921"
                          ]
                        ],
                        "type": "surface"
                      }
                    ],
                    "table": [
                      {
                        "cells": {
                          "fill": {
                            "color": "#EBF0F8"
                          },
                          "line": {
                            "color": "white"
                          }
                        },
                        "header": {
                          "fill": {
                            "color": "#C8D4E3"
                          },
                          "line": {
                            "color": "white"
                          }
                        },
                        "type": "table"
                      }
                    ]
                  },
                  "layout": {
                    "annotationdefaults": {
                      "arrowcolor": "#2a3f5f",
                      "arrowhead": 0,
                      "arrowwidth": 1
                    },
                    "autotypenumbers": "strict",
                    "coloraxis": {
                      "colorbar": {
                        "outlinewidth": 0,
                        "ticks": ""
                      }
                    },
                    "colorscale": {
                      "diverging": [
                        [
                          0,
                          "#8e0152"
                        ],
                        [
                          0.1,
                          "#c51b7d"
                        ],
                        [
                          0.2,
                          "#de77ae"
                        ],
                        [
                          0.3,
                          "#f1b6da"
                        ],
                        [
                          0.4,
                          "#fde0ef"
                        ],
                        [
                          0.5,
                          "#f7f7f7"
                        ],
                        [
                          0.6,
                          "#e6f5d0"
                        ],
                        [
                          0.7,
                          "#b8e186"
                        ],
                        [
                          0.8,
                          "#7fbc41"
                        ],
                        [
                          0.9,
                          "#4d9221"
                        ],
                        [
                          1,
                          "#276419"
                        ]
                      ],
                      "sequential": [
                        [
                          0,
                          "#0d0887"
                        ],
                        [
                          0.1111111111111111,
                          "#46039f"
                        ],
                        [
                          0.2222222222222222,
                          "#7201a8"
                        ],
                        [
                          0.3333333333333333,
                          "#9c179e"
                        ],
                        [
                          0.4444444444444444,
                          "#bd3786"
                        ],
                        [
                          0.5555555555555556,
                          "#d8576b"
                        ],
                        [
                          0.6666666666666666,
                          "#ed7953"
                        ],
                        [
                          0.7777777777777778,
                          "#fb9f3a"
                        ],
                        [
                          0.8888888888888888,
                          "#fdca26"
                        ],
                        [
                          1,
                          "#f0f921"
                        ]
                      ],
                      "sequentialminus": [
                        [
                          0,
                          "#0d0887"
                        ],
                        [
                          0.1111111111111111,
                          "#46039f"
                        ],
                        [
                          0.2222222222222222,
                          "#7201a8"
                        ],
                        [
                          0.3333333333333333,
                          "#9c179e"
                        ],
                        [
                          0.4444444444444444,
                          "#bd3786"
                        ],
                        [
                          0.5555555555555556,
                          "#d8576b"
                        ],
                        [
                          0.6666666666666666,
                          "#ed7953"
                        ],
                        [
                          0.7777777777777778,
                          "#fb9f3a"
                        ],
                        [
                          0.8888888888888888,
                          "#fdca26"
                        ],
                        [
                          1,
                          "#f0f921"
                        ]
                      ]
                    },
                    "colorway": [
                      "#636efa",
                      "#EF553B",
                      "#00cc96",
                      "#ab63fa",
                      "#FFA15A",
                      "#19d3f3",
                      "#FF6692",
                      "#B6E880",
                      "#FF97FF",
                      "#FECB52"
                    ],
                    "font": {
                      "color": "#2a3f5f"
                    },
                    "geo": {
                      "bgcolor": "white",
                      "lakecolor": "white",
                      "landcolor": "#E5ECF6",
                      "showlakes": true,
                      "showland": true,
                      "subunitcolor": "white"
                    },
                    "hoverlabel": {
                      "align": "left"
                    },
                    "hovermode": "closest",
                    "mapbox": {
                      "style": "light"
                    },
                    "paper_bgcolor": "white",
                    "plot_bgcolor": "#E5ECF6",
                    "polar": {
                      "angularaxis": {
                        "gridcolor": "white",
                        "linecolor": "white",
                        "ticks": ""
                      },
                      "bgcolor": "#E5ECF6",
                      "radialaxis": {
                        "gridcolor": "white",
                        "linecolor": "white",
                        "ticks": ""
                      }
                    },
                    "scene": {
                      "xaxis": {
                        "backgroundcolor": "#E5ECF6",
                        "gridcolor": "white",
                        "gridwidth": 2,
                        "linecolor": "white",
                        "showbackground": true,
                        "ticks": "",
                        "zerolinecolor": "white"
                      },
                      "yaxis": {
                        "backgroundcolor": "#E5ECF6",
                        "gridcolor": "white",
                        "gridwidth": 2,
                        "linecolor": "white",
                        "showbackground": true,
                        "ticks": "",
                        "zerolinecolor": "white"
                      },
                      "zaxis": {
                        "backgroundcolor": "#E5ECF6",
                        "gridcolor": "white",
                        "gridwidth": 2,
                        "linecolor": "white",
                        "showbackground": true,
                        "ticks": "",
                        "zerolinecolor": "white"
                      }
                    },
                    "shapedefaults": {
                      "line": {
                        "color": "#2a3f5f"
                      }
                    },
                    "ternary": {
                      "aaxis": {
                        "gridcolor": "white",
                        "linecolor": "white",
                        "ticks": ""
                      },
                      "baxis": {
                        "gridcolor": "white",
                        "linecolor": "white",
                        "ticks": ""
                      },
                      "bgcolor": "#E5ECF6",
                      "caxis": {
                        "gridcolor": "white",
                        "linecolor": "white",
                        "ticks": ""
                      }
                    },
                    "title": {
                      "x": 0.05
                    },
                    "xaxis": {
                      "automargin": true,
                      "gridcolor": "white",
                      "linecolor": "white",
                      "ticks": "",
                      "title": {
                        "standoff": 15
                      },
                      "zerolinecolor": "white",
                      "zerolinewidth": 2
                    },
                    "yaxis": {
                      "automargin": true,
                      "gridcolor": "white",
                      "linecolor": "white",
                      "ticks": "",
                      "title": {
                        "standoff": 15
                      },
                      "zerolinecolor": "white",
                      "zerolinewidth": 2
                    }
                  }
                },
                "title": {
                  "font": {
                    "color": "#4D5663"
                  },
                  "text": "Quantitative Figure"
                },
                "xaxis": {
                  "anchor": "y2",
                  "gridcolor": "#E1E5ED",
                  "rangeselector": {
                    "bgcolor": "rgba(150, 200, 250, 1)",
                    "buttons": [
                      {
                        "count": 1,
                        "label": "1m",
                        "step": "month",
                        "stepmode": "backward"
                      },
                      {
                        "count": 1,
                        "label": "1y",
                        "step": "year",
                        "stepmode": "backward"
                      }
                    ],
                    "font": {
                      "size": 13
                    },
                    "visible": false,
                    "x": 0,
                    "y": 0.9
                  },
                  "rangeslider": {
                    "visible": false
                  },
                  "showgrid": true,
                  "tickfont": {
                    "color": "#4D5663"
                  },
                  "title": {
                    "font": {
                      "color": "#4D5663"
                    },
                    "text": ""
                  },
                  "zerolinecolor": "#E1E5ED"
                },
                "yaxis": {
                  "gridcolor": "#E1E5ED",
                  "showgrid": true,
                  "showticklabels": false,
                  "tickfont": {
                    "color": "#4D5663"
                  },
                  "title": {
                    "font": {
                      "color": "#4D5663"
                    },
                    "text": ""
                  },
                  "zerolinecolor": "#E1E5ED"
                },
                "yaxis2": {
                  "domain": [
                    0.23,
                    0.9
                  ],
                  "gridcolor": "#E1E5ED",
                  "showgrid": true,
                  "tickfont": {
                    "color": "#4D5663"
                  },
                  "title": {
                    "font": {
                      "color": "#4D5663"
                    },
                    "text": ""
                  },
                  "zerolinecolor": "#E1E5ED"
                },
                "yaxis3": {
                  "domain": [
                    0,
                    0.15
                  ],
                  "gridcolor": "#E1E5ED",
                  "showgrid": true,
                  "tickfont": {
                    "color": "#4D5663"
                  },
                  "title": {
                    "font": {
                      "color": "#4D5663"
                    },
                    "text": ""
                  },
                  "zerolinecolor": "#E1E5ED"
                }
              },
              "config": {
                "showLink": true,
                "linkText": "Export to plot.ly",
                "plotlyServerURL": "https://plot.ly"
              }
            },
            "text/html": [
              "<div>                            <div id=\"27d05f5c-fc83-4e75-8198-264249946f3b\" class=\"plotly-graph-div\" style=\"height:525px; width:100%;\"></div>            <script type=\"text/javascript\">                require([\"plotly\"], function(Plotly) {                    window.PLOTLYENV=window.PLOTLYENV || {};\n",
              "                    window.PLOTLYENV.BASE_URL='https://plot.ly';                                    if (document.getElementById(\"27d05f5c-fc83-4e75-8198-264249946f3b\")) {                    Plotly.newPlot(                        \"27d05f5c-fc83-4e75-8198-264249946f3b\",                        [{\"legendgroup\":\" SMA([10, 20])\",\"line\":{\"color\":\"rgba(0, 128, 0, 1.0)\",\"dash\":\"solid\",\"shape\":\"linear\",\"width\":2},\"mode\":\"lines\",\"name\":\" SMA([10, 20])\",\"showlegend\":true,\"text\":\"\",\"x\":[\"2024-03-07\",\"2024-03-08\",\"2024-03-11\",\"2024-03-12\",\"2024-03-13\",\"2024-03-14\",\"2024-03-15\",\"2024-03-18\",\"2024-03-19\",\"2024-03-20\",\"2024-03-21\",\"2024-03-22\",\"2024-03-25\",\"2024-03-26\",\"2024-03-27\",\"2024-03-28\",\"2024-04-01\",\"2024-04-02\",\"2024-04-03\",\"2024-04-04\",\"2024-04-05\",\"2024-04-08\",\"2024-04-09\",\"2024-04-10\",\"2024-04-11\",\"2024-04-12\",\"2024-04-15\",\"2024-04-16\",\"2024-04-17\",\"2024-04-18\",\"2024-04-19\",\"2024-04-22\",\"2024-04-23\",\"2024-04-24\",\"2024-04-25\",\"2024-04-26\",\"2024-04-29\",\"2024-04-30\",\"2024-05-01\",\"2024-05-02\",\"2024-05-03\",\"2024-05-06\",\"2024-05-07\",\"2024-05-08\",\"2024-05-09\",\"2024-05-10\",\"2024-05-13\",\"2024-05-14\",\"2024-05-15\",\"2024-05-16\",\"2024-05-17\",\"2024-05-20\",\"2024-05-21\",\"2024-05-22\",\"2024-05-23\",\"2024-05-24\",\"2024-05-28\",\"2024-05-29\",\"2024-05-30\",\"2024-05-31\",\"2024-06-03\",\"2024-06-04\",\"2024-06-05\",\"2024-06-06\",\"2024-06-07\",\"2024-06-10\",\"2024-06-11\",\"2024-06-12\",\"2024-06-13\",\"2024-06-14\",\"2024-06-17\",\"2024-06-18\",\"2024-06-20\",\"2024-06-21\",\"2024-06-24\",\"2024-06-25\",\"2024-06-26\",\"2024-06-27\",\"2024-06-28\",\"2024-07-01\",\"2024-07-02\",\"2024-07-03\",\"2024-07-05\",\"2024-07-08\",\"2024-07-09\",\"2024-07-10\",\"2024-07-11\",\"2024-07-12\",\"2024-07-15\",\"2024-07-16\",\"2024-07-17\",\"2024-07-18\",\"2024-07-19\",\"2024-07-22\",\"2024-07-23\",\"2024-07-24\",\"2024-07-25\",\"2024-07-26\",\"2024-07-29\",\"2024-07-30\",\"2024-07-31\",\"2024-08-01\",\"2024-08-02\",\"2024-08-05\",\"2024-08-06\",\"2024-08-07\",\"2024-08-08\",\"2024-08-09\",\"2024-08-12\",\"2024-08-13\",\"2024-08-14\",\"2024-08-15\",\"2024-08-16\",\"2024-08-19\",\"2024-08-20\",\"2024-08-21\",\"2024-08-22\",\"2024-08-23\",\"2024-08-26\",\"2024-08-27\",\"2024-08-28\",\"2024-08-29\",\"2024-08-30\",\"2024-09-03\",\"2024-09-04\",\"2024-09-05\",\"2024-09-06\",\"2024-09-09\",\"2024-09-10\",\"2024-09-11\",\"2024-09-12\",\"2024-09-13\",\"2024-09-16\",\"2024-09-17\",\"2024-09-18\",\"2024-09-19\",\"2024-09-20\",\"2024-09-23\",\"2024-09-24\",\"2024-09-25\",\"2024-09-26\",\"2024-09-27\",\"2024-09-30\",\"2024-10-01\",\"2024-10-02\",\"2024-10-03\",\"2024-10-04\",\"2024-10-07\",\"2024-10-08\",\"2024-10-09\",\"2024-10-10\",\"2024-10-11\",\"2024-10-14\",\"2024-10-15\",\"2024-10-16\",\"2024-10-17\",\"2024-10-18\",\"2024-10-21\",\"2024-10-22\",\"2024-10-23\",\"2024-10-24\",\"2024-10-25\",\"2024-10-28\",\"2024-10-29\",\"2024-10-30\",\"2024-10-31\",\"2024-11-01\",\"2024-11-04\",\"2024-11-05\",\"2024-11-06\",\"2024-11-07\",\"2024-11-08\",\"2024-11-11\",\"2024-11-12\",\"2024-11-13\",\"2024-11-14\",\"2024-11-15\",\"2024-11-18\",\"2024-11-19\",\"2024-11-20\",\"2024-11-21\",\"2024-11-22\",\"2024-11-25\",\"2024-11-26\",\"2024-11-27\",\"2024-11-29\",\"2024-12-02\",\"2024-12-03\",\"2024-12-04\",\"2024-12-05\",\"2024-12-06\",\"2024-12-09\",\"2024-12-10\",\"2024-12-11\",\"2024-12-12\",\"2024-12-13\",\"2024-12-16\",\"2024-12-17\",\"2024-12-18\",\"2024-12-19\",\"2024-12-20\",\"2024-12-23\",\"2024-12-24\",\"2024-12-26\",\"2024-12-27\",\"2024-12-30\",\"2024-12-31\",\"2025-01-02\",\"2025-01-03\",\"2025-01-06\",\"2025-01-07\",\"2025-01-08\",\"2025-01-10\",\"2025-01-13\",\"2025-01-14\",\"2025-01-15\",\"2025-01-16\",\"2025-01-17\",\"2025-01-21\",\"2025-01-22\",\"2025-01-23\",\"2025-01-24\",\"2025-01-27\",\"2025-01-28\",\"2025-01-29\",\"2025-01-30\",\"2025-01-31\",\"2025-02-03\",\"2025-02-04\",\"2025-02-05\",\"2025-02-06\",\"2025-02-07\",\"2025-02-10\",\"2025-02-11\",\"2025-02-12\",\"2025-02-13\",\"2025-02-14\",\"2025-02-18\",\"2025-02-19\",\"2025-02-20\",\"2025-02-21\",\"2025-02-24\",\"2025-02-25\",\"2025-02-26\",\"2025-02-27\",\"2025-02-28\",\"2025-03-03\",\"2025-03-04\",\"2025-03-05\",\"2025-03-06\",\"2025-03-07\"],\"y\":[\"\",\"\",\"\",\"\",\"\",\"\",\"\",\"\",\"\",172.27952270507814,172.51540832519532,172.6696807861328,172.48057403564454,172.1302291870117,172.34720458984376,172.19591827392577,171.93813781738282,171.45242919921876,170.81244964599608,169.83208160400392,169.65392150878907,169.27272033691406,169.1552734375,168.9631790161133,169.13536376953124,169.63998413085938,169.90473327636718,169.95848236083984,169.79425964355468,169.61709289550782,169.16124725341797,168.90147399902344,168.6257766723633,168.7491943359375,168.2366165161133,167.51502075195313,167.59563903808595,167.69019012451173,167.8195770263672,168.41576385498047,170.24512634277343,171.82466888427734,173.3673828125,174.7329360961914,176.19403839111328,177.58729095458983,178.88443298339843,180.61169891357423,182.66971740722656,184.36844482421876,185.04002532958984,185.9944305419922,187.01072387695314,187.8486587524414,188.10380096435546,188.7944778442383,189.16423492431642,189.44927978515625,189.60575256347656,189.8459457397461,190.26055297851562,190.59044342041017,190.9412628173828,191.29806365966797,192.29570922851562,192.60865631103516,194.31890869140625,196.5892791748047,198.87659149169923,200.89381103515626,203.15022735595704,205.1375473022461,206.51392059326173,207.81056518554686,208.93179779052736,210.52145690917968,211.1294143676758,211.23206939697266,210.87128143310548,211.2958541870117,211.65464935302734,212.3782196044922,214.03863983154298,216.06482849121093,218.11194610595703,220.49493713378905,221.9221405029297,223.56063079833984,225.9306655883789,227.7316131591797,228.58972778320313,228.85184478759766,228.64952545166017,228.2648178100586,227.8990493774414,226.4598846435547,225.45526123046875,224.20147552490235,222.59088897705078,220.99425659179687,220.31653442382813,219.73648376464843,219.29297485351563,217.82889556884766,216.05684967041014,215.18777160644532,214.77117004394532,214.59974822998046,214.5540802001953,214.82577819824218,214.8154769897461,215.47527160644532,216.11827545166017,217.80076599121094,219.7484390258789,221.4270034790039,222.5711471557617,223.6537628173828,224.61664276123048,225.2911575317383,225.7671096801758,226.2729965209961,226.56734771728514,226.25603485107422,225.69127807617187,225.2901611328125,224.91997680664062,224.32828063964843,223.62283325195312,223.0870132446289,222.71583099365233,221.98843078613282,220.72321624755858,220.12652740478515,220.11056213378907,220.7581359863281,221.49451446533203,222.0492919921875,222.77369842529296,223.14388275146484,223.61783905029296,224.1456771850586,225.8100128173828,226.74994506835938,227.35760650634765,227.0383087158203,226.89861755371095,226.42166900634766,226.26202087402345,226.5783248901367,226.72998962402343,226.70604400634767,226.53641815185546,227.29874114990236,227.79764404296876,228.44422149658203,229.26242065429688,230.73817138671876,231.74495544433594,231.86668701171874,232.01935272216798,232.40450439453124,232.61404266357422,232.59608154296876,232.42845153808594,231.80582275390626,230.59947814941407,229.15565490722656,227.9173797607422,227.11514587402343,226.80682373046875,226.3877166748047,225.49734649658203,224.5800354003906,224.10784149169922,224.36338806152344,224.59662780761718,225.22134094238282,225.72834014892578,226.38009948730468,226.5089584350586,226.7996383666992,227.66268920898438,228.74449920654297,229.72442169189452,230.6344207763672,232.0918182373047,233.55321044921874,235.02459259033202,236.42705078125,237.85747680664062,239.5436233520508,241.03198699951173,242.1737319946289,243.47530212402344,244.55411529541016,245.69785766601564,246.77966766357423,247.28311462402343,247.957373046875,249.1210952758789,249.97216033935547,251.0140167236328,252.26563873291016,253.02779998779297,253.43435363769532,253.37242279052734,252.41048278808594,251.94199829101564,251.463525390625,250.23687438964845,248.98125305175782,246.84859619140624,244.3893020629883,242.16075134277344,240.7293243408203,238.51575775146483,237.13027954101562,235.06055450439453,232.9458786010742,231.0929153442383,229.1031036376953,228.40487060546874,228.79044647216796,229.3977798461914,229.36981048583985,230.14296112060546,229.94617767333983,230.9610626220703,231.82411499023436,232.77906494140626,233.26353302001954,233.06777801513672,232.52994537353516,232.30723266601564,232.72732696533203,233.61324615478514,235.28428802490234,236.51685485839843,237.87838592529297,239.13699951171876,241.10899963378907,243.0479995727539,243.8220001220703,243.86500091552733,243.89600067138673,243.23899993896484,242.38499908447267,241.4720001220703,240.4220001220703,239.78399963378905],\"yaxis\":\"y2\",\"type\":\"scatter\"},{\"legendgroup\":\" SMA([10, 20])\",\"line\":{\"color\":\"rgba(144, 238, 144, 1.0)\",\"dash\":\"solid\",\"shape\":\"linear\",\"width\":2},\"mode\":\"lines\",\"name\":\" SMA(20)\",\"showlegend\":false,\"text\":\"\",\"x\":[\"2024-03-07\",\"2024-03-08\",\"2024-03-11\",\"2024-03-12\",\"2024-03-13\",\"2024-03-14\",\"2024-03-15\",\"2024-03-18\",\"2024-03-19\",\"2024-03-20\",\"2024-03-21\",\"2024-03-22\",\"2024-03-25\",\"2024-03-26\",\"2024-03-27\",\"2024-03-28\",\"2024-04-01\",\"2024-04-02\",\"2024-04-03\",\"2024-04-04\",\"2024-04-05\",\"2024-04-08\",\"2024-04-09\",\"2024-04-10\",\"2024-04-11\",\"2024-04-12\",\"2024-04-15\",\"2024-04-16\",\"2024-04-17\",\"2024-04-18\",\"2024-04-19\",\"2024-04-22\",\"2024-04-23\",\"2024-04-24\",\"2024-04-25\",\"2024-04-26\",\"2024-04-29\",\"2024-04-30\",\"2024-05-01\",\"2024-05-02\",\"2024-05-03\",\"2024-05-06\",\"2024-05-07\",\"2024-05-08\",\"2024-05-09\",\"2024-05-10\",\"2024-05-13\",\"2024-05-14\",\"2024-05-15\",\"2024-05-16\",\"2024-05-17\",\"2024-05-20\",\"2024-05-21\",\"2024-05-22\",\"2024-05-23\",\"2024-05-24\",\"2024-05-28\",\"2024-05-29\",\"2024-05-30\",\"2024-05-31\",\"2024-06-03\",\"2024-06-04\",\"2024-06-05\",\"2024-06-06\",\"2024-06-07\",\"2024-06-10\",\"2024-06-11\",\"2024-06-12\",\"2024-06-13\",\"2024-06-14\",\"2024-06-17\",\"2024-06-18\",\"2024-06-20\",\"2024-06-21\",\"2024-06-24\",\"2024-06-25\",\"2024-06-26\",\"2024-06-27\",\"2024-06-28\",\"2024-07-01\",\"2024-07-02\",\"2024-07-03\",\"2024-07-05\",\"2024-07-08\",\"2024-07-09\",\"2024-07-10\",\"2024-07-11\",\"2024-07-12\",\"2024-07-15\",\"2024-07-16\",\"2024-07-17\",\"2024-07-18\",\"2024-07-19\",\"2024-07-22\",\"2024-07-23\",\"2024-07-24\",\"2024-07-25\",\"2024-07-26\",\"2024-07-29\",\"2024-07-30\",\"2024-07-31\",\"2024-08-01\",\"2024-08-02\",\"2024-08-05\",\"2024-08-06\",\"2024-08-07\",\"2024-08-08\",\"2024-08-09\",\"2024-08-12\",\"2024-08-13\",\"2024-08-14\",\"2024-08-15\",\"2024-08-16\",\"2024-08-19\",\"2024-08-20\",\"2024-08-21\",\"2024-08-22\",\"2024-08-23\",\"2024-08-26\",\"2024-08-27\",\"2024-08-28\",\"2024-08-29\",\"2024-08-30\",\"2024-09-03\",\"2024-09-04\",\"2024-09-05\",\"2024-09-06\",\"2024-09-09\",\"2024-09-10\",\"2024-09-11\",\"2024-09-12\",\"2024-09-13\",\"2024-09-16\",\"2024-09-17\",\"2024-09-18\",\"2024-09-19\",\"2024-09-20\",\"2024-09-23\",\"2024-09-24\",\"2024-09-25\",\"2024-09-26\",\"2024-09-27\",\"2024-09-30\",\"2024-10-01\",\"2024-10-02\",\"2024-10-03\",\"2024-10-04\",\"2024-10-07\",\"2024-10-08\",\"2024-10-09\",\"2024-10-10\",\"2024-10-11\",\"2024-10-14\",\"2024-10-15\",\"2024-10-16\",\"2024-10-17\",\"2024-10-18\",\"2024-10-21\",\"2024-10-22\",\"2024-10-23\",\"2024-10-24\",\"2024-10-25\",\"2024-10-28\",\"2024-10-29\",\"2024-10-30\",\"2024-10-31\",\"2024-11-01\",\"2024-11-04\",\"2024-11-05\",\"2024-11-06\",\"2024-11-07\",\"2024-11-08\",\"2024-11-11\",\"2024-11-12\",\"2024-11-13\",\"2024-11-14\",\"2024-11-15\",\"2024-11-18\",\"2024-11-19\",\"2024-11-20\",\"2024-11-21\",\"2024-11-22\",\"2024-11-25\",\"2024-11-26\",\"2024-11-27\",\"2024-11-29\",\"2024-12-02\",\"2024-12-03\",\"2024-12-04\",\"2024-12-05\",\"2024-12-06\",\"2024-12-09\",\"2024-12-10\",\"2024-12-11\",\"2024-12-12\",\"2024-12-13\",\"2024-12-16\",\"2024-12-17\",\"2024-12-18\",\"2024-12-19\",\"2024-12-20\",\"2024-12-23\",\"2024-12-24\",\"2024-12-26\",\"2024-12-27\",\"2024-12-30\",\"2024-12-31\",\"2025-01-02\",\"2025-01-03\",\"2025-01-06\",\"2025-01-07\",\"2025-01-08\",\"2025-01-10\",\"2025-01-13\",\"2025-01-14\",\"2025-01-15\",\"2025-01-16\",\"2025-01-17\",\"2025-01-21\",\"2025-01-22\",\"2025-01-23\",\"2025-01-24\",\"2025-01-27\",\"2025-01-28\",\"2025-01-29\",\"2025-01-30\",\"2025-01-31\",\"2025-02-03\",\"2025-02-04\",\"2025-02-05\",\"2025-02-06\",\"2025-02-07\",\"2025-02-10\",\"2025-02-11\",\"2025-02-12\",\"2025-02-13\",\"2025-02-14\",\"2025-02-18\",\"2025-02-19\",\"2025-02-20\",\"2025-02-21\",\"2025-02-24\",\"2025-02-25\",\"2025-02-26\",\"2025-02-27\",\"2025-02-28\",\"2025-03-03\",\"2025-03-04\",\"2025-03-05\",\"2025-03-06\",\"2025-03-07\"],\"y\":[\"\",\"\",\"\",\"\",\"\",\"\",\"\",\"\",\"\",\"\",\"\",\"\",\"\",\"\",\"\",\"\",\"\",\"\",\"\",171.05580215454103,171.08466491699218,170.97120056152343,170.81792373657225,170.5467041015625,170.7412841796875,170.91795120239257,170.921435546875,170.7054557800293,170.3033546447754,169.72458724975587,169.4075843811035,169.08709716796875,168.89052505493163,168.8561866760254,168.68599014282228,168.57750244140624,168.75018615722655,168.82433624267577,168.80691833496093,169.01642837524415,169.70318679809571,170.3630714416504,170.99657974243163,171.74106521606444,172.21532745361327,172.5511558532715,173.2400360107422,174.15094451904298,175.24464721679686,176.3921043395996,177.64257583618163,178.90954971313477,180.18905334472657,181.2907974243164,182.14891967773437,183.19088439941407,184.02433395385742,185.03048934936524,186.13773498535156,187.10719528198243,187.65028915405273,188.29243698120118,188.97599334716796,189.5733612060547,190.19975509643555,190.70156707763672,191.74157180786133,193.01927947998047,194.24117202758788,195.36987838745117,196.70539016723632,197.86399536132814,198.72759170532225,199.55431442260743,200.61375350952147,201.56505661010743,202.72416152954102,203.91067428588866,204.87393646240236,206.09483261108397,207.40243835449218,208.75788345336915,210.27628021240236,211.9376968383789,213.5218719482422,215.50819702148436,216.52577743530273,217.39635009765624,218.40097351074218,219.51373367309571,220.12218856811523,220.61503219604492,221.34408264160157,222.16482315063476,223.00549774169923,223.47741088867187,223.6887008666992,223.88105316162108,224.26077728271486,224.3629348754883,224.45313110351563,224.29416427612304,223.97125015258788,223.04685668945314,221.9779495239258,220.823828125,220.11321563720702,219.4006118774414,218.57248458862304,217.91001739501954,217.5660057067871,217.6058776855469,217.70562515258788,217.8148307800293,217.90264434814452,218.3073875427246,218.67115859985353,219.12675552368165,219.5853614807129,220.05846786499023,220.29129333496093,220.8741340637207,221.34281158447266,222.02840042114258,222.7198585510254,223.35858230590821,223.74556198120118,223.99102172851562,224.1197380065918,224.1890853881836,224.24147033691406,224.13071365356444,223.64528198242186,223.1912811279297,222.90092010498046,223.0241485595703,223.20724563598634,223.18878631591798,223.19826583862306,223.11544799804688,223.16683502197264,223.0670539855957,223.2666145324707,223.43823623657227,223.73408432006835,223.89822235107422,224.1965660095215,224.23548049926757,224.5178596496582,224.8611038208008,225.1739143371582,225.4258605957031,226.17321548461913,227.02434310913085,227.5776252746582,227.74126510620118,228.0805191040039,228.5799201965332,229.00348815917968,229.22250595092774,229.3746711730957,229.55527420043944,229.57523040771486,229.94741134643556,230.11304779052733,230.12502212524413,229.93094940185546,229.94691314697266,229.83116760253907,229.49091644287108,229.41308822631837,229.39611053466797,229.05569458007812,228.5880584716797,228.26814651489258,228.08460540771483,227.59805297851562,227.1884979248047,226.82285995483397,226.74762268066405,226.65789108276368,226.59367752075195,226.58001785278321,226.6622673034668,226.91613159179687,227.4989044189453,228.34422302246094,229.38727569580078,230.3764663696289,231.40357513427733,232.1832176208496,233.171630859375,234.34733810424805,235.45911560058593,236.599861907959,237.59426803588866,238.89483795166015,240.16643905639648,241.15385360717772,242.1922119140625,243.48928604125976,244.7578918457031,246.02300186157225,247.21968536376954,248.2515510559082,248.99423446655274,249.53514022827147,249.59507522583007,249.61255645751953,249.71044921875,249.67898483276366,249.47670669555663,248.93130645751953,248.3274703979492,247.5942756652832,247.08183898925782,245.9440902709961,244.77038116455077,243.50127639770508,242.2047019958496,240.66489486694337,239.04217834472655,237.6267333984375,236.58987426757812,235.7792655944824,235.04956741333007,234.32935943603516,233.53822860717773,233.01080856323242,232.3849967956543,231.93599014282228,231.1833183288574,230.73632431030273,230.66019592285156,230.8525062561035,231.04856872558594,231.87810363769532,232.6152328491211,233.73895874023438,234.85125045776368,235.9580322265625,237.1862663269043,238.05788879394532,238.17597274780275,238.08611679077148,238.31166381835936,238.426123046875,238.8346435546875,238.9944274902344,239.15019302368165,239.46049957275392],\"yaxis\":\"y2\",\"type\":\"scatter\"},{\"legendgroup\":\"BOLL(Close_AAPL,20)\",\"line\":{\"color\":\"rgba(55, 128, 191, 1.0)\",\"dash\":\"solid\",\"shape\":\"linear\",\"width\":1.3},\"mode\":\"lines\",\"name\":\"BOLL(Close_AAPL,20)\",\"showlegend\":true,\"text\":\"\",\"x\":[\"2024-03-07\",\"2024-03-08\",\"2024-03-11\",\"2024-03-12\",\"2024-03-13\",\"2024-03-14\",\"2024-03-15\",\"2024-03-18\",\"2024-03-19\",\"2024-03-20\",\"2024-03-21\",\"2024-03-22\",\"2024-03-25\",\"2024-03-26\",\"2024-03-27\",\"2024-03-28\",\"2024-04-01\",\"2024-04-02\",\"2024-04-03\",\"2024-04-04\",\"2024-04-05\",\"2024-04-08\",\"2024-04-09\",\"2024-04-10\",\"2024-04-11\",\"2024-04-12\",\"2024-04-15\",\"2024-04-16\",\"2024-04-17\",\"2024-04-18\",\"2024-04-19\",\"2024-04-22\",\"2024-04-23\",\"2024-04-24\",\"2024-04-25\",\"2024-04-26\",\"2024-04-29\",\"2024-04-30\",\"2024-05-01\",\"2024-05-02\",\"2024-05-03\",\"2024-05-06\",\"2024-05-07\",\"2024-05-08\",\"2024-05-09\",\"2024-05-10\",\"2024-05-13\",\"2024-05-14\",\"2024-05-15\",\"2024-05-16\",\"2024-05-17\",\"2024-05-20\",\"2024-05-21\",\"2024-05-22\",\"2024-05-23\",\"2024-05-24\",\"2024-05-28\",\"2024-05-29\",\"2024-05-30\",\"2024-05-31\",\"2024-06-03\",\"2024-06-04\",\"2024-06-05\",\"2024-06-06\",\"2024-06-07\",\"2024-06-10\",\"2024-06-11\",\"2024-06-12\",\"2024-06-13\",\"2024-06-14\",\"2024-06-17\",\"2024-06-18\",\"2024-06-20\",\"2024-06-21\",\"2024-06-24\",\"2024-06-25\",\"2024-06-26\",\"2024-06-27\",\"2024-06-28\",\"2024-07-01\",\"2024-07-02\",\"2024-07-03\",\"2024-07-05\",\"2024-07-08\",\"2024-07-09\",\"2024-07-10\",\"2024-07-11\",\"2024-07-12\",\"2024-07-15\",\"2024-07-16\",\"2024-07-17\",\"2024-07-18\",\"2024-07-19\",\"2024-07-22\",\"2024-07-23\",\"2024-07-24\",\"2024-07-25\",\"2024-07-26\",\"2024-07-29\",\"2024-07-30\",\"2024-07-31\",\"2024-08-01\",\"2024-08-02\",\"2024-08-05\",\"2024-08-06\",\"2024-08-07\",\"2024-08-08\",\"2024-08-09\",\"2024-08-12\",\"2024-08-13\",\"2024-08-14\",\"2024-08-15\",\"2024-08-16\",\"2024-08-19\",\"2024-08-20\",\"2024-08-21\",\"2024-08-22\",\"2024-08-23\",\"2024-08-26\",\"2024-08-27\",\"2024-08-28\",\"2024-08-29\",\"2024-08-30\",\"2024-09-03\",\"2024-09-04\",\"2024-09-05\",\"2024-09-06\",\"2024-09-09\",\"2024-09-10\",\"2024-09-11\",\"2024-09-12\",\"2024-09-13\",\"2024-09-16\",\"2024-09-17\",\"2024-09-18\",\"2024-09-19\",\"2024-09-20\",\"2024-09-23\",\"2024-09-24\",\"2024-09-25\",\"2024-09-26\",\"2024-09-27\",\"2024-09-30\",\"2024-10-01\",\"2024-10-02\",\"2024-10-03\",\"2024-10-04\",\"2024-10-07\",\"2024-10-08\",\"2024-10-09\",\"2024-10-10\",\"2024-10-11\",\"2024-10-14\",\"2024-10-15\",\"2024-10-16\",\"2024-10-17\",\"2024-10-18\",\"2024-10-21\",\"2024-10-22\",\"2024-10-23\",\"2024-10-24\",\"2024-10-25\",\"2024-10-28\",\"2024-10-29\",\"2024-10-30\",\"2024-10-31\",\"2024-11-01\",\"2024-11-04\",\"2024-11-05\",\"2024-11-06\",\"2024-11-07\",\"2024-11-08\",\"2024-11-11\",\"2024-11-12\",\"2024-11-13\",\"2024-11-14\",\"2024-11-15\",\"2024-11-18\",\"2024-11-19\",\"2024-11-20\",\"2024-11-21\",\"2024-11-22\",\"2024-11-25\",\"2024-11-26\",\"2024-11-27\",\"2024-11-29\",\"2024-12-02\",\"2024-12-03\",\"2024-12-04\",\"2024-12-05\",\"2024-12-06\",\"2024-12-09\",\"2024-12-10\",\"2024-12-11\",\"2024-12-12\",\"2024-12-13\",\"2024-12-16\",\"2024-12-17\",\"2024-12-18\",\"2024-12-19\",\"2024-12-20\",\"2024-12-23\",\"2024-12-24\",\"2024-12-26\",\"2024-12-27\",\"2024-12-30\",\"2024-12-31\",\"2025-01-02\",\"2025-01-03\",\"2025-01-06\",\"2025-01-07\",\"2025-01-08\",\"2025-01-10\",\"2025-01-13\",\"2025-01-14\",\"2025-01-15\",\"2025-01-16\",\"2025-01-17\",\"2025-01-21\",\"2025-01-22\",\"2025-01-23\",\"2025-01-24\",\"2025-01-27\",\"2025-01-28\",\"2025-01-29\",\"2025-01-30\",\"2025-01-31\",\"2025-02-03\",\"2025-02-04\",\"2025-02-05\",\"2025-02-06\",\"2025-02-07\",\"2025-02-10\",\"2025-02-11\",\"2025-02-12\",\"2025-02-13\",\"2025-02-14\",\"2025-02-18\",\"2025-02-19\",\"2025-02-20\",\"2025-02-21\",\"2025-02-24\",\"2025-02-25\",\"2025-02-26\",\"2025-02-27\",\"2025-02-28\",\"2025-03-03\",\"2025-03-04\",\"2025-03-05\",\"2025-03-06\",\"2025-03-07\"],\"y\":[\"\",\"\",\"\",\"\",\"\",\"\",\"\",\"\",\"\",\"\",\"\",\"\",\"\",\"\",\"\",\"\",\"\",\"\",\"\",171.05580215454103,171.08466491699218,170.97120056152343,170.81792373657225,170.5467041015625,170.7412841796875,170.91795120239257,170.921435546875,170.7054557800293,170.3033546447754,169.72458724975587,169.4075843811035,169.08709716796875,168.89052505493163,168.8561866760254,168.68599014282228,168.57750244140624,168.75018615722655,168.82433624267577,168.80691833496093,169.01642837524415,169.70318679809571,170.3630714416504,170.99657974243163,171.74106521606444,172.21532745361327,172.5511558532715,173.2400360107422,174.15094451904298,175.24464721679686,176.3921043395996,177.64257583618163,178.90954971313477,180.18905334472657,181.2907974243164,182.14891967773437,183.19088439941407,184.02433395385742,185.03048934936524,186.13773498535156,187.10719528198243,187.65028915405273,188.29243698120118,188.97599334716796,189.5733612060547,190.19975509643555,190.70156707763672,191.74157180786133,193.01927947998047,194.24117202758788,195.36987838745117,196.70539016723632,197.86399536132814,198.72759170532225,199.55431442260743,200.61375350952147,201.56505661010743,202.72416152954102,203.91067428588866,204.87393646240236,206.09483261108397,207.40243835449218,208.75788345336915,210.27628021240236,211.9376968383789,213.5218719482422,215.50819702148436,216.52577743530273,217.39635009765624,218.40097351074218,219.51373367309571,220.12218856811523,220.61503219604492,221.34408264160157,222.16482315063476,223.00549774169923,223.47741088867187,223.6887008666992,223.88105316162108,224.26077728271486,224.3629348754883,224.45313110351563,224.29416427612304,223.97125015258788,223.04685668945314,221.9779495239258,220.823828125,220.11321563720702,219.4006118774414,218.57248458862304,217.91001739501954,217.5660057067871,217.6058776855469,217.70562515258788,217.8148307800293,217.90264434814452,218.3073875427246,218.67115859985353,219.12675552368165,219.5853614807129,220.05846786499023,220.29129333496093,220.8741340637207,221.34281158447266,222.02840042114258,222.7198585510254,223.35858230590821,223.74556198120118,223.99102172851562,224.1197380065918,224.1890853881836,224.24147033691406,224.13071365356444,223.64528198242186,223.1912811279297,222.90092010498046,223.0241485595703,223.20724563598634,223.18878631591798,223.19826583862306,223.11544799804688,223.16683502197264,223.0670539855957,223.2666145324707,223.43823623657227,223.73408432006835,223.89822235107422,224.1965660095215,224.23548049926757,224.5178596496582,224.8611038208008,225.1739143371582,225.4258605957031,226.17321548461913,227.02434310913085,227.5776252746582,227.74126510620118,228.0805191040039,228.5799201965332,229.00348815917968,229.22250595092774,229.3746711730957,229.55527420043944,229.57523040771486,229.94741134643556,230.11304779052733,230.12502212524413,229.93094940185546,229.94691314697266,229.83116760253907,229.49091644287108,229.41308822631837,229.39611053466797,229.05569458007812,228.5880584716797,228.26814651489258,228.08460540771483,227.59805297851562,227.1884979248047,226.82285995483397,226.74762268066405,226.65789108276368,226.59367752075195,226.58001785278321,226.6622673034668,226.91613159179687,227.4989044189453,228.34422302246094,229.38727569580078,230.3764663696289,231.40357513427733,232.1832176208496,233.171630859375,234.34733810424805,235.45911560058593,236.599861907959,237.59426803588866,238.89483795166015,240.16643905639648,241.15385360717772,242.1922119140625,243.48928604125976,244.7578918457031,246.02300186157225,247.21968536376954,248.2515510559082,248.99423446655274,249.53514022827147,249.59507522583007,249.61255645751953,249.71044921875,249.67898483276366,249.47670669555663,248.93130645751953,248.3274703979492,247.5942756652832,247.08183898925782,245.9440902709961,244.77038116455077,243.50127639770508,242.2047019958496,240.66489486694337,239.04217834472655,237.6267333984375,236.58987426757812,235.7792655944824,235.04956741333007,234.32935943603516,233.53822860717773,233.01080856323242,232.3849967956543,231.93599014282228,231.1833183288574,230.73632431030273,230.66019592285156,230.8525062561035,231.04856872558594,231.87810363769532,232.6152328491211,233.73895874023438,234.85125045776368,235.9580322265625,237.1862663269043,238.05788879394532,238.17597274780275,238.08611679077148,238.31166381835936,238.426123046875,238.8346435546875,238.9944274902344,239.15019302368165,239.46049957275392],\"yaxis\":\"y2\",\"type\":\"scatter\"},{\"legendgroup\":\"BOLL(Close_AAPL,20)\",\"line\":{\"color\":\"rgba(55, 128, 191, 0.8999999999999999)\",\"dash\":\"solid\",\"shape\":\"linear\",\"width\":1.3},\"mode\":\"lines\",\"name\":\"UPPER(Close_AAPL,20)\",\"showlegend\":false,\"text\":\"\",\"x\":[\"2024-03-07\",\"2024-03-08\",\"2024-03-11\",\"2024-03-12\",\"2024-03-13\",\"2024-03-14\",\"2024-03-15\",\"2024-03-18\",\"2024-03-19\",\"2024-03-20\",\"2024-03-21\",\"2024-03-22\",\"2024-03-25\",\"2024-03-26\",\"2024-03-27\",\"2024-03-28\",\"2024-04-01\",\"2024-04-02\",\"2024-04-03\",\"2024-04-04\",\"2024-04-05\",\"2024-04-08\",\"2024-04-09\",\"2024-04-10\",\"2024-04-11\",\"2024-04-12\",\"2024-04-15\",\"2024-04-16\",\"2024-04-17\",\"2024-04-18\",\"2024-04-19\",\"2024-04-22\",\"2024-04-23\",\"2024-04-24\",\"2024-04-25\",\"2024-04-26\",\"2024-04-29\",\"2024-04-30\",\"2024-05-01\",\"2024-05-02\",\"2024-05-03\",\"2024-05-06\",\"2024-05-07\",\"2024-05-08\",\"2024-05-09\",\"2024-05-10\",\"2024-05-13\",\"2024-05-14\",\"2024-05-15\",\"2024-05-16\",\"2024-05-17\",\"2024-05-20\",\"2024-05-21\",\"2024-05-22\",\"2024-05-23\",\"2024-05-24\",\"2024-05-28\",\"2024-05-29\",\"2024-05-30\",\"2024-05-31\",\"2024-06-03\",\"2024-06-04\",\"2024-06-05\",\"2024-06-06\",\"2024-06-07\",\"2024-06-10\",\"2024-06-11\",\"2024-06-12\",\"2024-06-13\",\"2024-06-14\",\"2024-06-17\",\"2024-06-18\",\"2024-06-20\",\"2024-06-21\",\"2024-06-24\",\"2024-06-25\",\"2024-06-26\",\"2024-06-27\",\"2024-06-28\",\"2024-07-01\",\"2024-07-02\",\"2024-07-03\",\"2024-07-05\",\"2024-07-08\",\"2024-07-09\",\"2024-07-10\",\"2024-07-11\",\"2024-07-12\",\"2024-07-15\",\"2024-07-16\",\"2024-07-17\",\"2024-07-18\",\"2024-07-19\",\"2024-07-22\",\"2024-07-23\",\"2024-07-24\",\"2024-07-25\",\"2024-07-26\",\"2024-07-29\",\"2024-07-30\",\"2024-07-31\",\"2024-08-01\",\"2024-08-02\",\"2024-08-05\",\"2024-08-06\",\"2024-08-07\",\"2024-08-08\",\"2024-08-09\",\"2024-08-12\",\"2024-08-13\",\"2024-08-14\",\"2024-08-15\",\"2024-08-16\",\"2024-08-19\",\"2024-08-20\",\"2024-08-21\",\"2024-08-22\",\"2024-08-23\",\"2024-08-26\",\"2024-08-27\",\"2024-08-28\",\"2024-08-29\",\"2024-08-30\",\"2024-09-03\",\"2024-09-04\",\"2024-09-05\",\"2024-09-06\",\"2024-09-09\",\"2024-09-10\",\"2024-09-11\",\"2024-09-12\",\"2024-09-13\",\"2024-09-16\",\"2024-09-17\",\"2024-09-18\",\"2024-09-19\",\"2024-09-20\",\"2024-09-23\",\"2024-09-24\",\"2024-09-25\",\"2024-09-26\",\"2024-09-27\",\"2024-09-30\",\"2024-10-01\",\"2024-10-02\",\"2024-10-03\",\"2024-10-04\",\"2024-10-07\",\"2024-10-08\",\"2024-10-09\",\"2024-10-10\",\"2024-10-11\",\"2024-10-14\",\"2024-10-15\",\"2024-10-16\",\"2024-10-17\",\"2024-10-18\",\"2024-10-21\",\"2024-10-22\",\"2024-10-23\",\"2024-10-24\",\"2024-10-25\",\"2024-10-28\",\"2024-10-29\",\"2024-10-30\",\"2024-10-31\",\"2024-11-01\",\"2024-11-04\",\"2024-11-05\",\"2024-11-06\",\"2024-11-07\",\"2024-11-08\",\"2024-11-11\",\"2024-11-12\",\"2024-11-13\",\"2024-11-14\",\"2024-11-15\",\"2024-11-18\",\"2024-11-19\",\"2024-11-20\",\"2024-11-21\",\"2024-11-22\",\"2024-11-25\",\"2024-11-26\",\"2024-11-27\",\"2024-11-29\",\"2024-12-02\",\"2024-12-03\",\"2024-12-04\",\"2024-12-05\",\"2024-12-06\",\"2024-12-09\",\"2024-12-10\",\"2024-12-11\",\"2024-12-12\",\"2024-12-13\",\"2024-12-16\",\"2024-12-17\",\"2024-12-18\",\"2024-12-19\",\"2024-12-20\",\"2024-12-23\",\"2024-12-24\",\"2024-12-26\",\"2024-12-27\",\"2024-12-30\",\"2024-12-31\",\"2025-01-02\",\"2025-01-03\",\"2025-01-06\",\"2025-01-07\",\"2025-01-08\",\"2025-01-10\",\"2025-01-13\",\"2025-01-14\",\"2025-01-15\",\"2025-01-16\",\"2025-01-17\",\"2025-01-21\",\"2025-01-22\",\"2025-01-23\",\"2025-01-24\",\"2025-01-27\",\"2025-01-28\",\"2025-01-29\",\"2025-01-30\",\"2025-01-31\",\"2025-02-03\",\"2025-02-04\",\"2025-02-05\",\"2025-02-06\",\"2025-02-07\",\"2025-02-10\",\"2025-02-11\",\"2025-02-12\",\"2025-02-13\",\"2025-02-14\",\"2025-02-18\",\"2025-02-19\",\"2025-02-20\",\"2025-02-21\",\"2025-02-24\",\"2025-02-25\",\"2025-02-26\",\"2025-02-27\",\"2025-02-28\",\"2025-03-03\",\"2025-03-04\",\"2025-03-05\",\"2025-03-06\",\"2025-03-07\"],\"y\":[\"\",\"\",\"\",\"\",\"\",\"\",\"\",\"\",\"\",\"\",\"\",\"\",\"\",\"\",\"\",\"\",\"\",\"\",\"\",175.99719379721745,175.96229556164118,176.06303228735803,175.97138595050944,175.91264521230323,176.35022384696623,176.92693226703264,176.93267184365354,176.72722166757214,176.117107289011,174.61461425889408,174.85819548826626,174.77559839038665,174.70956302226762,174.68278076792083,174.2582912921739,174.07075460406236,174.53910556595952,174.6132951937624,174.5976140901036,174.98861800702983,178.19130588162,180.13655243243602,181.936241449536,183.5269697413256,185.13009881962873,186.17928537272326,188.0652768794172,189.97663348452068,192.04418795711342,193.7325676339103,194.89535233595896,195.99275531060664,197.06965699171369,197.7549249093285,197.69955651844577,197.64612376540566,197.83687932463874,197.2354541447753,195.77868143748393,194.48876313046512,195.20648893703125,195.5961422907871,196.17815912855536,196.2613293468947,196.91919262562823,196.40171898131783,200.39211846409285,205.35980377694125,209.44784983926905,212.26024441661426,215.65176433999963,217.98452127487002,219.21451325530663,219.9367837865312,220.2753460558893,220.76640425743133,221.61804953617843,222.32254800894927,222.3569149011716,223.07985996341185,224.2923815507449,225.3661275389921,227.22018497166778,228.6050958091971,229.92401215943045,230.75901512666113,231.94838652080782,233.76466262607386,236.17424800185452,238.29907183132352,239.20665296973544,239.49529053747952,239.44212065073674,238.92406523698443,238.27600503102622,237.36415904650934,236.99076168986127,236.656470182587,235.6663003646528,235.4910489971404,235.44479007777113,235.59540174834058,235.48464771730235,236.34719037968182,236.96104904509832,236.04583825431723,235.48523368373588,234.19884011327431,231.79085618498624,229.02679883861683,227.73910610732477,227.88146803921762,228.25948296211615,228.64994850052497,228.9832594096545,229.95052506927334,230.56289519434253,231.47541370534367,232.35513526929125,233.284377731676,233.77336621744263,234.86961488588733,235.71420827298343,235.08181500575276,233.60244251859143,232.18484704451106,231.14884842914736,230.5192139189584,230.1547732312196,230.0931881086907,230.05300781049644,230.0272628583651,230.5593481418926,230.78129546707146,230.4808020279283,230.8844626900603,231.3330101871298,231.2861961396405,231.3133146336948,231.0767446282785,231.2190731363629,230.84483455974697,231.79920329071462,232.02524074218394,232.2828990352283,232.4241177564701,232.61438361221235,232.58681664176194,232.59030053311017,233.09555496828582,233.47073170270738,233.62375705502012,233.35590884236714,233.25964626662005,233.19879363748458,233.6427970191283,234.7073112001742,235.99624734871065,236.9569799524577,237.05331458073852,237.1433317592949,237.2877119289234,237.34152662071102,237.64758851823296,237.6213684894029,237.6008736033654,238.00247600885086,237.946703166569,238.1752009646446,238.4999765839651,238.48353110418196,238.4864241861458,238.431341227208,237.99761972387523,237.7285647976899,237.41105440381466,236.5256200697116,235.20588852305565,233.88463178861124,233.68650345686672,233.4613089899467,233.251115815014,233.18399000570184,233.64144589267116,234.6707211610929,236.43933360033765,238.39140067889699,240.70375552720427,242.73758583839125,244.31634728969965,245.83339594249463,247.96805481679334,249.79242220684782,250.96417954976087,252.18240355240675,253.3946392643615,254.52587460432284,256.12122256339546,256.3733412412721,256.6633718236938,257.34307244478083,257.8912244476315,259.10549478167866,260.3587975691213,260.4492581262271,260.08363943965435,259.651778425755,259.54616555329085,259.51406971585976,259.3628274532007,259.43289131337644,259.66801859408366,260.62524500622425,261.7329952290292,262.6496493796943,262.7832968430716,263.6870299283621,263.56631441839863,264.71445175823766,264.98230276593625,264.17707680264374,262.86930238615884,260.0552444705311,256.7078806314294,253.93192340742655,251.56971177135733,249.25781756174442,248.073910741206,246.83485102435347,245.06058081100105,243.79581127961742,242.11220977580487,241.4635708359488,241.30696938601736,241.8133538096728,242.64039039936478,244.8468989893973,246.6974283519919,247.97342166765242,249.22062117723183,250.02506028416065,250.59277990880327,251.655131301172,251.8120013578381,251.72027194344403,252.04199465356857,252.1042844898912,251.63106803138973,251.53743442096328,251.41294184671685,251.3732106355727],\"yaxis\":\"y2\",\"type\":\"scatter\"},{\"fill\":\"tonexty\",\"fillcolor\":\"rgba(55, 128, 191, 0.1)\",\"legendgroup\":\"BOLL(Close_AAPL,20)\",\"line\":{\"color\":\"rgba(55, 128, 191, 0.7999999999999998)\",\"dash\":\"solid\",\"shape\":\"linear\",\"width\":1.3},\"mode\":\"lines\",\"name\":\"LOWER(Close_AAPL,20)\",\"showlegend\":false,\"text\":\"\",\"x\":[\"2024-03-07\",\"2024-03-08\",\"2024-03-11\",\"2024-03-12\",\"2024-03-13\",\"2024-03-14\",\"2024-03-15\",\"2024-03-18\",\"2024-03-19\",\"2024-03-20\",\"2024-03-21\",\"2024-03-22\",\"2024-03-25\",\"2024-03-26\",\"2024-03-27\",\"2024-03-28\",\"2024-04-01\",\"2024-04-02\",\"2024-04-03\",\"2024-04-04\",\"2024-04-05\",\"2024-04-08\",\"2024-04-09\",\"2024-04-10\",\"2024-04-11\",\"2024-04-12\",\"2024-04-15\",\"2024-04-16\",\"2024-04-17\",\"2024-04-18\",\"2024-04-19\",\"2024-04-22\",\"2024-04-23\",\"2024-04-24\",\"2024-04-25\",\"2024-04-26\",\"2024-04-29\",\"2024-04-30\",\"2024-05-01\",\"2024-05-02\",\"2024-05-03\",\"2024-05-06\",\"2024-05-07\",\"2024-05-08\",\"2024-05-09\",\"2024-05-10\",\"2024-05-13\",\"2024-05-14\",\"2024-05-15\",\"2024-05-16\",\"2024-05-17\",\"2024-05-20\",\"2024-05-21\",\"2024-05-22\",\"2024-05-23\",\"2024-05-24\",\"2024-05-28\",\"2024-05-29\",\"2024-05-30\",\"2024-05-31\",\"2024-06-03\",\"2024-06-04\",\"2024-06-05\",\"2024-06-06\",\"2024-06-07\",\"2024-06-10\",\"2024-06-11\",\"2024-06-12\",\"2024-06-13\",\"2024-06-14\",\"2024-06-17\",\"2024-06-18\",\"2024-06-20\",\"2024-06-21\",\"2024-06-24\",\"2024-06-25\",\"2024-06-26\",\"2024-06-27\",\"2024-06-28\",\"2024-07-01\",\"2024-07-02\",\"2024-07-03\",\"2024-07-05\",\"2024-07-08\",\"2024-07-09\",\"2024-07-10\",\"2024-07-11\",\"2024-07-12\",\"2024-07-15\",\"2024-07-16\",\"2024-07-17\",\"2024-07-18\",\"2024-07-19\",\"2024-07-22\",\"2024-07-23\",\"2024-07-24\",\"2024-07-25\",\"2024-07-26\",\"2024-07-29\",\"2024-07-30\",\"2024-07-31\",\"2024-08-01\",\"2024-08-02\",\"2024-08-05\",\"2024-08-06\",\"2024-08-07\",\"2024-08-08\",\"2024-08-09\",\"2024-08-12\",\"2024-08-13\",\"2024-08-14\",\"2024-08-15\",\"2024-08-16\",\"2024-08-19\",\"2024-08-20\",\"2024-08-21\",\"2024-08-22\",\"2024-08-23\",\"2024-08-26\",\"2024-08-27\",\"2024-08-28\",\"2024-08-29\",\"2024-08-30\",\"2024-09-03\",\"2024-09-04\",\"2024-09-05\",\"2024-09-06\",\"2024-09-09\",\"2024-09-10\",\"2024-09-11\",\"2024-09-12\",\"2024-09-13\",\"2024-09-16\",\"2024-09-17\",\"2024-09-18\",\"2024-09-19\",\"2024-09-20\",\"2024-09-23\",\"2024-09-24\",\"2024-09-25\",\"2024-09-26\",\"2024-09-27\",\"2024-09-30\",\"2024-10-01\",\"2024-10-02\",\"2024-10-03\",\"2024-10-04\",\"2024-10-07\",\"2024-10-08\",\"2024-10-09\",\"2024-10-10\",\"2024-10-11\",\"2024-10-14\",\"2024-10-15\",\"2024-10-16\",\"2024-10-17\",\"2024-10-18\",\"2024-10-21\",\"2024-10-22\",\"2024-10-23\",\"2024-10-24\",\"2024-10-25\",\"2024-10-28\",\"2024-10-29\",\"2024-10-30\",\"2024-10-31\",\"2024-11-01\",\"2024-11-04\",\"2024-11-05\",\"2024-11-06\",\"2024-11-07\",\"2024-11-08\",\"2024-11-11\",\"2024-11-12\",\"2024-11-13\",\"2024-11-14\",\"2024-11-15\",\"2024-11-18\",\"2024-11-19\",\"2024-11-20\",\"2024-11-21\",\"2024-11-22\",\"2024-11-25\",\"2024-11-26\",\"2024-11-27\",\"2024-11-29\",\"2024-12-02\",\"2024-12-03\",\"2024-12-04\",\"2024-12-05\",\"2024-12-06\",\"2024-12-09\",\"2024-12-10\",\"2024-12-11\",\"2024-12-12\",\"2024-12-13\",\"2024-12-16\",\"2024-12-17\",\"2024-12-18\",\"2024-12-19\",\"2024-12-20\",\"2024-12-23\",\"2024-12-24\",\"2024-12-26\",\"2024-12-27\",\"2024-12-30\",\"2024-12-31\",\"2025-01-02\",\"2025-01-03\",\"2025-01-06\",\"2025-01-07\",\"2025-01-08\",\"2025-01-10\",\"2025-01-13\",\"2025-01-14\",\"2025-01-15\",\"2025-01-16\",\"2025-01-17\",\"2025-01-21\",\"2025-01-22\",\"2025-01-23\",\"2025-01-24\",\"2025-01-27\",\"2025-01-28\",\"2025-01-29\",\"2025-01-30\",\"2025-01-31\",\"2025-02-03\",\"2025-02-04\",\"2025-02-05\",\"2025-02-06\",\"2025-02-07\",\"2025-02-10\",\"2025-02-11\",\"2025-02-12\",\"2025-02-13\",\"2025-02-14\",\"2025-02-18\",\"2025-02-19\",\"2025-02-20\",\"2025-02-21\",\"2025-02-24\",\"2025-02-25\",\"2025-02-26\",\"2025-02-27\",\"2025-02-28\",\"2025-03-03\",\"2025-03-04\",\"2025-03-05\",\"2025-03-06\",\"2025-03-07\"],\"y\":[\"\",\"\",\"\",\"\",\"\",\"\",\"\",\"\",\"\",\"\",\"\",\"\",\"\",\"\",\"\",\"\",\"\",\"\",\"\",166.1144105118646,166.20703427234318,165.87936883568884,165.66446152263507,165.1807629908218,165.1323445124088,164.9089701377525,164.91019925009644,164.68368989248646,164.4896020005398,164.83456024061766,163.95697327394075,163.39859594555085,163.07148708759564,163.02959258412997,163.11368899347065,163.08425027875012,162.96126674849359,163.03537729158913,163.01622257981825,163.04423874345846,161.21506771457143,160.58959045086476,160.05691803532727,159.9551606908033,159.3005560875978,158.92302633381973,158.41479514206716,158.32525555356528,158.4451064764803,159.0516410452889,160.3897993364043,161.8263441156629,163.30844969773946,164.82666993930428,166.59828283702296,168.7356450334225,170.2117885830761,172.82552455395518,176.4967885332192,179.72562743349974,180.0940893710742,180.98873167161526,181.77382756578055,182.88539306521469,183.48031756724288,185.00141517395562,183.09102515162982,180.6787551830197,179.0344942159067,178.47951235828808,177.759015994473,177.74346944778625,178.24067015533788,179.17184505868366,180.95216096315366,182.36370896278353,183.8302735229036,185.49880056282805,187.39095802363312,189.1098052587561,190.51249515823946,192.1496393677462,193.33237545313693,195.2702978675607,197.11973173705394,200.2573789163076,201.10316834979764,201.02803756923862,200.62769901962983,200.7283955148679,201.03772416649502,201.73477385461032,203.2460446324664,205.4055810642851,207.73499045237224,209.5906627308344,210.38664004353714,211.10563614065518,212.8552542007769,213.23482075383617,213.46147212926013,212.9929268039055,212.45785258787342,209.74652299922445,206.99485000275325,205.60181799568278,204.74119759067815,204.6023836416085,205.35411299225984,206.79323595142225,207.39290530624945,207.33028733187615,207.15176734305962,206.97971305953362,206.82202928663455,206.66425001617586,206.77942200536452,206.77809734201963,206.81558769213453,206.83255799830448,206.80922045247922,206.87865324155408,206.97141489596189,208.9749858365324,211.83727458345936,214.53231756730537,216.342275533255,217.46282953807284,218.084702781964,218.2849826676765,218.4299328633317,218.23416444876378,216.73121582295113,215.60126678878794,215.32103818203262,215.1638344290803,215.0814810848429,215.09137649219545,215.08321704355131,215.15415136781525,215.11459690758238,215.2892734114444,214.73402577422678,214.8512317309606,215.1852696049084,215.37232694567834,215.77874840683063,215.8841443567732,216.44541876620622,216.62665267331576,216.87709697160903,217.2279641363861,218.99052212687113,220.78903995164166,221.95645691183182,221.83973319327407,221.45372700783363,221.16359304435576,221.04999636590168,221.39169732111696,221.60601058689647,221.8228364719555,221.8089341947187,222.24723417463815,222.60472709165177,222.64917064712287,221.85942279486005,221.94712312737633,221.48713424043353,220.48185630177707,220.34264534845477,220.30579688319014,219.68004793294824,219.17849721948414,218.80772823209526,218.758156411615,218.67048588731964,219.17110732655374,219.7610881210567,219.80874190446139,219.85447317558067,219.9362392264899,219.97604569986459,219.68308871426242,219.16154202250084,218.55847523755295,218.2970453660249,218.0707958643973,218.01534690086655,218.49080297885502,218.53303929920457,218.37520690195666,218.9022540016483,219.954051651411,221.01732026351124,221.79389680741582,223.26380129899746,224.2116555493975,225.93436597308332,227.7210520044312,229.63549963773866,231.62455924377477,232.94050894146582,234.08057315841782,236.0538439855893,237.90482949345116,239.41850203078795,239.6439848983693,239.71104319917933,240.0580709842993,239.9250783521509,239.28539479702957,237.2373679088148,234.9219455668692,232.5389019508721,231.38038113544405,228.2011506136301,225.9744479107029,222.2881010371725,219.42710122576295,217.15271293124303,215.21505430329427,215.1982223263439,216.47186790372683,217.62660778153827,218.5294230553028,219.4009013103259,219.00254647314947,219.18676610211136,219.70941278030756,220.07616900602713,220.25442688190995,220.00907778465668,220.01342245968576,219.89165870253422,219.4567470518071,218.90930828599335,218.5330373462503,219.50449581281634,220.48187973829553,221.89100416896434,223.77975274500534,224.46064628671866,224.53994413776738,224.45196163809894,224.58133298315016,224.7479616038588,226.03821907798525,226.4514205595055,226.88744420064646,227.54778850993515],\"yaxis\":\"y2\",\"type\":\"scatter\"},{\"marker\":{\"color\":[\"#808080\",\"#17BECF\",\"#17BECF\",\"#17BECF\",\"#808080\",\"#17BECF\",\"#808080\",\"#17BECF\",\"#17BECF\",\"#17BECF\",\"#808080\",\"#17BECF\",\"#808080\",\"#808080\",\"#17BECF\",\"#808080\",\"#808080\",\"#808080\",\"#17BECF\",\"#808080\",\"#17BECF\",\"#808080\",\"#17BECF\",\"#808080\",\"#17BECF\",\"#17BECF\",\"#808080\",\"#808080\",\"#808080\",\"#808080\",\"#808080\",\"#17BECF\",\"#17BECF\",\"#17BECF\",\"#17BECF\",\"#808080\",\"#17BECF\",\"#808080\",\"#808080\",\"#17BECF\",\"#17BECF\",\"#808080\",\"#17BECF\",\"#17BECF\",\"#17BECF\",\"#808080\",\"#17BECF\",\"#17BECF\",\"#17BECF\",\"#17BECF\",\"#17BECF\",\"#17BECF\",\"#17BECF\",\"#808080\",\"#808080\",\"#17BECF\",\"#17BECF\",\"#17BECF\",\"#17BECF\",\"#17BECF\",\"#17BECF\",\"#17BECF\",\"#17BECF\",\"#808080\",\"#17BECF\",\"#808080\",\"#17BECF\",\"#17BECF\",\"#17BECF\",\"#808080\",\"#17BECF\",\"#808080\",\"#808080\",\"#808080\",\"#17BECF\",\"#17BECF\",\"#17BECF\",\"#17BECF\",\"#808080\",\"#17BECF\",\"#17BECF\",\"#17BECF\",\"#17BECF\",\"#17BECF\",\"#17BECF\",\"#17BECF\",\"#808080\",\"#17BECF\",\"#17BECF\",\"#17BECF\",\"#808080\",\"#808080\",\"#17BECF\",\"#808080\",\"#17BECF\",\"#808080\",\"#808080\",\"#17BECF\",\"#17BECF\",\"#17BECF\",\"#17BECF\",\"#808080\",\"#17BECF\",\"#808080\",\"#808080\",\"#17BECF\",\"#17BECF\",\"#17BECF\",\"#17BECF\",\"#17BECF\",\"#17BECF\",\"#17BECF\",\"#17BECF\",\"#808080\",\"#17BECF\",\"#808080\",\"#808080\",\"#17BECF\",\"#17BECF\",\"#17BECF\",\"#808080\",\"#17BECF\",\"#808080\",\"#808080\",\"#808080\",\"#17BECF\",\"#808080\",\"#17BECF\",\"#808080\",\"#17BECF\",\"#17BECF\",\"#808080\",\"#808080\",\"#17BECF\",\"#17BECF\",\"#17BECF\",\"#808080\",\"#808080\",\"#17BECF\",\"#808080\",\"#17BECF\",\"#17BECF\",\"#17BECF\",\"#808080\",\"#17BECF\",\"#808080\",\"#17BECF\",\"#808080\",\"#17BECF\",\"#17BECF\",\"#808080\",\"#808080\",\"#17BECF\",\"#17BECF\",\"#808080\",\"#17BECF\",\"#17BECF\",\"#17BECF\",\"#808080\",\"#808080\",\"#808080\",\"#17BECF\",\"#17BECF\",\"#17BECF\",\"#808080\",\"#808080\",\"#808080\",\"#808080\",\"#17BECF\",\"#808080\",\"#17BECF\",\"#808080\",\"#808080\",\"#808080\",\"#17BECF\",\"#17BECF\",\"#808080\",\"#17BECF\",\"#17BECF\",\"#17BECF\",\"#808080\",\"#17BECF\",\"#17BECF\",\"#17BECF\",\"#808080\",\"#17BECF\",\"#17BECF\",\"#17BECF\",\"#17BECF\",\"#17BECF\",\"#808080\",\"#17BECF\",\"#17BECF\",\"#808080\",\"#17BECF\",\"#17BECF\",\"#17BECF\",\"#17BECF\",\"#808080\",\"#17BECF\",\"#17BECF\",\"#17BECF\",\"#17BECF\",\"#17BECF\",\"#808080\",\"#808080\",\"#808080\",\"#808080\",\"#808080\",\"#17BECF\",\"#808080\",\"#17BECF\",\"#808080\",\"#808080\",\"#808080\",\"#17BECF\",\"#808080\",\"#17BECF\",\"#808080\",\"#17BECF\",\"#808080\",\"#808080\",\"#17BECF\",\"#17BECF\",\"#17BECF\",\"#808080\",\"#808080\",\"#808080\",\"#17BECF\",\"#808080\",\"#17BECF\",\"#808080\",\"#17BECF\",\"#17BECF\",\"#17BECF\",\"#17BECF\",\"#17BECF\",\"#808080\",\"#17BECF\",\"#17BECF\",\"#808080\",\"#17BECF\",\"#808080\",\"#808080\",\"#808080\",\"#17BECF\",\"#808080\",\"#808080\",\"#808080\",\"#808080\",\"#17BECF\"],\"line\":{\"color\":[\"#808080\",\"#17BECF\",\"#17BECF\",\"#17BECF\",\"#808080\",\"#17BECF\",\"#808080\",\"#17BECF\",\"#17BECF\",\"#17BECF\",\"#808080\",\"#17BECF\",\"#808080\",\"#808080\",\"#17BECF\",\"#808080\",\"#808080\",\"#808080\",\"#17BECF\",\"#808080\",\"#17BECF\",\"#808080\",\"#17BECF\",\"#808080\",\"#17BECF\",\"#17BECF\",\"#808080\",\"#808080\",\"#808080\",\"#808080\",\"#808080\",\"#17BECF\",\"#17BECF\",\"#17BECF\",\"#17BECF\",\"#808080\",\"#17BECF\",\"#808080\",\"#808080\",\"#17BECF\",\"#17BECF\",\"#808080\",\"#17BECF\",\"#17BECF\",\"#17BECF\",\"#808080\",\"#17BECF\",\"#17BECF\",\"#17BECF\",\"#17BECF\",\"#17BECF\",\"#17BECF\",\"#17BECF\",\"#808080\",\"#808080\",\"#17BECF\",\"#17BECF\",\"#17BECF\",\"#17BECF\",\"#17BECF\",\"#17BECF\",\"#17BECF\",\"#17BECF\",\"#808080\",\"#17BECF\",\"#808080\",\"#17BECF\",\"#17BECF\",\"#17BECF\",\"#808080\",\"#17BECF\",\"#808080\",\"#808080\",\"#808080\",\"#17BECF\",\"#17BECF\",\"#17BECF\",\"#17BECF\",\"#808080\",\"#17BECF\",\"#17BECF\",\"#17BECF\",\"#17BECF\",\"#17BECF\",\"#17BECF\",\"#17BECF\",\"#808080\",\"#17BECF\",\"#17BECF\",\"#17BECF\",\"#808080\",\"#808080\",\"#17BECF\",\"#808080\",\"#17BECF\",\"#808080\",\"#808080\",\"#17BECF\",\"#17BECF\",\"#17BECF\",\"#17BECF\",\"#808080\",\"#17BECF\",\"#808080\",\"#808080\",\"#17BECF\",\"#17BECF\",\"#17BECF\",\"#17BECF\",\"#17BECF\",\"#17BECF\",\"#17BECF\",\"#17BECF\",\"#808080\",\"#17BECF\",\"#808080\",\"#808080\",\"#17BECF\",\"#17BECF\",\"#17BECF\",\"#808080\",\"#17BECF\",\"#808080\",\"#808080\",\"#808080\",\"#17BECF\",\"#808080\",\"#17BECF\",\"#808080\",\"#17BECF\",\"#17BECF\",\"#808080\",\"#808080\",\"#17BECF\",\"#17BECF\",\"#17BECF\",\"#808080\",\"#808080\",\"#17BECF\",\"#808080\",\"#17BECF\",\"#17BECF\",\"#17BECF\",\"#808080\",\"#17BECF\",\"#808080\",\"#17BECF\",\"#808080\",\"#17BECF\",\"#17BECF\",\"#808080\",\"#808080\",\"#17BECF\",\"#17BECF\",\"#808080\",\"#17BECF\",\"#17BECF\",\"#17BECF\",\"#808080\",\"#808080\",\"#808080\",\"#17BECF\",\"#17BECF\",\"#17BECF\",\"#808080\",\"#808080\",\"#808080\",\"#808080\",\"#17BECF\",\"#808080\",\"#17BECF\",\"#808080\",\"#808080\",\"#808080\",\"#17BECF\",\"#17BECF\",\"#808080\",\"#17BECF\",\"#17BECF\",\"#17BECF\",\"#808080\",\"#17BECF\",\"#17BECF\",\"#17BECF\",\"#808080\",\"#17BECF\",\"#17BECF\",\"#17BECF\",\"#17BECF\",\"#17BECF\",\"#808080\",\"#17BECF\",\"#17BECF\",\"#808080\",\"#17BECF\",\"#17BECF\",\"#17BECF\",\"#17BECF\",\"#808080\",\"#17BECF\",\"#17BECF\",\"#17BECF\",\"#17BECF\",\"#17BECF\",\"#808080\",\"#808080\",\"#808080\",\"#808080\",\"#808080\",\"#17BECF\",\"#808080\",\"#17BECF\",\"#808080\",\"#808080\",\"#808080\",\"#17BECF\",\"#808080\",\"#17BECF\",\"#808080\",\"#17BECF\",\"#808080\",\"#808080\",\"#17BECF\",\"#17BECF\",\"#17BECF\",\"#808080\",\"#808080\",\"#808080\",\"#17BECF\",\"#808080\",\"#17BECF\",\"#808080\",\"#17BECF\",\"#17BECF\",\"#17BECF\",\"#17BECF\",\"#17BECF\",\"#808080\",\"#17BECF\",\"#17BECF\",\"#808080\",\"#17BECF\",\"#808080\",\"#808080\",\"#808080\",\"#17BECF\",\"#808080\",\"#808080\",\"#808080\",\"#808080\",\"#17BECF\"],\"width\":1}},\"name\":\"Volume_AAPL\",\"opacity\":0.8,\"orientation\":\"v\",\"text\":\"\",\"x\":[\"2024-03-07\",\"2024-03-08\",\"2024-03-11\",\"2024-03-12\",\"2024-03-13\",\"2024-03-14\",\"2024-03-15\",\"2024-03-18\",\"2024-03-19\",\"2024-03-20\",\"2024-03-21\",\"2024-03-22\",\"2024-03-25\",\"2024-03-26\",\"2024-03-27\",\"2024-03-28\",\"2024-04-01\",\"2024-04-02\",\"2024-04-03\",\"2024-04-04\",\"2024-04-05\",\"2024-04-08\",\"2024-04-09\",\"2024-04-10\",\"2024-04-11\",\"2024-04-12\",\"2024-04-15\",\"2024-04-16\",\"2024-04-17\",\"2024-04-18\",\"2024-04-19\",\"2024-04-22\",\"2024-04-23\",\"2024-04-24\",\"2024-04-25\",\"2024-04-26\",\"2024-04-29\",\"2024-04-30\",\"2024-05-01\",\"2024-05-02\",\"2024-05-03\",\"2024-05-06\",\"2024-05-07\",\"2024-05-08\",\"2024-05-09\",\"2024-05-10\",\"2024-05-13\",\"2024-05-14\",\"2024-05-15\",\"2024-05-16\",\"2024-05-17\",\"2024-05-20\",\"2024-05-21\",\"2024-05-22\",\"2024-05-23\",\"2024-05-24\",\"2024-05-28\",\"2024-05-29\",\"2024-05-30\",\"2024-05-31\",\"2024-06-03\",\"2024-06-04\",\"2024-06-05\",\"2024-06-06\",\"2024-06-07\",\"2024-06-10\",\"2024-06-11\",\"2024-06-12\",\"2024-06-13\",\"2024-06-14\",\"2024-06-17\",\"2024-06-18\",\"2024-06-20\",\"2024-06-21\",\"2024-06-24\",\"2024-06-25\",\"2024-06-26\",\"2024-06-27\",\"2024-06-28\",\"2024-07-01\",\"2024-07-02\",\"2024-07-03\",\"2024-07-05\",\"2024-07-08\",\"2024-07-09\",\"2024-07-10\",\"2024-07-11\",\"2024-07-12\",\"2024-07-15\",\"2024-07-16\",\"2024-07-17\",\"2024-07-18\",\"2024-07-19\",\"2024-07-22\",\"2024-07-23\",\"2024-07-24\",\"2024-07-25\",\"2024-07-26\",\"2024-07-29\",\"2024-07-30\",\"2024-07-31\",\"2024-08-01\",\"2024-08-02\",\"2024-08-05\",\"2024-08-06\",\"2024-08-07\",\"2024-08-08\",\"2024-08-09\",\"2024-08-12\",\"2024-08-13\",\"2024-08-14\",\"2024-08-15\",\"2024-08-16\",\"2024-08-19\",\"2024-08-20\",\"2024-08-21\",\"2024-08-22\",\"2024-08-23\",\"2024-08-26\",\"2024-08-27\",\"2024-08-28\",\"2024-08-29\",\"2024-08-30\",\"2024-09-03\",\"2024-09-04\",\"2024-09-05\",\"2024-09-06\",\"2024-09-09\",\"2024-09-10\",\"2024-09-11\",\"2024-09-12\",\"2024-09-13\",\"2024-09-16\",\"2024-09-17\",\"2024-09-18\",\"2024-09-19\",\"2024-09-20\",\"2024-09-23\",\"2024-09-24\",\"2024-09-25\",\"2024-09-26\",\"2024-09-27\",\"2024-09-30\",\"2024-10-01\",\"2024-10-02\",\"2024-10-03\",\"2024-10-04\",\"2024-10-07\",\"2024-10-08\",\"2024-10-09\",\"2024-10-10\",\"2024-10-11\",\"2024-10-14\",\"2024-10-15\",\"2024-10-16\",\"2024-10-17\",\"2024-10-18\",\"2024-10-21\",\"2024-10-22\",\"2024-10-23\",\"2024-10-24\",\"2024-10-25\",\"2024-10-28\",\"2024-10-29\",\"2024-10-30\",\"2024-10-31\",\"2024-11-01\",\"2024-11-04\",\"2024-11-05\",\"2024-11-06\",\"2024-11-07\",\"2024-11-08\",\"2024-11-11\",\"2024-11-12\",\"2024-11-13\",\"2024-11-14\",\"2024-11-15\",\"2024-11-18\",\"2024-11-19\",\"2024-11-20\",\"2024-11-21\",\"2024-11-22\",\"2024-11-25\",\"2024-11-26\",\"2024-11-27\",\"2024-11-29\",\"2024-12-02\",\"2024-12-03\",\"2024-12-04\",\"2024-12-05\",\"2024-12-06\",\"2024-12-09\",\"2024-12-10\",\"2024-12-11\",\"2024-12-12\",\"2024-12-13\",\"2024-12-16\",\"2024-12-17\",\"2024-12-18\",\"2024-12-19\",\"2024-12-20\",\"2024-12-23\",\"2024-12-24\",\"2024-12-26\",\"2024-12-27\",\"2024-12-30\",\"2024-12-31\",\"2025-01-02\",\"2025-01-03\",\"2025-01-06\",\"2025-01-07\",\"2025-01-08\",\"2025-01-10\",\"2025-01-13\",\"2025-01-14\",\"2025-01-15\",\"2025-01-16\",\"2025-01-17\",\"2025-01-21\",\"2025-01-22\",\"2025-01-23\",\"2025-01-24\",\"2025-01-27\",\"2025-01-28\",\"2025-01-29\",\"2025-01-30\",\"2025-01-31\",\"2025-02-03\",\"2025-02-04\",\"2025-02-05\",\"2025-02-06\",\"2025-02-07\",\"2025-02-10\",\"2025-02-11\",\"2025-02-12\",\"2025-02-13\",\"2025-02-14\",\"2025-02-18\",\"2025-02-19\",\"2025-02-20\",\"2025-02-21\",\"2025-02-24\",\"2025-02-25\",\"2025-02-26\",\"2025-02-27\",\"2025-02-28\",\"2025-03-03\",\"2025-03-04\",\"2025-03-05\",\"2025-03-06\",\"2025-03-07\"],\"y\":[71765100,76114600,60139500,59825400,52488700,72913500,121664700,75604200,55215200,53423100,106181300,71106600,54288300,57388400,60273300,65672700,46240500,49329500,47691700,53704400,42055200,37425500,42451200,49709300,91070300,101593300,73531800,73711200,50901200,43122900,67772100,48116400,49537800,48251800,50558300,44838400,68169400,65934800,50383100,94214900,163224100,78569700,77305800,45057100,48983000,50759500,72044800,52393600,70400000,52845200,41282900,44361300,42309400,34648500,51005900,36294600,52280100,53068000,49947900,75158300,50080500,47471400,54156800,41181800,53103900,97262100,172373300,198134300,97862700,70122700,93728300,79943300,86172500,246421400,80727000,56713900,66213200,49772700,82542700,60402900,58046200,37369800,60412400,59085900,48076100,62627700,64710600,53046500,62631300,43234300,57345900,66034600,49151500,48201800,39960300,61777600,51391200,41601300,36311800,41643800,50036300,62501000,105568600,119548600,69660500,63516400,47161100,42201600,38028100,44155300,41960600,46414000,44340200,40687800,30299000,34765500,43695300,38677300,30602200,35934600,38052200,51906300,52990800,50190600,43840200,36615400,48423000,67180000,51591000,44587100,37498200,36766600,59357400,45519300,59894900,66781300,318679900,54146000,43556100,42308700,36636700,34026000,54541900,63285000,32880600,34044200,37245100,39505400,31855700,33591100,28183500,31759200,39882100,64751400,34082200,32993800,46431500,36254500,38846600,52287000,31109500,38802300,36087100,35417200,47070900,64370100,65276700,44944500,28111300,54561100,42137700,38328800,42005600,40398300,48566200,44923900,47923700,44686000,36211800,35169600,42108300,38168300,90152800,45986200,33498400,28481400,48137100,38861000,44383900,40033900,36870600,44649200,36914800,45205800,32777500,33155300,51694800,51356400,56774100,60882300,147495300,40858800,23234700,27237100,42355300,35557500,39480700,55740700,40244100,45045600,40856000,37628900,61710900,49630700,39435300,39832000,71759100,68488300,98070400,64126500,60234800,54697900,94863400,75707600,45486100,55658300,101075100,73063300,45067300,39620300,29925300,39707200,33115600,53718400,45243300,53614100,40896200,48822500,32204200,32316900,53197400,51326400,48013300,44433600,41153600,56833400,47184000,53798100,47227600,45100000,14179805],\"yaxis\":\"y3\",\"type\":\"bar\"},{\"close\":[168.2057647705078,169.92762756347656,171.93814086914062,172.41587829589844,170.3257598876953,172.18695068359375,171.80873107910156,172.90357971191406,175.2524871826172,177.83030700683594,170.5646209716797,171.47035217285156,170.0470733642578,168.9124298095703,172.49551391601562,170.67408752441406,169.23092651367188,168.04649353027344,168.85269165039062,168.02662658691406,168.78302001953125,167.65834045410156,168.8726043701172,166.99148559570312,174.2173614501953,175.7202911376953,171.87841796875,168.583984375,167.21046447753906,166.2549591064453,164.2245635986328,165.06060791015625,166.11563110351562,168.2256622314453,169.09158325195312,168.50433349609375,172.68460083007812,169.5294952392578,168.50433349609375,172.21682739257812,182.5181884765625,180.8560333251953,181.5427703857422,181.88119506835938,183.70260620117188,182.43685913085938,185.65602111816406,186.80215454101562,189.0845184326172,189.2041015625,189.23399353027344,190.40008544921875,191.70570373535156,190.2605438232422,186.2540283203125,189.3436279296875,189.3535919189453,189.65260314941406,190.6492462158203,191.6060333251953,193.38006591796875,193.69898986816406,195.21389770507812,193.82855224609375,196.23048400878906,192.4730987548828,206.45611572265625,212.35630798339844,213.52236938476562,211.77822875976562,215.94422912597656,213.5721893310547,208.97763061523438,206.7949981689453,207.44281005859375,208.36968994140625,212.5356903076172,213.3828582763672,209.91448974609375,216.02395629882812,219.5321807861328,220.80789184570312,225.5818328857422,227.056884765625,227.9139862060547,232.19960021972656,226.80772399902344,229.76776123046875,233.61483764648438,234.03343200683594,228.1133270263672,223.42906188964844,223.5586395263672,223.20980834960938,224.2563018798828,217.80795288085938,216.76148986816406,217.2299041748047,217.50897216796875,218.06710815429688,221.3361053466797,217.62855529785156,219.12355041503906,208.5690155029297,206.5358428955078,209.11717224121094,212.59547424316406,215.51568603515625,217.0522918701172,220.78408813476562,221.23309326171875,224.22650146484375,225.5535888671875,225.3939208984375,226.0125732421875,225.90281677246094,224.0369110107422,226.3418426513672,226.68109130859375,227.52923583984375,225.99261474609375,229.28536987304688,228.49710083007812,222.28079223632812,220.36500549316406,221.8916473388672,220.33506774902344,220.4248809814453,219.62661743164062,222.17103576660156,222.28079223632812,222.01136779785156,215.84495544433594,216.31390380859375,220.20535278320312,228.3673858642578,227.6988525390625,225.97265625,226.8706817626953,225.8728790283203,227.02035522460938,227.2897491455078,232.48831176757812,225.71322631835938,226.28196716308594,225.17440795898438,226.30194091796875,221.2031707763672,225.27420043945312,229.03591918945312,228.53700256347656,227.05029296875,230.79205322265625,233.33645629882812,231.27099609375,231.6401824951172,234.4839324951172,235.96067810058594,235.342041015625,230.25323486328125,230.06365966796875,230.9018096923828,232.88743591308594,233.15684509277344,229.59469604492188,225.4138946533203,222.4204864501953,221.52244567871094,222.95928955078125,222.23089599609375,226.98043823242188,226.7107391357422,223.98373413085938,223.98373413085938,224.8727569580078,227.9693603515625,224.7528839111328,227.7695770263672,228.02928161621094,228.7484893798828,228.26902770996094,229.61753845214844,232.61424255371094,234.8018341064453,234.67198181152344,237.06935119628906,239.3268585205078,242.3834991455078,242.74310302734375,242.7730712890625,242.5732879638672,246.47900390625,247.4978790283203,246.2192840576172,247.68768310546875,247.85748291015625,250.7642822265625,253.20159912109375,247.77757263183594,249.51565551757812,254.21051025390625,254.98965454101562,257.91644287109375,258.7355041503906,255.30929565429688,251.9230194091797,250.1449737548828,243.5821990966797,243.0927276611328,244.73092651367188,241.94400024414062,242.43344116210938,236.58987426757812,234.14256286621094,233.02378845214844,237.60874938964844,228.00930786132812,229.7274169921875,222.39547729492188,223.58416748046875,223.41436767578125,222.5353240966797,229.6075439453125,237.99832153320312,239.0971221923828,237.3290557861328,235.74081420898438,227.75958251953125,232.54432678222656,232.21469116210938,232.9638671875,227.3800048828125,227.64999389648438,232.6199951171875,236.8699951171875,241.52999877929688,244.60000610351562,244.47000122070312,244.8699951171875,245.8300018310547,245.5500030517578,247.10000610351562,247.0399932861328,240.36000061035156,237.3000030517578,241.83999633789062,238.02999877929688,235.92999267578125,235.74000549316406,235.3300018310547,239.1699981689453],\"decreasing\":{\"line\":{\"color\":\"#808080\"}},\"high\":[169.92763018116116,172.8836708711805,173.56048535052068,173.21212162678884,172.37607625258147,173.49079163745046,171.80873107910156,176.87483361469177,175.77999515234478,177.83030700683594,176.65586961417029,172.23673773536032,171.13194711675717,170.61438491064948,172.78415954350993,171.42056273337485,170.4451942217802,168.54414366405445,169.8778497555363,171.1120488206033,169.58921080070664,168.40481571452685,169.2806811483862,168.29532657810816,174.63540094951088,177.52178245719062,175.7999037342719,172.94338974194338,169.84800441976404,167.8474456964944,165.6179780634261,166.47393259764522,166.26493527613894,168.50434510258808,169.80820075027214,170.53473930129167,175.20270935632288,174.16759809934044,171.89831095590108,172.6049939419865,186.12117099096088,183.3343214775735,184.0310211595987,182.20964601288568,183.792179594264,184.47001925959685,186.47328168344126,187.66925062518712,190.01139602124525,190.45989075478766,190.17084727488813,191.27714266640717,192.08442053272114,192.17412585880137,190.3602230291439,189.94162421863646,192.35350378297326,191.60604467860838,191.53626445370173,191.92496874276912,194.33685694398167,194.66574186569684,196.24044634116564,195.84179017422778,196.28031956711487,196.63910486677477,206.46609195915696,219.46241499269527,216.02395620562416,214.44924427717243,218.21659070332575,217.89766325641614,213.5223688231627,211.18025387128242,211.9875333707341,210.67194975002218,214.1402980033581,215.01736433595826,215.34624626528088,216.78140506529675,219.64181293490427,220.80789184570312,225.69146503075916,227.08678305881674,228.631575647805,232.29927134034506,231.61157070495582,231.86073301422448,236.43535998230433,235.47857190808813,230.68468664215072,229.66810263837593,226.04030439428965,227.01700459563804,226.17984506717187,224.04699357799979,220.11023564894725,218.75477790382115,218.5654190781,219.5919820328496,223.07028238181744,223.72805013234773,224.84432899946665,212.7848420736874,209.28660752946874,212.92436846093156,213.4824924067945,216.05387055494424,219.02793942662467,221.4027217224782,222.54021400164925,224.8551228159093,226.33187474025672,225.49370737790127,226.6711275207631,227.47934890039068,227.8385414771675,227.7188169640382,226.7808777924977,228.34744239539063,229.35520907583674,232.4085012026452,229.89402024722435,228.4971066385697,221.29295584608857,224.98483044961614,224.74535922490057,220.7840910234286,220.9936039050013,222.6000841658612,223.0590781064196,223.54797910505988,216.74297289953918,216.42366284814068,222.22092099435915,229.31531179988679,232.57811312113958,228.94610768522742,228.8463445678705,226.79085685048213,227.99819881641105,229.01596089620384,232.48831176757812,229.14565893600417,226.8706678098605,226.3119038145279,227.49930262356304,225.19438676879486,225.4837307412941,229.24546472466872,228.99599906464633,228.9062089337624,231.22110160659443,236.9684620133565,231.61024577942743,233.3364614020046,235.66133386929857,236.32987592195377,235.70125104779564,234.62362105235994,230.31311065070702,232.7078323586645,234.21451699403664,233.815399347975,232.95729049985403,229.325284321648,224.8551305713263,222.3007315284092,223.45819152571042,225.5735453041769,227.37956894750107,228.4088689967903,225.45212091614073,225.34224111445195,226.4010754152989,228.61864039722624,226.67077335813082,229.4876892234719,229.90722171238716,229.67746064503265,229.90722593821596,230.46661102927646,232.99383009111634,235.31128373473052,235.43115689965902,237.5488197625333,240.52553753151284,242.49337894569658,243.84190102311462,244.2714238935446,244.3613305629988,246.96847124510987,247.93739821602466,250.52454792031958,248.46682524629017,249.01619729452798,251.10392039685559,253.5512208135588,254.0007260278641,251.72323503929724,254.71994465608725,255.36922684225433,257.92641115938613,259.81433504408284,258.41589596104086,253.22159473829512,253.00183336212825,248.826433311358,243.91181916074598,247.05836939894766,245.28032844029428,243.44234164075266,239.8962364632009,234.41227060505477,235.8606656353981,238.6975638581554,237.74859991927732,232.03487756376998,224.17352112887505,223.87384226456615,226.78066167492807,225.38220009721186,231.89502211760887,239.9262098046868,239.5965730646729,240.52553823889048,246.91852728753366,231.5753945205246,232.87396618357337,232.4144684638066,233.54323203112875,233.74300400322835,230.58999633789062,235.22999572753906,236.9600067138672,242.33999633789062,245.5500030517578,245.17999267578125,246.00999450683594,246.77999877929688,248.69000244140625,248.86000061035156,250.0,244.97999572753906,242.4600067138672,242.08999633789062,244.02999877929688,240.07000732421875,236.5500030517578,237.86000061035156,240.16000366210938],\"increasing\":{\"line\":{\"color\":\"#17BECF\"}},\"low\":[167.6981670423948,168.14604658720506,171.2414336396481,170.20631026653984,169.95748841772314,171.24141844268888,169.4896795825833,172.70452267737835,172.2168180823409,174.2671300256647,170.03711298613993,169.26078406375387,168.65364374159117,168.78303590364706,169.31055559917013,169.70864503919194,168.68350825393796,167.43935975957754,167.78772821512752,168.02662658691406,168.15597599547186,167.4493358859462,167.55881583801002,166.3246362072623,167.36970557110288,173.39129181372058,171.68930847441092,167.47920033817573,167.21046447753906,165.7672716683895,163.3088890664717,163.9956444231876,164.1449405589347,165.42887079721268,167.3597550998357,168.38488714020465,172.28648678772151,169.2010443307548,168.31522402075603,170.08688513916925,181.80157098826203,179.5720873686165,180.46785941606433,180.59724908638574,181.2541604804327,181.51994258592455,184.00157793065927,185.66597383097238,186.7423838683229,189.02471179656044,188.54630236847427,188.37688635675946,190.28048580582154,189.63266445026173,186.00486572472462,187.41012383078694,188.46657377923762,188.87521703261189,189.99146851693155,189.27387511297837,191.8751293663799,192.38340418619828,194.2172473626493,193.5195930765027,193.48969558531903,191.50634675889475,192.9814138224934,206.20696163392407,210.89121315624297,210.59221246372425,212.0074632920053,212.28651711595563,208.1504242370716,206.4162661482939,205.89799892378585,207.91122410230182,209.9344322470105,211.63872006367095,209.5955695452833,211.2101334408119,214.3795002092306,218.29632866276663,220.90754038733803,222.50218547217585,225.6117264169712,228.48209857735924,225.01375035477759,227.91399100155513,232.3092281117703,231.55176727169922,225.88082486496336,221.52547133243425,222.53209087352224,222.34271224556252,221.9341046141529,216.40268749627205,213.9010930254534,215.2864239407029,215.0273073866339,215.39607720378967,219.89096542123676,216.29304757526307,216.98075820790513,195.34346157584417,200.39648844230862,205.69865382063958,208.13048513245963,211.259984607228,215.12653755613,218.52904142421028,219.21752501736546,222.27079905335071,223.15885022096822,222.55017371179113,224.95490346311303,224.55579052395228,223.4082896744648,223.83736023691762,223.39832305195915,224.39613201364162,225.18438078371824,228.37737982242845,226.98043458769098,220.68429981162342,217.0023958735564,221.03353533260162,219.2873705935476,216.23410730849415,216.25403537150672,217.41150656335964,219.33727360197898,221.42266715079168,213.4502168549942,214.02893954474482,217.06226125375574,224.1367068474718,227.12012443578536,225.31410200503296,225.2342838755063,223.52804884217394,224.9149883158055,226.80083496693393,229.1456625683617,223.24864947388588,222.53022998119604,222.82957789090332,223.63780617480538,220.84396072803747,222.75973024040246,224.33627096325682,226.67111410985407,226.84074743911052,228.09798564307096,231.85969551276995,229.33525401328018,230.0137723986246,233.4961010856326,233.9351372634737,232.08920560922664,227.25982300232985,227.90839952304313,229.0658541264054,232.03931169048735,231.8098189074392,229.04590082483264,224.8750719925984,219.78628458026085,219.2275088130919,220.65436486265338,220.7042571772517,224.0768403097807,226.16134014604208,221.25673663335022,223.11469448970428,222.5153482196322,224.7528954725484,224.023689933323,224.92270099550518,226.41106572007726,225.64190448211673,225.46211628612434,227.80952873867182,229.48769048234254,233.07373841155265,233.55321672420507,233.71304074851764,236.89953466637493,238.6376176509325,240.9850414761411,241.86408229295347,241.8141281502541,241.48449521514058,245.0705399660552,245.98952569372008,245.41017310687806,245.96955931284188,247.3780059899919,249.50566587259755,247.46791553993853,246.81862390484895,245.42017186050566,253.17164603591402,255.0096198916901,257.34704665632455,252.78207543596488,250.47461491371794,249.15605553782555,241.55442975303322,241.624340886356,242.93290033169586,241.08494412707995,239.78635773622742,232.74409661721964,229.46771001708314,232.21468051006943,234.17252500331003,227.7795647267042,228.22906438809179,219.13906319002535,219.54859611049605,222.05586069453574,221.16683361690275,223.73399710835045,230.55650666713984,233.75299176206667,236.94948349745044,233.18362815459494,225.45212191586603,226.40107197135944,228.0193068583431,230.17692277145878,227.0104008794231,227.1999969482422,228.1300048828125,230.67999267578125,235.57000732421875,240.99000549316406,241.83999633789062,243.16000366210938,244.2899932861328,245.22000122070312,244.4199981689453,244.91000366210938,239.1300048828125,237.05999755859375,230.1999969482422,236.11000061035156,234.67999267578125,229.22999572753906,233.16000366210938,234.75999450683594],\"name\":\"AAPL\",\"open\":[168.35505375316498,168.20576217934803,172.12725037151972,172.33625244410158,171.9580519129805,172.0973773021251,170.36554869703198,174.7448914522954,173.52065910891577,174.89417408943874,176.2179350177799,170.95279171103329,169.76839047714014,169.20106023000122,169.60914876354798,170.94282285202152,170.38547862745995,168.28537106183597,167.99673277562965,169.4897042530356,168.7929675547899,168.23561647794648,167.90716183961618,168.0066961691415,167.54885233902874,173.44104468475973,174.53586805138283,170.94284143183614,168.81289870293196,167.24031189258443,165.42888374733738,164.74211969252124,164.57292762929356,165.75730653407012,168.73327450279362,169.08160945714914,172.55520693212748,172.51539602156524,168.78301634804097,171.69926693100732,185.77280978325868,181.4930249418685,182.58783874817743,181.9906787165348,181.70204263297254,184.280653249985,184.81883849593646,186.88188838827716,187.28058361009533,189.83199615864385,188.87519880271202,188.69582178398366,190.44991454290118,191.625965130265,190.34028576334703,188.1875250894915,190.86848939299406,188.97488815842905,190.12102272627732,190.79874896001851,192.25384615761888,193.98801176077237,194.74547082752238,195.03450583879902,193.99798178181695,196.2404356269631,193.00133588013964,206.67538853844061,214.02069454325613,213.13367378271622,212.65527993528355,216.86113841241473,213.21339445126264,209.68527826262047,207.02421872275744,208.44940858434205,210.79155216910215,213.97087836680484,215.04724812174294,211.37956216985054,215.42597092933886,219.26308073535034,220.90754038733803,226.32931907748747,227.1664984715379,228.5319341376685,230.61492037011672,228.1531925563972,235.68787221439834,234.2128217621178,228.68140979310064,229.50863493701104,224.06694094221692,226.24957960487185,223.61844622977043,223.24967028544495,218.19665359620475,217.96741565742542,216.23326096996,218.45580119769897,220.6982497488722,223.618417993468,218.41592196270943,198.42310739676375,204.61231506511243,206.20693999643444,212.39614722358988,211.38955402452135,215.59550663031672,218.52904142421028,220.08562480803565,224.10676986474735,223.42826155403992,225.22429606357244,225.27420804373648,226.0225636042008,227.28974628083643,225.16444130741013,226.2620154817008,225.50369501854036,227.4194670399241,229.59470189609323,229.6844899472923,228.04809790202157,221.17322424578342,221.14329437614535,223.45818364879955,220.3350822772696,218.43922835246784,220.97367404683663,222.01138090428717,223.08899783711732,216.0644583037111,215.27619443719672,217.07224903728172,224.49591687958383,229.46496974860833,226.8407407931877,228.14786961487798,224.43603888049125,226.80083714120576,227.9582911728241,229.5348054854851,229.0159547825387,225.3939223013361,224.64557310138042,227.39951613756347,224.0069975750027,223.80742742544692,224.73538646570117,227.279775108536,228.79644988971887,228.19775690140833,233.0969778733182,231.09139869260778,232.9173703418766,235.66133386929857,233.9351372634737,233.376366009758,233.56595129753524,229.4749437774939,229.23547896644118,232.80762499530724,232.58810476348472,232.09917848988178,228.83635490362704,220.48474431371312,220.5046966292777,221.31291912362707,222.12113695305962,224.13670611072257,226.92049995960826,224.7528927426808,224.30339000560164,223.76397540644066,224.77287777547028,226.15134020310103,225.00261496304853,226.73070634208972,227.80951934283004,228.6286329426038,227.80952873867182,231.2058026888721,233.07373841155265,234.21249554010248,234.55211454995276,237.00941446483552,239.54662188503684,242.60325739533934,243.72204013219255,242.6432183998472,241.56440918324205,246.61884065291167,247.68767076725757,246.61885092340057,247.54782582286595,247.71764416028498,249.80533943156328,251.88305927654196,247.22817727073837,247.76758181309805,254.49020366493687,255.2094124344067,257.90642916266114,257.54682582842287,251.95298524244893,252.16275955239965,248.65660659999048,243.0927276611328,244.04168187374515,242.71314361950866,241.65429905026372,239.7463920626497,233.27352322575203,234.49217517741417,234.38230107288462,237.089336348529,231.86506609768284,223.75398423747347,219.54859611049605,224.493183388126,224.53312753788666,223.77396171163917,230.59647127201654,233.86287156365174,238.40787147181928,246.91852728753366,229.73741895869952,227.00041910872287,228.27901582634638,231.0359788855247,232.3445476829273,229.57000732421875,228.1999969482422,231.1999969482422,236.91000366210938,241.25,244.14999389648438,244.66000366210938,244.94000244140625,245.9499969482422,244.92999267578125,248.0,244.3300018310547,239.41000366210938,236.9499969482422,241.7899932861328,237.7100067138672,235.4199981689453,234.44000244140625,235.10499572753906],\"showlegend\":true,\"x\":[\"2024-03-07\",\"2024-03-08\",\"2024-03-11\",\"2024-03-12\",\"2024-03-13\",\"2024-03-14\",\"2024-03-15\",\"2024-03-18\",\"2024-03-19\",\"2024-03-20\",\"2024-03-21\",\"2024-03-22\",\"2024-03-25\",\"2024-03-26\",\"2024-03-27\",\"2024-03-28\",\"2024-04-01\",\"2024-04-02\",\"2024-04-03\",\"2024-04-04\",\"2024-04-05\",\"2024-04-08\",\"2024-04-09\",\"2024-04-10\",\"2024-04-11\",\"2024-04-12\",\"2024-04-15\",\"2024-04-16\",\"2024-04-17\",\"2024-04-18\",\"2024-04-19\",\"2024-04-22\",\"2024-04-23\",\"2024-04-24\",\"2024-04-25\",\"2024-04-26\",\"2024-04-29\",\"2024-04-30\",\"2024-05-01\",\"2024-05-02\",\"2024-05-03\",\"2024-05-06\",\"2024-05-07\",\"2024-05-08\",\"2024-05-09\",\"2024-05-10\",\"2024-05-13\",\"2024-05-14\",\"2024-05-15\",\"2024-05-16\",\"2024-05-17\",\"2024-05-20\",\"2024-05-21\",\"2024-05-22\",\"2024-05-23\",\"2024-05-24\",\"2024-05-28\",\"2024-05-29\",\"2024-05-30\",\"2024-05-31\",\"2024-06-03\",\"2024-06-04\",\"2024-06-05\",\"2024-06-06\",\"2024-06-07\",\"2024-06-10\",\"2024-06-11\",\"2024-06-12\",\"2024-06-13\",\"2024-06-14\",\"2024-06-17\",\"2024-06-18\",\"2024-06-20\",\"2024-06-21\",\"2024-06-24\",\"2024-06-25\",\"2024-06-26\",\"2024-06-27\",\"2024-06-28\",\"2024-07-01\",\"2024-07-02\",\"2024-07-03\",\"2024-07-05\",\"2024-07-08\",\"2024-07-09\",\"2024-07-10\",\"2024-07-11\",\"2024-07-12\",\"2024-07-15\",\"2024-07-16\",\"2024-07-17\",\"2024-07-18\",\"2024-07-19\",\"2024-07-22\",\"2024-07-23\",\"2024-07-24\",\"2024-07-25\",\"2024-07-26\",\"2024-07-29\",\"2024-07-30\",\"2024-07-31\",\"2024-08-01\",\"2024-08-02\",\"2024-08-05\",\"2024-08-06\",\"2024-08-07\",\"2024-08-08\",\"2024-08-09\",\"2024-08-12\",\"2024-08-13\",\"2024-08-14\",\"2024-08-15\",\"2024-08-16\",\"2024-08-19\",\"2024-08-20\",\"2024-08-21\",\"2024-08-22\",\"2024-08-23\",\"2024-08-26\",\"2024-08-27\",\"2024-08-28\",\"2024-08-29\",\"2024-08-30\",\"2024-09-03\",\"2024-09-04\",\"2024-09-05\",\"2024-09-06\",\"2024-09-09\",\"2024-09-10\",\"2024-09-11\",\"2024-09-12\",\"2024-09-13\",\"2024-09-16\",\"2024-09-17\",\"2024-09-18\",\"2024-09-19\",\"2024-09-20\",\"2024-09-23\",\"2024-09-24\",\"2024-09-25\",\"2024-09-26\",\"2024-09-27\",\"2024-09-30\",\"2024-10-01\",\"2024-10-02\",\"2024-10-03\",\"2024-10-04\",\"2024-10-07\",\"2024-10-08\",\"2024-10-09\",\"2024-10-10\",\"2024-10-11\",\"2024-10-14\",\"2024-10-15\",\"2024-10-16\",\"2024-10-17\",\"2024-10-18\",\"2024-10-21\",\"2024-10-22\",\"2024-10-23\",\"2024-10-24\",\"2024-10-25\",\"2024-10-28\",\"2024-10-29\",\"2024-10-30\",\"2024-10-31\",\"2024-11-01\",\"2024-11-04\",\"2024-11-05\",\"2024-11-06\",\"2024-11-07\",\"2024-11-08\",\"2024-11-11\",\"2024-11-12\",\"2024-11-13\",\"2024-11-14\",\"2024-11-15\",\"2024-11-18\",\"2024-11-19\",\"2024-11-20\",\"2024-11-21\",\"2024-11-22\",\"2024-11-25\",\"2024-11-26\",\"2024-11-27\",\"2024-11-29\",\"2024-12-02\",\"2024-12-03\",\"2024-12-04\",\"2024-12-05\",\"2024-12-06\",\"2024-12-09\",\"2024-12-10\",\"2024-12-11\",\"2024-12-12\",\"2024-12-13\",\"2024-12-16\",\"2024-12-17\",\"2024-12-18\",\"2024-12-19\",\"2024-12-20\",\"2024-12-23\",\"2024-12-24\",\"2024-12-26\",\"2024-12-27\",\"2024-12-30\",\"2024-12-31\",\"2025-01-02\",\"2025-01-03\",\"2025-01-06\",\"2025-01-07\",\"2025-01-08\",\"2025-01-10\",\"2025-01-13\",\"2025-01-14\",\"2025-01-15\",\"2025-01-16\",\"2025-01-17\",\"2025-01-21\",\"2025-01-22\",\"2025-01-23\",\"2025-01-24\",\"2025-01-27\",\"2025-01-28\",\"2025-01-29\",\"2025-01-30\",\"2025-01-31\",\"2025-02-03\",\"2025-02-04\",\"2025-02-05\",\"2025-02-06\",\"2025-02-07\",\"2025-02-10\",\"2025-02-11\",\"2025-02-12\",\"2025-02-13\",\"2025-02-14\",\"2025-02-18\",\"2025-02-19\",\"2025-02-20\",\"2025-02-21\",\"2025-02-24\",\"2025-02-25\",\"2025-02-26\",\"2025-02-27\",\"2025-02-28\",\"2025-03-03\",\"2025-03-04\",\"2025-03-05\",\"2025-03-06\",\"2025-03-07\"],\"yaxis\":\"y2\",\"type\":\"candlestick\"}],                        {\"legend\":{\"bgcolor\":\"#F5F6F9\",\"font\":{\"color\":\"#4D5663\"},\"orientation\":\"h\",\"x\":0.3,\"y\":0.95,\"yanchor\":\"bottom\"},\"margin\":{\"b\":30,\"l\":30,\"r\":30,\"t\":30},\"paper_bgcolor\":\"#F5F6F9\",\"plot_bgcolor\":\"#F5F6F9\",\"showlegend\":true,\"template\":{\"data\":{\"barpolar\":[{\"marker\":{\"line\":{\"color\":\"#E5ECF6\",\"width\":0.5},\"pattern\":{\"fillmode\":\"overlay\",\"size\":10,\"solidity\":0.2}},\"type\":\"barpolar\"}],\"bar\":[{\"error_x\":{\"color\":\"#2a3f5f\"},\"error_y\":{\"color\":\"#2a3f5f\"},\"marker\":{\"line\":{\"color\":\"#E5ECF6\",\"width\":0.5},\"pattern\":{\"fillmode\":\"overlay\",\"size\":10,\"solidity\":0.2}},\"type\":\"bar\"}],\"carpet\":[{\"aaxis\":{\"endlinecolor\":\"#2a3f5f\",\"gridcolor\":\"white\",\"linecolor\":\"white\",\"minorgridcolor\":\"white\",\"startlinecolor\":\"#2a3f5f\"},\"baxis\":{\"endlinecolor\":\"#2a3f5f\",\"gridcolor\":\"white\",\"linecolor\":\"white\",\"minorgridcolor\":\"white\",\"startlinecolor\":\"#2a3f5f\"},\"type\":\"carpet\"}],\"choropleth\":[{\"colorbar\":{\"outlinewidth\":0,\"ticks\":\"\"},\"type\":\"choropleth\"}],\"contourcarpet\":[{\"colorbar\":{\"outlinewidth\":0,\"ticks\":\"\"},\"type\":\"contourcarpet\"}],\"contour\":[{\"colorbar\":{\"outlinewidth\":0,\"ticks\":\"\"},\"colorscale\":[[0.0,\"#0d0887\"],[0.1111111111111111,\"#46039f\"],[0.2222222222222222,\"#7201a8\"],[0.3333333333333333,\"#9c179e\"],[0.4444444444444444,\"#bd3786\"],[0.5555555555555556,\"#d8576b\"],[0.6666666666666666,\"#ed7953\"],[0.7777777777777778,\"#fb9f3a\"],[0.8888888888888888,\"#fdca26\"],[1.0,\"#f0f921\"]],\"type\":\"contour\"}],\"heatmapgl\":[{\"colorbar\":{\"outlinewidth\":0,\"ticks\":\"\"},\"colorscale\":[[0.0,\"#0d0887\"],[0.1111111111111111,\"#46039f\"],[0.2222222222222222,\"#7201a8\"],[0.3333333333333333,\"#9c179e\"],[0.4444444444444444,\"#bd3786\"],[0.5555555555555556,\"#d8576b\"],[0.6666666666666666,\"#ed7953\"],[0.7777777777777778,\"#fb9f3a\"],[0.8888888888888888,\"#fdca26\"],[1.0,\"#f0f921\"]],\"type\":\"heatmapgl\"}],\"heatmap\":[{\"colorbar\":{\"outlinewidth\":0,\"ticks\":\"\"},\"colorscale\":[[0.0,\"#0d0887\"],[0.1111111111111111,\"#46039f\"],[0.2222222222222222,\"#7201a8\"],[0.3333333333333333,\"#9c179e\"],[0.4444444444444444,\"#bd3786\"],[0.5555555555555556,\"#d8576b\"],[0.6666666666666666,\"#ed7953\"],[0.7777777777777778,\"#fb9f3a\"],[0.8888888888888888,\"#fdca26\"],[1.0,\"#f0f921\"]],\"type\":\"heatmap\"}],\"histogram2dcontour\":[{\"colorbar\":{\"outlinewidth\":0,\"ticks\":\"\"},\"colorscale\":[[0.0,\"#0d0887\"],[0.1111111111111111,\"#46039f\"],[0.2222222222222222,\"#7201a8\"],[0.3333333333333333,\"#9c179e\"],[0.4444444444444444,\"#bd3786\"],[0.5555555555555556,\"#d8576b\"],[0.6666666666666666,\"#ed7953\"],[0.7777777777777778,\"#fb9f3a\"],[0.8888888888888888,\"#fdca26\"],[1.0,\"#f0f921\"]],\"type\":\"histogram2dcontour\"}],\"histogram2d\":[{\"colorbar\":{\"outlinewidth\":0,\"ticks\":\"\"},\"colorscale\":[[0.0,\"#0d0887\"],[0.1111111111111111,\"#46039f\"],[0.2222222222222222,\"#7201a8\"],[0.3333333333333333,\"#9c179e\"],[0.4444444444444444,\"#bd3786\"],[0.5555555555555556,\"#d8576b\"],[0.6666666666666666,\"#ed7953\"],[0.7777777777777778,\"#fb9f3a\"],[0.8888888888888888,\"#fdca26\"],[1.0,\"#f0f921\"]],\"type\":\"histogram2d\"}],\"histogram\":[{\"marker\":{\"pattern\":{\"fillmode\":\"overlay\",\"size\":10,\"solidity\":0.2}},\"type\":\"histogram\"}],\"mesh3d\":[{\"colorbar\":{\"outlinewidth\":0,\"ticks\":\"\"},\"type\":\"mesh3d\"}],\"parcoords\":[{\"line\":{\"colorbar\":{\"outlinewidth\":0,\"ticks\":\"\"}},\"type\":\"parcoords\"}],\"pie\":[{\"automargin\":true,\"type\":\"pie\"}],\"scatter3d\":[{\"line\":{\"colorbar\":{\"outlinewidth\":0,\"ticks\":\"\"}},\"marker\":{\"colorbar\":{\"outlinewidth\":0,\"ticks\":\"\"}},\"type\":\"scatter3d\"}],\"scattercarpet\":[{\"marker\":{\"colorbar\":{\"outlinewidth\":0,\"ticks\":\"\"}},\"type\":\"scattercarpet\"}],\"scattergeo\":[{\"marker\":{\"colorbar\":{\"outlinewidth\":0,\"ticks\":\"\"}},\"type\":\"scattergeo\"}],\"scattergl\":[{\"marker\":{\"colorbar\":{\"outlinewidth\":0,\"ticks\":\"\"}},\"type\":\"scattergl\"}],\"scattermapbox\":[{\"marker\":{\"colorbar\":{\"outlinewidth\":0,\"ticks\":\"\"}},\"type\":\"scattermapbox\"}],\"scatterpolargl\":[{\"marker\":{\"colorbar\":{\"outlinewidth\":0,\"ticks\":\"\"}},\"type\":\"scatterpolargl\"}],\"scatterpolar\":[{\"marker\":{\"colorbar\":{\"outlinewidth\":0,\"ticks\":\"\"}},\"type\":\"scatterpolar\"}],\"scatter\":[{\"fillpattern\":{\"fillmode\":\"overlay\",\"size\":10,\"solidity\":0.2},\"type\":\"scatter\"}],\"scatterternary\":[{\"marker\":{\"colorbar\":{\"outlinewidth\":0,\"ticks\":\"\"}},\"type\":\"scatterternary\"}],\"surface\":[{\"colorbar\":{\"outlinewidth\":0,\"ticks\":\"\"},\"colorscale\":[[0.0,\"#0d0887\"],[0.1111111111111111,\"#46039f\"],[0.2222222222222222,\"#7201a8\"],[0.3333333333333333,\"#9c179e\"],[0.4444444444444444,\"#bd3786\"],[0.5555555555555556,\"#d8576b\"],[0.6666666666666666,\"#ed7953\"],[0.7777777777777778,\"#fb9f3a\"],[0.8888888888888888,\"#fdca26\"],[1.0,\"#f0f921\"]],\"type\":\"surface\"}],\"table\":[{\"cells\":{\"fill\":{\"color\":\"#EBF0F8\"},\"line\":{\"color\":\"white\"}},\"header\":{\"fill\":{\"color\":\"#C8D4E3\"},\"line\":{\"color\":\"white\"}},\"type\":\"table\"}]},\"layout\":{\"annotationdefaults\":{\"arrowcolor\":\"#2a3f5f\",\"arrowhead\":0,\"arrowwidth\":1},\"autotypenumbers\":\"strict\",\"coloraxis\":{\"colorbar\":{\"outlinewidth\":0,\"ticks\":\"\"}},\"colorscale\":{\"diverging\":[[0,\"#8e0152\"],[0.1,\"#c51b7d\"],[0.2,\"#de77ae\"],[0.3,\"#f1b6da\"],[0.4,\"#fde0ef\"],[0.5,\"#f7f7f7\"],[0.6,\"#e6f5d0\"],[0.7,\"#b8e186\"],[0.8,\"#7fbc41\"],[0.9,\"#4d9221\"],[1,\"#276419\"]],\"sequential\":[[0.0,\"#0d0887\"],[0.1111111111111111,\"#46039f\"],[0.2222222222222222,\"#7201a8\"],[0.3333333333333333,\"#9c179e\"],[0.4444444444444444,\"#bd3786\"],[0.5555555555555556,\"#d8576b\"],[0.6666666666666666,\"#ed7953\"],[0.7777777777777778,\"#fb9f3a\"],[0.8888888888888888,\"#fdca26\"],[1.0,\"#f0f921\"]],\"sequentialminus\":[[0.0,\"#0d0887\"],[0.1111111111111111,\"#46039f\"],[0.2222222222222222,\"#7201a8\"],[0.3333333333333333,\"#9c179e\"],[0.4444444444444444,\"#bd3786\"],[0.5555555555555556,\"#d8576b\"],[0.6666666666666666,\"#ed7953\"],[0.7777777777777778,\"#fb9f3a\"],[0.8888888888888888,\"#fdca26\"],[1.0,\"#f0f921\"]]},\"colorway\":[\"#636efa\",\"#EF553B\",\"#00cc96\",\"#ab63fa\",\"#FFA15A\",\"#19d3f3\",\"#FF6692\",\"#B6E880\",\"#FF97FF\",\"#FECB52\"],\"font\":{\"color\":\"#2a3f5f\"},\"geo\":{\"bgcolor\":\"white\",\"lakecolor\":\"white\",\"landcolor\":\"#E5ECF6\",\"showlakes\":true,\"showland\":true,\"subunitcolor\":\"white\"},\"hoverlabel\":{\"align\":\"left\"},\"hovermode\":\"closest\",\"mapbox\":{\"style\":\"light\"},\"paper_bgcolor\":\"white\",\"plot_bgcolor\":\"#E5ECF6\",\"polar\":{\"angularaxis\":{\"gridcolor\":\"white\",\"linecolor\":\"white\",\"ticks\":\"\"},\"bgcolor\":\"#E5ECF6\",\"radialaxis\":{\"gridcolor\":\"white\",\"linecolor\":\"white\",\"ticks\":\"\"}},\"scene\":{\"xaxis\":{\"backgroundcolor\":\"#E5ECF6\",\"gridcolor\":\"white\",\"gridwidth\":2,\"linecolor\":\"white\",\"showbackground\":true,\"ticks\":\"\",\"zerolinecolor\":\"white\"},\"yaxis\":{\"backgroundcolor\":\"#E5ECF6\",\"gridcolor\":\"white\",\"gridwidth\":2,\"linecolor\":\"white\",\"showbackground\":true,\"ticks\":\"\",\"zerolinecolor\":\"white\"},\"zaxis\":{\"backgroundcolor\":\"#E5ECF6\",\"gridcolor\":\"white\",\"gridwidth\":2,\"linecolor\":\"white\",\"showbackground\":true,\"ticks\":\"\",\"zerolinecolor\":\"white\"}},\"shapedefaults\":{\"line\":{\"color\":\"#2a3f5f\"}},\"ternary\":{\"aaxis\":{\"gridcolor\":\"white\",\"linecolor\":\"white\",\"ticks\":\"\"},\"baxis\":{\"gridcolor\":\"white\",\"linecolor\":\"white\",\"ticks\":\"\"},\"bgcolor\":\"#E5ECF6\",\"caxis\":{\"gridcolor\":\"white\",\"linecolor\":\"white\",\"ticks\":\"\"}},\"title\":{\"x\":0.05},\"xaxis\":{\"automargin\":true,\"gridcolor\":\"white\",\"linecolor\":\"white\",\"ticks\":\"\",\"title\":{\"standoff\":15},\"zerolinecolor\":\"white\",\"zerolinewidth\":2},\"yaxis\":{\"automargin\":true,\"gridcolor\":\"white\",\"linecolor\":\"white\",\"ticks\":\"\",\"title\":{\"standoff\":15},\"zerolinecolor\":\"white\",\"zerolinewidth\":2}}},\"title\":{\"font\":{\"color\":\"#4D5663\"},\"text\":\"Quantitative Figure\"},\"xaxis\":{\"anchor\":\"y2\",\"gridcolor\":\"#E1E5ED\",\"rangeselector\":{\"bgcolor\":\"rgba(150, 200, 250, 1)\",\"buttons\":[{\"count\":1,\"label\":\"1m\",\"step\":\"month\",\"stepmode\":\"backward\"},{\"count\":1,\"label\":\"1y\",\"step\":\"year\",\"stepmode\":\"backward\"}],\"font\":{\"size\":13},\"visible\":false,\"x\":0,\"y\":0.9},\"rangeslider\":{\"visible\":false},\"showgrid\":true,\"tickfont\":{\"color\":\"#4D5663\"},\"title\":{\"font\":{\"color\":\"#4D5663\"},\"text\":\"\"},\"zerolinecolor\":\"#E1E5ED\"},\"yaxis\":{\"gridcolor\":\"#E1E5ED\",\"showgrid\":true,\"showticklabels\":false,\"tickfont\":{\"color\":\"#4D5663\"},\"title\":{\"font\":{\"color\":\"#4D5663\"},\"text\":\"\"},\"zerolinecolor\":\"#E1E5ED\"},\"yaxis2\":{\"domain\":[0.23,0.9],\"gridcolor\":\"#E1E5ED\",\"showgrid\":true,\"tickfont\":{\"color\":\"#4D5663\"},\"title\":{\"font\":{\"color\":\"#4D5663\"},\"text\":\"\"},\"zerolinecolor\":\"#E1E5ED\"},\"yaxis3\":{\"domain\":[0.0,0.15],\"gridcolor\":\"#E1E5ED\",\"showgrid\":true,\"tickfont\":{\"color\":\"#4D5663\"},\"title\":{\"font\":{\"color\":\"#4D5663\"},\"text\":\"\"},\"zerolinecolor\":\"#E1E5ED\"}},                        {\"showLink\": true, \"linkText\": \"Export to plot.ly\", \"plotlyServerURL\": \"https://plot.ly\", \"responsive\": true}                    ).then(function(){\n",
              "                            \n",
              "var gd = document.getElementById('27d05f5c-fc83-4e75-8198-264249946f3b');\n",
              "var x = new MutationObserver(function (mutations, observer) {{\n",
              "        var display = window.getComputedStyle(gd).display;\n",
              "        if (!display || display === 'none') {{\n",
              "            console.log([gd, 'removed!']);\n",
              "            Plotly.purge(gd);\n",
              "            observer.disconnect();\n",
              "        }}\n",
              "}});\n",
              "\n",
              "// Listen for the removal of the full notebook cells\n",
              "var notebookContainer = gd.closest('#notebook-container');\n",
              "if (notebookContainer) {{\n",
              "    x.observe(notebookContainer, {childList: true});\n",
              "}}\n",
              "\n",
              "// Listen for the clearing of the current output cell\n",
              "var outputEl = gd.closest('.output');\n",
              "if (outputEl) {{\n",
              "    x.observe(outputEl, {childList: true});\n",
              "}}\n",
              "\n",
              "                        })                };                });            </script>        </div>"
            ]
          },
          "metadata": {}
        }
      ]
    },
    {
      "cell_type": "code",
      "source": [
        "import cufflinks as cf\n",
        "import pandas as pd\n",
        "import yfinance as yf\n",
        "from dateutil.relativedelta import relativedelta\n",
        "from datetime import date\n",
        "import mercury as mr\n",
        "\n",
        "# Your list of stock tickers\n",
        "my_tickers = ['Balmlawire', 'castrolind', 'GPIL', 'UNION BANK', 'GUJTLRM']\n",
        "\n",
        "# Assuming you have 'period' defined somewhere (e.g., from a mercury widget)\n",
        "period = 3  # Example value for 3 months\n",
        "\n",
        "# Download stock data for your tickers\n",
        "stock_data = yf.download(my_tickers, start=date.today() - relativedelta(months=+period), end=date.today())\n",
        "\n",
        "# Convert MultiIndex columns to single-level for easier handling\n",
        "stock_data.columns = ['_'.join(col).strip() for col in stock_data.columns.values]\n",
        "\n",
        "# Now you can create QuantFig objects for each stock:\n",
        "for ticker in my_tickers:\n",
        "    # Extract data for the current ticker\n",
        "    ticker_data = stock_data[[col for col in stock_data.columns if col.startswith(ticker)]]\n",
        "\n",
        "    # Check if ticker_data is empty\n",
        "    if ticker_data.empty:\n",
        "        print(f\"Warning: No data found for ticker '{ticker}'. Check the ticker symbol.\")\n",
        "        continue\n",
        "\n",
        "    # Create QuantFig\n",
        "    qf = cf.QuantFig(ticker_data, title=f'Quantitative Figure - {ticker}', legend='top', name=ticker)\n",
        "\n",
        "    # Add indicators (SMA, Bollinger Bands, Volume)\n",
        "    qf.add_sma([10, 20], width=2, color=['green', 'lightgreen'], legendgroup=True)\n",
        "    qf.add_bollinger_bands()\n",
        "    qf.add_volume()\n",
        "\n",
        "    # Render the plot\n",
        "    qf.iplot()"
      ],
      "metadata": {
        "colab": {
          "base_uri": "https://localhost:8080/",
          "height": 0
        },
        "id": "1HxYOmR_1pHJ",
        "outputId": "602db5fe-62d7-4051-fc22-b6448bceb8a6"
      },
      "execution_count": 11,
      "outputs": [
        {
          "output_type": "stream",
          "name": "stderr",
          "text": [
            "[*********************100%***********************]  5 of 5 completed\n",
            "ERROR:yfinance:\n",
            "5 Failed downloads:\n",
            "ERROR:yfinance:['GUJTLRM', 'CASTROLIND', 'UNION BANK', 'BALMLAWIRE', 'GPIL']: YFTzMissingError('possibly delisted; no timezone found')\n"
          ]
        },
        {
          "output_type": "stream",
          "name": "stdout",
          "text": [
            "Warning: No data found for ticker 'Balmlawire'. Check the ticker symbol.\n",
            "Warning: No data found for ticker 'castrolind'. Check the ticker symbol.\n",
            "Warning: No data found for ticker 'GPIL'. Check the ticker symbol.\n",
            "Warning: No data found for ticker 'UNION BANK'. Check the ticker symbol.\n",
            "Warning: No data found for ticker 'GUJTLRM'. Check the ticker symbol.\n"
          ]
        }
      ]
    },
    {
      "cell_type": "code",
      "source": [
        "import cufflinks as cf\n",
        "import pandas as pd\n",
        "import yfinance as yf\n",
        "from dateutil.relativedelta import relativedelta\n",
        "from datetime import date\n",
        "\n",
        "# Your list of stock tickers\n",
        "my_tickers = ['BALMLAWRIE.NS', 'CASTROLIND.NS', 'GPIL.NS', 'UNIONBANK.NS', 'GUJTLRM.BO']  # Corrected ticker names\n",
        "\n",
        "# Assuming you have 'period' defined somewhere (e.g., from a mercury widget)\n",
        "period = 3  # Example value for 3 months\n",
        "\n",
        "# Download stock data for your tickers\n",
        "stock_data = yf.download(my_tickers, start=date.today() - relativedelta(months=+period), end=date.today())\n",
        "\n",
        "# If the DataFrame has a MultiIndex for columns, convert it to single-level\n",
        "if isinstance(stock_data.columns, pd.MultiIndex):\n",
        "    stock_data.columns = ['_'.join(col).strip() for col in stock_data.columns.values]\n",
        "\n",
        "# Select 'Adj Close' columns for your tickers\n",
        "adj_close_data = stock_data[[col for col in stock_data.columns if col.endswith('Adj Close')]]\n",
        "\n",
        "# Rename columns for better readability in the plot\n",
        "adj_close_data.columns = [col.split('_')[0] for col in adj_close_data.columns]\n",
        "\n",
        "# Create and display the interactive line plot\n",
        "# Check if adj_close_data is empty before plotting\n",
        "if adj_close_data.empty:\n",
        "    print(\"Error: No data found for the specified tickers. Please check the ticker symbols.\")\n",
        "else:\n",
        "    adj_close_data.iplot(\n",
        "        title='Adjusted Close Prices',\n",
        "        xTitle='Dates',\n",
        "        yTitle='Adjusted Close Prices',\n",
        "        colors=['blue', 'green', 'red', 'orange', 'purple']  # Customize colors as needed\n",
        "    )"
      ],
      "metadata": {
        "colab": {
          "base_uri": "https://localhost:8080/",
          "height": 0
        },
        "id": "hWAae9aN3be5",
        "outputId": "b644706e-9f3c-4ab0-af3f-0e6dcaa73274"
      },
      "execution_count": 14,
      "outputs": [
        {
          "output_type": "stream",
          "name": "stderr",
          "text": [
            "[*********************100%***********************]  5 of 5 completed"
          ]
        },
        {
          "output_type": "stream",
          "name": "stdout",
          "text": [
            "Error: No data found for the specified tickers. Please check the ticker symbols.\n"
          ]
        },
        {
          "output_type": "stream",
          "name": "stderr",
          "text": [
            "\n"
          ]
        }
      ]
    },
    {
      "cell_type": "code",
      "source": [
        "! wget https://cf-courses-data.s3.us.cloud-object-storage.appdomain.cloud/IBMSkillsNetwork-GPXX0OECEN/requirements.txt"
      ],
      "metadata": {
        "colab": {
          "base_uri": "https://localhost:8080/",
          "height": 0
        },
        "id": "DrXRXLypB4kF",
        "outputId": "d9fce985-b77b-4746-d7cd-6c956695289c"
      },
      "execution_count": 13,
      "outputs": [
        {
          "output_type": "stream",
          "name": "stdout",
          "text": [
            "--2025-03-07 16:22:43--  https://cf-courses-data.s3.us.cloud-object-storage.appdomain.cloud/IBMSkillsNetwork-GPXX0OECEN/requirements.txt\n",
            "Resolving cf-courses-data.s3.us.cloud-object-storage.appdomain.cloud (cf-courses-data.s3.us.cloud-object-storage.appdomain.cloud)... 198.23.119.245\n",
            "Connecting to cf-courses-data.s3.us.cloud-object-storage.appdomain.cloud (cf-courses-data.s3.us.cloud-object-storage.appdomain.cloud)|198.23.119.245|:443... connected.\n",
            "HTTP request sent, awaiting response... 200 OK\n",
            "Length: 49 [text/plain]\n",
            "Saving to: ‘requirements.txt’\n",
            "\n",
            "requirements.txt    100%[===================>]      49  --.-KB/s    in 0s      \n",
            "\n",
            "2025-03-07 16:22:44 (12.9 MB/s) - ‘requirements.txt’ saved [49/49]\n",
            "\n"
          ]
        }
      ]
    },
    {
      "cell_type": "code",
      "source": [
        "my_tickers = ['YOUR_STOCK_TICKER']"
      ],
      "metadata": {
        "id": "95KTrKisC6xU"
      },
      "execution_count": 15,
      "outputs": []
    },
    {
      "cell_type": "code",
      "source": [
        "! wget https://cf-courses-data.s3.us.cloud-object-storage.appdomain.cloud/IBMSkillsNetwork-GPXX0OECEN/requirements.txt"
      ],
      "metadata": {
        "id": "7UNTD1KeC61X",
        "outputId": "63f5f39e-ddd5-4e4f-c2a3-3ca024921fa5",
        "colab": {
          "base_uri": "https://localhost:8080/",
          "height": 0
        }
      },
      "execution_count": 16,
      "outputs": [
        {
          "output_type": "stream",
          "name": "stdout",
          "text": [
            "--2025-03-07 16:22:52--  https://cf-courses-data.s3.us.cloud-object-storage.appdomain.cloud/IBMSkillsNetwork-GPXX0OECEN/requirements.txt\n",
            "Resolving cf-courses-data.s3.us.cloud-object-storage.appdomain.cloud (cf-courses-data.s3.us.cloud-object-storage.appdomain.cloud)... 169.45.118.108\n",
            "Connecting to cf-courses-data.s3.us.cloud-object-storage.appdomain.cloud (cf-courses-data.s3.us.cloud-object-storage.appdomain.cloud)|169.45.118.108|:443... connected.\n",
            "HTTP request sent, awaiting response... 200 OK\n",
            "Length: 49 [text/plain]\n",
            "Saving to: ‘requirements.txt.1’\n",
            "\n",
            "requirements.txt.1  100%[===================>]      49  --.-KB/s    in 0s      \n",
            "\n",
            "2025-03-07 16:22:52 (29.6 MB/s) - ‘requirements.txt.1’ saved [49/49]\n",
            "\n"
          ]
        }
      ]
    },
    {
      "cell_type": "code",
      "source": [
        "! pip install -r requirements.txt"
      ],
      "metadata": {
        "collapsed": true,
        "id": "UM-6bSLwC668",
        "outputId": "64263d55-2e50-4f93-f26e-c691f849f9af",
        "colab": {
          "base_uri": "https://localhost:8080/",
          "height": 0
        }
      },
      "execution_count": 17,
      "outputs": [
        {
          "output_type": "stream",
          "name": "stdout",
          "text": [
            "Requirement already satisfied: mercury in /usr/local/lib/python3.11/dist-packages (from -r requirements.txt (line 1)) (2.4.3)\n",
            "Requirement already satisfied: pandas in /usr/local/lib/python3.11/dist-packages (from -r requirements.txt (line 2)) (2.2.2)\n",
            "Requirement already satisfied: cufflinks in /usr/local/lib/python3.11/dist-packages (from -r requirements.txt (line 3)) (0.17.3)\n",
            "Requirement already satisfied: numpy in /usr/local/lib/python3.11/dist-packages (from -r requirements.txt (line 4)) (1.26.4)\n",
            "Requirement already satisfied: yfinance in /usr/local/lib/python3.11/dist-packages (from -r requirements.txt (line 5)) (0.2.54)\n",
            "Collecting datetime (from -r requirements.txt (line 6))\n",
            "  Downloading DateTime-5.5-py3-none-any.whl.metadata (33 kB)\n",
            "Requirement already satisfied: django==4.2.7 in /usr/local/lib/python3.11/dist-packages (from mercury->-r requirements.txt (line 1)) (4.2.7)\n",
            "Requirement already satisfied: djangorestframework==3.14.0 in /usr/local/lib/python3.11/dist-packages (from mercury->-r requirements.txt (line 1)) (3.14.0)\n",
            "Requirement already satisfied: django-filter==21.1 in /usr/local/lib/python3.11/dist-packages (from mercury->-r requirements.txt (line 1)) (21.1)\n",
            "Requirement already satisfied: markdown==3.3.6 in /usr/local/lib/python3.11/dist-packages (from mercury->-r requirements.txt (line 1)) (3.3.6)\n",
            "Requirement already satisfied: celery>=5.1.2 in /usr/local/lib/python3.11/dist-packages (from mercury->-r requirements.txt (line 1)) (5.4.0)\n",
            "Requirement already satisfied: sqlalchemy==1.4.27 in /usr/local/lib/python3.11/dist-packages (from mercury->-r requirements.txt (line 1)) (1.4.27)\n",
            "Requirement already satisfied: gevent in /usr/local/lib/python3.11/dist-packages (from mercury->-r requirements.txt (line 1)) (24.11.1)\n",
            "Requirement already satisfied: nbconvert>=7.8.0 in /usr/local/lib/python3.11/dist-packages (from mercury->-r requirements.txt (line 1)) (7.16.6)\n",
            "Requirement already satisfied: ipython_genutils in /usr/local/lib/python3.11/dist-packages (from mercury->-r requirements.txt (line 1)) (0.2.0)\n",
            "Requirement already satisfied: django-cors-headers==3.10.1 in /usr/local/lib/python3.11/dist-packages (from mercury->-r requirements.txt (line 1)) (3.10.1)\n",
            "Requirement already satisfied: ipython>=7.30.1 in /usr/local/lib/python3.11/dist-packages (from mercury->-r requirements.txt (line 1)) (7.34.0)\n",
            "Requirement already satisfied: ipykernel>=6.6.0 in /usr/local/lib/python3.11/dist-packages (from mercury->-r requirements.txt (line 1)) (6.17.1)\n",
            "Requirement already satisfied: psutil>=5.8.0 in /usr/local/lib/python3.11/dist-packages (from mercury->-r requirements.txt (line 1)) (5.9.5)\n",
            "Requirement already satisfied: whitenoise>=5.3.0 in /usr/local/lib/python3.11/dist-packages (from mercury->-r requirements.txt (line 1)) (6.9.0)\n",
            "Requirement already satisfied: python-dotenv>=0.19.2 in /usr/local/lib/python3.11/dist-packages (from mercury->-r requirements.txt (line 1)) (1.0.1)\n",
            "Requirement already satisfied: django-drf-filepond==0.4.1 in /usr/local/lib/python3.11/dist-packages (from mercury->-r requirements.txt (line 1)) (0.4.1)\n",
            "Requirement already satisfied: croniter>=1.3.5 in /usr/local/lib/python3.11/dist-packages (from mercury->-r requirements.txt (line 1)) (6.0.0)\n",
            "Requirement already satisfied: pyppeteer==1.0.2 in /usr/local/lib/python3.11/dist-packages (from mercury->-r requirements.txt (line 1)) (1.0.2)\n",
            "Requirement already satisfied: channels>=4.0.0 in /usr/local/lib/python3.11/dist-packages (from channels[daphne]>=4.0.0->mercury->-r requirements.txt (line 1)) (4.2.0)\n",
            "Requirement already satisfied: websocket-client>=1.4.2 in /usr/local/lib/python3.11/dist-packages (from mercury->-r requirements.txt (line 1)) (1.8.0)\n",
            "Requirement already satisfied: execnb in /usr/local/lib/python3.11/dist-packages (from mercury->-r requirements.txt (line 1)) (0.1.11)\n",
            "Requirement already satisfied: ipywidgets==8.0.3 in /usr/local/lib/python3.11/dist-packages (from mercury->-r requirements.txt (line 1)) (8.0.3)\n",
            "Requirement already satisfied: dj-rest-auth==3.0.0 in /usr/local/lib/python3.11/dist-packages (from dj-rest-auth[with_social]==3.0.0->mercury->-r requirements.txt (line 1)) (3.0.0)\n",
            "Requirement already satisfied: boto3==1.26.83 in /usr/local/lib/python3.11/dist-packages (from mercury->-r requirements.txt (line 1)) (1.26.83)\n",
            "Requirement already satisfied: cryptography in /usr/local/lib/python3.11/dist-packages (from mercury->-r requirements.txt (line 1)) (43.0.3)\n",
            "Requirement already satisfied: pyopenssl>=23.1.1 in /usr/local/lib/python3.11/dist-packages (from mercury->-r requirements.txt (line 1)) (24.2.1)\n",
            "Requirement already satisfied: bleach>=6.0.0 in /usr/local/lib/python3.11/dist-packages (from mercury->-r requirements.txt (line 1)) (6.2.0)\n",
            "Requirement already satisfied: itables>=2.0.0 in /usr/local/lib/python3.11/dist-packages (from mercury->-r requirements.txt (line 1)) (2.2.5)\n",
            "Requirement already satisfied: botocore<1.30.0,>=1.29.83 in /usr/local/lib/python3.11/dist-packages (from boto3==1.26.83->mercury->-r requirements.txt (line 1)) (1.29.165)\n",
            "Requirement already satisfied: jmespath<2.0.0,>=0.7.1 in /usr/local/lib/python3.11/dist-packages (from boto3==1.26.83->mercury->-r requirements.txt (line 1)) (1.0.1)\n",
            "Requirement already satisfied: s3transfer<0.7.0,>=0.6.0 in /usr/local/lib/python3.11/dist-packages (from boto3==1.26.83->mercury->-r requirements.txt (line 1)) (0.6.2)\n",
            "Requirement already satisfied: django-allauth<0.53.0,>=0.40.0 in /usr/local/lib/python3.11/dist-packages (from dj-rest-auth[with_social]==3.0.0->mercury->-r requirements.txt (line 1)) (0.52.0)\n",
            "Requirement already satisfied: asgiref<4,>=3.6.0 in /usr/local/lib/python3.11/dist-packages (from django==4.2.7->mercury->-r requirements.txt (line 1)) (3.8.1)\n",
            "Requirement already satisfied: sqlparse>=0.3.1 in /usr/local/lib/python3.11/dist-packages (from django==4.2.7->mercury->-r requirements.txt (line 1)) (0.5.3)\n",
            "Requirement already satisfied: requests>=2.20.1 in /usr/local/lib/python3.11/dist-packages (from django-drf-filepond==0.4.1->mercury->-r requirements.txt (line 1)) (2.32.3)\n",
            "Requirement already satisfied: six>=1.14.0 in /usr/local/lib/python3.11/dist-packages (from django-drf-filepond==0.4.1->mercury->-r requirements.txt (line 1)) (1.17.0)\n",
            "Requirement already satisfied: shortuuid>=0.5.0 in /usr/local/lib/python3.11/dist-packages (from django-drf-filepond==0.4.1->mercury->-r requirements.txt (line 1)) (1.0.13)\n",
            "Requirement already satisfied: django-storages>=1.9.1 in /usr/local/lib/python3.11/dist-packages (from django-drf-filepond==0.4.1->mercury->-r requirements.txt (line 1)) (1.14.5)\n",
            "Requirement already satisfied: pytz in /usr/local/lib/python3.11/dist-packages (from djangorestframework==3.14.0->mercury->-r requirements.txt (line 1)) (2025.1)\n",
            "Requirement already satisfied: traitlets>=4.3.1 in /usr/local/lib/python3.11/dist-packages (from ipywidgets==8.0.3->mercury->-r requirements.txt (line 1)) (5.7.1)\n",
            "Requirement already satisfied: widgetsnbextension~=4.0 in /usr/local/lib/python3.11/dist-packages (from ipywidgets==8.0.3->mercury->-r requirements.txt (line 1)) (4.0.13)\n",
            "Requirement already satisfied: jupyterlab-widgets~=3.0 in /usr/local/lib/python3.11/dist-packages (from ipywidgets==8.0.3->mercury->-r requirements.txt (line 1)) (3.0.13)\n",
            "Requirement already satisfied: appdirs<2.0.0,>=1.4.3 in /usr/local/lib/python3.11/dist-packages (from pyppeteer==1.0.2->mercury->-r requirements.txt (line 1)) (1.4.4)\n",
            "Requirement already satisfied: certifi>=2021 in /usr/local/lib/python3.11/dist-packages (from pyppeteer==1.0.2->mercury->-r requirements.txt (line 1)) (2025.1.31)\n",
            "Requirement already satisfied: importlib-metadata>=1.4 in /usr/local/lib/python3.11/dist-packages (from pyppeteer==1.0.2->mercury->-r requirements.txt (line 1)) (8.6.1)\n",
            "Requirement already satisfied: pyee<9.0.0,>=8.1.0 in /usr/local/lib/python3.11/dist-packages (from pyppeteer==1.0.2->mercury->-r requirements.txt (line 1)) (8.2.2)\n",
            "Requirement already satisfied: tqdm<5.0.0,>=4.42.1 in /usr/local/lib/python3.11/dist-packages (from pyppeteer==1.0.2->mercury->-r requirements.txt (line 1)) (4.67.1)\n",
            "Requirement already satisfied: urllib3<2.0.0,>=1.25.8 in /usr/local/lib/python3.11/dist-packages (from pyppeteer==1.0.2->mercury->-r requirements.txt (line 1)) (1.26.20)\n",
            "Requirement already satisfied: websockets<11.0,>=10.0 in /usr/local/lib/python3.11/dist-packages (from pyppeteer==1.0.2->mercury->-r requirements.txt (line 1)) (10.4)\n",
            "Requirement already satisfied: greenlet!=0.4.17 in /usr/local/lib/python3.11/dist-packages (from sqlalchemy==1.4.27->mercury->-r requirements.txt (line 1)) (3.1.1)\n",
            "Requirement already satisfied: python-dateutil>=2.8.2 in /usr/local/lib/python3.11/dist-packages (from pandas->-r requirements.txt (line 2)) (2.8.2)\n",
            "Requirement already satisfied: tzdata>=2022.7 in /usr/local/lib/python3.11/dist-packages (from pandas->-r requirements.txt (line 2)) (2025.1)\n",
            "Requirement already satisfied: plotly>=4.1.1 in /usr/local/lib/python3.11/dist-packages (from cufflinks->-r requirements.txt (line 3)) (5.24.1)\n",
            "Requirement already satisfied: colorlover>=0.2.1 in /usr/local/lib/python3.11/dist-packages (from cufflinks->-r requirements.txt (line 3)) (0.3.0)\n",
            "Requirement already satisfied: setuptools>=34.4.1 in /usr/local/lib/python3.11/dist-packages (from cufflinks->-r requirements.txt (line 3)) (75.1.0)\n",
            "Requirement already satisfied: multitasking>=0.0.7 in /usr/local/lib/python3.11/dist-packages (from yfinance->-r requirements.txt (line 5)) (0.0.11)\n",
            "Requirement already satisfied: platformdirs>=2.0.0 in /usr/local/lib/python3.11/dist-packages (from yfinance->-r requirements.txt (line 5)) (4.3.6)\n",
            "Requirement already satisfied: frozendict>=2.3.4 in /usr/local/lib/python3.11/dist-packages (from yfinance->-r requirements.txt (line 5)) (2.4.6)\n",
            "Requirement already satisfied: peewee>=3.16.2 in /usr/local/lib/python3.11/dist-packages (from yfinance->-r requirements.txt (line 5)) (3.17.9)\n",
            "Requirement already satisfied: beautifulsoup4>=4.11.1 in /usr/local/lib/python3.11/dist-packages (from yfinance->-r requirements.txt (line 5)) (4.13.3)\n",
            "Requirement already satisfied: zope.interface in /usr/local/lib/python3.11/dist-packages (from datetime->-r requirements.txt (line 6)) (7.2)\n",
            "Requirement already satisfied: soupsieve>1.2 in /usr/local/lib/python3.11/dist-packages (from beautifulsoup4>=4.11.1->yfinance->-r requirements.txt (line 5)) (2.6)\n",
            "Requirement already satisfied: typing-extensions>=4.0.0 in /usr/local/lib/python3.11/dist-packages (from beautifulsoup4>=4.11.1->yfinance->-r requirements.txt (line 5)) (4.12.2)\n",
            "Requirement already satisfied: webencodings in /usr/local/lib/python3.11/dist-packages (from bleach>=6.0.0->mercury->-r requirements.txt (line 1)) (0.5.1)\n",
            "Requirement already satisfied: billiard<5.0,>=4.2.0 in /usr/local/lib/python3.11/dist-packages (from celery>=5.1.2->mercury->-r requirements.txt (line 1)) (4.2.1)\n",
            "Requirement already satisfied: kombu<6.0,>=5.3.4 in /usr/local/lib/python3.11/dist-packages (from celery>=5.1.2->mercury->-r requirements.txt (line 1)) (5.4.2)\n",
            "Requirement already satisfied: vine<6.0,>=5.1.0 in /usr/local/lib/python3.11/dist-packages (from celery>=5.1.2->mercury->-r requirements.txt (line 1)) (5.1.0)\n",
            "Requirement already satisfied: click<9.0,>=8.1.2 in /usr/local/lib/python3.11/dist-packages (from celery>=5.1.2->mercury->-r requirements.txt (line 1)) (8.1.8)\n",
            "Requirement already satisfied: click-didyoumean>=0.3.0 in /usr/local/lib/python3.11/dist-packages (from celery>=5.1.2->mercury->-r requirements.txt (line 1)) (0.3.1)\n",
            "Requirement already satisfied: click-repl>=0.2.0 in /usr/local/lib/python3.11/dist-packages (from celery>=5.1.2->mercury->-r requirements.txt (line 1)) (0.3.0)\n",
            "Requirement already satisfied: click-plugins>=1.1.1 in /usr/local/lib/python3.11/dist-packages (from celery>=5.1.2->mercury->-r requirements.txt (line 1)) (1.1.1)\n",
            "Requirement already satisfied: daphne>=4.0.0 in /usr/local/lib/python3.11/dist-packages (from channels[daphne]>=4.0.0->mercury->-r requirements.txt (line 1)) (4.1.2)\n",
            "Requirement already satisfied: debugpy>=1.0 in /usr/local/lib/python3.11/dist-packages (from ipykernel>=6.6.0->mercury->-r requirements.txt (line 1)) (1.8.0)\n",
            "Requirement already satisfied: jupyter-client>=6.1.12 in /usr/local/lib/python3.11/dist-packages (from ipykernel>=6.6.0->mercury->-r requirements.txt (line 1)) (6.1.12)\n",
            "Requirement already satisfied: matplotlib-inline>=0.1 in /usr/local/lib/python3.11/dist-packages (from ipykernel>=6.6.0->mercury->-r requirements.txt (line 1)) (0.1.7)\n",
            "Requirement already satisfied: nest-asyncio in /usr/local/lib/python3.11/dist-packages (from ipykernel>=6.6.0->mercury->-r requirements.txt (line 1)) (1.6.0)\n",
            "Requirement already satisfied: packaging in /usr/local/lib/python3.11/dist-packages (from ipykernel>=6.6.0->mercury->-r requirements.txt (line 1)) (24.2)\n",
            "Requirement already satisfied: pyzmq>=17 in /usr/local/lib/python3.11/dist-packages (from ipykernel>=6.6.0->mercury->-r requirements.txt (line 1)) (24.0.1)\n",
            "Requirement already satisfied: tornado>=6.1 in /usr/local/lib/python3.11/dist-packages (from ipykernel>=6.6.0->mercury->-r requirements.txt (line 1)) (6.4.2)\n",
            "Requirement already satisfied: jedi>=0.16 in /usr/local/lib/python3.11/dist-packages (from ipython>=7.30.1->mercury->-r requirements.txt (line 1)) (0.19.2)\n",
            "Requirement already satisfied: decorator in /usr/local/lib/python3.11/dist-packages (from ipython>=7.30.1->mercury->-r requirements.txt (line 1)) (4.4.2)\n",
            "Requirement already satisfied: pickleshare in /usr/local/lib/python3.11/dist-packages (from ipython>=7.30.1->mercury->-r requirements.txt (line 1)) (0.7.5)\n",
            "Requirement already satisfied: prompt-toolkit!=3.0.0,!=3.0.1,<3.1.0,>=2.0.0 in /usr/local/lib/python3.11/dist-packages (from ipython>=7.30.1->mercury->-r requirements.txt (line 1)) (3.0.50)\n",
            "Requirement already satisfied: pygments in /usr/local/lib/python3.11/dist-packages (from ipython>=7.30.1->mercury->-r requirements.txt (line 1)) (2.18.0)\n",
            "Requirement already satisfied: backcall in /usr/local/lib/python3.11/dist-packages (from ipython>=7.30.1->mercury->-r requirements.txt (line 1)) (0.2.0)\n",
            "Requirement already satisfied: pexpect>4.3 in /usr/local/lib/python3.11/dist-packages (from ipython>=7.30.1->mercury->-r requirements.txt (line 1)) (4.9.0)\n",
            "Requirement already satisfied: defusedxml in /usr/local/lib/python3.11/dist-packages (from nbconvert>=7.8.0->mercury->-r requirements.txt (line 1)) (0.7.1)\n",
            "Requirement already satisfied: jinja2>=3.0 in /usr/local/lib/python3.11/dist-packages (from nbconvert>=7.8.0->mercury->-r requirements.txt (line 1)) (3.1.5)\n",
            "Requirement already satisfied: jupyter-core>=4.7 in /usr/local/lib/python3.11/dist-packages (from nbconvert>=7.8.0->mercury->-r requirements.txt (line 1)) (5.7.2)\n",
            "Requirement already satisfied: jupyterlab-pygments in /usr/local/lib/python3.11/dist-packages (from nbconvert>=7.8.0->mercury->-r requirements.txt (line 1)) (0.3.0)\n",
            "Requirement already satisfied: markupsafe>=2.0 in /usr/local/lib/python3.11/dist-packages (from nbconvert>=7.8.0->mercury->-r requirements.txt (line 1)) (3.0.2)\n",
            "Requirement already satisfied: mistune<4,>=2.0.3 in /usr/local/lib/python3.11/dist-packages (from nbconvert>=7.8.0->mercury->-r requirements.txt (line 1)) (3.1.2)\n",
            "Requirement already satisfied: nbclient>=0.5.0 in /usr/local/lib/python3.11/dist-packages (from nbconvert>=7.8.0->mercury->-r requirements.txt (line 1)) (0.10.2)\n",
            "Requirement already satisfied: nbformat>=5.7 in /usr/local/lib/python3.11/dist-packages (from nbconvert>=7.8.0->mercury->-r requirements.txt (line 1)) (5.10.4)\n",
            "Requirement already satisfied: pandocfilters>=1.4.1 in /usr/local/lib/python3.11/dist-packages (from nbconvert>=7.8.0->mercury->-r requirements.txt (line 1)) (1.5.1)\n",
            "Requirement already satisfied: tenacity>=6.2.0 in /usr/local/lib/python3.11/dist-packages (from plotly>=4.1.1->cufflinks->-r requirements.txt (line 3)) (9.0.0)\n",
            "Requirement already satisfied: cffi>=1.12 in /usr/local/lib/python3.11/dist-packages (from cryptography->mercury->-r requirements.txt (line 1)) (1.17.1)\n",
            "Requirement already satisfied: charset-normalizer<4,>=2 in /usr/local/lib/python3.11/dist-packages (from requests>=2.20.1->django-drf-filepond==0.4.1->mercury->-r requirements.txt (line 1)) (3.4.1)\n",
            "Requirement already satisfied: idna<4,>=2.5 in /usr/local/lib/python3.11/dist-packages (from requests>=2.20.1->django-drf-filepond==0.4.1->mercury->-r requirements.txt (line 1)) (3.10)\n",
            "Requirement already satisfied: fastcore>=1.5.5 in /usr/local/lib/python3.11/dist-packages (from execnb->mercury->-r requirements.txt (line 1)) (1.7.29)\n",
            "Requirement already satisfied: zope.event in /usr/local/lib/python3.11/dist-packages (from gevent->mercury->-r requirements.txt (line 1)) (5.0)\n",
            "Requirement already satisfied: tinycss2<1.5,>=1.1.0 in /usr/local/lib/python3.11/dist-packages (from bleach[css]!=5.0.0->nbconvert>=7.8.0->mercury->-r requirements.txt (line 1)) (1.4.0)\n",
            "Requirement already satisfied: pycparser in /usr/local/lib/python3.11/dist-packages (from cffi>=1.12->cryptography->mercury->-r requirements.txt (line 1)) (2.22)\n",
            "Requirement already satisfied: autobahn>=22.4.2 in /usr/local/lib/python3.11/dist-packages (from daphne>=4.0.0->channels[daphne]>=4.0.0->mercury->-r requirements.txt (line 1)) (24.4.2)\n",
            "Requirement already satisfied: twisted>=22.4 in /usr/local/lib/python3.11/dist-packages (from twisted[tls]>=22.4->daphne>=4.0.0->channels[daphne]>=4.0.0->mercury->-r requirements.txt (line 1)) (24.11.0)\n",
            "Requirement already satisfied: python3-openid>=3.0.8 in /usr/local/lib/python3.11/dist-packages (from django-allauth<0.53.0,>=0.40.0->dj-rest-auth[with_social]==3.0.0->mercury->-r requirements.txt (line 1)) (3.2.0)\n",
            "Requirement already satisfied: requests-oauthlib>=0.3.0 in /usr/local/lib/python3.11/dist-packages (from django-allauth<0.53.0,>=0.40.0->dj-rest-auth[with_social]==3.0.0->mercury->-r requirements.txt (line 1)) (2.0.0)\n",
            "Requirement already satisfied: pyjwt>=1.7 in /usr/local/lib/python3.11/dist-packages (from pyjwt[crypto]>=1.7->django-allauth<0.53.0,>=0.40.0->dj-rest-auth[with_social]==3.0.0->mercury->-r requirements.txt (line 1)) (2.10.1)\n",
            "Requirement already satisfied: zipp>=3.20 in /usr/local/lib/python3.11/dist-packages (from importlib-metadata>=1.4->pyppeteer==1.0.2->mercury->-r requirements.txt (line 1)) (3.21.0)\n",
            "Requirement already satisfied: parso<0.9.0,>=0.8.4 in /usr/local/lib/python3.11/dist-packages (from jedi>=0.16->ipython>=7.30.1->mercury->-r requirements.txt (line 1)) (0.8.4)\n",
            "Requirement already satisfied: amqp<6.0.0,>=5.1.1 in /usr/local/lib/python3.11/dist-packages (from kombu<6.0,>=5.3.4->celery>=5.1.2->mercury->-r requirements.txt (line 1)) (5.3.1)\n",
            "Requirement already satisfied: fastjsonschema>=2.15 in /usr/local/lib/python3.11/dist-packages (from nbformat>=5.7->nbconvert>=7.8.0->mercury->-r requirements.txt (line 1)) (2.21.1)\n",
            "Requirement already satisfied: jsonschema>=2.6 in /usr/local/lib/python3.11/dist-packages (from nbformat>=5.7->nbconvert>=7.8.0->mercury->-r requirements.txt (line 1)) (4.23.0)\n",
            "Requirement already satisfied: ptyprocess>=0.5 in /usr/local/lib/python3.11/dist-packages (from pexpect>4.3->ipython>=7.30.1->mercury->-r requirements.txt (line 1)) (0.7.0)\n",
            "Requirement already satisfied: wcwidth in /usr/local/lib/python3.11/dist-packages (from prompt-toolkit!=3.0.0,!=3.0.1,<3.1.0,>=2.0.0->ipython>=7.30.1->mercury->-r requirements.txt (line 1)) (0.2.13)\n",
            "Requirement already satisfied: txaio>=21.2.1 in /usr/local/lib/python3.11/dist-packages (from autobahn>=22.4.2->daphne>=4.0.0->channels[daphne]>=4.0.0->mercury->-r requirements.txt (line 1)) (23.1.1)\n",
            "Requirement already satisfied: hyperlink>=21.0.0 in /usr/local/lib/python3.11/dist-packages (from autobahn>=22.4.2->daphne>=4.0.0->channels[daphne]>=4.0.0->mercury->-r requirements.txt (line 1)) (21.0.0)\n",
            "Requirement already satisfied: attrs>=22.2.0 in /usr/local/lib/python3.11/dist-packages (from jsonschema>=2.6->nbformat>=5.7->nbconvert>=7.8.0->mercury->-r requirements.txt (line 1)) (25.1.0)\n",
            "Requirement already satisfied: jsonschema-specifications>=2023.03.6 in /usr/local/lib/python3.11/dist-packages (from jsonschema>=2.6->nbformat>=5.7->nbconvert>=7.8.0->mercury->-r requirements.txt (line 1)) (2024.10.1)\n",
            "Requirement already satisfied: referencing>=0.28.4 in /usr/local/lib/python3.11/dist-packages (from jsonschema>=2.6->nbformat>=5.7->nbconvert>=7.8.0->mercury->-r requirements.txt (line 1)) (0.36.2)\n",
            "Requirement already satisfied: rpds-py>=0.7.1 in /usr/local/lib/python3.11/dist-packages (from jsonschema>=2.6->nbformat>=5.7->nbconvert>=7.8.0->mercury->-r requirements.txt (line 1)) (0.23.1)\n",
            "Requirement already satisfied: oauthlib>=3.0.0 in /usr/local/lib/python3.11/dist-packages (from requests-oauthlib>=0.3.0->django-allauth<0.53.0,>=0.40.0->dj-rest-auth[with_social]==3.0.0->mercury->-r requirements.txt (line 1)) (3.2.2)\n",
            "Requirement already satisfied: automat>=24.8.0 in /usr/local/lib/python3.11/dist-packages (from twisted>=22.4->twisted[tls]>=22.4->daphne>=4.0.0->channels[daphne]>=4.0.0->mercury->-r requirements.txt (line 1)) (24.8.1)\n",
            "Requirement already satisfied: constantly>=15.1 in /usr/local/lib/python3.11/dist-packages (from twisted>=22.4->twisted[tls]>=22.4->daphne>=4.0.0->channels[daphne]>=4.0.0->mercury->-r requirements.txt (line 1)) (23.10.4)\n",
            "Requirement already satisfied: incremental>=24.7.0 in /usr/local/lib/python3.11/dist-packages (from twisted>=22.4->twisted[tls]>=22.4->daphne>=4.0.0->channels[daphne]>=4.0.0->mercury->-r requirements.txt (line 1)) (24.7.2)\n",
            "Requirement already satisfied: service-identity>=18.1.0 in /usr/local/lib/python3.11/dist-packages (from twisted[tls]>=22.4->daphne>=4.0.0->channels[daphne]>=4.0.0->mercury->-r requirements.txt (line 1)) (24.2.0)\n",
            "Requirement already satisfied: pyasn1 in /usr/local/lib/python3.11/dist-packages (from service-identity>=18.1.0->twisted[tls]>=22.4->daphne>=4.0.0->channels[daphne]>=4.0.0->mercury->-r requirements.txt (line 1)) (0.6.1)\n",
            "Requirement already satisfied: pyasn1-modules in /usr/local/lib/python3.11/dist-packages (from service-identity>=18.1.0->twisted[tls]>=22.4->daphne>=4.0.0->channels[daphne]>=4.0.0->mercury->-r requirements.txt (line 1)) (0.4.1)\n",
            "Downloading DateTime-5.5-py3-none-any.whl (52 kB)\n",
            "\u001b[2K   \u001b[90m━━━━━━━━━━━━━━━━━━━━━━━━━━━━━━━━━━━━━━━━\u001b[0m \u001b[32m52.6/52.6 kB\u001b[0m \u001b[31m4.2 MB/s\u001b[0m eta \u001b[36m0:00:00\u001b[0m\n",
            "\u001b[?25hInstalling collected packages: datetime\n",
            "Successfully installed datetime-5.5\n"
          ]
        }
      ]
    },
    {
      "cell_type": "code",
      "source": [
        "# ... other imports ...\n",
        "\n",
        "# Your list of stock tickers\n",
        "my_tickers = ['MSFT']  # Replace with your stock ticker\n",
        "\n",
        "# ... rest of the code ..."
      ],
      "metadata": {
        "id": "3HpW5bd7DRZc"
      },
      "execution_count": 18,
      "outputs": []
    },
    {
      "cell_type": "code",
      "source": [
        "! wget https://cf-courses-data.s3.us.cloud-object-storage.appdomain.cloud/IBMSkillsNetwork-GPXX0OECEN/requirements.txt\n",
        "! pip install -r requirements.txt"
      ],
      "metadata": {
        "collapsed": true,
        "id": "zU8T-PaRDU-q",
        "outputId": "f943afc9-8521-40da-e4db-63368fa88dff",
        "colab": {
          "base_uri": "https://localhost:8080/",
          "height": 0
        }
      },
      "execution_count": 20,
      "outputs": [
        {
          "output_type": "stream",
          "name": "stdout",
          "text": [
            "--2025-03-07 16:23:04--  https://cf-courses-data.s3.us.cloud-object-storage.appdomain.cloud/IBMSkillsNetwork-GPXX0OECEN/requirements.txt\n",
            "Resolving cf-courses-data.s3.us.cloud-object-storage.appdomain.cloud (cf-courses-data.s3.us.cloud-object-storage.appdomain.cloud)... 169.63.118.104\n",
            "Connecting to cf-courses-data.s3.us.cloud-object-storage.appdomain.cloud (cf-courses-data.s3.us.cloud-object-storage.appdomain.cloud)|169.63.118.104|:443... connected.\n",
            "HTTP request sent, awaiting response... 200 OK\n",
            "Length: 49 [text/plain]\n",
            "Saving to: ‘requirements.txt.2’\n",
            "\n",
            "\rrequirements.txt.2    0%[                    ]       0  --.-KB/s               \rrequirements.txt.2  100%[===================>]      49  --.-KB/s    in 0s      \n",
            "\n",
            "2025-03-07 16:23:04 (21.8 MB/s) - ‘requirements.txt.2’ saved [49/49]\n",
            "\n",
            "Requirement already satisfied: mercury in /usr/local/lib/python3.11/dist-packages (from -r requirements.txt (line 1)) (2.4.3)\n",
            "Requirement already satisfied: pandas in /usr/local/lib/python3.11/dist-packages (from -r requirements.txt (line 2)) (2.2.2)\n",
            "Requirement already satisfied: cufflinks in /usr/local/lib/python3.11/dist-packages (from -r requirements.txt (line 3)) (0.17.3)\n",
            "Requirement already satisfied: numpy in /usr/local/lib/python3.11/dist-packages (from -r requirements.txt (line 4)) (1.26.4)\n",
            "Requirement already satisfied: yfinance in /usr/local/lib/python3.11/dist-packages (from -r requirements.txt (line 5)) (0.2.54)\n",
            "Requirement already satisfied: datetime in /usr/local/lib/python3.11/dist-packages (from -r requirements.txt (line 6)) (5.5)\n",
            "Requirement already satisfied: django==4.2.7 in /usr/local/lib/python3.11/dist-packages (from mercury->-r requirements.txt (line 1)) (4.2.7)\n",
            "Requirement already satisfied: djangorestframework==3.14.0 in /usr/local/lib/python3.11/dist-packages (from mercury->-r requirements.txt (line 1)) (3.14.0)\n",
            "Requirement already satisfied: django-filter==21.1 in /usr/local/lib/python3.11/dist-packages (from mercury->-r requirements.txt (line 1)) (21.1)\n",
            "Requirement already satisfied: markdown==3.3.6 in /usr/local/lib/python3.11/dist-packages (from mercury->-r requirements.txt (line 1)) (3.3.6)\n",
            "Requirement already satisfied: celery>=5.1.2 in /usr/local/lib/python3.11/dist-packages (from mercury->-r requirements.txt (line 1)) (5.4.0)\n",
            "Requirement already satisfied: sqlalchemy==1.4.27 in /usr/local/lib/python3.11/dist-packages (from mercury->-r requirements.txt (line 1)) (1.4.27)\n",
            "Requirement already satisfied: gevent in /usr/local/lib/python3.11/dist-packages (from mercury->-r requirements.txt (line 1)) (24.11.1)\n",
            "Requirement already satisfied: nbconvert>=7.8.0 in /usr/local/lib/python3.11/dist-packages (from mercury->-r requirements.txt (line 1)) (7.16.6)\n",
            "Requirement already satisfied: ipython_genutils in /usr/local/lib/python3.11/dist-packages (from mercury->-r requirements.txt (line 1)) (0.2.0)\n",
            "Requirement already satisfied: django-cors-headers==3.10.1 in /usr/local/lib/python3.11/dist-packages (from mercury->-r requirements.txt (line 1)) (3.10.1)\n",
            "Requirement already satisfied: ipython>=7.30.1 in /usr/local/lib/python3.11/dist-packages (from mercury->-r requirements.txt (line 1)) (7.34.0)\n",
            "Requirement already satisfied: ipykernel>=6.6.0 in /usr/local/lib/python3.11/dist-packages (from mercury->-r requirements.txt (line 1)) (6.17.1)\n",
            "Requirement already satisfied: psutil>=5.8.0 in /usr/local/lib/python3.11/dist-packages (from mercury->-r requirements.txt (line 1)) (5.9.5)\n",
            "Requirement already satisfied: whitenoise>=5.3.0 in /usr/local/lib/python3.11/dist-packages (from mercury->-r requirements.txt (line 1)) (6.9.0)\n",
            "Requirement already satisfied: python-dotenv>=0.19.2 in /usr/local/lib/python3.11/dist-packages (from mercury->-r requirements.txt (line 1)) (1.0.1)\n",
            "Requirement already satisfied: django-drf-filepond==0.4.1 in /usr/local/lib/python3.11/dist-packages (from mercury->-r requirements.txt (line 1)) (0.4.1)\n",
            "Requirement already satisfied: croniter>=1.3.5 in /usr/local/lib/python3.11/dist-packages (from mercury->-r requirements.txt (line 1)) (6.0.0)\n",
            "Requirement already satisfied: pyppeteer==1.0.2 in /usr/local/lib/python3.11/dist-packages (from mercury->-r requirements.txt (line 1)) (1.0.2)\n",
            "Requirement already satisfied: channels>=4.0.0 in /usr/local/lib/python3.11/dist-packages (from channels[daphne]>=4.0.0->mercury->-r requirements.txt (line 1)) (4.2.0)\n",
            "Requirement already satisfied: websocket-client>=1.4.2 in /usr/local/lib/python3.11/dist-packages (from mercury->-r requirements.txt (line 1)) (1.8.0)\n",
            "Requirement already satisfied: execnb in /usr/local/lib/python3.11/dist-packages (from mercury->-r requirements.txt (line 1)) (0.1.11)\n",
            "Requirement already satisfied: ipywidgets==8.0.3 in /usr/local/lib/python3.11/dist-packages (from mercury->-r requirements.txt (line 1)) (8.0.3)\n",
            "Requirement already satisfied: dj-rest-auth==3.0.0 in /usr/local/lib/python3.11/dist-packages (from dj-rest-auth[with_social]==3.0.0->mercury->-r requirements.txt (line 1)) (3.0.0)\n",
            "Requirement already satisfied: boto3==1.26.83 in /usr/local/lib/python3.11/dist-packages (from mercury->-r requirements.txt (line 1)) (1.26.83)\n",
            "Requirement already satisfied: cryptography in /usr/local/lib/python3.11/dist-packages (from mercury->-r requirements.txt (line 1)) (43.0.3)\n",
            "Requirement already satisfied: pyopenssl>=23.1.1 in /usr/local/lib/python3.11/dist-packages (from mercury->-r requirements.txt (line 1)) (24.2.1)\n",
            "Requirement already satisfied: bleach>=6.0.0 in /usr/local/lib/python3.11/dist-packages (from mercury->-r requirements.txt (line 1)) (6.2.0)\n",
            "Requirement already satisfied: itables>=2.0.0 in /usr/local/lib/python3.11/dist-packages (from mercury->-r requirements.txt (line 1)) (2.2.5)\n",
            "Requirement already satisfied: botocore<1.30.0,>=1.29.83 in /usr/local/lib/python3.11/dist-packages (from boto3==1.26.83->mercury->-r requirements.txt (line 1)) (1.29.165)\n",
            "Requirement already satisfied: jmespath<2.0.0,>=0.7.1 in /usr/local/lib/python3.11/dist-packages (from boto3==1.26.83->mercury->-r requirements.txt (line 1)) (1.0.1)\n",
            "Requirement already satisfied: s3transfer<0.7.0,>=0.6.0 in /usr/local/lib/python3.11/dist-packages (from boto3==1.26.83->mercury->-r requirements.txt (line 1)) (0.6.2)\n",
            "Requirement already satisfied: django-allauth<0.53.0,>=0.40.0 in /usr/local/lib/python3.11/dist-packages (from dj-rest-auth[with_social]==3.0.0->mercury->-r requirements.txt (line 1)) (0.52.0)\n",
            "Requirement already satisfied: asgiref<4,>=3.6.0 in /usr/local/lib/python3.11/dist-packages (from django==4.2.7->mercury->-r requirements.txt (line 1)) (3.8.1)\n",
            "Requirement already satisfied: sqlparse>=0.3.1 in /usr/local/lib/python3.11/dist-packages (from django==4.2.7->mercury->-r requirements.txt (line 1)) (0.5.3)\n",
            "Requirement already satisfied: requests>=2.20.1 in /usr/local/lib/python3.11/dist-packages (from django-drf-filepond==0.4.1->mercury->-r requirements.txt (line 1)) (2.32.3)\n",
            "Requirement already satisfied: six>=1.14.0 in /usr/local/lib/python3.11/dist-packages (from django-drf-filepond==0.4.1->mercury->-r requirements.txt (line 1)) (1.17.0)\n",
            "Requirement already satisfied: shortuuid>=0.5.0 in /usr/local/lib/python3.11/dist-packages (from django-drf-filepond==0.4.1->mercury->-r requirements.txt (line 1)) (1.0.13)\n",
            "Requirement already satisfied: django-storages>=1.9.1 in /usr/local/lib/python3.11/dist-packages (from django-drf-filepond==0.4.1->mercury->-r requirements.txt (line 1)) (1.14.5)\n",
            "Requirement already satisfied: pytz in /usr/local/lib/python3.11/dist-packages (from djangorestframework==3.14.0->mercury->-r requirements.txt (line 1)) (2025.1)\n",
            "Requirement already satisfied: traitlets>=4.3.1 in /usr/local/lib/python3.11/dist-packages (from ipywidgets==8.0.3->mercury->-r requirements.txt (line 1)) (5.7.1)\n",
            "Requirement already satisfied: widgetsnbextension~=4.0 in /usr/local/lib/python3.11/dist-packages (from ipywidgets==8.0.3->mercury->-r requirements.txt (line 1)) (4.0.13)\n",
            "Requirement already satisfied: jupyterlab-widgets~=3.0 in /usr/local/lib/python3.11/dist-packages (from ipywidgets==8.0.3->mercury->-r requirements.txt (line 1)) (3.0.13)\n",
            "Requirement already satisfied: appdirs<2.0.0,>=1.4.3 in /usr/local/lib/python3.11/dist-packages (from pyppeteer==1.0.2->mercury->-r requirements.txt (line 1)) (1.4.4)\n",
            "Requirement already satisfied: certifi>=2021 in /usr/local/lib/python3.11/dist-packages (from pyppeteer==1.0.2->mercury->-r requirements.txt (line 1)) (2025.1.31)\n",
            "Requirement already satisfied: importlib-metadata>=1.4 in /usr/local/lib/python3.11/dist-packages (from pyppeteer==1.0.2->mercury->-r requirements.txt (line 1)) (8.6.1)\n",
            "Requirement already satisfied: pyee<9.0.0,>=8.1.0 in /usr/local/lib/python3.11/dist-packages (from pyppeteer==1.0.2->mercury->-r requirements.txt (line 1)) (8.2.2)\n",
            "Requirement already satisfied: tqdm<5.0.0,>=4.42.1 in /usr/local/lib/python3.11/dist-packages (from pyppeteer==1.0.2->mercury->-r requirements.txt (line 1)) (4.67.1)\n",
            "Requirement already satisfied: urllib3<2.0.0,>=1.25.8 in /usr/local/lib/python3.11/dist-packages (from pyppeteer==1.0.2->mercury->-r requirements.txt (line 1)) (1.26.20)\n",
            "Requirement already satisfied: websockets<11.0,>=10.0 in /usr/local/lib/python3.11/dist-packages (from pyppeteer==1.0.2->mercury->-r requirements.txt (line 1)) (10.4)\n",
            "Requirement already satisfied: greenlet!=0.4.17 in /usr/local/lib/python3.11/dist-packages (from sqlalchemy==1.4.27->mercury->-r requirements.txt (line 1)) (3.1.1)\n",
            "Requirement already satisfied: python-dateutil>=2.8.2 in /usr/local/lib/python3.11/dist-packages (from pandas->-r requirements.txt (line 2)) (2.8.2)\n",
            "Requirement already satisfied: tzdata>=2022.7 in /usr/local/lib/python3.11/dist-packages (from pandas->-r requirements.txt (line 2)) (2025.1)\n",
            "Requirement already satisfied: plotly>=4.1.1 in /usr/local/lib/python3.11/dist-packages (from cufflinks->-r requirements.txt (line 3)) (5.24.1)\n",
            "Requirement already satisfied: colorlover>=0.2.1 in /usr/local/lib/python3.11/dist-packages (from cufflinks->-r requirements.txt (line 3)) (0.3.0)\n",
            "Requirement already satisfied: setuptools>=34.4.1 in /usr/local/lib/python3.11/dist-packages (from cufflinks->-r requirements.txt (line 3)) (75.1.0)\n",
            "Requirement already satisfied: multitasking>=0.0.7 in /usr/local/lib/python3.11/dist-packages (from yfinance->-r requirements.txt (line 5)) (0.0.11)\n",
            "Requirement already satisfied: platformdirs>=2.0.0 in /usr/local/lib/python3.11/dist-packages (from yfinance->-r requirements.txt (line 5)) (4.3.6)\n",
            "Requirement already satisfied: frozendict>=2.3.4 in /usr/local/lib/python3.11/dist-packages (from yfinance->-r requirements.txt (line 5)) (2.4.6)\n",
            "Requirement already satisfied: peewee>=3.16.2 in /usr/local/lib/python3.11/dist-packages (from yfinance->-r requirements.txt (line 5)) (3.17.9)\n",
            "Requirement already satisfied: beautifulsoup4>=4.11.1 in /usr/local/lib/python3.11/dist-packages (from yfinance->-r requirements.txt (line 5)) (4.13.3)\n",
            "Requirement already satisfied: zope.interface in /usr/local/lib/python3.11/dist-packages (from datetime->-r requirements.txt (line 6)) (7.2)\n",
            "Requirement already satisfied: soupsieve>1.2 in /usr/local/lib/python3.11/dist-packages (from beautifulsoup4>=4.11.1->yfinance->-r requirements.txt (line 5)) (2.6)\n",
            "Requirement already satisfied: typing-extensions>=4.0.0 in /usr/local/lib/python3.11/dist-packages (from beautifulsoup4>=4.11.1->yfinance->-r requirements.txt (line 5)) (4.12.2)\n",
            "Requirement already satisfied: webencodings in /usr/local/lib/python3.11/dist-packages (from bleach>=6.0.0->mercury->-r requirements.txt (line 1)) (0.5.1)\n",
            "Requirement already satisfied: billiard<5.0,>=4.2.0 in /usr/local/lib/python3.11/dist-packages (from celery>=5.1.2->mercury->-r requirements.txt (line 1)) (4.2.1)\n",
            "Requirement already satisfied: kombu<6.0,>=5.3.4 in /usr/local/lib/python3.11/dist-packages (from celery>=5.1.2->mercury->-r requirements.txt (line 1)) (5.4.2)\n",
            "Requirement already satisfied: vine<6.0,>=5.1.0 in /usr/local/lib/python3.11/dist-packages (from celery>=5.1.2->mercury->-r requirements.txt (line 1)) (5.1.0)\n",
            "Requirement already satisfied: click<9.0,>=8.1.2 in /usr/local/lib/python3.11/dist-packages (from celery>=5.1.2->mercury->-r requirements.txt (line 1)) (8.1.8)\n",
            "Requirement already satisfied: click-didyoumean>=0.3.0 in /usr/local/lib/python3.11/dist-packages (from celery>=5.1.2->mercury->-r requirements.txt (line 1)) (0.3.1)\n",
            "Requirement already satisfied: click-repl>=0.2.0 in /usr/local/lib/python3.11/dist-packages (from celery>=5.1.2->mercury->-r requirements.txt (line 1)) (0.3.0)\n",
            "Requirement already satisfied: click-plugins>=1.1.1 in /usr/local/lib/python3.11/dist-packages (from celery>=5.1.2->mercury->-r requirements.txt (line 1)) (1.1.1)\n",
            "Requirement already satisfied: daphne>=4.0.0 in /usr/local/lib/python3.11/dist-packages (from channels[daphne]>=4.0.0->mercury->-r requirements.txt (line 1)) (4.1.2)\n",
            "Requirement already satisfied: debugpy>=1.0 in /usr/local/lib/python3.11/dist-packages (from ipykernel>=6.6.0->mercury->-r requirements.txt (line 1)) (1.8.0)\n",
            "Requirement already satisfied: jupyter-client>=6.1.12 in /usr/local/lib/python3.11/dist-packages (from ipykernel>=6.6.0->mercury->-r requirements.txt (line 1)) (6.1.12)\n",
            "Requirement already satisfied: matplotlib-inline>=0.1 in /usr/local/lib/python3.11/dist-packages (from ipykernel>=6.6.0->mercury->-r requirements.txt (line 1)) (0.1.7)\n",
            "Requirement already satisfied: nest-asyncio in /usr/local/lib/python3.11/dist-packages (from ipykernel>=6.6.0->mercury->-r requirements.txt (line 1)) (1.6.0)\n",
            "Requirement already satisfied: packaging in /usr/local/lib/python3.11/dist-packages (from ipykernel>=6.6.0->mercury->-r requirements.txt (line 1)) (24.2)\n",
            "Requirement already satisfied: pyzmq>=17 in /usr/local/lib/python3.11/dist-packages (from ipykernel>=6.6.0->mercury->-r requirements.txt (line 1)) (24.0.1)\n",
            "Requirement already satisfied: tornado>=6.1 in /usr/local/lib/python3.11/dist-packages (from ipykernel>=6.6.0->mercury->-r requirements.txt (line 1)) (6.4.2)\n",
            "Requirement already satisfied: jedi>=0.16 in /usr/local/lib/python3.11/dist-packages (from ipython>=7.30.1->mercury->-r requirements.txt (line 1)) (0.19.2)\n",
            "Requirement already satisfied: decorator in /usr/local/lib/python3.11/dist-packages (from ipython>=7.30.1->mercury->-r requirements.txt (line 1)) (4.4.2)\n",
            "Requirement already satisfied: pickleshare in /usr/local/lib/python3.11/dist-packages (from ipython>=7.30.1->mercury->-r requirements.txt (line 1)) (0.7.5)\n",
            "Requirement already satisfied: prompt-toolkit!=3.0.0,!=3.0.1,<3.1.0,>=2.0.0 in /usr/local/lib/python3.11/dist-packages (from ipython>=7.30.1->mercury->-r requirements.txt (line 1)) (3.0.50)\n",
            "Requirement already satisfied: pygments in /usr/local/lib/python3.11/dist-packages (from ipython>=7.30.1->mercury->-r requirements.txt (line 1)) (2.18.0)\n",
            "Requirement already satisfied: backcall in /usr/local/lib/python3.11/dist-packages (from ipython>=7.30.1->mercury->-r requirements.txt (line 1)) (0.2.0)\n",
            "Requirement already satisfied: pexpect>4.3 in /usr/local/lib/python3.11/dist-packages (from ipython>=7.30.1->mercury->-r requirements.txt (line 1)) (4.9.0)\n",
            "Requirement already satisfied: defusedxml in /usr/local/lib/python3.11/dist-packages (from nbconvert>=7.8.0->mercury->-r requirements.txt (line 1)) (0.7.1)\n",
            "Requirement already satisfied: jinja2>=3.0 in /usr/local/lib/python3.11/dist-packages (from nbconvert>=7.8.0->mercury->-r requirements.txt (line 1)) (3.1.5)\n",
            "Requirement already satisfied: jupyter-core>=4.7 in /usr/local/lib/python3.11/dist-packages (from nbconvert>=7.8.0->mercury->-r requirements.txt (line 1)) (5.7.2)\n",
            "Requirement already satisfied: jupyterlab-pygments in /usr/local/lib/python3.11/dist-packages (from nbconvert>=7.8.0->mercury->-r requirements.txt (line 1)) (0.3.0)\n",
            "Requirement already satisfied: markupsafe>=2.0 in /usr/local/lib/python3.11/dist-packages (from nbconvert>=7.8.0->mercury->-r requirements.txt (line 1)) (3.0.2)\n",
            "Requirement already satisfied: mistune<4,>=2.0.3 in /usr/local/lib/python3.11/dist-packages (from nbconvert>=7.8.0->mercury->-r requirements.txt (line 1)) (3.1.2)\n",
            "Requirement already satisfied: nbclient>=0.5.0 in /usr/local/lib/python3.11/dist-packages (from nbconvert>=7.8.0->mercury->-r requirements.txt (line 1)) (0.10.2)\n",
            "Requirement already satisfied: nbformat>=5.7 in /usr/local/lib/python3.11/dist-packages (from nbconvert>=7.8.0->mercury->-r requirements.txt (line 1)) (5.10.4)\n",
            "Requirement already satisfied: pandocfilters>=1.4.1 in /usr/local/lib/python3.11/dist-packages (from nbconvert>=7.8.0->mercury->-r requirements.txt (line 1)) (1.5.1)\n",
            "Requirement already satisfied: tenacity>=6.2.0 in /usr/local/lib/python3.11/dist-packages (from plotly>=4.1.1->cufflinks->-r requirements.txt (line 3)) (9.0.0)\n",
            "Requirement already satisfied: cffi>=1.12 in /usr/local/lib/python3.11/dist-packages (from cryptography->mercury->-r requirements.txt (line 1)) (1.17.1)\n",
            "Requirement already satisfied: charset-normalizer<4,>=2 in /usr/local/lib/python3.11/dist-packages (from requests>=2.20.1->django-drf-filepond==0.4.1->mercury->-r requirements.txt (line 1)) (3.4.1)\n",
            "Requirement already satisfied: idna<4,>=2.5 in /usr/local/lib/python3.11/dist-packages (from requests>=2.20.1->django-drf-filepond==0.4.1->mercury->-r requirements.txt (line 1)) (3.10)\n",
            "Requirement already satisfied: fastcore>=1.5.5 in /usr/local/lib/python3.11/dist-packages (from execnb->mercury->-r requirements.txt (line 1)) (1.7.29)\n",
            "Requirement already satisfied: zope.event in /usr/local/lib/python3.11/dist-packages (from gevent->mercury->-r requirements.txt (line 1)) (5.0)\n",
            "Requirement already satisfied: tinycss2<1.5,>=1.1.0 in /usr/local/lib/python3.11/dist-packages (from bleach[css]!=5.0.0->nbconvert>=7.8.0->mercury->-r requirements.txt (line 1)) (1.4.0)\n",
            "Requirement already satisfied: pycparser in /usr/local/lib/python3.11/dist-packages (from cffi>=1.12->cryptography->mercury->-r requirements.txt (line 1)) (2.22)\n",
            "Requirement already satisfied: autobahn>=22.4.2 in /usr/local/lib/python3.11/dist-packages (from daphne>=4.0.0->channels[daphne]>=4.0.0->mercury->-r requirements.txt (line 1)) (24.4.2)\n",
            "Requirement already satisfied: twisted>=22.4 in /usr/local/lib/python3.11/dist-packages (from twisted[tls]>=22.4->daphne>=4.0.0->channels[daphne]>=4.0.0->mercury->-r requirements.txt (line 1)) (24.11.0)\n",
            "Requirement already satisfied: python3-openid>=3.0.8 in /usr/local/lib/python3.11/dist-packages (from django-allauth<0.53.0,>=0.40.0->dj-rest-auth[with_social]==3.0.0->mercury->-r requirements.txt (line 1)) (3.2.0)\n",
            "Requirement already satisfied: requests-oauthlib>=0.3.0 in /usr/local/lib/python3.11/dist-packages (from django-allauth<0.53.0,>=0.40.0->dj-rest-auth[with_social]==3.0.0->mercury->-r requirements.txt (line 1)) (2.0.0)\n",
            "Requirement already satisfied: pyjwt>=1.7 in /usr/local/lib/python3.11/dist-packages (from pyjwt[crypto]>=1.7->django-allauth<0.53.0,>=0.40.0->dj-rest-auth[with_social]==3.0.0->mercury->-r requirements.txt (line 1)) (2.10.1)\n",
            "Requirement already satisfied: zipp>=3.20 in /usr/local/lib/python3.11/dist-packages (from importlib-metadata>=1.4->pyppeteer==1.0.2->mercury->-r requirements.txt (line 1)) (3.21.0)\n",
            "Requirement already satisfied: parso<0.9.0,>=0.8.4 in /usr/local/lib/python3.11/dist-packages (from jedi>=0.16->ipython>=7.30.1->mercury->-r requirements.txt (line 1)) (0.8.4)\n",
            "Requirement already satisfied: amqp<6.0.0,>=5.1.1 in /usr/local/lib/python3.11/dist-packages (from kombu<6.0,>=5.3.4->celery>=5.1.2->mercury->-r requirements.txt (line 1)) (5.3.1)\n",
            "Requirement already satisfied: fastjsonschema>=2.15 in /usr/local/lib/python3.11/dist-packages (from nbformat>=5.7->nbconvert>=7.8.0->mercury->-r requirements.txt (line 1)) (2.21.1)\n",
            "Requirement already satisfied: jsonschema>=2.6 in /usr/local/lib/python3.11/dist-packages (from nbformat>=5.7->nbconvert>=7.8.0->mercury->-r requirements.txt (line 1)) (4.23.0)\n",
            "Requirement already satisfied: ptyprocess>=0.5 in /usr/local/lib/python3.11/dist-packages (from pexpect>4.3->ipython>=7.30.1->mercury->-r requirements.txt (line 1)) (0.7.0)\n",
            "Requirement already satisfied: wcwidth in /usr/local/lib/python3.11/dist-packages (from prompt-toolkit!=3.0.0,!=3.0.1,<3.1.0,>=2.0.0->ipython>=7.30.1->mercury->-r requirements.txt (line 1)) (0.2.13)\n",
            "Requirement already satisfied: txaio>=21.2.1 in /usr/local/lib/python3.11/dist-packages (from autobahn>=22.4.2->daphne>=4.0.0->channels[daphne]>=4.0.0->mercury->-r requirements.txt (line 1)) (23.1.1)\n",
            "Requirement already satisfied: hyperlink>=21.0.0 in /usr/local/lib/python3.11/dist-packages (from autobahn>=22.4.2->daphne>=4.0.0->channels[daphne]>=4.0.0->mercury->-r requirements.txt (line 1)) (21.0.0)\n",
            "Requirement already satisfied: attrs>=22.2.0 in /usr/local/lib/python3.11/dist-packages (from jsonschema>=2.6->nbformat>=5.7->nbconvert>=7.8.0->mercury->-r requirements.txt (line 1)) (25.1.0)\n",
            "Requirement already satisfied: jsonschema-specifications>=2023.03.6 in /usr/local/lib/python3.11/dist-packages (from jsonschema>=2.6->nbformat>=5.7->nbconvert>=7.8.0->mercury->-r requirements.txt (line 1)) (2024.10.1)\n",
            "Requirement already satisfied: referencing>=0.28.4 in /usr/local/lib/python3.11/dist-packages (from jsonschema>=2.6->nbformat>=5.7->nbconvert>=7.8.0->mercury->-r requirements.txt (line 1)) (0.36.2)\n",
            "Requirement already satisfied: rpds-py>=0.7.1 in /usr/local/lib/python3.11/dist-packages (from jsonschema>=2.6->nbformat>=5.7->nbconvert>=7.8.0->mercury->-r requirements.txt (line 1)) (0.23.1)\n",
            "Requirement already satisfied: oauthlib>=3.0.0 in /usr/local/lib/python3.11/dist-packages (from requests-oauthlib>=0.3.0->django-allauth<0.53.0,>=0.40.0->dj-rest-auth[with_social]==3.0.0->mercury->-r requirements.txt (line 1)) (3.2.2)\n",
            "Requirement already satisfied: automat>=24.8.0 in /usr/local/lib/python3.11/dist-packages (from twisted>=22.4->twisted[tls]>=22.4->daphne>=4.0.0->channels[daphne]>=4.0.0->mercury->-r requirements.txt (line 1)) (24.8.1)\n",
            "Requirement already satisfied: constantly>=15.1 in /usr/local/lib/python3.11/dist-packages (from twisted>=22.4->twisted[tls]>=22.4->daphne>=4.0.0->channels[daphne]>=4.0.0->mercury->-r requirements.txt (line 1)) (23.10.4)\n",
            "Requirement already satisfied: incremental>=24.7.0 in /usr/local/lib/python3.11/dist-packages (from twisted>=22.4->twisted[tls]>=22.4->daphne>=4.0.0->channels[daphne]>=4.0.0->mercury->-r requirements.txt (line 1)) (24.7.2)\n",
            "Requirement already satisfied: service-identity>=18.1.0 in /usr/local/lib/python3.11/dist-packages (from twisted[tls]>=22.4->daphne>=4.0.0->channels[daphne]>=4.0.0->mercury->-r requirements.txt (line 1)) (24.2.0)\n",
            "Requirement already satisfied: pyasn1 in /usr/local/lib/python3.11/dist-packages (from service-identity>=18.1.0->twisted[tls]>=22.4->daphne>=4.0.0->channels[daphne]>=4.0.0->mercury->-r requirements.txt (line 1)) (0.6.1)\n",
            "Requirement already satisfied: pyasn1-modules in /usr/local/lib/python3.11/dist-packages (from service-identity>=18.1.0->twisted[tls]>=22.4->daphne>=4.0.0->channels[daphne]>=4.0.0->mercury->-r requirements.txt (line 1)) (0.4.1)\n"
          ]
        }
      ]
    },
    {
      "cell_type": "code",
      "source": [
        "import yfinance as yf\n",
        "\n",
        "# Download stock data for Microsoft (MSFT)\n",
        "msft_data = yf.download(\"MSFT\")\n",
        "\n",
        "# Print the first 5 rows of data\n",
        "print(msft_data.head())"
      ],
      "metadata": {
        "id": "I_i7uqqTGHrS",
        "outputId": "f1a3c491-e658-465f-aa11-ac6dab679c1b",
        "colab": {
          "base_uri": "https://localhost:8080/",
          "height": 0
        }
      },
      "execution_count": 19,
      "outputs": [
        {
          "output_type": "stream",
          "name": "stderr",
          "text": [
            "\r[*********************100%***********************]  1 of 1 completed"
          ]
        },
        {
          "output_type": "stream",
          "name": "stdout",
          "text": [
            "Price          Close      High       Low      Open      Volume\n",
            "Ticker          MSFT      MSFT      MSFT      MSFT        MSFT\n",
            "Date                                                          \n",
            "1986-03-13  0.059707  0.062373  0.054376  0.054376  1031788800\n",
            "1986-03-14  0.061839  0.062906  0.059707  0.059707   308160000\n",
            "1986-03-17  0.062906  0.063439  0.061839  0.061839   133171200\n",
            "1986-03-18  0.061306  0.063439  0.060773  0.062906    67766400\n",
            "1986-03-19  0.060240  0.061839  0.059707  0.061306    47894400\n"
          ]
        },
        {
          "output_type": "stream",
          "name": "stderr",
          "text": [
            "\n"
          ]
        }
      ]
    },
    {
      "cell_type": "code",
      "source": [
        "import yfinance\n",
        "import plotly\n",
        "import cufflinks\n",
        "import pandas\n",
        "import numpy\n",
        "import ipywidgets"
      ],
      "metadata": {
        "id": "-eDuFfjGFvir"
      },
      "execution_count": 21,
      "outputs": []
    },
    {
      "cell_type": "code",
      "source": [
        "!wget https://cf-courses-data.s3.us.cloud-object-storage.appdomain.cloud/IBMSkillsNetwork-GPXX0OECEN/requirements.txt\n"
      ],
      "metadata": {
        "id": "G81ERCqlFs74",
        "outputId": "0de8ec47-ff7b-4353-c36e-ba695726fac8",
        "colab": {
          "base_uri": "https://localhost:8080/"
        }
      },
      "execution_count": null,
      "outputs": [
        {
          "output_type": "stream",
          "name": "stdout",
          "text": [
            "--2025-03-04 16:57:12--  https://cf-courses-data.s3.us.cloud-object-storage.appdomain.cloud/IBMSkillsNetwork-GPXX0OECEN/requirements.txt\n",
            "Resolving cf-courses-data.s3.us.cloud-object-storage.appdomain.cloud (cf-courses-data.s3.us.cloud-object-storage.appdomain.cloud)... 169.63.118.104\n",
            "Connecting to cf-courses-data.s3.us.cloud-object-storage.appdomain.cloud (cf-courses-data.s3.us.cloud-object-storage.appdomain.cloud)|169.63.118.104|:443... connected.\n",
            "HTTP request sent, awaiting response... 200 OK\n",
            "Length: 49 [text/plain]\n",
            "Saving to: ‘requirements.txt.3’\n",
            "\n",
            "requirements.txt.3  100%[===================>]      49  --.-KB/s    in 0s      \n",
            "\n",
            "2025-03-04 16:57:13 (15.2 MB/s) - ‘requirements.txt.3’ saved [49/49]\n",
            "\n"
          ]
        }
      ]
    },
    {
      "cell_type": "code",
      "source": [
        "!pip install mercury"
      ],
      "metadata": {
        "collapsed": true,
        "id": "HTDJOu4uGxCT",
        "outputId": "b800c302-4d7a-4cc5-87a9-7c2934488f82",
        "colab": {
          "base_uri": "https://localhost:8080/",
          "height": 0
        }
      },
      "execution_count": 23,
      "outputs": [
        {
          "output_type": "stream",
          "name": "stdout",
          "text": [
            "Requirement already satisfied: mercury in /usr/local/lib/python3.11/dist-packages (2.4.3)\n",
            "Requirement already satisfied: django==4.2.7 in /usr/local/lib/python3.11/dist-packages (from mercury) (4.2.7)\n",
            "Requirement already satisfied: djangorestframework==3.14.0 in /usr/local/lib/python3.11/dist-packages (from mercury) (3.14.0)\n",
            "Requirement already satisfied: django-filter==21.1 in /usr/local/lib/python3.11/dist-packages (from mercury) (21.1)\n",
            "Requirement already satisfied: markdown==3.3.6 in /usr/local/lib/python3.11/dist-packages (from mercury) (3.3.6)\n",
            "Requirement already satisfied: celery>=5.1.2 in /usr/local/lib/python3.11/dist-packages (from mercury) (5.4.0)\n",
            "Requirement already satisfied: sqlalchemy==1.4.27 in /usr/local/lib/python3.11/dist-packages (from mercury) (1.4.27)\n",
            "Requirement already satisfied: gevent in /usr/local/lib/python3.11/dist-packages (from mercury) (24.11.1)\n",
            "Requirement already satisfied: nbconvert>=7.8.0 in /usr/local/lib/python3.11/dist-packages (from mercury) (7.16.6)\n",
            "Requirement already satisfied: ipython_genutils in /usr/local/lib/python3.11/dist-packages (from mercury) (0.2.0)\n",
            "Requirement already satisfied: django-cors-headers==3.10.1 in /usr/local/lib/python3.11/dist-packages (from mercury) (3.10.1)\n",
            "Requirement already satisfied: ipython>=7.30.1 in /usr/local/lib/python3.11/dist-packages (from mercury) (7.34.0)\n",
            "Requirement already satisfied: ipykernel>=6.6.0 in /usr/local/lib/python3.11/dist-packages (from mercury) (6.17.1)\n",
            "Requirement already satisfied: psutil>=5.8.0 in /usr/local/lib/python3.11/dist-packages (from mercury) (5.9.5)\n",
            "Requirement already satisfied: whitenoise>=5.3.0 in /usr/local/lib/python3.11/dist-packages (from mercury) (6.9.0)\n",
            "Requirement already satisfied: python-dotenv>=0.19.2 in /usr/local/lib/python3.11/dist-packages (from mercury) (1.0.1)\n",
            "Requirement already satisfied: django-drf-filepond==0.4.1 in /usr/local/lib/python3.11/dist-packages (from mercury) (0.4.1)\n",
            "Requirement already satisfied: croniter>=1.3.5 in /usr/local/lib/python3.11/dist-packages (from mercury) (6.0.0)\n",
            "Requirement already satisfied: pyppeteer==1.0.2 in /usr/local/lib/python3.11/dist-packages (from mercury) (1.0.2)\n",
            "Requirement already satisfied: channels>=4.0.0 in /usr/local/lib/python3.11/dist-packages (from channels[daphne]>=4.0.0->mercury) (4.2.0)\n",
            "Requirement already satisfied: websocket-client>=1.4.2 in /usr/local/lib/python3.11/dist-packages (from mercury) (1.8.0)\n",
            "Requirement already satisfied: execnb in /usr/local/lib/python3.11/dist-packages (from mercury) (0.1.11)\n",
            "Requirement already satisfied: ipywidgets==8.0.3 in /usr/local/lib/python3.11/dist-packages (from mercury) (8.0.3)\n",
            "Requirement already satisfied: dj-rest-auth==3.0.0 in /usr/local/lib/python3.11/dist-packages (from dj-rest-auth[with_social]==3.0.0->mercury) (3.0.0)\n",
            "Requirement already satisfied: boto3==1.26.83 in /usr/local/lib/python3.11/dist-packages (from mercury) (1.26.83)\n",
            "Requirement already satisfied: cryptography in /usr/local/lib/python3.11/dist-packages (from mercury) (43.0.3)\n",
            "Requirement already satisfied: pyopenssl>=23.1.1 in /usr/local/lib/python3.11/dist-packages (from mercury) (24.2.1)\n",
            "Requirement already satisfied: bleach>=6.0.0 in /usr/local/lib/python3.11/dist-packages (from mercury) (6.2.0)\n",
            "Requirement already satisfied: itables>=2.0.0 in /usr/local/lib/python3.11/dist-packages (from mercury) (2.2.5)\n",
            "Requirement already satisfied: botocore<1.30.0,>=1.29.83 in /usr/local/lib/python3.11/dist-packages (from boto3==1.26.83->mercury) (1.29.165)\n",
            "Requirement already satisfied: jmespath<2.0.0,>=0.7.1 in /usr/local/lib/python3.11/dist-packages (from boto3==1.26.83->mercury) (1.0.1)\n",
            "Requirement already satisfied: s3transfer<0.7.0,>=0.6.0 in /usr/local/lib/python3.11/dist-packages (from boto3==1.26.83->mercury) (0.6.2)\n",
            "Requirement already satisfied: django-allauth<0.53.0,>=0.40.0 in /usr/local/lib/python3.11/dist-packages (from dj-rest-auth[with_social]==3.0.0->mercury) (0.52.0)\n",
            "Requirement already satisfied: asgiref<4,>=3.6.0 in /usr/local/lib/python3.11/dist-packages (from django==4.2.7->mercury) (3.8.1)\n",
            "Requirement already satisfied: sqlparse>=0.3.1 in /usr/local/lib/python3.11/dist-packages (from django==4.2.7->mercury) (0.5.3)\n",
            "Requirement already satisfied: requests>=2.20.1 in /usr/local/lib/python3.11/dist-packages (from django-drf-filepond==0.4.1->mercury) (2.32.3)\n",
            "Requirement already satisfied: six>=1.14.0 in /usr/local/lib/python3.11/dist-packages (from django-drf-filepond==0.4.1->mercury) (1.17.0)\n",
            "Requirement already satisfied: shortuuid>=0.5.0 in /usr/local/lib/python3.11/dist-packages (from django-drf-filepond==0.4.1->mercury) (1.0.13)\n",
            "Requirement already satisfied: django-storages>=1.9.1 in /usr/local/lib/python3.11/dist-packages (from django-drf-filepond==0.4.1->mercury) (1.14.5)\n",
            "Requirement already satisfied: pytz in /usr/local/lib/python3.11/dist-packages (from djangorestframework==3.14.0->mercury) (2025.1)\n",
            "Requirement already satisfied: traitlets>=4.3.1 in /usr/local/lib/python3.11/dist-packages (from ipywidgets==8.0.3->mercury) (5.7.1)\n",
            "Requirement already satisfied: widgetsnbextension~=4.0 in /usr/local/lib/python3.11/dist-packages (from ipywidgets==8.0.3->mercury) (4.0.13)\n",
            "Requirement already satisfied: jupyterlab-widgets~=3.0 in /usr/local/lib/python3.11/dist-packages (from ipywidgets==8.0.3->mercury) (3.0.13)\n",
            "Requirement already satisfied: appdirs<2.0.0,>=1.4.3 in /usr/local/lib/python3.11/dist-packages (from pyppeteer==1.0.2->mercury) (1.4.4)\n",
            "Requirement already satisfied: certifi>=2021 in /usr/local/lib/python3.11/dist-packages (from pyppeteer==1.0.2->mercury) (2025.1.31)\n",
            "Requirement already satisfied: importlib-metadata>=1.4 in /usr/local/lib/python3.11/dist-packages (from pyppeteer==1.0.2->mercury) (8.6.1)\n",
            "Requirement already satisfied: pyee<9.0.0,>=8.1.0 in /usr/local/lib/python3.11/dist-packages (from pyppeteer==1.0.2->mercury) (8.2.2)\n",
            "Requirement already satisfied: tqdm<5.0.0,>=4.42.1 in /usr/local/lib/python3.11/dist-packages (from pyppeteer==1.0.2->mercury) (4.67.1)\n",
            "Requirement already satisfied: urllib3<2.0.0,>=1.25.8 in /usr/local/lib/python3.11/dist-packages (from pyppeteer==1.0.2->mercury) (1.26.20)\n",
            "Requirement already satisfied: websockets<11.0,>=10.0 in /usr/local/lib/python3.11/dist-packages (from pyppeteer==1.0.2->mercury) (10.4)\n",
            "Requirement already satisfied: greenlet!=0.4.17 in /usr/local/lib/python3.11/dist-packages (from sqlalchemy==1.4.27->mercury) (3.1.1)\n",
            "Requirement already satisfied: webencodings in /usr/local/lib/python3.11/dist-packages (from bleach>=6.0.0->mercury) (0.5.1)\n",
            "Requirement already satisfied: billiard<5.0,>=4.2.0 in /usr/local/lib/python3.11/dist-packages (from celery>=5.1.2->mercury) (4.2.1)\n",
            "Requirement already satisfied: kombu<6.0,>=5.3.4 in /usr/local/lib/python3.11/dist-packages (from celery>=5.1.2->mercury) (5.4.2)\n",
            "Requirement already satisfied: vine<6.0,>=5.1.0 in /usr/local/lib/python3.11/dist-packages (from celery>=5.1.2->mercury) (5.1.0)\n",
            "Requirement already satisfied: click<9.0,>=8.1.2 in /usr/local/lib/python3.11/dist-packages (from celery>=5.1.2->mercury) (8.1.8)\n",
            "Requirement already satisfied: click-didyoumean>=0.3.0 in /usr/local/lib/python3.11/dist-packages (from celery>=5.1.2->mercury) (0.3.1)\n",
            "Requirement already satisfied: click-repl>=0.2.0 in /usr/local/lib/python3.11/dist-packages (from celery>=5.1.2->mercury) (0.3.0)\n",
            "Requirement already satisfied: click-plugins>=1.1.1 in /usr/local/lib/python3.11/dist-packages (from celery>=5.1.2->mercury) (1.1.1)\n",
            "Requirement already satisfied: tzdata>=2022.7 in /usr/local/lib/python3.11/dist-packages (from celery>=5.1.2->mercury) (2025.1)\n",
            "Requirement already satisfied: python-dateutil>=2.8.2 in /usr/local/lib/python3.11/dist-packages (from celery>=5.1.2->mercury) (2.8.2)\n",
            "Requirement already satisfied: daphne>=4.0.0 in /usr/local/lib/python3.11/dist-packages (from channels[daphne]>=4.0.0->mercury) (4.1.2)\n",
            "Requirement already satisfied: debugpy>=1.0 in /usr/local/lib/python3.11/dist-packages (from ipykernel>=6.6.0->mercury) (1.8.0)\n",
            "Requirement already satisfied: jupyter-client>=6.1.12 in /usr/local/lib/python3.11/dist-packages (from ipykernel>=6.6.0->mercury) (6.1.12)\n",
            "Requirement already satisfied: matplotlib-inline>=0.1 in /usr/local/lib/python3.11/dist-packages (from ipykernel>=6.6.0->mercury) (0.1.7)\n",
            "Requirement already satisfied: nest-asyncio in /usr/local/lib/python3.11/dist-packages (from ipykernel>=6.6.0->mercury) (1.6.0)\n",
            "Requirement already satisfied: packaging in /usr/local/lib/python3.11/dist-packages (from ipykernel>=6.6.0->mercury) (24.2)\n",
            "Requirement already satisfied: pyzmq>=17 in /usr/local/lib/python3.11/dist-packages (from ipykernel>=6.6.0->mercury) (24.0.1)\n",
            "Requirement already satisfied: tornado>=6.1 in /usr/local/lib/python3.11/dist-packages (from ipykernel>=6.6.0->mercury) (6.4.2)\n",
            "Requirement already satisfied: setuptools>=18.5 in /usr/local/lib/python3.11/dist-packages (from ipython>=7.30.1->mercury) (75.1.0)\n",
            "Requirement already satisfied: jedi>=0.16 in /usr/local/lib/python3.11/dist-packages (from ipython>=7.30.1->mercury) (0.19.2)\n",
            "Requirement already satisfied: decorator in /usr/local/lib/python3.11/dist-packages (from ipython>=7.30.1->mercury) (4.4.2)\n",
            "Requirement already satisfied: pickleshare in /usr/local/lib/python3.11/dist-packages (from ipython>=7.30.1->mercury) (0.7.5)\n",
            "Requirement already satisfied: prompt-toolkit!=3.0.0,!=3.0.1,<3.1.0,>=2.0.0 in /usr/local/lib/python3.11/dist-packages (from ipython>=7.30.1->mercury) (3.0.50)\n",
            "Requirement already satisfied: pygments in /usr/local/lib/python3.11/dist-packages (from ipython>=7.30.1->mercury) (2.18.0)\n",
            "Requirement already satisfied: backcall in /usr/local/lib/python3.11/dist-packages (from ipython>=7.30.1->mercury) (0.2.0)\n",
            "Requirement already satisfied: pexpect>4.3 in /usr/local/lib/python3.11/dist-packages (from ipython>=7.30.1->mercury) (4.9.0)\n",
            "Requirement already satisfied: numpy in /usr/local/lib/python3.11/dist-packages (from itables>=2.0.0->mercury) (1.26.4)\n",
            "Requirement already satisfied: pandas in /usr/local/lib/python3.11/dist-packages (from itables>=2.0.0->mercury) (2.2.2)\n",
            "Requirement already satisfied: beautifulsoup4 in /usr/local/lib/python3.11/dist-packages (from nbconvert>=7.8.0->mercury) (4.13.3)\n",
            "Requirement already satisfied: defusedxml in /usr/local/lib/python3.11/dist-packages (from nbconvert>=7.8.0->mercury) (0.7.1)\n",
            "Requirement already satisfied: jinja2>=3.0 in /usr/local/lib/python3.11/dist-packages (from nbconvert>=7.8.0->mercury) (3.1.5)\n",
            "Requirement already satisfied: jupyter-core>=4.7 in /usr/local/lib/python3.11/dist-packages (from nbconvert>=7.8.0->mercury) (5.7.2)\n",
            "Requirement already satisfied: jupyterlab-pygments in /usr/local/lib/python3.11/dist-packages (from nbconvert>=7.8.0->mercury) (0.3.0)\n",
            "Requirement already satisfied: markupsafe>=2.0 in /usr/local/lib/python3.11/dist-packages (from nbconvert>=7.8.0->mercury) (3.0.2)\n",
            "Requirement already satisfied: mistune<4,>=2.0.3 in /usr/local/lib/python3.11/dist-packages (from nbconvert>=7.8.0->mercury) (3.1.2)\n",
            "Requirement already satisfied: nbclient>=0.5.0 in /usr/local/lib/python3.11/dist-packages (from nbconvert>=7.8.0->mercury) (0.10.2)\n",
            "Requirement already satisfied: nbformat>=5.7 in /usr/local/lib/python3.11/dist-packages (from nbconvert>=7.8.0->mercury) (5.10.4)\n",
            "Requirement already satisfied: pandocfilters>=1.4.1 in /usr/local/lib/python3.11/dist-packages (from nbconvert>=7.8.0->mercury) (1.5.1)\n",
            "Requirement already satisfied: cffi>=1.12 in /usr/local/lib/python3.11/dist-packages (from cryptography->mercury) (1.17.1)\n",
            "Requirement already satisfied: fastcore>=1.5.5 in /usr/local/lib/python3.11/dist-packages (from execnb->mercury) (1.7.29)\n",
            "Requirement already satisfied: zope.event in /usr/local/lib/python3.11/dist-packages (from gevent->mercury) (5.0)\n",
            "Requirement already satisfied: zope.interface in /usr/local/lib/python3.11/dist-packages (from gevent->mercury) (7.2)\n",
            "Requirement already satisfied: tinycss2<1.5,>=1.1.0 in /usr/local/lib/python3.11/dist-packages (from bleach[css]!=5.0.0->nbconvert>=7.8.0->mercury) (1.4.0)\n",
            "Requirement already satisfied: pycparser in /usr/local/lib/python3.11/dist-packages (from cffi>=1.12->cryptography->mercury) (2.22)\n",
            "Requirement already satisfied: autobahn>=22.4.2 in /usr/local/lib/python3.11/dist-packages (from daphne>=4.0.0->channels[daphne]>=4.0.0->mercury) (24.4.2)\n",
            "Requirement already satisfied: twisted>=22.4 in /usr/local/lib/python3.11/dist-packages (from twisted[tls]>=22.4->daphne>=4.0.0->channels[daphne]>=4.0.0->mercury) (24.11.0)\n",
            "Requirement already satisfied: python3-openid>=3.0.8 in /usr/local/lib/python3.11/dist-packages (from django-allauth<0.53.0,>=0.40.0->dj-rest-auth[with_social]==3.0.0->mercury) (3.2.0)\n",
            "Requirement already satisfied: requests-oauthlib>=0.3.0 in /usr/local/lib/python3.11/dist-packages (from django-allauth<0.53.0,>=0.40.0->dj-rest-auth[with_social]==3.0.0->mercury) (2.0.0)\n",
            "Requirement already satisfied: pyjwt>=1.7 in /usr/local/lib/python3.11/dist-packages (from pyjwt[crypto]>=1.7->django-allauth<0.53.0,>=0.40.0->dj-rest-auth[with_social]==3.0.0->mercury) (2.10.1)\n",
            "Requirement already satisfied: zipp>=3.20 in /usr/local/lib/python3.11/dist-packages (from importlib-metadata>=1.4->pyppeteer==1.0.2->mercury) (3.21.0)\n",
            "Requirement already satisfied: parso<0.9.0,>=0.8.4 in /usr/local/lib/python3.11/dist-packages (from jedi>=0.16->ipython>=7.30.1->mercury) (0.8.4)\n",
            "Requirement already satisfied: platformdirs>=2.5 in /usr/local/lib/python3.11/dist-packages (from jupyter-core>=4.7->nbconvert>=7.8.0->mercury) (4.3.6)\n",
            "Requirement already satisfied: amqp<6.0.0,>=5.1.1 in /usr/local/lib/python3.11/dist-packages (from kombu<6.0,>=5.3.4->celery>=5.1.2->mercury) (5.3.1)\n",
            "Requirement already satisfied: fastjsonschema>=2.15 in /usr/local/lib/python3.11/dist-packages (from nbformat>=5.7->nbconvert>=7.8.0->mercury) (2.21.1)\n",
            "Requirement already satisfied: jsonschema>=2.6 in /usr/local/lib/python3.11/dist-packages (from nbformat>=5.7->nbconvert>=7.8.0->mercury) (4.23.0)\n",
            "Requirement already satisfied: ptyprocess>=0.5 in /usr/local/lib/python3.11/dist-packages (from pexpect>4.3->ipython>=7.30.1->mercury) (0.7.0)\n",
            "Requirement already satisfied: wcwidth in /usr/local/lib/python3.11/dist-packages (from prompt-toolkit!=3.0.0,!=3.0.1,<3.1.0,>=2.0.0->ipython>=7.30.1->mercury) (0.2.13)\n",
            "Requirement already satisfied: charset-normalizer<4,>=2 in /usr/local/lib/python3.11/dist-packages (from requests>=2.20.1->django-drf-filepond==0.4.1->mercury) (3.4.1)\n",
            "Requirement already satisfied: idna<4,>=2.5 in /usr/local/lib/python3.11/dist-packages (from requests>=2.20.1->django-drf-filepond==0.4.1->mercury) (3.10)\n",
            "Requirement already satisfied: soupsieve>1.2 in /usr/local/lib/python3.11/dist-packages (from beautifulsoup4->nbconvert>=7.8.0->mercury) (2.6)\n",
            "Requirement already satisfied: typing-extensions>=4.0.0 in /usr/local/lib/python3.11/dist-packages (from beautifulsoup4->nbconvert>=7.8.0->mercury) (4.12.2)\n",
            "Requirement already satisfied: txaio>=21.2.1 in /usr/local/lib/python3.11/dist-packages (from autobahn>=22.4.2->daphne>=4.0.0->channels[daphne]>=4.0.0->mercury) (23.1.1)\n",
            "Requirement already satisfied: hyperlink>=21.0.0 in /usr/local/lib/python3.11/dist-packages (from autobahn>=22.4.2->daphne>=4.0.0->channels[daphne]>=4.0.0->mercury) (21.0.0)\n",
            "Requirement already satisfied: attrs>=22.2.0 in /usr/local/lib/python3.11/dist-packages (from jsonschema>=2.6->nbformat>=5.7->nbconvert>=7.8.0->mercury) (25.1.0)\n",
            "Requirement already satisfied: jsonschema-specifications>=2023.03.6 in /usr/local/lib/python3.11/dist-packages (from jsonschema>=2.6->nbformat>=5.7->nbconvert>=7.8.0->mercury) (2024.10.1)\n",
            "Requirement already satisfied: referencing>=0.28.4 in /usr/local/lib/python3.11/dist-packages (from jsonschema>=2.6->nbformat>=5.7->nbconvert>=7.8.0->mercury) (0.36.2)\n",
            "Requirement already satisfied: rpds-py>=0.7.1 in /usr/local/lib/python3.11/dist-packages (from jsonschema>=2.6->nbformat>=5.7->nbconvert>=7.8.0->mercury) (0.23.1)\n",
            "Requirement already satisfied: oauthlib>=3.0.0 in /usr/local/lib/python3.11/dist-packages (from requests-oauthlib>=0.3.0->django-allauth<0.53.0,>=0.40.0->dj-rest-auth[with_social]==3.0.0->mercury) (3.2.2)\n",
            "Requirement already satisfied: automat>=24.8.0 in /usr/local/lib/python3.11/dist-packages (from twisted>=22.4->twisted[tls]>=22.4->daphne>=4.0.0->channels[daphne]>=4.0.0->mercury) (24.8.1)\n",
            "Requirement already satisfied: constantly>=15.1 in /usr/local/lib/python3.11/dist-packages (from twisted>=22.4->twisted[tls]>=22.4->daphne>=4.0.0->channels[daphne]>=4.0.0->mercury) (23.10.4)\n",
            "Requirement already satisfied: incremental>=24.7.0 in /usr/local/lib/python3.11/dist-packages (from twisted>=22.4->twisted[tls]>=22.4->daphne>=4.0.0->channels[daphne]>=4.0.0->mercury) (24.7.2)\n",
            "Requirement already satisfied: service-identity>=18.1.0 in /usr/local/lib/python3.11/dist-packages (from twisted[tls]>=22.4->daphne>=4.0.0->channels[daphne]>=4.0.0->mercury) (24.2.0)\n",
            "Requirement already satisfied: pyasn1 in /usr/local/lib/python3.11/dist-packages (from service-identity>=18.1.0->twisted[tls]>=22.4->daphne>=4.0.0->channels[daphne]>=4.0.0->mercury) (0.6.1)\n",
            "Requirement already satisfied: pyasn1-modules in /usr/local/lib/python3.11/dist-packages (from service-identity>=18.1.0->twisted[tls]>=22.4->daphne>=4.0.0->channels[daphne]>=4.0.0->mercury) (0.4.1)\n"
          ]
        }
      ]
    },
    {
      "cell_type": "code",
      "source": [
        "# Import necessary libraries\n",
        "import mercury as mr\n",
        "import yfinance as yf\n",
        "import plotly.graph_objects as go\n",
        "import ipywidgets as widgets\n",
        "\n",
        "# Create the Mercury app\n",
        "app = mr.App(title=\"📈 Stock Price Dashboard\", description=\"Dashboard with financial data\", show_code=False)\n",
        "\n",
        "# Create a list of stock tickers (you can extend this list with more stocks)\n",
        "stocks = ['BALMLAWREE.BO', 'CASTROLIND.BO', 'GPIL.BO', 'UNIONBANK.BO', 'GUJTLRM.BO']\n",
        "\n",
        "# Create a dropdown widget to select a stock\n",
        "ticker_dropdown = widgets.Dropdown(\n",
        "    options=stocks,\n",
        "    description='Select Stock:'\n",
        ")\n",
        "\n",
        "# Function to fetch and plot stock data\n",
        "def plot_stock(ticker):\n",
        "    # Fetch stock data\n",
        "    stock_data = yf.download(ticker, period='1y', interval='1d')\n",
        "\n",
        "    # Create a candlestick chart for the stock data\n",
        "    fig = go.Figure(data=[go.Candlestick(\n",
        "        x=stock_data.index,\n",
        "        open=stock_data['Open'],\n",
        "        high=stock_data['High'],\n",
        "        low=stock_data['Low'],\n",
        "        close=stock_data['Close'],\n",
        "        name=ticker\n",
        "    )])\n",
        "\n",
        "    # Customize layout\n",
        "    fig.update_layout(\n",
        "        title=f'{ticker} Stock Price',\n",
        "        xaxis_title='Date',\n",
        "        yaxis_title='Price (INR)',\n",
        "        template='plotly_dark'\n",
        "    )\n",
        "\n",
        "    fig.show()\n",
        "\n",
        "# Use the dropdown widget and trigger the plot function based on the selected stock\n",
        "widgets.interactive(plot_stock, ticker=ticker_dropdown)\n",
        "\n",
        "# Removed the route and index function for use in Jupyter notebook\n",
        "#app.run()"
      ],
      "metadata": {
        "collapsed": true,
        "id": "AjMmQMJjHy67",
        "outputId": "5147196a-5806-482a-e08a-50e59cb254f3",
        "colab": {
          "base_uri": "https://localhost:8080/",
          "height": 667,
          "referenced_widgets": [
            "d67455160a9c44b586d3a0b16b3aba11",
            "980c501fa7eb482c8ff46d270fc445bf",
            "77df533528d7419ca89fefec33de8f43",
            "e4b9e6b33ea4409d8774a92fdcd77a40",
            "f660d5827fcb41fd8927e3b0c2489efe",
            "7d5dc153713244b58153cfa9aa292a61",
            "060943af5f4042fea2c52d581db6877f"
          ]
        }
      },
      "execution_count": 22,
      "outputs": [
        {
          "output_type": "display_data",
          "data": {
            "text/plain": [
              "mercury.App"
            ],
            "text/html": [
              "<h3>Mercury Application</h3><small>This output won't appear in the web app.</small>"
            ],
            "application/mercury+json": "{\n    \"widget\": \"App\",\n    \"title\": \"\\ud83d\\udcc8 Stock Price Dashboard\",\n    \"description\": \"Dashboard with financial data\",\n    \"show_code\": false,\n    \"show_prompt\": false,\n    \"output\": \"app\",\n    \"schedule\": \"\",\n    \"notify\": \"{}\",\n    \"continuous_update\": true,\n    \"static_notebook\": false,\n    \"show_sidebar\": true,\n    \"full_screen\": true,\n    \"allow_download\": true,\n    \"allow_share\": true,\n    \"stop_on_error\": false,\n    \"model_id\": \"mercury-app\",\n    \"code_uid\": \"App.0.50.110.8-rand269cde27\"\n}"
          },
          "metadata": {}
        },
        {
          "output_type": "execute_result",
          "data": {
            "text/plain": [
              "interactive(children=(Dropdown(description='Select Stock:', options=('BALMLAWREE.BO', 'CASTROLIND.BO', 'GPIL.B…"
            ],
            "application/vnd.jupyter.widget-view+json": {
              "version_major": 2,
              "version_minor": 0,
              "model_id": "d67455160a9c44b586d3a0b16b3aba11"
            }
          },
          "metadata": {},
          "execution_count": 22
        }
      ]
    },
    {
      "cell_type": "code",
      "source": [
        "def plot_stock():\n",
        "        # Fetch stock data using ticker.value\n",
        "        stock_data = yf.download(ticker.value, period='1y', interval='1d')\n",
        "\n",
        "        # ... (rest of your plotting code remains the same) ..."
      ],
      "metadata": {
        "id": "Si1bnIJXGxRd"
      },
      "execution_count": 24,
      "outputs": []
    },
    {
      "cell_type": "code",
      "source": [
        "def plot_stock():\n",
        "    # Fetch stock data using ticker.value\n",
        "    stock_data = yf.download(ticker.value, period='1y', interval='1d')\n",
        "\n",
        "    # ... (rest of your plotting code) ...\n",
        "\n",
        "    # Corrected indentation:\n",
        "    mr.display(fig)  # Display using Mercury"
      ],
      "metadata": {
        "id": "iwUz07dQIIjE"
      },
      "execution_count": 25,
      "outputs": []
    }
  ],
  "metadata": {
    "colab": {
      "toc_visible": true,
      "provenance": []
    },
    "kernelspec": {
      "display_name": "Python 3",
      "name": "python3"
    },
    "widgets": {
      "application/vnd.jupyter.widget-state+json": {
        "bb6cae1fac354cadbdf4b57fd4e4fb3b": {
          "model_module": "@jupyter-widgets/controls",
          "model_name": "DropdownModel",
          "model_module_version": "2.0.0",
          "state": {
            "_dom_classes": [],
            "_model_module": "@jupyter-widgets/controls",
            "_model_module_version": "2.0.0",
            "_model_name": "DropdownModel",
            "_options_labels": [
              "Balmlawire",
              "castrolind",
              "GPIL",
              "UNION BANK",
              "GUJTLRM"
            ],
            "_view_count": null,
            "_view_module": "@jupyter-widgets/controls",
            "_view_module_version": "2.0.0",
            "_view_name": "DropdownView",
            "description": "Please select ticker",
            "description_allow_html": false,
            "disabled": false,
            "index": 0,
            "layout": "IPY_MODEL_e27b7103796848829f953d004621691b",
            "style": "IPY_MODEL_7984487ecbaf4adca4f6544c8c22e0af",
            "tabbable": null,
            "tooltip": null
          }
        },
        "e27b7103796848829f953d004621691b": {
          "model_module": "@jupyter-widgets/base",
          "model_name": "LayoutModel",
          "model_module_version": "2.0.0",
          "state": {
            "_model_module": "@jupyter-widgets/base",
            "_model_module_version": "2.0.0",
            "_model_name": "LayoutModel",
            "_view_count": null,
            "_view_module": "@jupyter-widgets/base",
            "_view_module_version": "2.0.0",
            "_view_name": "LayoutView",
            "align_content": null,
            "align_items": null,
            "align_self": null,
            "border_bottom": null,
            "border_left": null,
            "border_right": null,
            "border_top": null,
            "bottom": null,
            "display": null,
            "flex": null,
            "flex_flow": null,
            "grid_area": null,
            "grid_auto_columns": null,
            "grid_auto_flow": null,
            "grid_auto_rows": null,
            "grid_column": null,
            "grid_gap": null,
            "grid_row": null,
            "grid_template_areas": null,
            "grid_template_columns": null,
            "grid_template_rows": null,
            "height": null,
            "justify_content": null,
            "justify_items": null,
            "left": null,
            "margin": null,
            "max_height": null,
            "max_width": null,
            "min_height": null,
            "min_width": null,
            "object_fit": null,
            "object_position": null,
            "order": null,
            "overflow": null,
            "padding": null,
            "right": null,
            "top": null,
            "visibility": null,
            "width": null
          }
        },
        "7984487ecbaf4adca4f6544c8c22e0af": {
          "model_module": "@jupyter-widgets/controls",
          "model_name": "DescriptionStyleModel",
          "model_module_version": "2.0.0",
          "state": {
            "_model_module": "@jupyter-widgets/controls",
            "_model_module_version": "2.0.0",
            "_model_name": "DescriptionStyleModel",
            "_view_count": null,
            "_view_module": "@jupyter-widgets/base",
            "_view_module_version": "2.0.0",
            "_view_name": "StyleView",
            "description_width": "initial"
          }
        },
        "d4642e11f90848a083c062e47f2191ce": {
          "model_module": "@jupyter-widgets/controls",
          "model_name": "BoundedFloatTextModel",
          "model_module_version": "2.0.0",
          "state": {
            "_dom_classes": [],
            "_model_module": "@jupyter-widgets/controls",
            "_model_module_version": "2.0.0",
            "_model_name": "BoundedFloatTextModel",
            "_view_count": null,
            "_view_module": "@jupyter-widgets/controls",
            "_view_module_version": "2.0.0",
            "_view_name": "FloatTextView",
            "continuous_update": false,
            "description": "Past Month(s)",
            "description_allow_html": false,
            "disabled": false,
            "layout": "IPY_MODEL_8b8c95ce3df04964bb938a6788bd4170",
            "max": 12,
            "min": 1,
            "step": 1,
            "style": "IPY_MODEL_2361284e12e4490da0e3c6056c8b3e73",
            "tabbable": null,
            "tooltip": null,
            "value": 3
          }
        },
        "8b8c95ce3df04964bb938a6788bd4170": {
          "model_module": "@jupyter-widgets/base",
          "model_name": "LayoutModel",
          "model_module_version": "2.0.0",
          "state": {
            "_model_module": "@jupyter-widgets/base",
            "_model_module_version": "2.0.0",
            "_model_name": "LayoutModel",
            "_view_count": null,
            "_view_module": "@jupyter-widgets/base",
            "_view_module_version": "2.0.0",
            "_view_name": "LayoutView",
            "align_content": null,
            "align_items": null,
            "align_self": null,
            "border_bottom": null,
            "border_left": null,
            "border_right": null,
            "border_top": null,
            "bottom": null,
            "display": null,
            "flex": null,
            "flex_flow": null,
            "grid_area": null,
            "grid_auto_columns": null,
            "grid_auto_flow": null,
            "grid_auto_rows": null,
            "grid_column": null,
            "grid_gap": null,
            "grid_row": null,
            "grid_template_areas": null,
            "grid_template_columns": null,
            "grid_template_rows": null,
            "height": null,
            "justify_content": null,
            "justify_items": null,
            "left": null,
            "margin": null,
            "max_height": null,
            "max_width": null,
            "min_height": null,
            "min_width": null,
            "object_fit": null,
            "object_position": null,
            "order": null,
            "overflow": null,
            "padding": null,
            "right": null,
            "top": null,
            "visibility": null,
            "width": null
          }
        },
        "2361284e12e4490da0e3c6056c8b3e73": {
          "model_module": "@jupyter-widgets/controls",
          "model_name": "DescriptionStyleModel",
          "model_module_version": "2.0.0",
          "state": {
            "_model_module": "@jupyter-widgets/controls",
            "_model_module_version": "2.0.0",
            "_model_name": "DescriptionStyleModel",
            "_view_count": null,
            "_view_module": "@jupyter-widgets/base",
            "_view_module_version": "2.0.0",
            "_view_name": "StyleView",
            "description_width": "initial"
          }
        },
        "d67455160a9c44b586d3a0b16b3aba11": {
          "model_module": "@jupyter-widgets/controls",
          "model_name": "VBoxModel",
          "model_module_version": "2.0.0",
          "state": {
            "_dom_classes": [
              "widget-interact"
            ],
            "_model_module": "@jupyter-widgets/controls",
            "_model_module_version": "2.0.0",
            "_model_name": "VBoxModel",
            "_view_count": null,
            "_view_module": "@jupyter-widgets/controls",
            "_view_module_version": "2.0.0",
            "_view_name": "VBoxView",
            "box_style": "",
            "children": [
              "IPY_MODEL_980c501fa7eb482c8ff46d270fc445bf",
              "IPY_MODEL_77df533528d7419ca89fefec33de8f43"
            ],
            "layout": "IPY_MODEL_e4b9e6b33ea4409d8774a92fdcd77a40",
            "tabbable": null,
            "tooltip": null
          }
        },
        "980c501fa7eb482c8ff46d270fc445bf": {
          "model_module": "@jupyter-widgets/controls",
          "model_name": "DropdownModel",
          "model_module_version": "2.0.0",
          "state": {
            "_dom_classes": [],
            "_model_module": "@jupyter-widgets/controls",
            "_model_module_version": "2.0.0",
            "_model_name": "DropdownModel",
            "_options_labels": [
              "BALMLAWREE.BO",
              "CASTROLIND.BO",
              "GPIL.BO",
              "UNIONBANK.BO",
              "GUJTLRM.BO"
            ],
            "_view_count": null,
            "_view_module": "@jupyter-widgets/controls",
            "_view_module_version": "2.0.0",
            "_view_name": "DropdownView",
            "description": "Select Stock:",
            "description_allow_html": false,
            "disabled": false,
            "index": 2,
            "layout": "IPY_MODEL_f660d5827fcb41fd8927e3b0c2489efe",
            "style": "IPY_MODEL_7d5dc153713244b58153cfa9aa292a61",
            "tabbable": null,
            "tooltip": null
          }
        },
        "77df533528d7419ca89fefec33de8f43": {
          "model_module": "@jupyter-widgets/output",
          "model_name": "OutputModel",
          "model_module_version": "1.0.0",
          "state": {
            "_dom_classes": [],
            "_model_module": "@jupyter-widgets/output",
            "_model_module_version": "1.0.0",
            "_model_name": "OutputModel",
            "_view_count": null,
            "_view_module": "@jupyter-widgets/output",
            "_view_module_version": "1.0.0",
            "_view_name": "OutputView",
            "layout": "IPY_MODEL_060943af5f4042fea2c52d581db6877f",
            "msg_id": "",
            "outputs": [
              {
                "output_type": "stream",
                "name": "stderr",
                "text": [
                  "\r[*********************100%***********************]  1 of 1 completed"
                ]
              },
              {
                "output_type": "stream",
                "name": "stderr",
                "text": [
                  "\n"
                ]
              },
              {
                "output_type": "display_data",
                "data": {
                  "application/vnd.plotly.v1+json": {
                    "data": [
                      {
                        "close": [
                          [
                            144.2530975341797
                          ],
                          [
                            141.52420043945312
                          ],
                          [
                            136.48255920410156
                          ],
                          [
                            133.60853576660156
                          ],
                          [
                            134.3052520751953
                          ],
                          [
                            135.22457885742188
                          ],
                          [
                            130.27969360351562
                          ],
                          [
                            128.82815551757812
                          ],
                          [
                            128.61526489257812
                          ],
                          [
                            130.56031799316406
                          ],
                          [
                            131.97314453125
                          ],
                          [
                            131.3828582763672
                          ],
                          [
                            141.49517822265625
                          ],
                          [
                            146.76907348632812
                          ],
                          [
                            144.2917938232422
                          ],
                          [
                            145.23045349121094
                          ],
                          [
                            144.7175750732422
                          ],
                          [
                            144.3111572265625
                          ],
                          [
                            146.9529266357422
                          ],
                          [
                            144.8336944580078
                          ],
                          [
                            146.3916778564453
                          ],
                          [
                            156.09756469726562
                          ],
                          [
                            158.41033935546875
                          ],
                          [
                            158.91354370117188
                          ],
                          [
                            163.85842895507812
                          ],
                          [
                            163.0842742919922
                          ],
                          [
                            168.2613983154297
                          ],
                          [
                            170.79673767089844
                          ],
                          [
                            167.54530334472656
                          ],
                          [
                            173.36109924316406
                          ],
                          [
                            175.54808044433594
                          ],
                          [
                            172.1514892578125
                          ],
                          [
                            168.88072204589844
                          ],
                          [
                            172.00634765625
                          ],
                          [
                            175.14166259765625
                          ],
                          [
                            178.64468383789062
                          ],
                          [
                            174.5223388671875
                          ],
                          [
                            171.92892456054688
                          ],
                          [
                            175.85772705078125
                          ],
                          [
                            168.77427673339844
                          ],
                          [
                            175.7416229248047
                          ],
                          [
                            173.14820861816406
                          ],
                          [
                            173.85462951660156
                          ],
                          [
                            176.95123291015625
                          ],
                          [
                            174.44491577148438
                          ],
                          [
                            175.94483947753906
                          ],
                          [
                            180.73487854003906
                          ],
                          [
                            183.4734344482422
                          ],
                          [
                            184.915283203125
                          ],
                          [
                            178.98336791992188
                          ],
                          [
                            173.68043518066406
                          ],
                          [
                            170.58384704589844
                          ],
                          [
                            177.0770263671875
                          ],
                          [
                            176.00289916992188
                          ],
                          [
                            187.10226440429688
                          ],
                          [
                            189.4730987548828
                          ],
                          [
                            181.59613037109375
                          ],
                          [
                            179.53494262695312
                          ],
                          [
                            180.24134826660156
                          ],
                          [
                            188.67958068847656
                          ],
                          [
                            202.75942993164062
                          ],
                          [
                            203.48519897460938
                          ],
                          [
                            203.48519897460938
                          ],
                          [
                            205.66249084472656
                          ],
                          [
                            208.6719970703125
                          ],
                          [
                            210.7041473388672
                          ],
                          [
                            214.83616638183594
                          ],
                          [
                            210.6751251220703
                          ],
                          [
                            219.92620849609375
                          ],
                          [
                            219.35525512695312
                          ],
                          [
                            217.0908660888672
                          ],
                          [
                            214.08135986328125
                          ],
                          [
                            205.83668518066406
                          ],
                          [
                            205.8850555419922
                          ],
                          [
                            210.98477172851562
                          ],
                          [
                            210.15255737304688
                          ],
                          [
                            214.3426513671875
                          ],
                          [
                            214.6619873046875
                          ],
                          [
                            214.33297729492188
                          ],
                          [
                            210.98477172851562
                          ],
                          [
                            223.07118225097656
                          ],
                          [
                            222.500244140625
                          ],
                          [
                            221.222900390625
                          ],
                          [
                            221.968017578125
                          ],
                          [
                            216.08448791503906
                          ],
                          [
                            223.02279663085938
                          ],
                          [
                            217.7005157470703
                          ],
                          [
                            210.87832641601562
                          ],
                          [
                            208.01397705078125
                          ],
                          [
                            206.049560546875
                          ],
                          [
                            204.43353271484375
                          ],
                          [
                            202.93362426757812
                          ],
                          [
                            201.685302734375
                          ],
                          [
                            212.49435424804688
                          ],
                          [
                            214.54586791992188
                          ],
                          [
                            217.08120727539062
                          ],
                          [
                            216.69412231445312
                          ],
                          [
                            216.2586669921875
                          ],
                          [
                            208.31396484375
                          ],
                          [
                            215.94900512695312
                          ],
                          [
                            222.31639099121094
                          ],
                          [
                            218.27145385742188
                          ],
                          [
                            213.59751892089844
                          ],
                          [
                            204.46255493164062
                          ],
                          [
                            195.8017578125
                          ],
                          [
                            187.1699981689453
                          ],
                          [
                            197.82000732421875
                          ],
                          [
                            198.80999755859375
                          ],
                          [
                            192.55999755859375
                          ],
                          [
                            190.05999755859375
                          ],
                          [
                            191.52000427246094
                          ],
                          [
                            196.0500030517578
                          ],
                          [
                            193.0500030517578
                          ],
                          [
                            189.02000427246094
                          ],
                          [
                            186.07000732421875
                          ],
                          [
                            185.57000732421875
                          ],
                          [
                            189.85000610351562
                          ],
                          [
                            185.02000427246094
                          ],
                          [
                            184.86000061035156
                          ],
                          [
                            190.5399932861328
                          ],
                          [
                            186.33999633789062
                          ],
                          [
                            185.8800048828125
                          ],
                          [
                            182.22999572753906
                          ],
                          [
                            183.8000030517578
                          ],
                          [
                            182.6999969482422
                          ],
                          [
                            182.6300048828125
                          ],
                          [
                            189.77999877929688
                          ],
                          [
                            188.6999969482422
                          ],
                          [
                            188.2100067138672
                          ],
                          [
                            185.22000122070312
                          ],
                          [
                            186.94000244140625
                          ],
                          [
                            187.49000549316406
                          ],
                          [
                            197.72000122070312
                          ],
                          [
                            208.19000244140625
                          ],
                          [
                            212.6699981689453
                          ],
                          [
                            212.6300048828125
                          ],
                          [
                            211.3000030517578
                          ],
                          [
                            222.14999389648438
                          ],
                          [
                            213.94000244140625
                          ],
                          [
                            208.77000427246094
                          ],
                          [
                            206.60000610351562
                          ],
                          [
                            192
                          ],
                          [
                            191.35000610351562
                          ],
                          [
                            194.3000030517578
                          ],
                          [
                            193.39999389648438
                          ],
                          [
                            190.9499969482422
                          ],
                          [
                            189.3000030517578
                          ],
                          [
                            189.64999389648438
                          ],
                          [
                            187.3000030517578
                          ],
                          [
                            187.4499969482422
                          ],
                          [
                            186.1999969482422
                          ],
                          [
                            193.5
                          ],
                          [
                            185.4499969482422
                          ],
                          [
                            186.10000610351562
                          ],
                          [
                            179.3000030517578
                          ],
                          [
                            173.60000610351562
                          ],
                          [
                            173.0500030517578
                          ],
                          [
                            173.39999389648438
                          ],
                          [
                            195.39999389648438
                          ],
                          [
                            198.3000030517578
                          ],
                          [
                            197.25
                          ],
                          [
                            204.6999969482422
                          ],
                          [
                            205.3000030517578
                          ],
                          [
                            202.39999389648438
                          ],
                          [
                            197.1999969482422
                          ],
                          [
                            195.25
                          ],
                          [
                            185.4499969482422
                          ],
                          [
                            185.35000610351562
                          ],
                          [
                            187.14999389648438
                          ],
                          [
                            186
                          ],
                          [
                            181.14999389648438
                          ],
                          [
                            182.75
                          ],
                          [
                            185.5500030517578
                          ],
                          [
                            187.1999969482422
                          ],
                          [
                            188.75
                          ],
                          [
                            189.5
                          ],
                          [
                            188.35000610351562
                          ],
                          [
                            192.5
                          ],
                          [
                            197.8000030517578
                          ],
                          [
                            204.64999389648438
                          ],
                          [
                            205.75
                          ],
                          [
                            214.60000610351562
                          ],
                          [
                            221.6999969482422
                          ],
                          [
                            230.39999389648438
                          ],
                          [
                            234.10000610351562
                          ],
                          [
                            235.85000610351562
                          ],
                          [
                            233.35000610351562
                          ],
                          [
                            233.35000610351562
                          ],
                          [
                            229.64999389648438
                          ],
                          [
                            222.75
                          ],
                          [
                            221.5
                          ],
                          [
                            218.75
                          ],
                          [
                            214.35000610351562
                          ],
                          [
                            212.8000030517578
                          ],
                          [
                            207.25
                          ],
                          [
                            207.3000030517578
                          ],
                          [
                            199.35000610351562
                          ],
                          [
                            202.8000030517578
                          ],
                          [
                            213.14999389648438
                          ],
                          [
                            207.60000610351562
                          ],
                          [
                            208.5
                          ],
                          [
                            201.5
                          ],
                          [
                            206.60000610351562
                          ],
                          [
                            202.35000610351562
                          ],
                          [
                            197.14999389648438
                          ],
                          [
                            193.64999389648438
                          ],
                          [
                            181.89999389648438
                          ],
                          [
                            185.85000610351562
                          ],
                          [
                            185.4499969482422
                          ],
                          [
                            185.89999389648438
                          ],
                          [
                            186.6999969482422
                          ],
                          [
                            189.4499969482422
                          ],
                          [
                            187.75
                          ],
                          [
                            183.10000610351562
                          ],
                          [
                            181.9499969482422
                          ],
                          [
                            177.25
                          ],
                          [
                            170.8000030517578
                          ],
                          [
                            167.89999389648438
                          ],
                          [
                            177.35000610351562
                          ],
                          [
                            176.60000610351562
                          ],
                          [
                            180.25
                          ],
                          [
                            185.39999389648438
                          ],
                          [
                            177.85000610351562
                          ],
                          [
                            182.0500030517578
                          ],
                          [
                            184
                          ],
                          [
                            187.75
                          ],
                          [
                            186.9499969482422
                          ],
                          [
                            184.85000610351562
                          ],
                          [
                            176.4499969482422
                          ],
                          [
                            175.64999389648438
                          ],
                          [
                            173.0500030517578
                          ],
                          [
                            169.39999389648438
                          ],
                          [
                            175.39999389648438
                          ],
                          [
                            180.60000610351562
                          ],
                          [
                            175.14999389648438
                          ],
                          [
                            171.85000610351562
                          ],
                          [
                            173.10000610351562
                          ],
                          [
                            170.9499969482422
                          ],
                          [
                            168.35000610351562
                          ],
                          [
                            163.5
                          ],
                          [
                            156
                          ],
                          [
                            150.89999389648438
                          ],
                          [
                            153.9499969482422
                          ],
                          [
                            163.89999389648438
                          ],
                          [
                            182
                          ],
                          [
                            178.8000030517578
                          ]
                        ],
                        "high": [
                          [
                            146.92390814145682
                          ],
                          [
                            146.85614961556072
                          ],
                          [
                            143.2176667878008
                          ],
                          [
                            138.18569061424907
                          ],
                          [
                            137.83731795450643
                          ],
                          [
                            138.76630185017106
                          ],
                          [
                            136.3083789269804
                          ],
                          [
                            132.5440694908418
                          ],
                          [
                            132.06989932571628
                          ],
                          [
                            132.4279614343632
                          ],
                          [
                            133.97624874190194
                          ],
                          [
                            134.12141405298166
                          ],
                          [
                            144.12728774444676
                          ],
                          [
                            149.7011636747037
                          ],
                          [
                            148.54961026436808
                          ],
                          [
                            146.29490023472613
                          ],
                          [
                            146.9238999664326
                          ],
                          [
                            147.06905612967586
                          ],
                          [
                            148.50123151261337
                          ],
                          [
                            149.85599175894353
                          ],
                          [
                            148.02707113364838
                          ],
                          [
                            159.45543927569372
                          ],
                          [
                            163.10362663131957
                          ],
                          [
                            162.18433014412852
                          ],
                          [
                            166.16152856404267
                          ],
                          [
                            167.79690483400128
                          ],
                          [
                            170.31288976253575
                          ],
                          [
                            174.95779428968112
                          ],
                          [
                            171.6676440771441
                          ],
                          [
                            174.15460957504914
                          ],
                          [
                            177.0286401894755
                          ],
                          [
                            176.72865881058948
                          ],
                          [
                            174.14494114826473
                          ],
                          [
                            175.32550665849374
                          ],
                          [
                            178.27695879758946
                          ],
                          [
                            181.3348523084787
                          ],
                          [
                            179.3898028081542
                          ],
                          [
                            177.02863850399007
                          ],
                          [
                            177.94793418978003
                          ],
                          [
                            177.2512087099842
                          ],
                          [
                            176.50608909813263
                          ],
                          [
                            175.7416171687034
                          ],
                          [
                            176.10934173331097
                          ],
                          [
                            178.78983217397825
                          ],
                          [
                            179.97039951714135
                          ],
                          [
                            177.8221396628009
                          ],
                          [
                            183.7637283638267
                          ],
                          [
                            186.32810773032176
                          ],
                          [
                            185.78621025855554
                          ],
                          [
                            187.50868678435495
                          ],
                          [
                            182.4863915982504
                          ],
                          [
                            176.11901734367228
                          ],
                          [
                            178.5962870810015
                          ],
                          [
                            177.30926763344712
                          ],
                          [
                            189.5505110327098
                          ],
                          [
                            197.39845686109845
                          ],
                          [
                            191.78587242489692
                          ],
                          [
                            191.07945458817017
                          ],
                          [
                            186.57002856605553
                          ],
                          [
                            189.37631641211095
                          ],
                          [
                            210.19127281693642
                          ],
                          [
                            205.67216604030594
                          ],
                          [
                            206.2237546576683
                          ],
                          [
                            208.1881541850279
                          ],
                          [
                            212.89111243464652
                          ],
                          [
                            228.36443296357317
                          ],
                          [
                            216.51994692723474
                          ],
                          [
                            217.7198846940666
                          ],
                          [
                            221.0971013901203
                          ],
                          [
                            224.2711062549801
                          ],
                          [
                            222.7228106876146
                          ],
                          [
                            219.63588775430313
                          ],
                          [
                            216.18124564722277
                          ],
                          [
                            210.60737224759242
                          ],
                          [
                            211.9814880452945
                          ],
                          [
                            215.21355560696227
                          ],
                          [
                            215.8232111637701
                          ],
                          [
                            218.50370548799802
                          ],
                          [
                            216.7618661039054
                          ],
                          [
                            218.3682274341555
                          ],
                          [
                            231.22877550839718
                          ],
                          [
                            226.05166809435735
                          ],
                          [
                            222.70346015024404
                          ],
                          [
                            223.51630770100883
                          ],
                          [
                            222.22929087605775
                          ],
                          [
                            236.6865306646593
                          ],
                          [
                            222.91634737189085
                          ],
                          [
                            217.72955140546176
                          ],
                          [
                            212.891112401606
                          ],
                          [
                            208.4494346438155
                          ],
                          [
                            214.90391224152194
                          ],
                          [
                            207.12369550885526
                          ],
                          [
                            206.99790915232842
                          ],
                          [
                            216.76185684852737
                          ],
                          [
                            219.57783681919386
                          ],
                          [
                            220.2939201529618
                          ],
                          [
                            221.20354685145549
                          ],
                          [
                            218.69724214520224
                          ],
                          [
                            210.7234957948823
                          ],
                          [
                            217.91340828882906
                          ],
                          [
                            224.58077476562488
                          ],
                          [
                            225.66458115081613
                          ],
                          [
                            222.37444592921892
                          ],
                          [
                            213.91685990923236
                          ],
                          [
                            206.31083781564848
                          ],
                          [
                            199.91443285254712
                          ],
                          [
                            200.38999938964844
                          ],
                          [
                            201.57000732421875
                          ],
                          [
                            200.7899932861328
                          ],
                          [
                            193.8300018310547
                          ],
                          [
                            196.00999450683594
                          ],
                          [
                            200.14999389648438
                          ],
                          [
                            200.52000427246094
                          ],
                          [
                            195.32000732421875
                          ],
                          [
                            192.11000061035156
                          ],
                          [
                            188.8000030517578
                          ],
                          [
                            191.9199981689453
                          ],
                          [
                            190.58999633789062
                          ],
                          [
                            189.77999877929688
                          ],
                          [
                            191.58999633789062
                          ],
                          [
                            192.4199981689453
                          ],
                          [
                            188.02000427246094
                          ],
                          [
                            187.94000244140625
                          ],
                          [
                            185.16000366210938
                          ],
                          [
                            184.77000427246094
                          ],
                          [
                            184.92999267578125
                          ],
                          [
                            191.11000061035156
                          ],
                          [
                            191.8699951171875
                          ],
                          [
                            189.9499969482422
                          ],
                          [
                            189.44000244140625
                          ],
                          [
                            188.3300018310547
                          ],
                          [
                            189.80999755859375
                          ],
                          [
                            199
                          ],
                          [
                            214
                          ],
                          [
                            214.63999938964844
                          ],
                          [
                            213.9600067138672
                          ],
                          [
                            218
                          ],
                          [
                            224.39999389648438
                          ],
                          [
                            223.8000030517578
                          ],
                          [
                            216.8000030517578
                          ],
                          [
                            215.35000610351562
                          ],
                          [
                            205.9499969482422
                          ],
                          [
                            194.75
                          ],
                          [
                            198.9499969482422
                          ],
                          [
                            198.5500030517578
                          ],
                          [
                            195.9499969482422
                          ],
                          [
                            193
                          ],
                          [
                            193.6999969482422
                          ],
                          [
                            190.14999389648438
                          ],
                          [
                            191.5
                          ],
                          [
                            190.85000610351562
                          ],
                          [
                            195.5
                          ],
                          [
                            196.0500030517578
                          ],
                          [
                            186.85000610351562
                          ],
                          [
                            189.85000610351562
                          ],
                          [
                            181.35000610351562
                          ],
                          [
                            175
                          ],
                          [
                            174.5500030517578
                          ],
                          [
                            196.85000610351562
                          ],
                          [
                            201.0500030517578
                          ],
                          [
                            201.64999389648438
                          ],
                          [
                            206.3000030517578
                          ],
                          [
                            207.1999969482422
                          ],
                          [
                            208.25
                          ],
                          [
                            202.4499969482422
                          ],
                          [
                            200.5
                          ],
                          [
                            195.1999969482422
                          ],
                          [
                            189
                          ],
                          [
                            189.0500030517578
                          ],
                          [
                            192.64999389648438
                          ],
                          [
                            191.14999389648438
                          ],
                          [
                            184.85000610351562
                          ],
                          [
                            188
                          ],
                          [
                            188
                          ],
                          [
                            189.9499969482422
                          ],
                          [
                            192.39999389648438
                          ],
                          [
                            190.39999389648438
                          ],
                          [
                            193.1999969482422
                          ],
                          [
                            202.35000610351562
                          ],
                          [
                            205.39999389648438
                          ],
                          [
                            208.64999389648438
                          ],
                          [
                            221.3000030517578
                          ],
                          [
                            224
                          ],
                          [
                            234.89999389648438
                          ],
                          [
                            237.75
                          ],
                          [
                            253.60000610351562
                          ],
                          [
                            236.9499969482422
                          ],
                          [
                            237.89999389648438
                          ],
                          [
                            235.85000610351562
                          ],
                          [
                            229.5
                          ],
                          [
                            223.1999969482422
                          ],
                          [
                            225.8000030517578
                          ],
                          [
                            222.10000610351562
                          ],
                          [
                            220
                          ],
                          [
                            213.89999389648438
                          ],
                          [
                            210.39999389648438
                          ],
                          [
                            209.10000610351562
                          ],
                          [
                            204.0500030517578
                          ],
                          [
                            214.35000610351562
                          ],
                          [
                            214.39999389648438
                          ],
                          [
                            212.6999969482422
                          ],
                          [
                            208.5
                          ],
                          [
                            208.10000610351562
                          ],
                          [
                            207.9499969482422
                          ],
                          [
                            202.3000030517578
                          ],
                          [
                            198.85000610351562
                          ],
                          [
                            191.9499969482422
                          ],
                          [
                            186.89999389648438
                          ],
                          [
                            189.6999969482422
                          ],
                          [
                            190.14999389648438
                          ],
                          [
                            187.5500030517578
                          ],
                          [
                            190.9499969482422
                          ],
                          [
                            197.5500030517578
                          ],
                          [
                            190.10000610351562
                          ],
                          [
                            186.6999969482422
                          ],
                          [
                            185.60000610351562
                          ],
                          [
                            177.25
                          ],
                          [
                            173.1999969482422
                          ],
                          [
                            178.64999389648438
                          ],
                          [
                            180.6999969482422
                          ],
                          [
                            181.39999389648438
                          ],
                          [
                            187.75
                          ],
                          [
                            182.9499969482422
                          ],
                          [
                            182.75
                          ],
                          [
                            185.89999389648438
                          ],
                          [
                            189.3000030517578
                          ],
                          [
                            189.9499969482422
                          ],
                          [
                            188
                          ],
                          [
                            187.9499969482422
                          ],
                          [
                            179.3000030517578
                          ],
                          [
                            174
                          ],
                          [
                            178.35000610351562
                          ],
                          [
                            175.89999389648438
                          ],
                          [
                            181.75
                          ],
                          [
                            180.60000610351562
                          ],
                          [
                            175.39999389648438
                          ],
                          [
                            175.35000610351562
                          ],
                          [
                            173.10000610351562
                          ],
                          [
                            172.8000030517578
                          ],
                          [
                            170
                          ],
                          [
                            163.89999389648438
                          ],
                          [
                            158.89999389648438
                          ],
                          [
                            156.35000610351562
                          ],
                          [
                            165
                          ],
                          [
                            189.39999389648438
                          ],
                          [
                            183
                          ]
                        ],
                        "low": [
                          [
                            143.02413100045115
                          ],
                          [
                            140.31459188868857
                          ],
                          [
                            135.5729458858254
                          ],
                          [
                            128.5475227090324
                          ],
                          [
                            131.52799552706807
                          ],
                          [
                            131.60542437154135
                          ],
                          [
                            128.8765357694368
                          ],
                          [
                            128.17980709769068
                          ],
                          [
                            127.34759746074583
                          ],
                          [
                            129.8829400996193
                          ],
                          [
                            130.54095728375464
                          ],
                          [
                            130.63773520781433
                          ],
                          [
                            131.61508857984066
                          ],
                          [
                            141.62098674653674
                          ],
                          [
                            143.7015042253573
                          ],
                          [
                            144.4176000290945
                          ],
                          [
                            144.18534433897918
                          ],
                          [
                            142.62737664534146
                          ],
                          [
                            141.29195261826956
                          ],
                          [
                            143.91439486943938
                          ],
                          [
                            145.05626516557308
                          ],
                          [
                            148.607677866614
                          ],
                          [
                            156.67818633661463
                          ],
                          [
                            151.82039696112588
                          ],
                          [
                            158.2942291304555
                          ],
                          [
                            162.1940041037814
                          ],
                          [
                            160.3844277545416
                          ],
                          [
                            168.8613638729279
                          ],
                          [
                            166.97437163771124
                          ],
                          [
                            167.47757598633
                          ],
                          [
                            167.62272253462993
                          ],
                          [
                            171.106400426038
                          ],
                          [
                            168.377520723126
                          ],
                          [
                            169.17103210732907
                          ],
                          [
                            171.5999248936947
                          ],
                          [
                            175.25777959995435
                          ],
                          [
                            173.4094900692684
                          ],
                          [
                            170.22580098362738
                          ],
                          [
                            170.69995437030934
                          ],
                          [
                            168.47429615520787
                          ],
                          [
                            166.30667541223264
                          ],
                          [
                            170.2451479401495
                          ],
                          [
                            173.12886435195935
                          ],
                          [
                            175.32551118682255
                          ],
                          [
                            174.18363618280583
                          ],
                          [
                            172.838558027522
                          ],
                          [
                            177.4157049400771
                          ],
                          [
                            180.0187852726394
                          ],
                          [
                            181.25742796121483
                          ],
                          [
                            177.90923491590854
                          ],
                          [
                            173.23530748956117
                          ],
                          [
                            168.95814012719975
                          ],
                          [
                            169.3645608010958
                          ],
                          [
                            175.15132996769714
                          ],
                          [
                            175.19971281124677
                          ],
                          [
                            187.5667543727591
                          ],
                          [
                            171.68701102627304
                          ],
                          [
                            171.7257173156847
                          ],
                          [
                            178.2479157081505
                          ],
                          [
                            178.24791747138303
                          ],
                          [
                            195.5791950841529
                          ],
                          [
                            200.3208586954946
                          ],
                          [
                            201.2788740366202
                          ],
                          [
                            202.74007234096976
                          ],
                          [
                            206.29148086162212
                          ],
                          [
                            209.81387717789292
                          ],
                          [
                            208.3429954601121
                          ],
                          [
                            209.99773246782678
                          ],
                          [
                            210.53964840832646
                          ],
                          [
                            215.92965006467483
                          ],
                          [
                            216.0070615333954
                          ],
                          [
                            211.13959830635355
                          ],
                          [
                            205.20767984177303
                          ],
                          [
                            203.60131391158077
                          ],
                          [
                            207.13338203555273
                          ],
                          [
                            209.71710123140434
                          ],
                          [
                            211.4008896466992
                          ],
                          [
                            213.31690310114735
                          ],
                          [
                            213.31690309441376
                          ],
                          [
                            210.76220787792144
                          ],
                          [
                            206.46567195516087
                          ],
                          [
                            214.58457230395314
                          ],
                          [
                            218.21339357376777
                          ],
                          [
                            218.7649764209638
                          ],
                          [
                            215.03938429022332
                          ],
                          [
                            217.5747147661492
                          ],
                          [
                            215.33935742802342
                          ],
                          [
                            209.6106589459051
                          ],
                          [
                            205.56571567369127
                          ],
                          [
                            201.27887130963455
                          ],
                          [
                            202.633634459078
                          ],
                          [
                            198.95643055770137
                          ],
                          [
                            200.8918071513748
                          ],
                          [
                            203.21424079549442
                          ],
                          [
                            212.8911168330708
                          ],
                          [
                            213.66527364887762
                          ],
                          [
                            215.98771500571263
                          ],
                          [
                            212.89112067232077
                          ],
                          [
                            201.72401936202178
                          ],
                          [
                            209.98805047297733
                          ],
                          [
                            214.65231260922747
                          ],
                          [
                            217.72955155828254
                          ],
                          [
                            212.8911116394084
                          ],
                          [
                            204.18193223260232
                          ],
                          [
                            195.5017772451935
                          ],
                          [
                            186.182953397897
                          ],
                          [
                            192.33999633789062
                          ],
                          [
                            197
                          ],
                          [
                            192.11000061035156
                          ],
                          [
                            189.00999450683594
                          ],
                          [
                            190.50999450683594
                          ],
                          [
                            192.07000732421875
                          ],
                          [
                            192.60000610351562
                          ],
                          [
                            188.10000610351562
                          ],
                          [
                            185.3300018310547
                          ],
                          [
                            184.00999450683594
                          ],
                          [
                            184.6999969482422
                          ],
                          [
                            184.44000244140625
                          ],
                          [
                            183.94000244140625
                          ],
                          [
                            184.1999969482422
                          ],
                          [
                            186
                          ],
                          [
                            184.60000610351562
                          ],
                          [
                            181.1999969482422
                          ],
                          [
                            181.4499969482422
                          ],
                          [
                            182.1699981689453
                          ],
                          [
                            180.47000122070312
                          ],
                          [
                            182.6300048828125
                          ],
                          [
                            186.42999267578125
                          ],
                          [
                            186.5500030517578
                          ],
                          [
                            184.8000030517578
                          ],
                          [
                            181.10000610351562
                          ],
                          [
                            186.63999938964844
                          ],
                          [
                            189.42999267578125
                          ],
                          [
                            198.6199951171875
                          ],
                          [
                            207.80999755859375
                          ],
                          [
                            207.50999450683594
                          ],
                          [
                            210.39999389648438
                          ],
                          [
                            213
                          ],
                          [
                            211.52999877929688
                          ],
                          [
                            207.63999938964844
                          ],
                          [
                            205.0500030517578
                          ],
                          [
                            190.10000610351562
                          ],
                          [
                            183.6999969482422
                          ],
                          [
                            188.5500030517578
                          ],
                          [
                            191.3000030517578
                          ],
                          [
                            188.60000610351562
                          ],
                          [
                            188.10000610351562
                          ],
                          [
                            186.60000610351562
                          ],
                          [
                            186.3000030517578
                          ],
                          [
                            186.10000610351562
                          ],
                          [
                            184
                          ],
                          [
                            182.89999389648438
                          ],
                          [
                            183.35000610351562
                          ],
                          [
                            177.89999389648438
                          ],
                          [
                            178.5
                          ],
                          [
                            172.0500030517578
                          ],
                          [
                            160.14999389648438
                          ],
                          [
                            170
                          ],
                          [
                            184.25
                          ],
                          [
                            196.4499969482422
                          ],
                          [
                            192
                          ],
                          [
                            195.89999389648438
                          ],
                          [
                            201.25
                          ],
                          [
                            198.64999389648438
                          ],
                          [
                            197
                          ],
                          [
                            194
                          ],
                          [
                            184.1999969482422
                          ],
                          [
                            184.6999969482422
                          ],
                          [
                            182.3000030517578
                          ],
                          [
                            184.4499969482422
                          ],
                          [
                            180.35000610351562
                          ],
                          [
                            180.5
                          ],
                          [
                            182
                          ],
                          [
                            183.89999389648438
                          ],
                          [
                            186.9499969482422
                          ],
                          [
                            187.89999389648438
                          ],
                          [
                            186.8000030517578
                          ],
                          [
                            185.64999389648438
                          ],
                          [
                            193.8000030517578
                          ],
                          [
                            196.10000610351562
                          ],
                          [
                            203.14999389648438
                          ],
                          [
                            205.8000030517578
                          ],
                          [
                            214.14999389648438
                          ],
                          [
                            222.35000610351562
                          ],
                          [
                            228.8000030517578
                          ],
                          [
                            233.35000610351562
                          ],
                          [
                            227.8000030517578
                          ],
                          [
                            230.85000610351562
                          ],
                          [
                            227.39999389648438
                          ],
                          [
                            221.9499969482422
                          ],
                          [
                            214.39999389648438
                          ],
                          [
                            218
                          ],
                          [
                            212.89999389648438
                          ],
                          [
                            209.85000610351562
                          ],
                          [
                            205.10000610351562
                          ],
                          [
                            206.3000030517578
                          ],
                          [
                            197.6999969482422
                          ],
                          [
                            198.9499969482422
                          ],
                          [
                            200
                          ],
                          [
                            206.8000030517578
                          ],
                          [
                            207.1999969482422
                          ],
                          [
                            199
                          ],
                          [
                            200.39999389648438
                          ],
                          [
                            200.64999389648438
                          ],
                          [
                            195.85000610351562
                          ],
                          [
                            191.25
                          ],
                          [
                            180.6999969482422
                          ],
                          [
                            180.5500030517578
                          ],
                          [
                            183.64999389648438
                          ],
                          [
                            185.64999389648438
                          ],
                          [
                            184.25
                          ],
                          [
                            186.25
                          ],
                          [
                            187
                          ],
                          [
                            179.39999389648438
                          ],
                          [
                            180.85000610351562
                          ],
                          [
                            176.39999389648438
                          ],
                          [
                            166.35000610351562
                          ],
                          [
                            161.5500030517578
                          ],
                          [
                            166
                          ],
                          [
                            175.64999389648438
                          ],
                          [
                            175.64999389648438
                          ],
                          [
                            179.4499969482422
                          ],
                          [
                            175.0500030517578
                          ],
                          [
                            177.1999969482422
                          ],
                          [
                            182.85000610351562
                          ],
                          [
                            183.10000610351562
                          ],
                          [
                            181
                          ],
                          [
                            182.3000030517578
                          ],
                          [
                            175
                          ],
                          [
                            170.6999969482422
                          ],
                          [
                            163.5
                          ],
                          [
                            164
                          ],
                          [
                            152.60000610351562
                          ],
                          [
                            172.3000030517578
                          ],
                          [
                            172.60000610351562
                          ],
                          [
                            170.6999969482422
                          ],
                          [
                            169.10000610351562
                          ],
                          [
                            169
                          ],
                          [
                            165.10000610351562
                          ],
                          [
                            162.5
                          ],
                          [
                            154.0500030517578
                          ],
                          [
                            145.5500030517578
                          ],
                          [
                            149.0500030517578
                          ],
                          [
                            153.6999969482422
                          ],
                          [
                            166.4499969482422
                          ],
                          [
                            176.5
                          ]
                        ],
                        "name": "GPIL.BO",
                        "open": [
                          [
                            143.6434500441269
                          ],
                          [
                            143.34345642483643
                          ],
                          [
                            142.1822346768517
                          ],
                          [
                            135.73744396789832
                          ],
                          [
                            133.92785479246817
                          ],
                          [
                            133.62788654053446
                          ],
                          [
                            135.28263316343924
                          ],
                          [
                            130.52160751102028
                          ],
                          [
                            128.05400473845967
                          ],
                          [
                            132.4279614343632
                          ],
                          [
                            130.78287900945895
                          ],
                          [
                            133.26017327816677
                          ],
                          [
                            131.61508857984066
                          ],
                          [
                            142.90799735718664
                          ],
                          [
                            146.60456491677866
                          ],
                          [
                            145.3852869408704
                          ],
                          [
                            145.52075695117912
                          ],
                          [
                            146.26587420237834
                          ],
                          [
                            143.6918266539929
                          ],
                          [
                            149.74954561085266
                          ],
                          [
                            145.8884765175219
                          ],
                          [
                            148.83024170954374
                          ],
                          [
                            157.04589731044038
                          ],
                          [
                            154.83957536032878
                          ],
                          [
                            158.8941902995549
                          ],
                          [
                            166.14216848132304
                          ],
                          [
                            162.48430649847617
                          ],
                          [
                            171.58056169655967
                          ],
                          [
                            170.39030509253814
                          ],
                          [
                            168.52266482648932
                          ],
                          [
                            173.1385347974764
                          ],
                          [
                            176.1190113539461
                          ],
                          [
                            174.14494114826473
                          ],
                          [
                            169.9258267132542
                          ],
                          [
                            172.9062933884233
                          ],
                          [
                            175.57711805713316
                          ],
                          [
                            179.3898028081542
                          ],
                          [
                            174.47394575574592
                          ],
                          [
                            170.69995437030934
                          ],
                          [
                            176.29319335786852
                          ],
                          [
                            168.77428002251298
                          ],
                          [
                            175.7416171687034
                          ],
                          [
                            173.2159526279412
                          ],
                          [
                            177.0770369363032
                          ],
                          [
                            179.97039951714135
                          ],
                          [
                            175.1416575775924
                          ],
                          [
                            177.66731297313632
                          ],
                          [
                            183.67664041990727
                          ],
                          [
                            183.62825787493733
                          ],
                          [
                            187.50868678435495
                          ],
                          [
                            182.4863915982504
                          ],
                          [
                            176.11901734367228
                          ],
                          [
                            170.11935538146474
                          ],
                          [
                            177.07703222609882
                          ],
                          [
                            176.00289469460756
                          ],
                          [
                            195.55017133069745
                          ],
                          [
                            189.4731012841114
                          ],
                          [
                            191.07945458817017
                          ],
                          [
                            183.8218014420886
                          ],
                          [
                            181.88642953163588
                          ],
                          [
                            199.35316799397464
                          ],
                          [
                            205.67216604030594
                          ],
                          [
                            204.80125374163185
                          ],
                          [
                            205.14961798103238
                          ],
                          [
                            206.45600062416392
                          ],
                          [
                            219.08430452841668
                          ],
                          [
                            212.73628755112205
                          ],
                          [
                            217.7101983748325
                          ],
                          [
                            211.93310515757835
                          ],
                          [
                            219.85845643954502
                          ],
                          [
                            222.52927626924173
                          ],
                          [
                            219.26816202253855
                          ],
                          [
                            213.8491314607445
                          ],
                          [
                            204.54965768654475
                          ],
                          [
                            208.8171477763445
                          ],
                          [
                            210.47189581444604
                          ],
                          [
                            213.38463600703912
                          ],
                          [
                            215.76514978265763
                          ],
                          [
                            215.1845317282049
                          ],
                          [
                            213.1040083829758
                          ],
                          [
                            209.21389913258588
                          ],
                          [
                            224.50336313198252
                          ],
                          [
                            222.70346015024404
                          ],
                          [
                            220.8261394004833
                          ],
                          [
                            220.61325552351028
                          ],
                          [
                            218.68756353866502
                          ],
                          [
                            222.32605779212912
                          ],
                          [
                            217.72955140546176
                          ],
                          [
                            209.34937489696773
                          ],
                          [
                            205.15929038797
                          ],
                          [
                            214.90391224152194
                          ],
                          [
                            201.2788731881962
                          ],
                          [
                            206.89146300227262
                          ],
                          [
                            209.02036196107997
                          ],
                          [
                            218.69723820124545
                          ],
                          [
                            214.0813719345116
                          ],
                          [
                            219.52945263429717
                          ],
                          [
                            212.89112067232077
                          ],
                          [
                            207.47206719299558
                          ],
                          [
                            209.98805047297733
                          ],
                          [
                            218.69723671399785
                          ],
                          [
                            224.24208023271026
                          ],
                          [
                            220.84549890101195
                          ],
                          [
                            213.59752146608048
                          ],
                          [
                            206.31083781564848
                          ],
                          [
                            199.91443285254712
                          ],
                          [
                            193.97999572753906
                          ],
                          [
                            198.22999572753906
                          ],
                          [
                            200.22000122070312
                          ],
                          [
                            193.02999877929688
                          ],
                          [
                            190.50999450683594
                          ],
                          [
                            192.07000732421875
                          ],
                          [
                            197.5399932861328
                          ],
                          [
                            195.32000732421875
                          ],
                          [
                            190.11000061035156
                          ],
                          [
                            188.8000030517578
                          ],
                          [
                            187.9499969482422
                          ],
                          [
                            190.58999633789062
                          ],
                          [
                            186.1199951171875
                          ],
                          [
                            184.1999969482422
                          ],
                          [
                            191.02000427246094
                          ],
                          [
                            186.1999969482422
                          ],
                          [
                            187.94000244140625
                          ],
                          [
                            183
                          ],
                          [
                            184.77000427246094
                          ],
                          [
                            184.92999267578125
                          ],
                          [
                            185.39999389648438
                          ],
                          [
                            191.38999938964844
                          ],
                          [
                            188.10000610351562
                          ],
                          [
                            189.44000244140625
                          ],
                          [
                            185.22000122070312
                          ],
                          [
                            189.74000549316406
                          ],
                          [
                            190.99000549316406
                          ],
                          [
                            198.8000030517578
                          ],
                          [
                            210.77000427246094
                          ],
                          [
                            213.9600067138672
                          ],
                          [
                            213.86000061035156
                          ],
                          [
                            214
                          ],
                          [
                            223.3800048828125
                          ],
                          [
                            212.94000244140625
                          ],
                          [
                            207
                          ],
                          [
                            205.9499969482422
                          ],
                          [
                            190.9499969482422
                          ],
                          [
                            194.75
                          ],
                          [
                            197.8000030517578
                          ],
                          [
                            195
                          ],
                          [
                            193
                          ],
                          [
                            193.6999969482422
                          ],
                          [
                            189
                          ],
                          [
                            187.3000030517578
                          ],
                          [
                            190.85000610351562
                          ],
                          [
                            188.9499969482422
                          ],
                          [
                            193.9499969482422
                          ],
                          [
                            185.6999969482422
                          ],
                          [
                            189.85000610351562
                          ],
                          [
                            179.3000030517578
                          ],
                          [
                            160.14999389648438
                          ],
                          [
                            174
                          ],
                          [
                            192.6999969482422
                          ],
                          [
                            197
                          ],
                          [
                            197.1999969482422
                          ],
                          [
                            198.85000610351562
                          ],
                          [
                            204
                          ],
                          [
                            208.25
                          ],
                          [
                            202.4499969482422
                          ],
                          [
                            198.3000030517578
                          ],
                          [
                            195.1999969482422
                          ],
                          [
                            186.3000030517578
                          ],
                          [
                            185.35000610351562
                          ],
                          [
                            187
                          ],
                          [
                            188.9499969482422
                          ],
                          [
                            181.14999389648438
                          ],
                          [
                            186
                          ],
                          [
                            183.89999389648438
                          ],
                          [
                            187.89999389648438
                          ],
                          [
                            189.4499969482422
                          ],
                          [
                            190
                          ],
                          [
                            189.35000610351562
                          ],
                          [
                            194.39999389648438
                          ],
                          [
                            199.4499969482422
                          ],
                          [
                            205.64999389648438
                          ],
                          [
                            205.8000030517578
                          ],
                          [
                            216.1999969482422
                          ],
                          [
                            224.8000030517578
                          ],
                          [
                            231.25
                          ],
                          [
                            238.85000610351562
                          ],
                          [
                            236.9499969482422
                          ],
                          [
                            234.75
                          ],
                          [
                            232.89999389648438
                          ],
                          [
                            229.5
                          ],
                          [
                            215.35000610351562
                          ],
                          [
                            222.0500030517578
                          ],
                          [
                            222.10000610351562
                          ],
                          [
                            220
                          ],
                          [
                            212.25
                          ],
                          [
                            209.35000610351562
                          ],
                          [
                            207
                          ],
                          [
                            199.9499969482422
                          ],
                          [
                            200.25
                          ],
                          [
                            214.39999389648438
                          ],
                          [
                            211.8000030517578
                          ],
                          [
                            208.35000610351562
                          ],
                          [
                            200.39999389648438
                          ],
                          [
                            207.75
                          ],
                          [
                            202.10000610351562
                          ],
                          [
                            195.75
                          ],
                          [
                            191.25
                          ],
                          [
                            184.0500030517578
                          ],
                          [
                            186.60000610351562
                          ],
                          [
                            186
                          ],
                          [
                            186
                          ],
                          [
                            186.25
                          ],
                          [
                            191.39999389648438
                          ],
                          [
                            188.85000610351562
                          ],
                          [
                            186.6999969482422
                          ],
                          [
                            185.60000610351562
                          ],
                          [
                            177.25
                          ],
                          [
                            170.60000610351562
                          ],
                          [
                            167.10000610351562
                          ],
                          [
                            177.35000610351562
                          ],
                          [
                            177.89999389648438
                          ],
                          [
                            180.5500030517578
                          ],
                          [
                            175.0500030517578
                          ],
                          [
                            179
                          ],
                          [
                            184.8000030517578
                          ],
                          [
                            183.10000610351562
                          ],
                          [
                            188
                          ],
                          [
                            184.3000030517578
                          ],
                          [
                            181.6999969482422
                          ],
                          [
                            179.3000030517578
                          ],
                          [
                            166.9499969482422
                          ],
                          [
                            178.35000610351562
                          ],
                          [
                            152.60000610351562
                          ],
                          [
                            175.0500030517578
                          ],
                          [
                            180.60000610351562
                          ],
                          [
                            173.1999969482422
                          ],
                          [
                            171.85000610351562
                          ],
                          [
                            169.9499969482422
                          ],
                          [
                            169.8000030517578
                          ],
                          [
                            170
                          ],
                          [
                            162.60000610351562
                          ],
                          [
                            156.75
                          ],
                          [
                            151.5500030517578
                          ],
                          [
                            155
                          ],
                          [
                            167.89999389648438
                          ],
                          [
                            179.39999389648438
                          ]
                        ],
                        "x": [
                          "2024-03-07T00:00:00",
                          "2024-03-11T00:00:00",
                          "2024-03-12T00:00:00",
                          "2024-03-13T00:00:00",
                          "2024-03-14T00:00:00",
                          "2024-03-15T00:00:00",
                          "2024-03-18T00:00:00",
                          "2024-03-19T00:00:00",
                          "2024-03-20T00:00:00",
                          "2024-03-21T00:00:00",
                          "2024-03-22T00:00:00",
                          "2024-03-26T00:00:00",
                          "2024-03-27T00:00:00",
                          "2024-03-28T00:00:00",
                          "2024-04-01T00:00:00",
                          "2024-04-02T00:00:00",
                          "2024-04-03T00:00:00",
                          "2024-04-04T00:00:00",
                          "2024-04-05T00:00:00",
                          "2024-04-08T00:00:00",
                          "2024-04-09T00:00:00",
                          "2024-04-10T00:00:00",
                          "2024-04-12T00:00:00",
                          "2024-04-15T00:00:00",
                          "2024-04-16T00:00:00",
                          "2024-04-18T00:00:00",
                          "2024-04-19T00:00:00",
                          "2024-04-22T00:00:00",
                          "2024-04-23T00:00:00",
                          "2024-04-24T00:00:00",
                          "2024-04-25T00:00:00",
                          "2024-04-26T00:00:00",
                          "2024-04-29T00:00:00",
                          "2024-04-30T00:00:00",
                          "2024-05-02T00:00:00",
                          "2024-05-03T00:00:00",
                          "2024-05-06T00:00:00",
                          "2024-05-07T00:00:00",
                          "2024-05-08T00:00:00",
                          "2024-05-09T00:00:00",
                          "2024-05-10T00:00:00",
                          "2024-05-13T00:00:00",
                          "2024-05-14T00:00:00",
                          "2024-05-15T00:00:00",
                          "2024-05-16T00:00:00",
                          "2024-05-17T00:00:00",
                          "2024-05-21T00:00:00",
                          "2024-05-22T00:00:00",
                          "2024-05-23T00:00:00",
                          "2024-05-24T00:00:00",
                          "2024-05-27T00:00:00",
                          "2024-05-28T00:00:00",
                          "2024-05-29T00:00:00",
                          "2024-05-30T00:00:00",
                          "2024-05-31T00:00:00",
                          "2024-06-03T00:00:00",
                          "2024-06-04T00:00:00",
                          "2024-06-05T00:00:00",
                          "2024-06-06T00:00:00",
                          "2024-06-07T00:00:00",
                          "2024-06-10T00:00:00",
                          "2024-06-11T00:00:00",
                          "2024-06-12T00:00:00",
                          "2024-06-13T00:00:00",
                          "2024-06-14T00:00:00",
                          "2024-06-18T00:00:00",
                          "2024-06-19T00:00:00",
                          "2024-06-20T00:00:00",
                          "2024-06-21T00:00:00",
                          "2024-06-24T00:00:00",
                          "2024-06-25T00:00:00",
                          "2024-06-26T00:00:00",
                          "2024-06-27T00:00:00",
                          "2024-06-28T00:00:00",
                          "2024-07-01T00:00:00",
                          "2024-07-02T00:00:00",
                          "2024-07-03T00:00:00",
                          "2024-07-04T00:00:00",
                          "2024-07-05T00:00:00",
                          "2024-07-08T00:00:00",
                          "2024-07-09T00:00:00",
                          "2024-07-10T00:00:00",
                          "2024-07-11T00:00:00",
                          "2024-07-12T00:00:00",
                          "2024-07-15T00:00:00",
                          "2024-07-16T00:00:00",
                          "2024-07-18T00:00:00",
                          "2024-07-19T00:00:00",
                          "2024-07-22T00:00:00",
                          "2024-07-23T00:00:00",
                          "2024-07-24T00:00:00",
                          "2024-07-25T00:00:00",
                          "2024-07-26T00:00:00",
                          "2024-07-29T00:00:00",
                          "2024-07-30T00:00:00",
                          "2024-07-31T00:00:00",
                          "2024-08-01T00:00:00",
                          "2024-08-02T00:00:00",
                          "2024-08-05T00:00:00",
                          "2024-08-06T00:00:00",
                          "2024-08-07T00:00:00",
                          "2024-08-08T00:00:00",
                          "2024-08-09T00:00:00",
                          "2024-08-12T00:00:00",
                          "2024-08-13T00:00:00",
                          "2024-08-14T00:00:00",
                          "2024-08-16T00:00:00",
                          "2024-08-19T00:00:00",
                          "2024-08-20T00:00:00",
                          "2024-08-21T00:00:00",
                          "2024-08-22T00:00:00",
                          "2024-08-23T00:00:00",
                          "2024-08-26T00:00:00",
                          "2024-08-27T00:00:00",
                          "2024-08-28T00:00:00",
                          "2024-08-29T00:00:00",
                          "2024-08-30T00:00:00",
                          "2024-09-02T00:00:00",
                          "2024-09-03T00:00:00",
                          "2024-09-04T00:00:00",
                          "2024-09-05T00:00:00",
                          "2024-09-06T00:00:00",
                          "2024-09-09T00:00:00",
                          "2024-09-10T00:00:00",
                          "2024-09-11T00:00:00",
                          "2024-09-12T00:00:00",
                          "2024-09-13T00:00:00",
                          "2024-09-16T00:00:00",
                          "2024-09-17T00:00:00",
                          "2024-09-18T00:00:00",
                          "2024-09-19T00:00:00",
                          "2024-09-20T00:00:00",
                          "2024-09-23T00:00:00",
                          "2024-09-24T00:00:00",
                          "2024-09-25T00:00:00",
                          "2024-09-26T00:00:00",
                          "2024-09-27T00:00:00",
                          "2024-09-30T00:00:00",
                          "2024-10-01T00:00:00",
                          "2024-10-03T00:00:00",
                          "2024-10-04T00:00:00",
                          "2024-10-07T00:00:00",
                          "2024-10-08T00:00:00",
                          "2024-10-09T00:00:00",
                          "2024-10-10T00:00:00",
                          "2024-10-11T00:00:00",
                          "2024-10-14T00:00:00",
                          "2024-10-15T00:00:00",
                          "2024-10-16T00:00:00",
                          "2024-10-17T00:00:00",
                          "2024-10-18T00:00:00",
                          "2024-10-21T00:00:00",
                          "2024-10-22T00:00:00",
                          "2024-10-23T00:00:00",
                          "2024-10-24T00:00:00",
                          "2024-10-25T00:00:00",
                          "2024-10-28T00:00:00",
                          "2024-10-29T00:00:00",
                          "2024-10-31T00:00:00",
                          "2024-11-01T00:00:00",
                          "2024-11-04T00:00:00",
                          "2024-11-06T00:00:00",
                          "2024-11-07T00:00:00",
                          "2024-11-08T00:00:00",
                          "2024-11-11T00:00:00",
                          "2024-11-12T00:00:00",
                          "2024-11-13T00:00:00",
                          "2024-11-14T00:00:00",
                          "2024-11-18T00:00:00",
                          "2024-11-19T00:00:00",
                          "2024-11-21T00:00:00",
                          "2024-11-22T00:00:00",
                          "2024-11-25T00:00:00",
                          "2024-11-26T00:00:00",
                          "2024-11-27T00:00:00",
                          "2024-11-28T00:00:00",
                          "2024-11-29T00:00:00",
                          "2024-12-02T00:00:00",
                          "2024-12-03T00:00:00",
                          "2024-12-04T00:00:00",
                          "2024-12-05T00:00:00",
                          "2024-12-06T00:00:00",
                          "2024-12-09T00:00:00",
                          "2024-12-10T00:00:00",
                          "2024-12-11T00:00:00",
                          "2024-12-12T00:00:00",
                          "2024-12-13T00:00:00",
                          "2024-12-16T00:00:00",
                          "2024-12-17T00:00:00",
                          "2024-12-18T00:00:00",
                          "2024-12-19T00:00:00",
                          "2024-12-20T00:00:00",
                          "2024-12-23T00:00:00",
                          "2024-12-24T00:00:00",
                          "2024-12-26T00:00:00",
                          "2024-12-27T00:00:00",
                          "2024-12-30T00:00:00",
                          "2024-12-31T00:00:00",
                          "2025-01-01T00:00:00",
                          "2025-01-02T00:00:00",
                          "2025-01-03T00:00:00",
                          "2025-01-06T00:00:00",
                          "2025-01-07T00:00:00",
                          "2025-01-08T00:00:00",
                          "2025-01-09T00:00:00",
                          "2025-01-10T00:00:00",
                          "2025-01-13T00:00:00",
                          "2025-01-14T00:00:00",
                          "2025-01-15T00:00:00",
                          "2025-01-16T00:00:00",
                          "2025-01-17T00:00:00",
                          "2025-01-20T00:00:00",
                          "2025-01-21T00:00:00",
                          "2025-01-22T00:00:00",
                          "2025-01-23T00:00:00",
                          "2025-01-24T00:00:00",
                          "2025-01-27T00:00:00",
                          "2025-01-28T00:00:00",
                          "2025-01-29T00:00:00",
                          "2025-01-30T00:00:00",
                          "2025-01-31T00:00:00",
                          "2025-02-01T00:00:00",
                          "2025-02-03T00:00:00",
                          "2025-02-04T00:00:00",
                          "2025-02-05T00:00:00",
                          "2025-02-06T00:00:00",
                          "2025-02-07T00:00:00",
                          "2025-02-10T00:00:00",
                          "2025-02-11T00:00:00",
                          "2025-02-12T00:00:00",
                          "2025-02-13T00:00:00",
                          "2025-02-14T00:00:00",
                          "2025-02-17T00:00:00",
                          "2025-02-18T00:00:00",
                          "2025-02-19T00:00:00",
                          "2025-02-20T00:00:00",
                          "2025-02-21T00:00:00",
                          "2025-02-24T00:00:00",
                          "2025-02-25T00:00:00",
                          "2025-02-27T00:00:00",
                          "2025-02-28T00:00:00",
                          "2025-03-03T00:00:00",
                          "2025-03-04T00:00:00",
                          "2025-03-05T00:00:00",
                          "2025-03-06T00:00:00",
                          "2025-03-07T00:00:00"
                        ],
                        "type": "candlestick"
                      }
                    ],
                    "layout": {
                      "template": {
                        "data": {
                          "barpolar": [
                            {
                              "marker": {
                                "line": {
                                  "color": "rgb(17,17,17)",
                                  "width": 0.5
                                },
                                "pattern": {
                                  "fillmode": "overlay",
                                  "size": 10,
                                  "solidity": 0.2
                                }
                              },
                              "type": "barpolar"
                            }
                          ],
                          "bar": [
                            {
                              "error_x": {
                                "color": "#f2f5fa"
                              },
                              "error_y": {
                                "color": "#f2f5fa"
                              },
                              "marker": {
                                "line": {
                                  "color": "rgb(17,17,17)",
                                  "width": 0.5
                                },
                                "pattern": {
                                  "fillmode": "overlay",
                                  "size": 10,
                                  "solidity": 0.2
                                }
                              },
                              "type": "bar"
                            }
                          ],
                          "carpet": [
                            {
                              "aaxis": {
                                "endlinecolor": "#A2B1C6",
                                "gridcolor": "#506784",
                                "linecolor": "#506784",
                                "minorgridcolor": "#506784",
                                "startlinecolor": "#A2B1C6"
                              },
                              "baxis": {
                                "endlinecolor": "#A2B1C6",
                                "gridcolor": "#506784",
                                "linecolor": "#506784",
                                "minorgridcolor": "#506784",
                                "startlinecolor": "#A2B1C6"
                              },
                              "type": "carpet"
                            }
                          ],
                          "choropleth": [
                            {
                              "colorbar": {
                                "outlinewidth": 0,
                                "ticks": ""
                              },
                              "type": "choropleth"
                            }
                          ],
                          "contourcarpet": [
                            {
                              "colorbar": {
                                "outlinewidth": 0,
                                "ticks": ""
                              },
                              "type": "contourcarpet"
                            }
                          ],
                          "contour": [
                            {
                              "colorbar": {
                                "outlinewidth": 0,
                                "ticks": ""
                              },
                              "colorscale": [
                                [
                                  0,
                                  "#0d0887"
                                ],
                                [
                                  0.1111111111111111,
                                  "#46039f"
                                ],
                                [
                                  0.2222222222222222,
                                  "#7201a8"
                                ],
                                [
                                  0.3333333333333333,
                                  "#9c179e"
                                ],
                                [
                                  0.4444444444444444,
                                  "#bd3786"
                                ],
                                [
                                  0.5555555555555556,
                                  "#d8576b"
                                ],
                                [
                                  0.6666666666666666,
                                  "#ed7953"
                                ],
                                [
                                  0.7777777777777778,
                                  "#fb9f3a"
                                ],
                                [
                                  0.8888888888888888,
                                  "#fdca26"
                                ],
                                [
                                  1,
                                  "#f0f921"
                                ]
                              ],
                              "type": "contour"
                            }
                          ],
                          "heatmapgl": [
                            {
                              "colorbar": {
                                "outlinewidth": 0,
                                "ticks": ""
                              },
                              "colorscale": [
                                [
                                  0,
                                  "#0d0887"
                                ],
                                [
                                  0.1111111111111111,
                                  "#46039f"
                                ],
                                [
                                  0.2222222222222222,
                                  "#7201a8"
                                ],
                                [
                                  0.3333333333333333,
                                  "#9c179e"
                                ],
                                [
                                  0.4444444444444444,
                                  "#bd3786"
                                ],
                                [
                                  0.5555555555555556,
                                  "#d8576b"
                                ],
                                [
                                  0.6666666666666666,
                                  "#ed7953"
                                ],
                                [
                                  0.7777777777777778,
                                  "#fb9f3a"
                                ],
                                [
                                  0.8888888888888888,
                                  "#fdca26"
                                ],
                                [
                                  1,
                                  "#f0f921"
                                ]
                              ],
                              "type": "heatmapgl"
                            }
                          ],
                          "heatmap": [
                            {
                              "colorbar": {
                                "outlinewidth": 0,
                                "ticks": ""
                              },
                              "colorscale": [
                                [
                                  0,
                                  "#0d0887"
                                ],
                                [
                                  0.1111111111111111,
                                  "#46039f"
                                ],
                                [
                                  0.2222222222222222,
                                  "#7201a8"
                                ],
                                [
                                  0.3333333333333333,
                                  "#9c179e"
                                ],
                                [
                                  0.4444444444444444,
                                  "#bd3786"
                                ],
                                [
                                  0.5555555555555556,
                                  "#d8576b"
                                ],
                                [
                                  0.6666666666666666,
                                  "#ed7953"
                                ],
                                [
                                  0.7777777777777778,
                                  "#fb9f3a"
                                ],
                                [
                                  0.8888888888888888,
                                  "#fdca26"
                                ],
                                [
                                  1,
                                  "#f0f921"
                                ]
                              ],
                              "type": "heatmap"
                            }
                          ],
                          "histogram2dcontour": [
                            {
                              "colorbar": {
                                "outlinewidth": 0,
                                "ticks": ""
                              },
                              "colorscale": [
                                [
                                  0,
                                  "#0d0887"
                                ],
                                [
                                  0.1111111111111111,
                                  "#46039f"
                                ],
                                [
                                  0.2222222222222222,
                                  "#7201a8"
                                ],
                                [
                                  0.3333333333333333,
                                  "#9c179e"
                                ],
                                [
                                  0.4444444444444444,
                                  "#bd3786"
                                ],
                                [
                                  0.5555555555555556,
                                  "#d8576b"
                                ],
                                [
                                  0.6666666666666666,
                                  "#ed7953"
                                ],
                                [
                                  0.7777777777777778,
                                  "#fb9f3a"
                                ],
                                [
                                  0.8888888888888888,
                                  "#fdca26"
                                ],
                                [
                                  1,
                                  "#f0f921"
                                ]
                              ],
                              "type": "histogram2dcontour"
                            }
                          ],
                          "histogram2d": [
                            {
                              "colorbar": {
                                "outlinewidth": 0,
                                "ticks": ""
                              },
                              "colorscale": [
                                [
                                  0,
                                  "#0d0887"
                                ],
                                [
                                  0.1111111111111111,
                                  "#46039f"
                                ],
                                [
                                  0.2222222222222222,
                                  "#7201a8"
                                ],
                                [
                                  0.3333333333333333,
                                  "#9c179e"
                                ],
                                [
                                  0.4444444444444444,
                                  "#bd3786"
                                ],
                                [
                                  0.5555555555555556,
                                  "#d8576b"
                                ],
                                [
                                  0.6666666666666666,
                                  "#ed7953"
                                ],
                                [
                                  0.7777777777777778,
                                  "#fb9f3a"
                                ],
                                [
                                  0.8888888888888888,
                                  "#fdca26"
                                ],
                                [
                                  1,
                                  "#f0f921"
                                ]
                              ],
                              "type": "histogram2d"
                            }
                          ],
                          "histogram": [
                            {
                              "marker": {
                                "pattern": {
                                  "fillmode": "overlay",
                                  "size": 10,
                                  "solidity": 0.2
                                }
                              },
                              "type": "histogram"
                            }
                          ],
                          "mesh3d": [
                            {
                              "colorbar": {
                                "outlinewidth": 0,
                                "ticks": ""
                              },
                              "type": "mesh3d"
                            }
                          ],
                          "parcoords": [
                            {
                              "line": {
                                "colorbar": {
                                  "outlinewidth": 0,
                                  "ticks": ""
                                }
                              },
                              "type": "parcoords"
                            }
                          ],
                          "pie": [
                            {
                              "automargin": true,
                              "type": "pie"
                            }
                          ],
                          "scatter3d": [
                            {
                              "line": {
                                "colorbar": {
                                  "outlinewidth": 0,
                                  "ticks": ""
                                }
                              },
                              "marker": {
                                "colorbar": {
                                  "outlinewidth": 0,
                                  "ticks": ""
                                }
                              },
                              "type": "scatter3d"
                            }
                          ],
                          "scattercarpet": [
                            {
                              "marker": {
                                "colorbar": {
                                  "outlinewidth": 0,
                                  "ticks": ""
                                }
                              },
                              "type": "scattercarpet"
                            }
                          ],
                          "scattergeo": [
                            {
                              "marker": {
                                "colorbar": {
                                  "outlinewidth": 0,
                                  "ticks": ""
                                }
                              },
                              "type": "scattergeo"
                            }
                          ],
                          "scattergl": [
                            {
                              "marker": {
                                "line": {
                                  "color": "#283442"
                                }
                              },
                              "type": "scattergl"
                            }
                          ],
                          "scattermapbox": [
                            {
                              "marker": {
                                "colorbar": {
                                  "outlinewidth": 0,
                                  "ticks": ""
                                }
                              },
                              "type": "scattermapbox"
                            }
                          ],
                          "scatterpolargl": [
                            {
                              "marker": {
                                "colorbar": {
                                  "outlinewidth": 0,
                                  "ticks": ""
                                }
                              },
                              "type": "scatterpolargl"
                            }
                          ],
                          "scatterpolar": [
                            {
                              "marker": {
                                "colorbar": {
                                  "outlinewidth": 0,
                                  "ticks": ""
                                }
                              },
                              "type": "scatterpolar"
                            }
                          ],
                          "scatter": [
                            {
                              "marker": {
                                "line": {
                                  "color": "#283442"
                                }
                              },
                              "type": "scatter"
                            }
                          ],
                          "scatterternary": [
                            {
                              "marker": {
                                "colorbar": {
                                  "outlinewidth": 0,
                                  "ticks": ""
                                }
                              },
                              "type": "scatterternary"
                            }
                          ],
                          "surface": [
                            {
                              "colorbar": {
                                "outlinewidth": 0,
                                "ticks": ""
                              },
                              "colorscale": [
                                [
                                  0,
                                  "#0d0887"
                                ],
                                [
                                  0.1111111111111111,
                                  "#46039f"
                                ],
                                [
                                  0.2222222222222222,
                                  "#7201a8"
                                ],
                                [
                                  0.3333333333333333,
                                  "#9c179e"
                                ],
                                [
                                  0.4444444444444444,
                                  "#bd3786"
                                ],
                                [
                                  0.5555555555555556,
                                  "#d8576b"
                                ],
                                [
                                  0.6666666666666666,
                                  "#ed7953"
                                ],
                                [
                                  0.7777777777777778,
                                  "#fb9f3a"
                                ],
                                [
                                  0.8888888888888888,
                                  "#fdca26"
                                ],
                                [
                                  1,
                                  "#f0f921"
                                ]
                              ],
                              "type": "surface"
                            }
                          ],
                          "table": [
                            {
                              "cells": {
                                "fill": {
                                  "color": "#506784"
                                },
                                "line": {
                                  "color": "rgb(17,17,17)"
                                }
                              },
                              "header": {
                                "fill": {
                                  "color": "#2a3f5f"
                                },
                                "line": {
                                  "color": "rgb(17,17,17)"
                                }
                              },
                              "type": "table"
                            }
                          ]
                        },
                        "layout": {
                          "annotationdefaults": {
                            "arrowcolor": "#f2f5fa",
                            "arrowhead": 0,
                            "arrowwidth": 1
                          },
                          "autotypenumbers": "strict",
                          "coloraxis": {
                            "colorbar": {
                              "outlinewidth": 0,
                              "ticks": ""
                            }
                          },
                          "colorscale": {
                            "diverging": [
                              [
                                0,
                                "#8e0152"
                              ],
                              [
                                0.1,
                                "#c51b7d"
                              ],
                              [
                                0.2,
                                "#de77ae"
                              ],
                              [
                                0.3,
                                "#f1b6da"
                              ],
                              [
                                0.4,
                                "#fde0ef"
                              ],
                              [
                                0.5,
                                "#f7f7f7"
                              ],
                              [
                                0.6,
                                "#e6f5d0"
                              ],
                              [
                                0.7,
                                "#b8e186"
                              ],
                              [
                                0.8,
                                "#7fbc41"
                              ],
                              [
                                0.9,
                                "#4d9221"
                              ],
                              [
                                1,
                                "#276419"
                              ]
                            ],
                            "sequential": [
                              [
                                0,
                                "#0d0887"
                              ],
                              [
                                0.1111111111111111,
                                "#46039f"
                              ],
                              [
                                0.2222222222222222,
                                "#7201a8"
                              ],
                              [
                                0.3333333333333333,
                                "#9c179e"
                              ],
                              [
                                0.4444444444444444,
                                "#bd3786"
                              ],
                              [
                                0.5555555555555556,
                                "#d8576b"
                              ],
                              [
                                0.6666666666666666,
                                "#ed7953"
                              ],
                              [
                                0.7777777777777778,
                                "#fb9f3a"
                              ],
                              [
                                0.8888888888888888,
                                "#fdca26"
                              ],
                              [
                                1,
                                "#f0f921"
                              ]
                            ],
                            "sequentialminus": [
                              [
                                0,
                                "#0d0887"
                              ],
                              [
                                0.1111111111111111,
                                "#46039f"
                              ],
                              [
                                0.2222222222222222,
                                "#7201a8"
                              ],
                              [
                                0.3333333333333333,
                                "#9c179e"
                              ],
                              [
                                0.4444444444444444,
                                "#bd3786"
                              ],
                              [
                                0.5555555555555556,
                                "#d8576b"
                              ],
                              [
                                0.6666666666666666,
                                "#ed7953"
                              ],
                              [
                                0.7777777777777778,
                                "#fb9f3a"
                              ],
                              [
                                0.8888888888888888,
                                "#fdca26"
                              ],
                              [
                                1,
                                "#f0f921"
                              ]
                            ]
                          },
                          "colorway": [
                            "#636efa",
                            "#EF553B",
                            "#00cc96",
                            "#ab63fa",
                            "#FFA15A",
                            "#19d3f3",
                            "#FF6692",
                            "#B6E880",
                            "#FF97FF",
                            "#FECB52"
                          ],
                          "font": {
                            "color": "#f2f5fa"
                          },
                          "geo": {
                            "bgcolor": "rgb(17,17,17)",
                            "lakecolor": "rgb(17,17,17)",
                            "landcolor": "rgb(17,17,17)",
                            "showlakes": true,
                            "showland": true,
                            "subunitcolor": "#506784"
                          },
                          "hoverlabel": {
                            "align": "left"
                          },
                          "hovermode": "closest",
                          "mapbox": {
                            "style": "dark"
                          },
                          "paper_bgcolor": "rgb(17,17,17)",
                          "plot_bgcolor": "rgb(17,17,17)",
                          "polar": {
                            "angularaxis": {
                              "gridcolor": "#506784",
                              "linecolor": "#506784",
                              "ticks": ""
                            },
                            "bgcolor": "rgb(17,17,17)",
                            "radialaxis": {
                              "gridcolor": "#506784",
                              "linecolor": "#506784",
                              "ticks": ""
                            }
                          },
                          "scene": {
                            "xaxis": {
                              "backgroundcolor": "rgb(17,17,17)",
                              "gridcolor": "#506784",
                              "gridwidth": 2,
                              "linecolor": "#506784",
                              "showbackground": true,
                              "ticks": "",
                              "zerolinecolor": "#C8D4E3"
                            },
                            "yaxis": {
                              "backgroundcolor": "rgb(17,17,17)",
                              "gridcolor": "#506784",
                              "gridwidth": 2,
                              "linecolor": "#506784",
                              "showbackground": true,
                              "ticks": "",
                              "zerolinecolor": "#C8D4E3"
                            },
                            "zaxis": {
                              "backgroundcolor": "rgb(17,17,17)",
                              "gridcolor": "#506784",
                              "gridwidth": 2,
                              "linecolor": "#506784",
                              "showbackground": true,
                              "ticks": "",
                              "zerolinecolor": "#C8D4E3"
                            }
                          },
                          "shapedefaults": {
                            "line": {
                              "color": "#f2f5fa"
                            }
                          },
                          "sliderdefaults": {
                            "bgcolor": "#C8D4E3",
                            "bordercolor": "rgb(17,17,17)",
                            "borderwidth": 1,
                            "tickwidth": 0
                          },
                          "ternary": {
                            "aaxis": {
                              "gridcolor": "#506784",
                              "linecolor": "#506784",
                              "ticks": ""
                            },
                            "baxis": {
                              "gridcolor": "#506784",
                              "linecolor": "#506784",
                              "ticks": ""
                            },
                            "bgcolor": "rgb(17,17,17)",
                            "caxis": {
                              "gridcolor": "#506784",
                              "linecolor": "#506784",
                              "ticks": ""
                            }
                          },
                          "title": {
                            "x": 0.05
                          },
                          "updatemenudefaults": {
                            "bgcolor": "#506784",
                            "borderwidth": 0
                          },
                          "xaxis": {
                            "automargin": true,
                            "gridcolor": "#283442",
                            "linecolor": "#506784",
                            "ticks": "",
                            "title": {
                              "standoff": 15
                            },
                            "zerolinecolor": "#283442",
                            "zerolinewidth": 2
                          },
                          "yaxis": {
                            "automargin": true,
                            "gridcolor": "#283442",
                            "linecolor": "#506784",
                            "ticks": "",
                            "title": {
                              "standoff": 15
                            },
                            "zerolinecolor": "#283442",
                            "zerolinewidth": 2
                          }
                        }
                      },
                      "title": {
                        "text": "GPIL.BO Stock Price"
                      },
                      "xaxis": {
                        "title": {
                          "text": "Date"
                        }
                      },
                      "yaxis": {
                        "title": {
                          "text": "Price (INR)"
                        }
                      }
                    },
                    "config": {
                      "plotlyServerURL": "https://plot.ly"
                    }
                  },
                  "text/html": "<div>                            <div id=\"c5cd6bf1-77d7-471c-827b-40c959d31ea6\" class=\"plotly-graph-div\" style=\"height:525px; width:100%;\"></div>            <script type=\"text/javascript\">                require([\"plotly\"], function(Plotly) {                    window.PLOTLYENV=window.PLOTLYENV || {};                                    if (document.getElementById(\"c5cd6bf1-77d7-471c-827b-40c959d31ea6\")) {                    Plotly.newPlot(                        \"c5cd6bf1-77d7-471c-827b-40c959d31ea6\",                        [{\"close\":[[144.2530975341797],[141.52420043945312],[136.48255920410156],[133.60853576660156],[134.3052520751953],[135.22457885742188],[130.27969360351562],[128.82815551757812],[128.61526489257812],[130.56031799316406],[131.97314453125],[131.3828582763672],[141.49517822265625],[146.76907348632812],[144.2917938232422],[145.23045349121094],[144.7175750732422],[144.3111572265625],[146.9529266357422],[144.8336944580078],[146.3916778564453],[156.09756469726562],[158.41033935546875],[158.91354370117188],[163.85842895507812],[163.0842742919922],[168.2613983154297],[170.79673767089844],[167.54530334472656],[173.36109924316406],[175.54808044433594],[172.1514892578125],[168.88072204589844],[172.00634765625],[175.14166259765625],[178.64468383789062],[174.5223388671875],[171.92892456054688],[175.85772705078125],[168.77427673339844],[175.7416229248047],[173.14820861816406],[173.85462951660156],[176.95123291015625],[174.44491577148438],[175.94483947753906],[180.73487854003906],[183.4734344482422],[184.915283203125],[178.98336791992188],[173.68043518066406],[170.58384704589844],[177.0770263671875],[176.00289916992188],[187.10226440429688],[189.4730987548828],[181.59613037109375],[179.53494262695312],[180.24134826660156],[188.67958068847656],[202.75942993164062],[203.48519897460938],[203.48519897460938],[205.66249084472656],[208.6719970703125],[210.7041473388672],[214.83616638183594],[210.6751251220703],[219.92620849609375],[219.35525512695312],[217.0908660888672],[214.08135986328125],[205.83668518066406],[205.8850555419922],[210.98477172851562],[210.15255737304688],[214.3426513671875],[214.6619873046875],[214.33297729492188],[210.98477172851562],[223.07118225097656],[222.500244140625],[221.222900390625],[221.968017578125],[216.08448791503906],[223.02279663085938],[217.7005157470703],[210.87832641601562],[208.01397705078125],[206.049560546875],[204.43353271484375],[202.93362426757812],[201.685302734375],[212.49435424804688],[214.54586791992188],[217.08120727539062],[216.69412231445312],[216.2586669921875],[208.31396484375],[215.94900512695312],[222.31639099121094],[218.27145385742188],[213.59751892089844],[204.46255493164062],[195.8017578125],[187.1699981689453],[197.82000732421875],[198.80999755859375],[192.55999755859375],[190.05999755859375],[191.52000427246094],[196.0500030517578],[193.0500030517578],[189.02000427246094],[186.07000732421875],[185.57000732421875],[189.85000610351562],[185.02000427246094],[184.86000061035156],[190.5399932861328],[186.33999633789062],[185.8800048828125],[182.22999572753906],[183.8000030517578],[182.6999969482422],[182.6300048828125],[189.77999877929688],[188.6999969482422],[188.2100067138672],[185.22000122070312],[186.94000244140625],[187.49000549316406],[197.72000122070312],[208.19000244140625],[212.6699981689453],[212.6300048828125],[211.3000030517578],[222.14999389648438],[213.94000244140625],[208.77000427246094],[206.60000610351562],[192.0],[191.35000610351562],[194.3000030517578],[193.39999389648438],[190.9499969482422],[189.3000030517578],[189.64999389648438],[187.3000030517578],[187.4499969482422],[186.1999969482422],[193.5],[185.4499969482422],[186.10000610351562],[179.3000030517578],[173.60000610351562],[173.0500030517578],[173.39999389648438],[195.39999389648438],[198.3000030517578],[197.25],[204.6999969482422],[205.3000030517578],[202.39999389648438],[197.1999969482422],[195.25],[185.4499969482422],[185.35000610351562],[187.14999389648438],[186.0],[181.14999389648438],[182.75],[185.5500030517578],[187.1999969482422],[188.75],[189.5],[188.35000610351562],[192.5],[197.8000030517578],[204.64999389648438],[205.75],[214.60000610351562],[221.6999969482422],[230.39999389648438],[234.10000610351562],[235.85000610351562],[233.35000610351562],[233.35000610351562],[229.64999389648438],[222.75],[221.5],[218.75],[214.35000610351562],[212.8000030517578],[207.25],[207.3000030517578],[199.35000610351562],[202.8000030517578],[213.14999389648438],[207.60000610351562],[208.5],[201.5],[206.60000610351562],[202.35000610351562],[197.14999389648438],[193.64999389648438],[181.89999389648438],[185.85000610351562],[185.4499969482422],[185.89999389648438],[186.6999969482422],[189.4499969482422],[187.75],[183.10000610351562],[181.9499969482422],[177.25],[170.8000030517578],[167.89999389648438],[177.35000610351562],[176.60000610351562],[180.25],[185.39999389648438],[177.85000610351562],[182.0500030517578],[184.0],[187.75],[186.9499969482422],[184.85000610351562],[176.4499969482422],[175.64999389648438],[173.0500030517578],[169.39999389648438],[175.39999389648438],[180.60000610351562],[175.14999389648438],[171.85000610351562],[173.10000610351562],[170.9499969482422],[168.35000610351562],[163.5],[156.0],[150.89999389648438],[153.9499969482422],[163.89999389648438],[182.0],[178.8000030517578]],\"high\":[[146.92390814145682],[146.85614961556072],[143.2176667878008],[138.18569061424907],[137.83731795450643],[138.76630185017106],[136.3083789269804],[132.5440694908418],[132.06989932571628],[132.4279614343632],[133.97624874190194],[134.12141405298166],[144.12728774444676],[149.7011636747037],[148.54961026436808],[146.29490023472613],[146.9238999664326],[147.06905612967586],[148.50123151261337],[149.85599175894353],[148.02707113364838],[159.45543927569372],[163.10362663131957],[162.18433014412852],[166.16152856404267],[167.79690483400128],[170.31288976253575],[174.95779428968112],[171.6676440771441],[174.15460957504914],[177.0286401894755],[176.72865881058948],[174.14494114826473],[175.32550665849374],[178.27695879758946],[181.3348523084787],[179.3898028081542],[177.02863850399007],[177.94793418978003],[177.2512087099842],[176.50608909813263],[175.7416171687034],[176.10934173331097],[178.78983217397825],[179.97039951714135],[177.8221396628009],[183.7637283638267],[186.32810773032176],[185.78621025855554],[187.50868678435495],[182.4863915982504],[176.11901734367228],[178.5962870810015],[177.30926763344712],[189.5505110327098],[197.39845686109845],[191.78587242489692],[191.07945458817017],[186.57002856605553],[189.37631641211095],[210.19127281693642],[205.67216604030594],[206.2237546576683],[208.1881541850279],[212.89111243464652],[228.36443296357317],[216.51994692723474],[217.7198846940666],[221.0971013901203],[224.2711062549801],[222.7228106876146],[219.63588775430313],[216.18124564722277],[210.60737224759242],[211.9814880452945],[215.21355560696227],[215.8232111637701],[218.50370548799802],[216.7618661039054],[218.3682274341555],[231.22877550839718],[226.05166809435735],[222.70346015024404],[223.51630770100883],[222.22929087605775],[236.6865306646593],[222.91634737189085],[217.72955140546176],[212.891112401606],[208.4494346438155],[214.90391224152194],[207.12369550885526],[206.99790915232842],[216.76185684852737],[219.57783681919386],[220.2939201529618],[221.20354685145549],[218.69724214520224],[210.7234957948823],[217.91340828882906],[224.58077476562488],[225.66458115081613],[222.37444592921892],[213.91685990923236],[206.31083781564848],[199.91443285254712],[200.38999938964844],[201.57000732421875],[200.7899932861328],[193.8300018310547],[196.00999450683594],[200.14999389648438],[200.52000427246094],[195.32000732421875],[192.11000061035156],[188.8000030517578],[191.9199981689453],[190.58999633789062],[189.77999877929688],[191.58999633789062],[192.4199981689453],[188.02000427246094],[187.94000244140625],[185.16000366210938],[184.77000427246094],[184.92999267578125],[191.11000061035156],[191.8699951171875],[189.9499969482422],[189.44000244140625],[188.3300018310547],[189.80999755859375],[199.0],[214.0],[214.63999938964844],[213.9600067138672],[218.0],[224.39999389648438],[223.8000030517578],[216.8000030517578],[215.35000610351562],[205.9499969482422],[194.75],[198.9499969482422],[198.5500030517578],[195.9499969482422],[193.0],[193.6999969482422],[190.14999389648438],[191.5],[190.85000610351562],[195.5],[196.0500030517578],[186.85000610351562],[189.85000610351562],[181.35000610351562],[175.0],[174.5500030517578],[196.85000610351562],[201.0500030517578],[201.64999389648438],[206.3000030517578],[207.1999969482422],[208.25],[202.4499969482422],[200.5],[195.1999969482422],[189.0],[189.0500030517578],[192.64999389648438],[191.14999389648438],[184.85000610351562],[188.0],[188.0],[189.9499969482422],[192.39999389648438],[190.39999389648438],[193.1999969482422],[202.35000610351562],[205.39999389648438],[208.64999389648438],[221.3000030517578],[224.0],[234.89999389648438],[237.75],[253.60000610351562],[236.9499969482422],[237.89999389648438],[235.85000610351562],[229.5],[223.1999969482422],[225.8000030517578],[222.10000610351562],[220.0],[213.89999389648438],[210.39999389648438],[209.10000610351562],[204.0500030517578],[214.35000610351562],[214.39999389648438],[212.6999969482422],[208.5],[208.10000610351562],[207.9499969482422],[202.3000030517578],[198.85000610351562],[191.9499969482422],[186.89999389648438],[189.6999969482422],[190.14999389648438],[187.5500030517578],[190.9499969482422],[197.5500030517578],[190.10000610351562],[186.6999969482422],[185.60000610351562],[177.25],[173.1999969482422],[178.64999389648438],[180.6999969482422],[181.39999389648438],[187.75],[182.9499969482422],[182.75],[185.89999389648438],[189.3000030517578],[189.9499969482422],[188.0],[187.9499969482422],[179.3000030517578],[174.0],[178.35000610351562],[175.89999389648438],[181.75],[180.60000610351562],[175.39999389648438],[175.35000610351562],[173.10000610351562],[172.8000030517578],[170.0],[163.89999389648438],[158.89999389648438],[156.35000610351562],[165.0],[189.39999389648438],[183.0]],\"low\":[[143.02413100045115],[140.31459188868857],[135.5729458858254],[128.5475227090324],[131.52799552706807],[131.60542437154135],[128.8765357694368],[128.17980709769068],[127.34759746074583],[129.8829400996193],[130.54095728375464],[130.63773520781433],[131.61508857984066],[141.62098674653674],[143.7015042253573],[144.4176000290945],[144.18534433897918],[142.62737664534146],[141.29195261826956],[143.91439486943938],[145.05626516557308],[148.607677866614],[156.67818633661463],[151.82039696112588],[158.2942291304555],[162.1940041037814],[160.3844277545416],[168.8613638729279],[166.97437163771124],[167.47757598633],[167.62272253462993],[171.106400426038],[168.377520723126],[169.17103210732907],[171.5999248936947],[175.25777959995435],[173.4094900692684],[170.22580098362738],[170.69995437030934],[168.47429615520787],[166.30667541223264],[170.2451479401495],[173.12886435195935],[175.32551118682255],[174.18363618280583],[172.838558027522],[177.4157049400771],[180.0187852726394],[181.25742796121483],[177.90923491590854],[173.23530748956117],[168.95814012719975],[169.3645608010958],[175.15132996769714],[175.19971281124677],[187.5667543727591],[171.68701102627304],[171.7257173156847],[178.2479157081505],[178.24791747138303],[195.5791950841529],[200.3208586954946],[201.2788740366202],[202.74007234096976],[206.29148086162212],[209.81387717789292],[208.3429954601121],[209.99773246782678],[210.53964840832646],[215.92965006467483],[216.0070615333954],[211.13959830635355],[205.20767984177303],[203.60131391158077],[207.13338203555273],[209.71710123140434],[211.4008896466992],[213.31690310114735],[213.31690309441376],[210.76220787792144],[206.46567195516087],[214.58457230395314],[218.21339357376777],[218.7649764209638],[215.03938429022332],[217.5747147661492],[215.33935742802342],[209.6106589459051],[205.56571567369127],[201.27887130963455],[202.633634459078],[198.95643055770137],[200.8918071513748],[203.21424079549442],[212.8911168330708],[213.66527364887762],[215.98771500571263],[212.89112067232077],[201.72401936202178],[209.98805047297733],[214.65231260922747],[217.72955155828254],[212.8911116394084],[204.18193223260232],[195.5017772451935],[186.182953397897],[192.33999633789062],[197.0],[192.11000061035156],[189.00999450683594],[190.50999450683594],[192.07000732421875],[192.60000610351562],[188.10000610351562],[185.3300018310547],[184.00999450683594],[184.6999969482422],[184.44000244140625],[183.94000244140625],[184.1999969482422],[186.0],[184.60000610351562],[181.1999969482422],[181.4499969482422],[182.1699981689453],[180.47000122070312],[182.6300048828125],[186.42999267578125],[186.5500030517578],[184.8000030517578],[181.10000610351562],[186.63999938964844],[189.42999267578125],[198.6199951171875],[207.80999755859375],[207.50999450683594],[210.39999389648438],[213.0],[211.52999877929688],[207.63999938964844],[205.0500030517578],[190.10000610351562],[183.6999969482422],[188.5500030517578],[191.3000030517578],[188.60000610351562],[188.10000610351562],[186.60000610351562],[186.3000030517578],[186.10000610351562],[184.0],[182.89999389648438],[183.35000610351562],[177.89999389648438],[178.5],[172.0500030517578],[160.14999389648438],[170.0],[184.25],[196.4499969482422],[192.0],[195.89999389648438],[201.25],[198.64999389648438],[197.0],[194.0],[184.1999969482422],[184.6999969482422],[182.3000030517578],[184.4499969482422],[180.35000610351562],[180.5],[182.0],[183.89999389648438],[186.9499969482422],[187.89999389648438],[186.8000030517578],[185.64999389648438],[193.8000030517578],[196.10000610351562],[203.14999389648438],[205.8000030517578],[214.14999389648438],[222.35000610351562],[228.8000030517578],[233.35000610351562],[227.8000030517578],[230.85000610351562],[227.39999389648438],[221.9499969482422],[214.39999389648438],[218.0],[212.89999389648438],[209.85000610351562],[205.10000610351562],[206.3000030517578],[197.6999969482422],[198.9499969482422],[200.0],[206.8000030517578],[207.1999969482422],[199.0],[200.39999389648438],[200.64999389648438],[195.85000610351562],[191.25],[180.6999969482422],[180.5500030517578],[183.64999389648438],[185.64999389648438],[184.25],[186.25],[187.0],[179.39999389648438],[180.85000610351562],[176.39999389648438],[166.35000610351562],[161.5500030517578],[166.0],[175.64999389648438],[175.64999389648438],[179.4499969482422],[175.0500030517578],[177.1999969482422],[182.85000610351562],[183.10000610351562],[181.0],[182.3000030517578],[175.0],[170.6999969482422],[163.5],[164.0],[152.60000610351562],[172.3000030517578],[172.60000610351562],[170.6999969482422],[169.10000610351562],[169.0],[165.10000610351562],[162.5],[154.0500030517578],[145.5500030517578],[149.0500030517578],[153.6999969482422],[166.4499969482422],[176.5]],\"name\":\"GPIL.BO\",\"open\":[[143.6434500441269],[143.34345642483643],[142.1822346768517],[135.73744396789832],[133.92785479246817],[133.62788654053446],[135.28263316343924],[130.52160751102028],[128.05400473845967],[132.4279614343632],[130.78287900945895],[133.26017327816677],[131.61508857984066],[142.90799735718664],[146.60456491677866],[145.3852869408704],[145.52075695117912],[146.26587420237834],[143.6918266539929],[149.74954561085266],[145.8884765175219],[148.83024170954374],[157.04589731044038],[154.83957536032878],[158.8941902995549],[166.14216848132304],[162.48430649847617],[171.58056169655967],[170.39030509253814],[168.52266482648932],[173.1385347974764],[176.1190113539461],[174.14494114826473],[169.9258267132542],[172.9062933884233],[175.57711805713316],[179.3898028081542],[174.47394575574592],[170.69995437030934],[176.29319335786852],[168.77428002251298],[175.7416171687034],[173.2159526279412],[177.0770369363032],[179.97039951714135],[175.1416575775924],[177.66731297313632],[183.67664041990727],[183.62825787493733],[187.50868678435495],[182.4863915982504],[176.11901734367228],[170.11935538146474],[177.07703222609882],[176.00289469460756],[195.55017133069745],[189.4731012841114],[191.07945458817017],[183.8218014420886],[181.88642953163588],[199.35316799397464],[205.67216604030594],[204.80125374163185],[205.14961798103238],[206.45600062416392],[219.08430452841668],[212.73628755112205],[217.7101983748325],[211.93310515757835],[219.85845643954502],[222.52927626924173],[219.26816202253855],[213.8491314607445],[204.54965768654475],[208.8171477763445],[210.47189581444604],[213.38463600703912],[215.76514978265763],[215.1845317282049],[213.1040083829758],[209.21389913258588],[224.50336313198252],[222.70346015024404],[220.8261394004833],[220.61325552351028],[218.68756353866502],[222.32605779212912],[217.72955140546176],[209.34937489696773],[205.15929038797],[214.90391224152194],[201.2788731881962],[206.89146300227262],[209.02036196107997],[218.69723820124545],[214.0813719345116],[219.52945263429717],[212.89112067232077],[207.47206719299558],[209.98805047297733],[218.69723671399785],[224.24208023271026],[220.84549890101195],[213.59752146608048],[206.31083781564848],[199.91443285254712],[193.97999572753906],[198.22999572753906],[200.22000122070312],[193.02999877929688],[190.50999450683594],[192.07000732421875],[197.5399932861328],[195.32000732421875],[190.11000061035156],[188.8000030517578],[187.9499969482422],[190.58999633789062],[186.1199951171875],[184.1999969482422],[191.02000427246094],[186.1999969482422],[187.94000244140625],[183.0],[184.77000427246094],[184.92999267578125],[185.39999389648438],[191.38999938964844],[188.10000610351562],[189.44000244140625],[185.22000122070312],[189.74000549316406],[190.99000549316406],[198.8000030517578],[210.77000427246094],[213.9600067138672],[213.86000061035156],[214.0],[223.3800048828125],[212.94000244140625],[207.0],[205.9499969482422],[190.9499969482422],[194.75],[197.8000030517578],[195.0],[193.0],[193.6999969482422],[189.0],[187.3000030517578],[190.85000610351562],[188.9499969482422],[193.9499969482422],[185.6999969482422],[189.85000610351562],[179.3000030517578],[160.14999389648438],[174.0],[192.6999969482422],[197.0],[197.1999969482422],[198.85000610351562],[204.0],[208.25],[202.4499969482422],[198.3000030517578],[195.1999969482422],[186.3000030517578],[185.35000610351562],[187.0],[188.9499969482422],[181.14999389648438],[186.0],[183.89999389648438],[187.89999389648438],[189.4499969482422],[190.0],[189.35000610351562],[194.39999389648438],[199.4499969482422],[205.64999389648438],[205.8000030517578],[216.1999969482422],[224.8000030517578],[231.25],[238.85000610351562],[236.9499969482422],[234.75],[232.89999389648438],[229.5],[215.35000610351562],[222.0500030517578],[222.10000610351562],[220.0],[212.25],[209.35000610351562],[207.0],[199.9499969482422],[200.25],[214.39999389648438],[211.8000030517578],[208.35000610351562],[200.39999389648438],[207.75],[202.10000610351562],[195.75],[191.25],[184.0500030517578],[186.60000610351562],[186.0],[186.0],[186.25],[191.39999389648438],[188.85000610351562],[186.6999969482422],[185.60000610351562],[177.25],[170.60000610351562],[167.10000610351562],[177.35000610351562],[177.89999389648438],[180.5500030517578],[175.0500030517578],[179.0],[184.8000030517578],[183.10000610351562],[188.0],[184.3000030517578],[181.6999969482422],[179.3000030517578],[166.9499969482422],[178.35000610351562],[152.60000610351562],[175.0500030517578],[180.60000610351562],[173.1999969482422],[171.85000610351562],[169.9499969482422],[169.8000030517578],[170.0],[162.60000610351562],[156.75],[151.5500030517578],[155.0],[167.89999389648438],[179.39999389648438]],\"x\":[\"2024-03-07T00:00:00\",\"2024-03-11T00:00:00\",\"2024-03-12T00:00:00\",\"2024-03-13T00:00:00\",\"2024-03-14T00:00:00\",\"2024-03-15T00:00:00\",\"2024-03-18T00:00:00\",\"2024-03-19T00:00:00\",\"2024-03-20T00:00:00\",\"2024-03-21T00:00:00\",\"2024-03-22T00:00:00\",\"2024-03-26T00:00:00\",\"2024-03-27T00:00:00\",\"2024-03-28T00:00:00\",\"2024-04-01T00:00:00\",\"2024-04-02T00:00:00\",\"2024-04-03T00:00:00\",\"2024-04-04T00:00:00\",\"2024-04-05T00:00:00\",\"2024-04-08T00:00:00\",\"2024-04-09T00:00:00\",\"2024-04-10T00:00:00\",\"2024-04-12T00:00:00\",\"2024-04-15T00:00:00\",\"2024-04-16T00:00:00\",\"2024-04-18T00:00:00\",\"2024-04-19T00:00:00\",\"2024-04-22T00:00:00\",\"2024-04-23T00:00:00\",\"2024-04-24T00:00:00\",\"2024-04-25T00:00:00\",\"2024-04-26T00:00:00\",\"2024-04-29T00:00:00\",\"2024-04-30T00:00:00\",\"2024-05-02T00:00:00\",\"2024-05-03T00:00:00\",\"2024-05-06T00:00:00\",\"2024-05-07T00:00:00\",\"2024-05-08T00:00:00\",\"2024-05-09T00:00:00\",\"2024-05-10T00:00:00\",\"2024-05-13T00:00:00\",\"2024-05-14T00:00:00\",\"2024-05-15T00:00:00\",\"2024-05-16T00:00:00\",\"2024-05-17T00:00:00\",\"2024-05-21T00:00:00\",\"2024-05-22T00:00:00\",\"2024-05-23T00:00:00\",\"2024-05-24T00:00:00\",\"2024-05-27T00:00:00\",\"2024-05-28T00:00:00\",\"2024-05-29T00:00:00\",\"2024-05-30T00:00:00\",\"2024-05-31T00:00:00\",\"2024-06-03T00:00:00\",\"2024-06-04T00:00:00\",\"2024-06-05T00:00:00\",\"2024-06-06T00:00:00\",\"2024-06-07T00:00:00\",\"2024-06-10T00:00:00\",\"2024-06-11T00:00:00\",\"2024-06-12T00:00:00\",\"2024-06-13T00:00:00\",\"2024-06-14T00:00:00\",\"2024-06-18T00:00:00\",\"2024-06-19T00:00:00\",\"2024-06-20T00:00:00\",\"2024-06-21T00:00:00\",\"2024-06-24T00:00:00\",\"2024-06-25T00:00:00\",\"2024-06-26T00:00:00\",\"2024-06-27T00:00:00\",\"2024-06-28T00:00:00\",\"2024-07-01T00:00:00\",\"2024-07-02T00:00:00\",\"2024-07-03T00:00:00\",\"2024-07-04T00:00:00\",\"2024-07-05T00:00:00\",\"2024-07-08T00:00:00\",\"2024-07-09T00:00:00\",\"2024-07-10T00:00:00\",\"2024-07-11T00:00:00\",\"2024-07-12T00:00:00\",\"2024-07-15T00:00:00\",\"2024-07-16T00:00:00\",\"2024-07-18T00:00:00\",\"2024-07-19T00:00:00\",\"2024-07-22T00:00:00\",\"2024-07-23T00:00:00\",\"2024-07-24T00:00:00\",\"2024-07-25T00:00:00\",\"2024-07-26T00:00:00\",\"2024-07-29T00:00:00\",\"2024-07-30T00:00:00\",\"2024-07-31T00:00:00\",\"2024-08-01T00:00:00\",\"2024-08-02T00:00:00\",\"2024-08-05T00:00:00\",\"2024-08-06T00:00:00\",\"2024-08-07T00:00:00\",\"2024-08-08T00:00:00\",\"2024-08-09T00:00:00\",\"2024-08-12T00:00:00\",\"2024-08-13T00:00:00\",\"2024-08-14T00:00:00\",\"2024-08-16T00:00:00\",\"2024-08-19T00:00:00\",\"2024-08-20T00:00:00\",\"2024-08-21T00:00:00\",\"2024-08-22T00:00:00\",\"2024-08-23T00:00:00\",\"2024-08-26T00:00:00\",\"2024-08-27T00:00:00\",\"2024-08-28T00:00:00\",\"2024-08-29T00:00:00\",\"2024-08-30T00:00:00\",\"2024-09-02T00:00:00\",\"2024-09-03T00:00:00\",\"2024-09-04T00:00:00\",\"2024-09-05T00:00:00\",\"2024-09-06T00:00:00\",\"2024-09-09T00:00:00\",\"2024-09-10T00:00:00\",\"2024-09-11T00:00:00\",\"2024-09-12T00:00:00\",\"2024-09-13T00:00:00\",\"2024-09-16T00:00:00\",\"2024-09-17T00:00:00\",\"2024-09-18T00:00:00\",\"2024-09-19T00:00:00\",\"2024-09-20T00:00:00\",\"2024-09-23T00:00:00\",\"2024-09-24T00:00:00\",\"2024-09-25T00:00:00\",\"2024-09-26T00:00:00\",\"2024-09-27T00:00:00\",\"2024-09-30T00:00:00\",\"2024-10-01T00:00:00\",\"2024-10-03T00:00:00\",\"2024-10-04T00:00:00\",\"2024-10-07T00:00:00\",\"2024-10-08T00:00:00\",\"2024-10-09T00:00:00\",\"2024-10-10T00:00:00\",\"2024-10-11T00:00:00\",\"2024-10-14T00:00:00\",\"2024-10-15T00:00:00\",\"2024-10-16T00:00:00\",\"2024-10-17T00:00:00\",\"2024-10-18T00:00:00\",\"2024-10-21T00:00:00\",\"2024-10-22T00:00:00\",\"2024-10-23T00:00:00\",\"2024-10-24T00:00:00\",\"2024-10-25T00:00:00\",\"2024-10-28T00:00:00\",\"2024-10-29T00:00:00\",\"2024-10-31T00:00:00\",\"2024-11-01T00:00:00\",\"2024-11-04T00:00:00\",\"2024-11-06T00:00:00\",\"2024-11-07T00:00:00\",\"2024-11-08T00:00:00\",\"2024-11-11T00:00:00\",\"2024-11-12T00:00:00\",\"2024-11-13T00:00:00\",\"2024-11-14T00:00:00\",\"2024-11-18T00:00:00\",\"2024-11-19T00:00:00\",\"2024-11-21T00:00:00\",\"2024-11-22T00:00:00\",\"2024-11-25T00:00:00\",\"2024-11-26T00:00:00\",\"2024-11-27T00:00:00\",\"2024-11-28T00:00:00\",\"2024-11-29T00:00:00\",\"2024-12-02T00:00:00\",\"2024-12-03T00:00:00\",\"2024-12-04T00:00:00\",\"2024-12-05T00:00:00\",\"2024-12-06T00:00:00\",\"2024-12-09T00:00:00\",\"2024-12-10T00:00:00\",\"2024-12-11T00:00:00\",\"2024-12-12T00:00:00\",\"2024-12-13T00:00:00\",\"2024-12-16T00:00:00\",\"2024-12-17T00:00:00\",\"2024-12-18T00:00:00\",\"2024-12-19T00:00:00\",\"2024-12-20T00:00:00\",\"2024-12-23T00:00:00\",\"2024-12-24T00:00:00\",\"2024-12-26T00:00:00\",\"2024-12-27T00:00:00\",\"2024-12-30T00:00:00\",\"2024-12-31T00:00:00\",\"2025-01-01T00:00:00\",\"2025-01-02T00:00:00\",\"2025-01-03T00:00:00\",\"2025-01-06T00:00:00\",\"2025-01-07T00:00:00\",\"2025-01-08T00:00:00\",\"2025-01-09T00:00:00\",\"2025-01-10T00:00:00\",\"2025-01-13T00:00:00\",\"2025-01-14T00:00:00\",\"2025-01-15T00:00:00\",\"2025-01-16T00:00:00\",\"2025-01-17T00:00:00\",\"2025-01-20T00:00:00\",\"2025-01-21T00:00:00\",\"2025-01-22T00:00:00\",\"2025-01-23T00:00:00\",\"2025-01-24T00:00:00\",\"2025-01-27T00:00:00\",\"2025-01-28T00:00:00\",\"2025-01-29T00:00:00\",\"2025-01-30T00:00:00\",\"2025-01-31T00:00:00\",\"2025-02-01T00:00:00\",\"2025-02-03T00:00:00\",\"2025-02-04T00:00:00\",\"2025-02-05T00:00:00\",\"2025-02-06T00:00:00\",\"2025-02-07T00:00:00\",\"2025-02-10T00:00:00\",\"2025-02-11T00:00:00\",\"2025-02-12T00:00:00\",\"2025-02-13T00:00:00\",\"2025-02-14T00:00:00\",\"2025-02-17T00:00:00\",\"2025-02-18T00:00:00\",\"2025-02-19T00:00:00\",\"2025-02-20T00:00:00\",\"2025-02-21T00:00:00\",\"2025-02-24T00:00:00\",\"2025-02-25T00:00:00\",\"2025-02-27T00:00:00\",\"2025-02-28T00:00:00\",\"2025-03-03T00:00:00\",\"2025-03-04T00:00:00\",\"2025-03-05T00:00:00\",\"2025-03-06T00:00:00\",\"2025-03-07T00:00:00\"],\"type\":\"candlestick\"}],                        {\"template\":{\"data\":{\"barpolar\":[{\"marker\":{\"line\":{\"color\":\"rgb(17,17,17)\",\"width\":0.5},\"pattern\":{\"fillmode\":\"overlay\",\"size\":10,\"solidity\":0.2}},\"type\":\"barpolar\"}],\"bar\":[{\"error_x\":{\"color\":\"#f2f5fa\"},\"error_y\":{\"color\":\"#f2f5fa\"},\"marker\":{\"line\":{\"color\":\"rgb(17,17,17)\",\"width\":0.5},\"pattern\":{\"fillmode\":\"overlay\",\"size\":10,\"solidity\":0.2}},\"type\":\"bar\"}],\"carpet\":[{\"aaxis\":{\"endlinecolor\":\"#A2B1C6\",\"gridcolor\":\"#506784\",\"linecolor\":\"#506784\",\"minorgridcolor\":\"#506784\",\"startlinecolor\":\"#A2B1C6\"},\"baxis\":{\"endlinecolor\":\"#A2B1C6\",\"gridcolor\":\"#506784\",\"linecolor\":\"#506784\",\"minorgridcolor\":\"#506784\",\"startlinecolor\":\"#A2B1C6\"},\"type\":\"carpet\"}],\"choropleth\":[{\"colorbar\":{\"outlinewidth\":0,\"ticks\":\"\"},\"type\":\"choropleth\"}],\"contourcarpet\":[{\"colorbar\":{\"outlinewidth\":0,\"ticks\":\"\"},\"type\":\"contourcarpet\"}],\"contour\":[{\"colorbar\":{\"outlinewidth\":0,\"ticks\":\"\"},\"colorscale\":[[0.0,\"#0d0887\"],[0.1111111111111111,\"#46039f\"],[0.2222222222222222,\"#7201a8\"],[0.3333333333333333,\"#9c179e\"],[0.4444444444444444,\"#bd3786\"],[0.5555555555555556,\"#d8576b\"],[0.6666666666666666,\"#ed7953\"],[0.7777777777777778,\"#fb9f3a\"],[0.8888888888888888,\"#fdca26\"],[1.0,\"#f0f921\"]],\"type\":\"contour\"}],\"heatmapgl\":[{\"colorbar\":{\"outlinewidth\":0,\"ticks\":\"\"},\"colorscale\":[[0.0,\"#0d0887\"],[0.1111111111111111,\"#46039f\"],[0.2222222222222222,\"#7201a8\"],[0.3333333333333333,\"#9c179e\"],[0.4444444444444444,\"#bd3786\"],[0.5555555555555556,\"#d8576b\"],[0.6666666666666666,\"#ed7953\"],[0.7777777777777778,\"#fb9f3a\"],[0.8888888888888888,\"#fdca26\"],[1.0,\"#f0f921\"]],\"type\":\"heatmapgl\"}],\"heatmap\":[{\"colorbar\":{\"outlinewidth\":0,\"ticks\":\"\"},\"colorscale\":[[0.0,\"#0d0887\"],[0.1111111111111111,\"#46039f\"],[0.2222222222222222,\"#7201a8\"],[0.3333333333333333,\"#9c179e\"],[0.4444444444444444,\"#bd3786\"],[0.5555555555555556,\"#d8576b\"],[0.6666666666666666,\"#ed7953\"],[0.7777777777777778,\"#fb9f3a\"],[0.8888888888888888,\"#fdca26\"],[1.0,\"#f0f921\"]],\"type\":\"heatmap\"}],\"histogram2dcontour\":[{\"colorbar\":{\"outlinewidth\":0,\"ticks\":\"\"},\"colorscale\":[[0.0,\"#0d0887\"],[0.1111111111111111,\"#46039f\"],[0.2222222222222222,\"#7201a8\"],[0.3333333333333333,\"#9c179e\"],[0.4444444444444444,\"#bd3786\"],[0.5555555555555556,\"#d8576b\"],[0.6666666666666666,\"#ed7953\"],[0.7777777777777778,\"#fb9f3a\"],[0.8888888888888888,\"#fdca26\"],[1.0,\"#f0f921\"]],\"type\":\"histogram2dcontour\"}],\"histogram2d\":[{\"colorbar\":{\"outlinewidth\":0,\"ticks\":\"\"},\"colorscale\":[[0.0,\"#0d0887\"],[0.1111111111111111,\"#46039f\"],[0.2222222222222222,\"#7201a8\"],[0.3333333333333333,\"#9c179e\"],[0.4444444444444444,\"#bd3786\"],[0.5555555555555556,\"#d8576b\"],[0.6666666666666666,\"#ed7953\"],[0.7777777777777778,\"#fb9f3a\"],[0.8888888888888888,\"#fdca26\"],[1.0,\"#f0f921\"]],\"type\":\"histogram2d\"}],\"histogram\":[{\"marker\":{\"pattern\":{\"fillmode\":\"overlay\",\"size\":10,\"solidity\":0.2}},\"type\":\"histogram\"}],\"mesh3d\":[{\"colorbar\":{\"outlinewidth\":0,\"ticks\":\"\"},\"type\":\"mesh3d\"}],\"parcoords\":[{\"line\":{\"colorbar\":{\"outlinewidth\":0,\"ticks\":\"\"}},\"type\":\"parcoords\"}],\"pie\":[{\"automargin\":true,\"type\":\"pie\"}],\"scatter3d\":[{\"line\":{\"colorbar\":{\"outlinewidth\":0,\"ticks\":\"\"}},\"marker\":{\"colorbar\":{\"outlinewidth\":0,\"ticks\":\"\"}},\"type\":\"scatter3d\"}],\"scattercarpet\":[{\"marker\":{\"colorbar\":{\"outlinewidth\":0,\"ticks\":\"\"}},\"type\":\"scattercarpet\"}],\"scattergeo\":[{\"marker\":{\"colorbar\":{\"outlinewidth\":0,\"ticks\":\"\"}},\"type\":\"scattergeo\"}],\"scattergl\":[{\"marker\":{\"line\":{\"color\":\"#283442\"}},\"type\":\"scattergl\"}],\"scattermapbox\":[{\"marker\":{\"colorbar\":{\"outlinewidth\":0,\"ticks\":\"\"}},\"type\":\"scattermapbox\"}],\"scatterpolargl\":[{\"marker\":{\"colorbar\":{\"outlinewidth\":0,\"ticks\":\"\"}},\"type\":\"scatterpolargl\"}],\"scatterpolar\":[{\"marker\":{\"colorbar\":{\"outlinewidth\":0,\"ticks\":\"\"}},\"type\":\"scatterpolar\"}],\"scatter\":[{\"marker\":{\"line\":{\"color\":\"#283442\"}},\"type\":\"scatter\"}],\"scatterternary\":[{\"marker\":{\"colorbar\":{\"outlinewidth\":0,\"ticks\":\"\"}},\"type\":\"scatterternary\"}],\"surface\":[{\"colorbar\":{\"outlinewidth\":0,\"ticks\":\"\"},\"colorscale\":[[0.0,\"#0d0887\"],[0.1111111111111111,\"#46039f\"],[0.2222222222222222,\"#7201a8\"],[0.3333333333333333,\"#9c179e\"],[0.4444444444444444,\"#bd3786\"],[0.5555555555555556,\"#d8576b\"],[0.6666666666666666,\"#ed7953\"],[0.7777777777777778,\"#fb9f3a\"],[0.8888888888888888,\"#fdca26\"],[1.0,\"#f0f921\"]],\"type\":\"surface\"}],\"table\":[{\"cells\":{\"fill\":{\"color\":\"#506784\"},\"line\":{\"color\":\"rgb(17,17,17)\"}},\"header\":{\"fill\":{\"color\":\"#2a3f5f\"},\"line\":{\"color\":\"rgb(17,17,17)\"}},\"type\":\"table\"}]},\"layout\":{\"annotationdefaults\":{\"arrowcolor\":\"#f2f5fa\",\"arrowhead\":0,\"arrowwidth\":1},\"autotypenumbers\":\"strict\",\"coloraxis\":{\"colorbar\":{\"outlinewidth\":0,\"ticks\":\"\"}},\"colorscale\":{\"diverging\":[[0,\"#8e0152\"],[0.1,\"#c51b7d\"],[0.2,\"#de77ae\"],[0.3,\"#f1b6da\"],[0.4,\"#fde0ef\"],[0.5,\"#f7f7f7\"],[0.6,\"#e6f5d0\"],[0.7,\"#b8e186\"],[0.8,\"#7fbc41\"],[0.9,\"#4d9221\"],[1,\"#276419\"]],\"sequential\":[[0.0,\"#0d0887\"],[0.1111111111111111,\"#46039f\"],[0.2222222222222222,\"#7201a8\"],[0.3333333333333333,\"#9c179e\"],[0.4444444444444444,\"#bd3786\"],[0.5555555555555556,\"#d8576b\"],[0.6666666666666666,\"#ed7953\"],[0.7777777777777778,\"#fb9f3a\"],[0.8888888888888888,\"#fdca26\"],[1.0,\"#f0f921\"]],\"sequentialminus\":[[0.0,\"#0d0887\"],[0.1111111111111111,\"#46039f\"],[0.2222222222222222,\"#7201a8\"],[0.3333333333333333,\"#9c179e\"],[0.4444444444444444,\"#bd3786\"],[0.5555555555555556,\"#d8576b\"],[0.6666666666666666,\"#ed7953\"],[0.7777777777777778,\"#fb9f3a\"],[0.8888888888888888,\"#fdca26\"],[1.0,\"#f0f921\"]]},\"colorway\":[\"#636efa\",\"#EF553B\",\"#00cc96\",\"#ab63fa\",\"#FFA15A\",\"#19d3f3\",\"#FF6692\",\"#B6E880\",\"#FF97FF\",\"#FECB52\"],\"font\":{\"color\":\"#f2f5fa\"},\"geo\":{\"bgcolor\":\"rgb(17,17,17)\",\"lakecolor\":\"rgb(17,17,17)\",\"landcolor\":\"rgb(17,17,17)\",\"showlakes\":true,\"showland\":true,\"subunitcolor\":\"#506784\"},\"hoverlabel\":{\"align\":\"left\"},\"hovermode\":\"closest\",\"mapbox\":{\"style\":\"dark\"},\"paper_bgcolor\":\"rgb(17,17,17)\",\"plot_bgcolor\":\"rgb(17,17,17)\",\"polar\":{\"angularaxis\":{\"gridcolor\":\"#506784\",\"linecolor\":\"#506784\",\"ticks\":\"\"},\"bgcolor\":\"rgb(17,17,17)\",\"radialaxis\":{\"gridcolor\":\"#506784\",\"linecolor\":\"#506784\",\"ticks\":\"\"}},\"scene\":{\"xaxis\":{\"backgroundcolor\":\"rgb(17,17,17)\",\"gridcolor\":\"#506784\",\"gridwidth\":2,\"linecolor\":\"#506784\",\"showbackground\":true,\"ticks\":\"\",\"zerolinecolor\":\"#C8D4E3\"},\"yaxis\":{\"backgroundcolor\":\"rgb(17,17,17)\",\"gridcolor\":\"#506784\",\"gridwidth\":2,\"linecolor\":\"#506784\",\"showbackground\":true,\"ticks\":\"\",\"zerolinecolor\":\"#C8D4E3\"},\"zaxis\":{\"backgroundcolor\":\"rgb(17,17,17)\",\"gridcolor\":\"#506784\",\"gridwidth\":2,\"linecolor\":\"#506784\",\"showbackground\":true,\"ticks\":\"\",\"zerolinecolor\":\"#C8D4E3\"}},\"shapedefaults\":{\"line\":{\"color\":\"#f2f5fa\"}},\"sliderdefaults\":{\"bgcolor\":\"#C8D4E3\",\"bordercolor\":\"rgb(17,17,17)\",\"borderwidth\":1,\"tickwidth\":0},\"ternary\":{\"aaxis\":{\"gridcolor\":\"#506784\",\"linecolor\":\"#506784\",\"ticks\":\"\"},\"baxis\":{\"gridcolor\":\"#506784\",\"linecolor\":\"#506784\",\"ticks\":\"\"},\"bgcolor\":\"rgb(17,17,17)\",\"caxis\":{\"gridcolor\":\"#506784\",\"linecolor\":\"#506784\",\"ticks\":\"\"}},\"title\":{\"x\":0.05},\"updatemenudefaults\":{\"bgcolor\":\"#506784\",\"borderwidth\":0},\"xaxis\":{\"automargin\":true,\"gridcolor\":\"#283442\",\"linecolor\":\"#506784\",\"ticks\":\"\",\"title\":{\"standoff\":15},\"zerolinecolor\":\"#283442\",\"zerolinewidth\":2},\"yaxis\":{\"automargin\":true,\"gridcolor\":\"#283442\",\"linecolor\":\"#506784\",\"ticks\":\"\",\"title\":{\"standoff\":15},\"zerolinecolor\":\"#283442\",\"zerolinewidth\":2}}},\"title\":{\"text\":\"GPIL.BO Stock Price\"},\"xaxis\":{\"title\":{\"text\":\"Date\"}},\"yaxis\":{\"title\":{\"text\":\"Price (INR)\"}}},                        {\"responsive\": true}                    ).then(function(){\n                            \nvar gd = document.getElementById('c5cd6bf1-77d7-471c-827b-40c959d31ea6');\nvar x = new MutationObserver(function (mutations, observer) {{\n        var display = window.getComputedStyle(gd).display;\n        if (!display || display === 'none') {{\n            console.log([gd, 'removed!']);\n            Plotly.purge(gd);\n            observer.disconnect();\n        }}\n}});\n\n// Listen for the removal of the full notebook cells\nvar notebookContainer = gd.closest('#notebook-container');\nif (notebookContainer) {{\n    x.observe(notebookContainer, {childList: true});\n}}\n\n// Listen for the clearing of the current output cell\nvar outputEl = gd.closest('.output');\nif (outputEl) {{\n    x.observe(outputEl, {childList: true});\n}}\n\n                        })                };                });            </script>        </div>"
                },
                "metadata": {}
              }
            ],
            "tabbable": null,
            "tooltip": null
          }
        },
        "e4b9e6b33ea4409d8774a92fdcd77a40": {
          "model_module": "@jupyter-widgets/base",
          "model_name": "LayoutModel",
          "model_module_version": "2.0.0",
          "state": {
            "_model_module": "@jupyter-widgets/base",
            "_model_module_version": "2.0.0",
            "_model_name": "LayoutModel",
            "_view_count": null,
            "_view_module": "@jupyter-widgets/base",
            "_view_module_version": "2.0.0",
            "_view_name": "LayoutView",
            "align_content": null,
            "align_items": null,
            "align_self": null,
            "border_bottom": null,
            "border_left": null,
            "border_right": null,
            "border_top": null,
            "bottom": null,
            "display": null,
            "flex": null,
            "flex_flow": null,
            "grid_area": null,
            "grid_auto_columns": null,
            "grid_auto_flow": null,
            "grid_auto_rows": null,
            "grid_column": null,
            "grid_gap": null,
            "grid_row": null,
            "grid_template_areas": null,
            "grid_template_columns": null,
            "grid_template_rows": null,
            "height": null,
            "justify_content": null,
            "justify_items": null,
            "left": null,
            "margin": null,
            "max_height": null,
            "max_width": null,
            "min_height": null,
            "min_width": null,
            "object_fit": null,
            "object_position": null,
            "order": null,
            "overflow": null,
            "padding": null,
            "right": null,
            "top": null,
            "visibility": null,
            "width": null
          }
        },
        "f660d5827fcb41fd8927e3b0c2489efe": {
          "model_module": "@jupyter-widgets/base",
          "model_name": "LayoutModel",
          "model_module_version": "2.0.0",
          "state": {
            "_model_module": "@jupyter-widgets/base",
            "_model_module_version": "2.0.0",
            "_model_name": "LayoutModel",
            "_view_count": null,
            "_view_module": "@jupyter-widgets/base",
            "_view_module_version": "2.0.0",
            "_view_name": "LayoutView",
            "align_content": null,
            "align_items": null,
            "align_self": null,
            "border_bottom": null,
            "border_left": null,
            "border_right": null,
            "border_top": null,
            "bottom": null,
            "display": null,
            "flex": null,
            "flex_flow": null,
            "grid_area": null,
            "grid_auto_columns": null,
            "grid_auto_flow": null,
            "grid_auto_rows": null,
            "grid_column": null,
            "grid_gap": null,
            "grid_row": null,
            "grid_template_areas": null,
            "grid_template_columns": null,
            "grid_template_rows": null,
            "height": null,
            "justify_content": null,
            "justify_items": null,
            "left": null,
            "margin": null,
            "max_height": null,
            "max_width": null,
            "min_height": null,
            "min_width": null,
            "object_fit": null,
            "object_position": null,
            "order": null,
            "overflow": null,
            "padding": null,
            "right": null,
            "top": null,
            "visibility": null,
            "width": null
          }
        },
        "7d5dc153713244b58153cfa9aa292a61": {
          "model_module": "@jupyter-widgets/controls",
          "model_name": "DescriptionStyleModel",
          "model_module_version": "2.0.0",
          "state": {
            "_model_module": "@jupyter-widgets/controls",
            "_model_module_version": "2.0.0",
            "_model_name": "DescriptionStyleModel",
            "_view_count": null,
            "_view_module": "@jupyter-widgets/base",
            "_view_module_version": "2.0.0",
            "_view_name": "StyleView",
            "description_width": ""
          }
        },
        "060943af5f4042fea2c52d581db6877f": {
          "model_module": "@jupyter-widgets/base",
          "model_name": "LayoutModel",
          "model_module_version": "2.0.0",
          "state": {
            "_model_module": "@jupyter-widgets/base",
            "_model_module_version": "2.0.0",
            "_model_name": "LayoutModel",
            "_view_count": null,
            "_view_module": "@jupyter-widgets/base",
            "_view_module_version": "2.0.0",
            "_view_name": "LayoutView",
            "align_content": null,
            "align_items": null,
            "align_self": null,
            "border_bottom": null,
            "border_left": null,
            "border_right": null,
            "border_top": null,
            "bottom": null,
            "display": null,
            "flex": null,
            "flex_flow": null,
            "grid_area": null,
            "grid_auto_columns": null,
            "grid_auto_flow": null,
            "grid_auto_rows": null,
            "grid_column": null,
            "grid_gap": null,
            "grid_row": null,
            "grid_template_areas": null,
            "grid_template_columns": null,
            "grid_template_rows": null,
            "height": null,
            "justify_content": null,
            "justify_items": null,
            "left": null,
            "margin": null,
            "max_height": null,
            "max_width": null,
            "min_height": null,
            "min_width": null,
            "object_fit": null,
            "object_position": null,
            "order": null,
            "overflow": null,
            "padding": null,
            "right": null,
            "top": null,
            "visibility": null,
            "width": null
          }
        }
      }
    }
  },
  "nbformat": 4,
  "nbformat_minor": 0
}